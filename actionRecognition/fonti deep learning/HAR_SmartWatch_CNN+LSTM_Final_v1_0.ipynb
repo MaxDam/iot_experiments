{
  "nbformat": 4,
  "nbformat_minor": 0,
  "metadata": {
    "colab": {
      "name": "HAR SmartWatch CNN+LSTM Final v1.0.ipynb",
      "provenance": []
    },
    "kernelspec": {
      "name": "python3",
      "display_name": "Python 3"
    },
    "widgets": {
      "application/vnd.jupyter.widget-state+json": {
        "036a021a38064e5d8e0d1f9826630679": {
          "model_module": "@jupyter-widgets/controls",
          "model_name": "HBoxModel",
          "state": {
            "_view_name": "HBoxView",
            "_dom_classes": [],
            "_model_name": "HBoxModel",
            "_view_module": "@jupyter-widgets/controls",
            "_model_module_version": "1.5.0",
            "_view_count": null,
            "_view_module_version": "1.5.0",
            "box_style": "",
            "layout": "IPY_MODEL_fcff6ab7d52d4ff78bb9abe584984f5a",
            "_model_module": "@jupyter-widgets/controls",
            "children": [
              "IPY_MODEL_babf5ff5cb4e4037a0cb73cb9431b31c",
              "IPY_MODEL_83cf11534d744a51b7ba155270e2c907"
            ]
          }
        },
        "fcff6ab7d52d4ff78bb9abe584984f5a": {
          "model_module": "@jupyter-widgets/base",
          "model_name": "LayoutModel",
          "state": {
            "_view_name": "LayoutView",
            "grid_template_rows": null,
            "right": null,
            "justify_content": null,
            "_view_module": "@jupyter-widgets/base",
            "overflow": null,
            "_model_module_version": "1.2.0",
            "_view_count": null,
            "flex_flow": null,
            "width": null,
            "min_width": null,
            "border": null,
            "align_items": null,
            "bottom": null,
            "_model_module": "@jupyter-widgets/base",
            "top": null,
            "grid_column": null,
            "overflow_y": null,
            "overflow_x": null,
            "grid_auto_flow": null,
            "grid_area": null,
            "grid_template_columns": null,
            "flex": null,
            "_model_name": "LayoutModel",
            "justify_items": null,
            "grid_row": null,
            "max_height": null,
            "align_content": null,
            "visibility": null,
            "align_self": null,
            "height": null,
            "min_height": null,
            "padding": null,
            "grid_auto_rows": null,
            "grid_gap": null,
            "max_width": null,
            "order": null,
            "_view_module_version": "1.2.0",
            "grid_template_areas": null,
            "object_position": null,
            "object_fit": null,
            "grid_auto_columns": null,
            "margin": null,
            "display": null,
            "left": null
          }
        },
        "babf5ff5cb4e4037a0cb73cb9431b31c": {
          "model_module": "@jupyter-widgets/controls",
          "model_name": "FloatProgressModel",
          "state": {
            "_view_name": "ProgressView",
            "style": "IPY_MODEL_48ce3360ab774eb4a150b97e669d84ea",
            "_dom_classes": [],
            "description": "100%",
            "_model_name": "FloatProgressModel",
            "bar_style": "success",
            "max": 74619,
            "_view_module": "@jupyter-widgets/controls",
            "_model_module_version": "1.5.0",
            "value": 74619,
            "_view_count": null,
            "_view_module_version": "1.5.0",
            "orientation": "horizontal",
            "min": 0,
            "description_tooltip": null,
            "_model_module": "@jupyter-widgets/controls",
            "layout": "IPY_MODEL_a6ac93ef0eb14e4d8e508b2c25d7bcd0"
          }
        },
        "83cf11534d744a51b7ba155270e2c907": {
          "model_module": "@jupyter-widgets/controls",
          "model_name": "HTMLModel",
          "state": {
            "_view_name": "HTMLView",
            "style": "IPY_MODEL_3a2a23f7b22742e98fddf5c64493ee24",
            "_dom_classes": [],
            "description": "",
            "_model_name": "HTMLModel",
            "placeholder": "​",
            "_view_module": "@jupyter-widgets/controls",
            "_model_module_version": "1.5.0",
            "value": " 74619/74619 [02:02&lt;00:00, 607.29it/s]",
            "_view_count": null,
            "_view_module_version": "1.5.0",
            "description_tooltip": null,
            "_model_module": "@jupyter-widgets/controls",
            "layout": "IPY_MODEL_58a4356124084e348224f2a10f4bf73f"
          }
        },
        "48ce3360ab774eb4a150b97e669d84ea": {
          "model_module": "@jupyter-widgets/controls",
          "model_name": "ProgressStyleModel",
          "state": {
            "_view_name": "StyleView",
            "_model_name": "ProgressStyleModel",
            "description_width": "initial",
            "_view_module": "@jupyter-widgets/base",
            "_model_module_version": "1.5.0",
            "_view_count": null,
            "_view_module_version": "1.2.0",
            "bar_color": null,
            "_model_module": "@jupyter-widgets/controls"
          }
        },
        "a6ac93ef0eb14e4d8e508b2c25d7bcd0": {
          "model_module": "@jupyter-widgets/base",
          "model_name": "LayoutModel",
          "state": {
            "_view_name": "LayoutView",
            "grid_template_rows": null,
            "right": null,
            "justify_content": null,
            "_view_module": "@jupyter-widgets/base",
            "overflow": null,
            "_model_module_version": "1.2.0",
            "_view_count": null,
            "flex_flow": null,
            "width": null,
            "min_width": null,
            "border": null,
            "align_items": null,
            "bottom": null,
            "_model_module": "@jupyter-widgets/base",
            "top": null,
            "grid_column": null,
            "overflow_y": null,
            "overflow_x": null,
            "grid_auto_flow": null,
            "grid_area": null,
            "grid_template_columns": null,
            "flex": null,
            "_model_name": "LayoutModel",
            "justify_items": null,
            "grid_row": null,
            "max_height": null,
            "align_content": null,
            "visibility": null,
            "align_self": null,
            "height": null,
            "min_height": null,
            "padding": null,
            "grid_auto_rows": null,
            "grid_gap": null,
            "max_width": null,
            "order": null,
            "_view_module_version": "1.2.0",
            "grid_template_areas": null,
            "object_position": null,
            "object_fit": null,
            "grid_auto_columns": null,
            "margin": null,
            "display": null,
            "left": null
          }
        },
        "3a2a23f7b22742e98fddf5c64493ee24": {
          "model_module": "@jupyter-widgets/controls",
          "model_name": "DescriptionStyleModel",
          "state": {
            "_view_name": "StyleView",
            "_model_name": "DescriptionStyleModel",
            "description_width": "",
            "_view_module": "@jupyter-widgets/base",
            "_model_module_version": "1.5.0",
            "_view_count": null,
            "_view_module_version": "1.2.0",
            "_model_module": "@jupyter-widgets/controls"
          }
        },
        "58a4356124084e348224f2a10f4bf73f": {
          "model_module": "@jupyter-widgets/base",
          "model_name": "LayoutModel",
          "state": {
            "_view_name": "LayoutView",
            "grid_template_rows": null,
            "right": null,
            "justify_content": null,
            "_view_module": "@jupyter-widgets/base",
            "overflow": null,
            "_model_module_version": "1.2.0",
            "_view_count": null,
            "flex_flow": null,
            "width": null,
            "min_width": null,
            "border": null,
            "align_items": null,
            "bottom": null,
            "_model_module": "@jupyter-widgets/base",
            "top": null,
            "grid_column": null,
            "overflow_y": null,
            "overflow_x": null,
            "grid_auto_flow": null,
            "grid_area": null,
            "grid_template_columns": null,
            "flex": null,
            "_model_name": "LayoutModel",
            "justify_items": null,
            "grid_row": null,
            "max_height": null,
            "align_content": null,
            "visibility": null,
            "align_self": null,
            "height": null,
            "min_height": null,
            "padding": null,
            "grid_auto_rows": null,
            "grid_gap": null,
            "max_width": null,
            "order": null,
            "_view_module_version": "1.2.0",
            "grid_template_areas": null,
            "object_position": null,
            "object_fit": null,
            "grid_auto_columns": null,
            "margin": null,
            "display": null,
            "left": null
          }
        },
        "f225b113eaa24d768ef1018a6262efe6": {
          "model_module": "@jupyter-widgets/controls",
          "model_name": "HBoxModel",
          "state": {
            "_view_name": "HBoxView",
            "_dom_classes": [],
            "_model_name": "HBoxModel",
            "_view_module": "@jupyter-widgets/controls",
            "_model_module_version": "1.5.0",
            "_view_count": null,
            "_view_module_version": "1.5.0",
            "box_style": "",
            "layout": "IPY_MODEL_a481ea6c94874d87b456670b0691ce0e",
            "_model_module": "@jupyter-widgets/controls",
            "children": [
              "IPY_MODEL_b0fc159acda74984a2f467d9bc10add2",
              "IPY_MODEL_168f8df09acb4da790fc12c71b31be67"
            ]
          }
        },
        "a481ea6c94874d87b456670b0691ce0e": {
          "model_module": "@jupyter-widgets/base",
          "model_name": "LayoutModel",
          "state": {
            "_view_name": "LayoutView",
            "grid_template_rows": null,
            "right": null,
            "justify_content": null,
            "_view_module": "@jupyter-widgets/base",
            "overflow": null,
            "_model_module_version": "1.2.0",
            "_view_count": null,
            "flex_flow": null,
            "width": null,
            "min_width": null,
            "border": null,
            "align_items": null,
            "bottom": null,
            "_model_module": "@jupyter-widgets/base",
            "top": null,
            "grid_column": null,
            "overflow_y": null,
            "overflow_x": null,
            "grid_auto_flow": null,
            "grid_area": null,
            "grid_template_columns": null,
            "flex": null,
            "_model_name": "LayoutModel",
            "justify_items": null,
            "grid_row": null,
            "max_height": null,
            "align_content": null,
            "visibility": null,
            "align_self": null,
            "height": null,
            "min_height": null,
            "padding": null,
            "grid_auto_rows": null,
            "grid_gap": null,
            "max_width": null,
            "order": null,
            "_view_module_version": "1.2.0",
            "grid_template_areas": null,
            "object_position": null,
            "object_fit": null,
            "grid_auto_columns": null,
            "margin": null,
            "display": null,
            "left": null
          }
        },
        "b0fc159acda74984a2f467d9bc10add2": {
          "model_module": "@jupyter-widgets/controls",
          "model_name": "FloatProgressModel",
          "state": {
            "_view_name": "ProgressView",
            "style": "IPY_MODEL_abff5e62003d4274a7d2b8ddd2e99c19",
            "_dom_classes": [],
            "description": "100%",
            "_model_name": "FloatProgressModel",
            "bar_style": "success",
            "max": 73101,
            "_view_module": "@jupyter-widgets/controls",
            "_model_module_version": "1.5.0",
            "value": 73101,
            "_view_count": null,
            "_view_module_version": "1.5.0",
            "orientation": "horizontal",
            "min": 0,
            "description_tooltip": null,
            "_model_module": "@jupyter-widgets/controls",
            "layout": "IPY_MODEL_58b5d437fc47412aa82fdba7f9796d48"
          }
        },
        "168f8df09acb4da790fc12c71b31be67": {
          "model_module": "@jupyter-widgets/controls",
          "model_name": "HTMLModel",
          "state": {
            "_view_name": "HTMLView",
            "style": "IPY_MODEL_5d346cb4ce8c4c1a80f78c0f16f46521",
            "_dom_classes": [],
            "description": "",
            "_model_name": "HTMLModel",
            "placeholder": "​",
            "_view_module": "@jupyter-widgets/controls",
            "_model_module_version": "1.5.0",
            "value": " 73101/73101 [01:40&lt;00:00, 726.38it/s]",
            "_view_count": null,
            "_view_module_version": "1.5.0",
            "description_tooltip": null,
            "_model_module": "@jupyter-widgets/controls",
            "layout": "IPY_MODEL_67ab1894fde84136aef93617bc877546"
          }
        },
        "abff5e62003d4274a7d2b8ddd2e99c19": {
          "model_module": "@jupyter-widgets/controls",
          "model_name": "ProgressStyleModel",
          "state": {
            "_view_name": "StyleView",
            "_model_name": "ProgressStyleModel",
            "description_width": "initial",
            "_view_module": "@jupyter-widgets/base",
            "_model_module_version": "1.5.0",
            "_view_count": null,
            "_view_module_version": "1.2.0",
            "bar_color": null,
            "_model_module": "@jupyter-widgets/controls"
          }
        },
        "58b5d437fc47412aa82fdba7f9796d48": {
          "model_module": "@jupyter-widgets/base",
          "model_name": "LayoutModel",
          "state": {
            "_view_name": "LayoutView",
            "grid_template_rows": null,
            "right": null,
            "justify_content": null,
            "_view_module": "@jupyter-widgets/base",
            "overflow": null,
            "_model_module_version": "1.2.0",
            "_view_count": null,
            "flex_flow": null,
            "width": null,
            "min_width": null,
            "border": null,
            "align_items": null,
            "bottom": null,
            "_model_module": "@jupyter-widgets/base",
            "top": null,
            "grid_column": null,
            "overflow_y": null,
            "overflow_x": null,
            "grid_auto_flow": null,
            "grid_area": null,
            "grid_template_columns": null,
            "flex": null,
            "_model_name": "LayoutModel",
            "justify_items": null,
            "grid_row": null,
            "max_height": null,
            "align_content": null,
            "visibility": null,
            "align_self": null,
            "height": null,
            "min_height": null,
            "padding": null,
            "grid_auto_rows": null,
            "grid_gap": null,
            "max_width": null,
            "order": null,
            "_view_module_version": "1.2.0",
            "grid_template_areas": null,
            "object_position": null,
            "object_fit": null,
            "grid_auto_columns": null,
            "margin": null,
            "display": null,
            "left": null
          }
        },
        "5d346cb4ce8c4c1a80f78c0f16f46521": {
          "model_module": "@jupyter-widgets/controls",
          "model_name": "DescriptionStyleModel",
          "state": {
            "_view_name": "StyleView",
            "_model_name": "DescriptionStyleModel",
            "description_width": "",
            "_view_module": "@jupyter-widgets/base",
            "_model_module_version": "1.5.0",
            "_view_count": null,
            "_view_module_version": "1.2.0",
            "_model_module": "@jupyter-widgets/controls"
          }
        },
        "67ab1894fde84136aef93617bc877546": {
          "model_module": "@jupyter-widgets/base",
          "model_name": "LayoutModel",
          "state": {
            "_view_name": "LayoutView",
            "grid_template_rows": null,
            "right": null,
            "justify_content": null,
            "_view_module": "@jupyter-widgets/base",
            "overflow": null,
            "_model_module_version": "1.2.0",
            "_view_count": null,
            "flex_flow": null,
            "width": null,
            "min_width": null,
            "border": null,
            "align_items": null,
            "bottom": null,
            "_model_module": "@jupyter-widgets/base",
            "top": null,
            "grid_column": null,
            "overflow_y": null,
            "overflow_x": null,
            "grid_auto_flow": null,
            "grid_area": null,
            "grid_template_columns": null,
            "flex": null,
            "_model_name": "LayoutModel",
            "justify_items": null,
            "grid_row": null,
            "max_height": null,
            "align_content": null,
            "visibility": null,
            "align_self": null,
            "height": null,
            "min_height": null,
            "padding": null,
            "grid_auto_rows": null,
            "grid_gap": null,
            "max_width": null,
            "order": null,
            "_view_module_version": "1.2.0",
            "grid_template_areas": null,
            "object_position": null,
            "object_fit": null,
            "grid_auto_columns": null,
            "margin": null,
            "display": null,
            "left": null
          }
        }
      }
    },
    "accelerator": "GPU"
  },
  "cells": [
    {
      "cell_type": "code",
      "metadata": {
        "id": "og0GRM4buWlk",
        "colab": {
          "base_uri": "https://localhost:8080/"
        },
        "outputId": "41157207-5ab7-4128-9e95-7949b3f02b35"
      },
      "source": [
        "from google.colab import drive \r\n",
        "drive.mount('/saurabh' , force_remount = True)"
      ],
      "execution_count": null,
      "outputs": [
        {
          "output_type": "stream",
          "text": [
            "Mounted at /saurabh\n"
          ],
          "name": "stdout"
        }
      ]
    },
    {
      "cell_type": "markdown",
      "metadata": {
        "id": "wP_X3DgApfeg"
      },
      "source": [
        "# **CNN+LSTM Hybrid Model for Smartwatch Dataset**"
      ]
    },
    {
      "cell_type": "markdown",
      "metadata": {
        "id": "jS6-VcbSp3Eg"
      },
      "source": [
        "## **Installing Optuna and OptKeras packages which will be used for tuning hyperparameters**"
      ]
    },
    {
      "cell_type": "code",
      "metadata": {
        "colab": {
          "base_uri": "https://localhost:8080/",
          "height": 1000
        },
        "id": "E10W-oBPodpZ",
        "outputId": "7a92e9c8-d654-4dbb-bb36-e556d25a58fe"
      },
      "source": [
        "!pip3 install optuna==0.14.0\r\n",
        "!pip3 install optkeras==0.0.7"
      ],
      "execution_count": null,
      "outputs": [
        {
          "output_type": "stream",
          "text": [
            "Collecting optuna==0.14.0\n",
            "\u001b[?25l  Downloading https://files.pythonhosted.org/packages/0c/dc/c10b179b9bbee133241049ee360cc3135b725e18380f1b7d5aced02f961e/optuna-0.14.0.tar.gz (91kB)\n",
            "\u001b[K     |████████████████████████████████| 92kB 6.1MB/s \n",
            "\u001b[?25hRequirement already satisfied: sqlalchemy>=1.1.0 in /usr/local/lib/python3.6/dist-packages (from optuna==0.14.0) (1.3.20)\n",
            "Requirement already satisfied: numpy in /usr/local/lib/python3.6/dist-packages (from optuna==0.14.0) (1.19.4)\n",
            "Requirement already satisfied: scipy in /usr/local/lib/python3.6/dist-packages (from optuna==0.14.0) (1.4.1)\n",
            "Requirement already satisfied: six in /usr/local/lib/python3.6/dist-packages (from optuna==0.14.0) (1.15.0)\n",
            "Collecting cliff\n",
            "\u001b[?25l  Downloading https://files.pythonhosted.org/packages/8a/61/5b64d73b01c1218f55c894b5ec0fb89b32c6960b7f7b3ad9f5ac0c373b9d/cliff-3.5.0-py3-none-any.whl (81kB)\n",
            "\u001b[K     |████████████████████████████████| 81kB 10.3MB/s \n",
            "\u001b[?25hCollecting colorlog\n",
            "  Downloading https://files.pythonhosted.org/packages/4e/c8/c16d30bbed11a1722060014c246d124582d1f781b26f5859d8dacc3e08e1/colorlog-4.6.2-py2.py3-none-any.whl\n",
            "Requirement already satisfied: pandas in /usr/local/lib/python3.6/dist-packages (from optuna==0.14.0) (1.1.5)\n",
            "Collecting alembic\n",
            "\u001b[?25l  Downloading https://files.pythonhosted.org/packages/12/aa/c261dfd7f4ba6ce4701846a2689a46e2a172e012171de4378fc2926e3bf0/alembic-1.4.3-py2.py3-none-any.whl (159kB)\n",
            "\u001b[K     |████████████████████████████████| 163kB 24.2MB/s \n",
            "\u001b[?25hCollecting typing\n",
            "\u001b[?25l  Downloading https://files.pythonhosted.org/packages/05/d9/6eebe19d46bd05360c9a9aae822e67a80f9242aabbfc58b641b957546607/typing-3.7.4.3.tar.gz (78kB)\n",
            "\u001b[K     |████████████████████████████████| 81kB 11.2MB/s \n",
            "\u001b[?25hCollecting stevedore>=2.0.1\n",
            "\u001b[?25l  Downloading https://files.pythonhosted.org/packages/d4/49/b602307aeac3df3384ff1fcd05da9c0376c622a6c48bb5325f28ab165b57/stevedore-3.3.0-py3-none-any.whl (49kB)\n",
            "\u001b[K     |████████████████████████████████| 51kB 9.9MB/s \n",
            "\u001b[?25hCollecting PrettyTable<0.8,>=0.7.2\n",
            "  Downloading https://files.pythonhosted.org/packages/ef/30/4b0746848746ed5941f052479e7c23d2b56d174b82f4fd34a25e389831f5/prettytable-0.7.2.tar.bz2\n",
            "Collecting pbr!=2.1.0,>=2.0.0\n",
            "\u001b[?25l  Downloading https://files.pythonhosted.org/packages/fb/48/69046506f6ac61c1eaa9a0d42d22d54673b69e176d30ca98e3f61513e980/pbr-5.5.1-py2.py3-none-any.whl (106kB)\n",
            "\u001b[K     |████████████████████████████████| 112kB 42.1MB/s \n",
            "\u001b[?25hRequirement already satisfied: PyYAML>=3.12 in /usr/local/lib/python3.6/dist-packages (from cliff->optuna==0.14.0) (3.13)\n",
            "Requirement already satisfied: pyparsing>=2.1.0 in /usr/local/lib/python3.6/dist-packages (from cliff->optuna==0.14.0) (2.4.7)\n",
            "Collecting cmd2!=0.8.3,>=0.8.0\n",
            "\u001b[?25l  Downloading https://files.pythonhosted.org/packages/27/54/af6e2703f064485d717cb311d3f9440cd302a823ba6d80a020b59eae166d/cmd2-1.4.0-py3-none-any.whl (133kB)\n",
            "\u001b[K     |████████████████████████████████| 133kB 27.3MB/s \n",
            "\u001b[?25hRequirement already satisfied: python-dateutil>=2.7.3 in /usr/local/lib/python3.6/dist-packages (from pandas->optuna==0.14.0) (2.8.1)\n",
            "Requirement already satisfied: pytz>=2017.2 in /usr/local/lib/python3.6/dist-packages (from pandas->optuna==0.14.0) (2018.9)\n",
            "Collecting Mako\n",
            "\u001b[?25l  Downloading https://files.pythonhosted.org/packages/a6/37/0e706200d22172eb8fa17d68a7ae22dec7631a0a92266634fb518a88a5b2/Mako-1.1.3-py2.py3-none-any.whl (75kB)\n",
            "\u001b[K     |████████████████████████████████| 81kB 11.5MB/s \n",
            "\u001b[?25hCollecting python-editor>=0.3\n",
            "  Downloading https://files.pythonhosted.org/packages/c6/d3/201fc3abe391bbae6606e6f1d598c15d367033332bd54352b12f35513717/python_editor-1.0.4-py3-none-any.whl\n",
            "Requirement already satisfied: importlib-metadata>=1.7.0; python_version < \"3.8\" in /usr/local/lib/python3.6/dist-packages (from stevedore>=2.0.1->cliff->optuna==0.14.0) (3.3.0)\n",
            "Requirement already satisfied: wcwidth>=0.1.7 in /usr/local/lib/python3.6/dist-packages (from cmd2!=0.8.3,>=0.8.0->cliff->optuna==0.14.0) (0.2.5)\n",
            "Requirement already satisfied: attrs>=16.3.0 in /usr/local/lib/python3.6/dist-packages (from cmd2!=0.8.3,>=0.8.0->cliff->optuna==0.14.0) (20.3.0)\n",
            "Collecting pyperclip>=1.6\n",
            "  Downloading https://files.pythonhosted.org/packages/6f/4c/0b1d507ad7e8bc31d690d04b4f475e74c2002d060f7994ce8c09612df707/pyperclip-1.8.1.tar.gz\n",
            "Collecting colorama>=0.3.7\n",
            "  Downloading https://files.pythonhosted.org/packages/44/98/5b86278fbbf250d239ae0ecb724f8572af1c91f4a11edf4d36a206189440/colorama-0.4.4-py2.py3-none-any.whl\n",
            "Requirement already satisfied: MarkupSafe>=0.9.2 in /usr/local/lib/python3.6/dist-packages (from Mako->alembic->optuna==0.14.0) (1.1.1)\n",
            "Requirement already satisfied: zipp>=0.5 in /usr/local/lib/python3.6/dist-packages (from importlib-metadata>=1.7.0; python_version < \"3.8\"->stevedore>=2.0.1->cliff->optuna==0.14.0) (3.4.0)\n",
            "Requirement already satisfied: typing-extensions>=3.6.4; python_version < \"3.8\" in /usr/local/lib/python3.6/dist-packages (from importlib-metadata>=1.7.0; python_version < \"3.8\"->stevedore>=2.0.1->cliff->optuna==0.14.0) (3.7.4.3)\n",
            "Building wheels for collected packages: optuna, typing, PrettyTable, pyperclip\n",
            "  Building wheel for optuna (setup.py) ... \u001b[?25l\u001b[?25hdone\n",
            "  Created wheel for optuna: filename=optuna-0.14.0-cp36-none-any.whl size=125712 sha256=a91547f8eb5ff257e83768450e717fa1244c38dc98aa3c4d7fcb2fae20a1d2e0\n",
            "  Stored in directory: /root/.cache/pip/wheels/4f/5f/2b/3c699d0425d8f34f8a81dfebe30f4d2b9f19377f41c57dbae3\n",
            "  Building wheel for typing (setup.py) ... \u001b[?25l\u001b[?25hdone\n",
            "  Created wheel for typing: filename=typing-3.7.4.3-cp36-none-any.whl size=26310 sha256=7edd820ca6aeef11d899dbc7a97088f44c729a463f63909297b37c9085055d8a\n",
            "  Stored in directory: /root/.cache/pip/wheels/2d/04/41/8e1836e79581989c22eebac3f4e70aaac9af07b0908da173be\n",
            "  Building wheel for PrettyTable (setup.py) ... \u001b[?25l\u001b[?25hdone\n",
            "  Created wheel for PrettyTable: filename=prettytable-0.7.2-cp36-none-any.whl size=13702 sha256=86381008905af4e91c68febdae64f3bc25dcb49880ae370bff7c2609449b1934\n",
            "  Stored in directory: /root/.cache/pip/wheels/80/34/1c/3967380d9676d162cb59513bd9dc862d0584e045a162095606\n",
            "  Building wheel for pyperclip (setup.py) ... \u001b[?25l\u001b[?25hdone\n",
            "  Created wheel for pyperclip: filename=pyperclip-1.8.1-cp36-none-any.whl size=11120 sha256=c12e6201892f21cdde08ef6d0448b1c773e541b6c8ced5dedefc3353ad147cbc\n",
            "  Stored in directory: /root/.cache/pip/wheels/44/10/3a/c830e9bb3db2c93274ea1f213a41fabde0d8cf3794251fad0c\n",
            "Successfully built optuna typing PrettyTable pyperclip\n",
            "Installing collected packages: pbr, stevedore, PrettyTable, pyperclip, colorama, cmd2, cliff, colorlog, Mako, python-editor, alembic, typing, optuna\n",
            "  Found existing installation: prettytable 2.0.0\n",
            "    Uninstalling prettytable-2.0.0:\n",
            "      Successfully uninstalled prettytable-2.0.0\n",
            "Successfully installed Mako-1.1.3 PrettyTable-0.7.2 alembic-1.4.3 cliff-3.5.0 cmd2-1.4.0 colorama-0.4.4 colorlog-4.6.2 optuna-0.14.0 pbr-5.5.1 pyperclip-1.8.1 python-editor-1.0.4 stevedore-3.3.0 typing-3.7.4.3\n"
          ],
          "name": "stdout"
        },
        {
          "output_type": "display_data",
          "data": {
            "application/vnd.colab-display-data+json": {
              "pip_warning": {
                "packages": [
                  "typing"
                ]
              }
            }
          },
          "metadata": {
            "tags": []
          }
        },
        {
          "output_type": "stream",
          "text": [
            "Collecting optkeras==0.0.7\n",
            "  Downloading https://files.pythonhosted.org/packages/c2/e3/51dca48c141c8c461a01c0d1fabe33ded992abfe9ec3c0a899e64a7834ab/optkeras-0.0.7-py3-none-any.whl\n",
            "Requirement already satisfied: keras in /usr/local/lib/python3.6/dist-packages (from optkeras==0.0.7) (2.4.3)\n",
            "Requirement already satisfied: numpy in /usr/local/lib/python3.6/dist-packages (from optkeras==0.0.7) (1.19.4)\n",
            "Requirement already satisfied: optuna>=0.9.0 in /usr/local/lib/python3.6/dist-packages (from optkeras==0.0.7) (0.14.0)\n",
            "Requirement already satisfied: scipy>=0.14 in /usr/local/lib/python3.6/dist-packages (from keras->optkeras==0.0.7) (1.4.1)\n",
            "Requirement already satisfied: h5py in /usr/local/lib/python3.6/dist-packages (from keras->optkeras==0.0.7) (2.10.0)\n",
            "Requirement already satisfied: pyyaml in /usr/local/lib/python3.6/dist-packages (from keras->optkeras==0.0.7) (3.13)\n",
            "Requirement already satisfied: pandas in /usr/local/lib/python3.6/dist-packages (from optuna>=0.9.0->optkeras==0.0.7) (1.1.5)\n",
            "Requirement already satisfied: colorlog in /usr/local/lib/python3.6/dist-packages (from optuna>=0.9.0->optkeras==0.0.7) (4.6.2)\n",
            "Requirement already satisfied: six in /usr/local/lib/python3.6/dist-packages (from optuna>=0.9.0->optkeras==0.0.7) (1.15.0)\n",
            "Requirement already satisfied: cliff in /usr/local/lib/python3.6/dist-packages (from optuna>=0.9.0->optkeras==0.0.7) (3.5.0)\n",
            "Requirement already satisfied: sqlalchemy>=1.1.0 in /usr/local/lib/python3.6/dist-packages (from optuna>=0.9.0->optkeras==0.0.7) (1.3.20)\n",
            "Requirement already satisfied: typing in /usr/local/lib/python3.6/dist-packages (from optuna>=0.9.0->optkeras==0.0.7) (3.7.4.3)\n",
            "Requirement already satisfied: alembic in /usr/local/lib/python3.6/dist-packages (from optuna>=0.9.0->optkeras==0.0.7) (1.4.3)\n",
            "Requirement already satisfied: pytz>=2017.2 in /usr/local/lib/python3.6/dist-packages (from pandas->optuna>=0.9.0->optkeras==0.0.7) (2018.9)\n",
            "Requirement already satisfied: python-dateutil>=2.7.3 in /usr/local/lib/python3.6/dist-packages (from pandas->optuna>=0.9.0->optkeras==0.0.7) (2.8.1)\n",
            "Requirement already satisfied: cmd2!=0.8.3,>=0.8.0 in /usr/local/lib/python3.6/dist-packages (from cliff->optuna>=0.9.0->optkeras==0.0.7) (1.4.0)\n",
            "Requirement already satisfied: pbr!=2.1.0,>=2.0.0 in /usr/local/lib/python3.6/dist-packages (from cliff->optuna>=0.9.0->optkeras==0.0.7) (5.5.1)\n",
            "Requirement already satisfied: PrettyTable<0.8,>=0.7.2 in /usr/local/lib/python3.6/dist-packages (from cliff->optuna>=0.9.0->optkeras==0.0.7) (0.7.2)\n",
            "Requirement already satisfied: pyparsing>=2.1.0 in /usr/local/lib/python3.6/dist-packages (from cliff->optuna>=0.9.0->optkeras==0.0.7) (2.4.7)\n",
            "Requirement already satisfied: stevedore>=2.0.1 in /usr/local/lib/python3.6/dist-packages (from cliff->optuna>=0.9.0->optkeras==0.0.7) (3.3.0)\n",
            "Requirement already satisfied: Mako in /usr/local/lib/python3.6/dist-packages (from alembic->optuna>=0.9.0->optkeras==0.0.7) (1.1.3)\n",
            "Requirement already satisfied: python-editor>=0.3 in /usr/local/lib/python3.6/dist-packages (from alembic->optuna>=0.9.0->optkeras==0.0.7) (1.0.4)\n",
            "Requirement already satisfied: colorama>=0.3.7 in /usr/local/lib/python3.6/dist-packages (from cmd2!=0.8.3,>=0.8.0->cliff->optuna>=0.9.0->optkeras==0.0.7) (0.4.4)\n",
            "Requirement already satisfied: attrs>=16.3.0 in /usr/local/lib/python3.6/dist-packages (from cmd2!=0.8.3,>=0.8.0->cliff->optuna>=0.9.0->optkeras==0.0.7) (20.3.0)\n",
            "Requirement already satisfied: importlib-metadata>=1.6.0; python_version < \"3.8\" in /usr/local/lib/python3.6/dist-packages (from cmd2!=0.8.3,>=0.8.0->cliff->optuna>=0.9.0->optkeras==0.0.7) (3.3.0)\n",
            "Requirement already satisfied: pyperclip>=1.6 in /usr/local/lib/python3.6/dist-packages (from cmd2!=0.8.3,>=0.8.0->cliff->optuna>=0.9.0->optkeras==0.0.7) (1.8.1)\n",
            "Requirement already satisfied: wcwidth>=0.1.7 in /usr/local/lib/python3.6/dist-packages (from cmd2!=0.8.3,>=0.8.0->cliff->optuna>=0.9.0->optkeras==0.0.7) (0.2.5)\n",
            "Requirement already satisfied: MarkupSafe>=0.9.2 in /usr/local/lib/python3.6/dist-packages (from Mako->alembic->optuna>=0.9.0->optkeras==0.0.7) (1.1.1)\n",
            "Requirement already satisfied: typing-extensions>=3.6.4; python_version < \"3.8\" in /usr/local/lib/python3.6/dist-packages (from importlib-metadata>=1.6.0; python_version < \"3.8\"->cmd2!=0.8.3,>=0.8.0->cliff->optuna>=0.9.0->optkeras==0.0.7) (3.7.4.3)\n",
            "Requirement already satisfied: zipp>=0.5 in /usr/local/lib/python3.6/dist-packages (from importlib-metadata>=1.6.0; python_version < \"3.8\"->cmd2!=0.8.3,>=0.8.0->cliff->optuna>=0.9.0->optkeras==0.0.7) (3.4.0)\n",
            "Installing collected packages: optkeras\n",
            "Successfully installed optkeras-0.0.7\n"
          ],
          "name": "stdout"
        }
      ]
    },
    {
      "cell_type": "markdown",
      "metadata": {
        "id": "Y3dnV15XqEFw"
      },
      "source": [
        "## **Importing the required libraries**"
      ]
    },
    {
      "cell_type": "code",
      "metadata": {
        "id": "77gZkQASu06j",
        "colab": {
          "base_uri": "https://localhost:8080/"
        },
        "outputId": "43099968-c599-4ee4-b952-88029e9e5672"
      },
      "source": [
        "import os\r\n",
        "import statistics\r\n",
        "import csv\r\n",
        "import itertools\r\n",
        "import tensorflow as tf\r\n",
        "import keras\r\n",
        "\r\n",
        "import pandas as pd\r\n",
        "import numpy as np\r\n",
        "import datetime as dt\r\n",
        "import matplotlib.pyplot as plt\r\n",
        "import seaborn as sn\r\n",
        "\r\n",
        "from tqdm import tqdm_notebook as tqdm\r\n",
        "\r\n",
        "from sklearn.model_selection import train_test_split\r\n",
        "from sklearn.metrics import classification_report, confusion_matrix\r\n",
        "from sklearn.preprocessing import StandardScaler\r\n",
        "from keras.models import Sequential\r\n",
        "from keras.layers import *\r\n",
        "from keras.utils import to_categorical\r\n",
        "from keras.optimizers import Adam\r\n",
        "from keras.utils.vis_utils import plot_model\r\n",
        "import optuna \r\n",
        "print('Optuna', optuna.__version__)\r\n",
        "\r\n",
        "from optkeras.optkeras import OptKeras\r\n",
        "import optkeras\r\n",
        "print('OptKeras', optkeras.__version__)\r\n",
        "from numpy import mean\r\n",
        "from numpy import std\r\n",
        "\r\n",
        "# (Optional) Disable messages from Optuna below WARN level.\r\n",
        "optuna.logging.set_verbosity(optuna.logging.WARN)"
      ],
      "execution_count": null,
      "outputs": [
        {
          "output_type": "stream",
          "text": [
            "Optuna 0.14.0\n",
            "OptKeras 0.0.7\n"
          ],
          "name": "stdout"
        }
      ]
    },
    {
      "cell_type": "code",
      "metadata": {
        "colab": {
          "base_uri": "https://localhost:8080/"
        },
        "id": "Jueep5u0vDc4",
        "outputId": "0750d308-2006-4eb0-892a-2b10ea9ad7e6"
      },
      "source": [
        "cd /saurabh/My Drive/Datasets/har/wisdm-dataset/"
      ],
      "execution_count": null,
      "outputs": [
        {
          "output_type": "stream",
          "text": [
            "/saurabh/My Drive/Datasets/har/wisdm-dataset\n"
          ],
          "name": "stdout"
        }
      ]
    },
    {
      "cell_type": "code",
      "metadata": {
        "colab": {
          "base_uri": "https://localhost:8080/"
        },
        "id": "e9Il_KJ7vESR",
        "outputId": "22d2a315-4736-4223-a901-845c00600f4e"
      },
      "source": [
        "ls"
      ],
      "execution_count": null,
      "outputs": [
        {
          "output_type": "stream",
          "text": [
            "activity_key.txt            HARWatchGRU_model_000000.h5\n",
            "\u001b[0m\u001b[01;34marff_files\u001b[0m/                 HARWatchGRU_Optuna.csv\n",
            "\u001b[01;34marffmagic-master\u001b[0m/           \u001b[01;34minception\u001b[0m/\n",
            "change_raw_act.pl           model1_plot.png\n",
            "\u001b[01;34mdata\u001b[0m/                       model_plot2.png\n",
            "\u001b[01;34mdeepconvlstm\u001b[0m/               model_plot3.png\n",
            "HAR_Simple_Keras.csv        model_plot4.png\n",
            "HAR_Simple_model_000003.h5  model_plot.png\n",
            "HAR_Simple_Optuna.csv       multichannel.png\n",
            "HARTrain1_Keras.csv         phone.df\n",
            "HARTrain1_model_000013.h5   \u001b[01;34mraw\u001b[0m/\n",
            "HARTrain1_Optuna.csv        README.txt\n",
            "HARTrain_Keras.csv          \u001b[01;34mresnet\u001b[0m/\n",
            "HARTrain_Optuna.csv         watch.df\n",
            "HARWatchGRU_Keras.csv       WISDM-dataset-description.pdf\n"
          ],
          "name": "stdout"
        }
      ]
    },
    {
      "cell_type": "markdown",
      "metadata": {
        "id": "2qWFDry-q6ls"
      },
      "source": [
        "## **Loading the watch dataset which was saved in the preprocessing stage**"
      ]
    },
    {
      "cell_type": "code",
      "metadata": {
        "id": "6qEHmaUIqnHO"
      },
      "source": [
        "watch = pd.read_pickle('watch.df')"
      ],
      "execution_count": null,
      "outputs": []
    },
    {
      "cell_type": "code",
      "metadata": {
        "colab": {
          "base_uri": "https://localhost:8080/"
        },
        "id": "mxxezkU6qnTU",
        "outputId": "17a3c48b-94c8-4cb1-d337-50b195d890ed"
      },
      "source": [
        "watch.shape"
      ],
      "execution_count": null,
      "outputs": [
        {
          "output_type": "execute_result",
          "data": {
            "text/plain": [
              "(3731135, 9)"
            ]
          },
          "metadata": {
            "tags": []
          },
          "execution_count": 6
        }
      ]
    },
    {
      "cell_type": "markdown",
      "metadata": {
        "id": "OUBwi4DUrbIp"
      },
      "source": [
        "## **Mapping the 18 activities into 3 Groups**"
      ]
    },
    {
      "cell_type": "code",
      "metadata": {
        "id": "54Ysm3t-YzcS"
      },
      "source": [
        "def activity_mapper(activity):\r\n",
        "    if(activity in ['A', 'B', 'C', 'D', 'E', 'M']):\r\n",
        "        return 0\r\n",
        "    elif(activity in ['P', 'O', 'F', 'Q', 'R','G', 'S']):\r\n",
        "        return 1\r\n",
        "    else:\r\n",
        "        return 2\r\n",
        "watch['activity'] = watch['activity'].apply(activity_mapper)"
      ],
      "execution_count": null,
      "outputs": []
    },
    {
      "cell_type": "code",
      "metadata": {
        "colab": {
          "base_uri": "https://localhost:8080/"
        },
        "id": "0XUvO9dqrscL",
        "outputId": "190eed80-24cc-469f-941c-19e71b4edba0"
      },
      "source": [
        "watch.activity.value_counts()"
      ],
      "execution_count": null,
      "outputs": [
        {
          "output_type": "execute_result",
          "data": {
            "text/plain": [
              "1    1462798\n",
              "0    1235394\n",
              "2    1032943\n",
              "Name: activity, dtype: int64"
            ]
          },
          "metadata": {
            "tags": []
          },
          "execution_count": 8
        }
      ]
    },
    {
      "cell_type": "code",
      "metadata": {
        "id": "BTLC7LMDYzfb"
      },
      "source": [
        "activity_map = {\r\n",
        "    0: 'Ambulation Oriented',\r\n",
        "    1: 'Hand Oriented General',\r\n",
        "    2: 'Hand Oriented Eating'\r\n",
        "}"
      ],
      "execution_count": null,
      "outputs": []
    },
    {
      "cell_type": "code",
      "metadata": {
        "id": "QfQ6iyqCYzlb"
      },
      "source": [
        "activities = sorted(activity_map.keys())\r\n",
        "activity_encoding = {v: k for k, v in enumerate(activities)}\r\n"
      ],
      "execution_count": null,
      "outputs": []
    },
    {
      "cell_type": "markdown",
      "metadata": {
        "id": "LBxh__n6r2aX"
      },
      "source": [
        "## **Data Transformation using a sliding windows of 10 seconds = 200 (10 * 20) data points and stride of 50**"
      ]
    },
    {
      "cell_type": "code",
      "metadata": {
        "colab": {
          "base_uri": "https://localhost:8080/",
          "height": 153,
          "referenced_widgets": [
            "036a021a38064e5d8e0d1f9826630679",
            "fcff6ab7d52d4ff78bb9abe584984f5a",
            "babf5ff5cb4e4037a0cb73cb9431b31c",
            "83cf11534d744a51b7ba155270e2c907",
            "48ce3360ab774eb4a150b97e669d84ea",
            "a6ac93ef0eb14e4d8e508b2c25d7bcd0",
            "3a2a23f7b22742e98fddf5c64493ee24",
            "58a4356124084e348224f2a10f4bf73f"
          ]
        },
        "id": "5nPVDjL0q1Hg",
        "outputId": "82a9afe7-8cc2-4538-cfb0-7a6132a6bca9"
      },
      "source": [
        "window_size = 200\r\n",
        "stride = 50\r\n",
        "frames = []\r\n",
        "for i in tqdm(range(0, len(watch)-window_size, stride)):\r\n",
        "    window = watch.iloc[i:i+window_size]\r\n",
        "    if window['activity'].nunique() == 1:\r\n",
        "      frames.append(window)"
      ],
      "execution_count": null,
      "outputs": [
        {
          "output_type": "stream",
          "text": [
            "/usr/local/lib/python3.6/dist-packages/ipykernel_launcher.py:4: TqdmDeprecationWarning:\n",
            "\n",
            "This function will be removed in tqdm==5.0.0\n",
            "Please use `tqdm.notebook.tqdm` instead of `tqdm.tqdm_notebook`\n",
            "\n"
          ],
          "name": "stderr"
        },
        {
          "output_type": "display_data",
          "data": {
            "application/vnd.jupyter.widget-view+json": {
              "model_id": "036a021a38064e5d8e0d1f9826630679",
              "version_minor": 0,
              "version_major": 2
            },
            "text/plain": [
              "HBox(children=(FloatProgress(value=0.0, max=74619.0), HTML(value='')))"
            ]
          },
          "metadata": {
            "tags": []
          }
        },
        {
          "output_type": "stream",
          "text": [
            "\n"
          ],
          "name": "stdout"
        }
      ]
    },
    {
      "cell_type": "code",
      "metadata": {
        "colab": {
          "base_uri": "https://localhost:8080/",
          "height": 153,
          "referenced_widgets": [
            "f225b113eaa24d768ef1018a6262efe6",
            "a481ea6c94874d87b456670b0691ce0e",
            "b0fc159acda74984a2f467d9bc10add2",
            "168f8df09acb4da790fc12c71b31be67",
            "abff5e62003d4274a7d2b8ddd2e99c19",
            "58b5d437fc47412aa82fdba7f9796d48",
            "5d346cb4ce8c4c1a80f78c0f16f46521",
            "67ab1894fde84136aef93617bc877546"
          ]
        },
        "id": "YZTZKFmj36iF",
        "outputId": "7523369c-f10b-440a-d407-86aa3686f8af"
      },
      "source": [
        "#activities = sorted(act_map.keys())\r\n",
        "#activity_encoding = {v: k for k, v in enumerate(activities)}\r\n",
        "\r\n",
        "X_list = []\r\n",
        "y_list = []\r\n",
        "\r\n",
        "#for each frame replace label with activity\r\n",
        "for frame in tqdm(frames):\r\n",
        "    X_list.append(frame[['watch_accel_x', 'watch_accel_y', 'watch_accel_z', 'watch_gyro_x', 'watch_gyro_y', 'watch_gyro_z']].values)\r\n",
        "    y_list.append(activity_encoding[frame.iloc[0]['activity']])\r\n",
        "    #y_list.append(frame.iloc[0][['activity']].values)"
      ],
      "execution_count": null,
      "outputs": [
        {
          "output_type": "stream",
          "text": [
            "/usr/local/lib/python3.6/dist-packages/ipykernel_launcher.py:8: TqdmDeprecationWarning:\n",
            "\n",
            "This function will be removed in tqdm==5.0.0\n",
            "Please use `tqdm.notebook.tqdm` instead of `tqdm.tqdm_notebook`\n",
            "\n"
          ],
          "name": "stderr"
        },
        {
          "output_type": "display_data",
          "data": {
            "application/vnd.jupyter.widget-view+json": {
              "model_id": "f225b113eaa24d768ef1018a6262efe6",
              "version_minor": 0,
              "version_major": 2
            },
            "text/plain": [
              "HBox(children=(FloatProgress(value=0.0, max=73101.0), HTML(value='')))"
            ]
          },
          "metadata": {
            "tags": []
          }
        },
        {
          "output_type": "stream",
          "text": [
            "\n"
          ],
          "name": "stdout"
        }
      ]
    },
    {
      "cell_type": "code",
      "metadata": {
        "id": "YyRvRBnpcInM"
      },
      "source": [
        "X = np.array(X_list)\r\n",
        "y = np.array(to_categorical(y_list))"
      ],
      "execution_count": null,
      "outputs": []
    },
    {
      "cell_type": "code",
      "metadata": {
        "colab": {
          "base_uri": "https://localhost:8080/"
        },
        "id": "67KAS8FVu8IN",
        "outputId": "3754babd-9f2a-4136-bde8-4b35a8bdb374"
      },
      "source": [
        "print(X.shape)\r\n",
        "print(y.shape)"
      ],
      "execution_count": null,
      "outputs": [
        {
          "output_type": "stream",
          "text": [
            "(73101, 200, 6)\n",
            "(73101, 3)\n"
          ],
          "name": "stdout"
        }
      ]
    },
    {
      "cell_type": "code",
      "metadata": {
        "colab": {
          "base_uri": "https://localhost:8080/"
        },
        "id": "KOx51zyUcKd1",
        "outputId": "a41503ba-5955-445c-a55d-e5f6c17ab18b"
      },
      "source": [
        "print(X.shape[1:])"
      ],
      "execution_count": null,
      "outputs": [
        {
          "output_type": "stream",
          "text": [
            "(200, 6)\n"
          ],
          "name": "stdout"
        }
      ]
    },
    {
      "cell_type": "markdown",
      "metadata": {
        "id": "GimQ56yVs7dh"
      },
      "source": [
        "## **Data Splitting  60:20:20**"
      ]
    },
    {
      "cell_type": "code",
      "metadata": {
        "colab": {
          "base_uri": "https://localhost:8080/"
        },
        "id": "sYt4Q6e0cMzd",
        "outputId": "6f5032c2-4250-4e1f-e7e3-959f111df422"
      },
      "source": [
        "#data split: as informed by slides split for 30,000 examples \r\n",
        "#our example is a window and coming from a big expansive amount of data\r\n",
        "#5 second split based on papers using 5 sec split. We can play with this \r\n",
        "\r\n",
        "X_train, X_valtest, y_train, y_valtest = train_test_split(X, y, test_size=0.4, random_state=42)\r\n",
        "X_val, X_test, y_val, y_test = train_test_split(X_valtest, y_valtest, test_size=0.5, random_state=42)\r\n",
        "\r\n",
        "#train\r\n",
        "print(\"X_train: \",X_train.shape)\r\n",
        "\r\n",
        "#dev\r\n",
        "print(\"X_val: \",X_val.shape)\r\n",
        "\r\n",
        "#test\r\n",
        "print(\"X_test: \",X_test.shape)\r\n",
        "\r\n",
        "print(\"Y_train: \",y_train.shape)\r\n",
        "print(\"Y_val: \",y_val.shape)\r\n",
        "print(\"Y_test: \",y_test.shape)"
      ],
      "execution_count": null,
      "outputs": [
        {
          "output_type": "stream",
          "text": [
            "X_train:  (43860, 200, 6)\n",
            "X_val:  (14620, 200, 6)\n",
            "X_test:  (14621, 200, 6)\n",
            "Y_train:  (43860, 3)\n",
            "Y_val:  (14620, 3)\n",
            "Y_test:  (14621, 3)\n"
          ],
          "name": "stdout"
        }
      ]
    },
    {
      "cell_type": "code",
      "metadata": {
        "id": "-92HgovyKG6F"
      },
      "source": [
        "# reshape data into time steps of sub-sequences\r\n",
        "n_steps, n_length,n_features = 4,50,6\r\n",
        "trainX = X_train.reshape((X_train.shape[0], n_steps, n_length, n_features))\r\n",
        "valX = X_val.reshape((X_val.shape[0], n_steps, n_length, n_features))\r\n",
        "testX = X_test.reshape((X_test.shape[0], n_steps, n_length, n_features))"
      ],
      "execution_count": null,
      "outputs": []
    },
    {
      "cell_type": "markdown",
      "metadata": {
        "id": "V8NZalLEIHEg"
      },
      "source": [
        "## **Hyperparameter Optimization Using OptKeras which is based on Optuna - Bayesian Optimization**"
      ]
    },
    {
      "cell_type": "code",
      "metadata": {
        "colab": {
          "base_uri": "https://localhost:8080/"
        },
        "id": "GWRjdPsSIDZE",
        "outputId": "5e0ed90b-3d37-4636-8241-a6ef76d1d324"
      },
      "source": [
        "study_name = 'HAR' + 'Train1'\r\n",
        "\r\n",
        "\"\"\" Step 1. Instantiate OptKeras class\r\n",
        "You can specify arguments for Optuna's create_study method and other arguments \r\n",
        "for OptKeras such as enable_pruning. \r\n",
        "\"\"\"\r\n",
        "\r\n",
        "ok = OptKeras(study_name=study_name,\r\n",
        "              monitor='val_acc',\r\n",
        "              direction='maximize')\r\n",
        "\r\n",
        "\r\n",
        "\"\"\" Step 2. Define objective function for Optuna \"\"\"\r\n",
        "\r\n",
        "def objective(trial):\r\n",
        "    \r\n",
        "    \"\"\" Step 2.1. Define parameters to try using methods of optuna.trial such as \r\n",
        "    suggest_categorical. In this simple demo, try 2*2*2*2 = 16 parameter sets: \r\n",
        "    2 values specified in list for each of 4 parameters \r\n",
        "    (filters, kernel_size, strides, and activation for convolution).\r\n",
        "    \"\"\"    \r\n",
        "    model = Sequential()\r\n",
        "    model.add(TimeDistributed(Conv1D(filters=trial.suggest_categorical('filters1', [32,64,96,128]), kernel_size=3, activation='relu'), input_shape=(None,n_length,n_features)))\r\n",
        "    model.add(TimeDistributed(MaxPooling1D(pool_size=2)))\r\n",
        "    model.add(TimeDistributed(Conv1D(filters=trial.suggest_categorical('filters2', [32,64,96,128]), kernel_size=3, activation='relu')))\r\n",
        "    model.add(TimeDistributed(MaxPooling1D(pool_size=2)))\r\n",
        "    model.add(TimeDistributed(Dropout(rate = trial.suggest_categorical('drop1', [0.05,0.06,0.07,0.08]))))\r\n",
        "    model.add(TimeDistributed(Flatten()))\r\n",
        "    model.add(LSTM(64 , return_sequences = True))\r\n",
        "    model.add(LSTM(64))\r\n",
        "    model.add(Dropout(rate = trial.suggest_categorical('drop2', [0.1,0.2,0.3,0.4])))\r\n",
        "    model.add(Dense(y_train.shape[1], activation = 'softmax'))\r\n",
        "    \r\n",
        "    \"\"\" Step 2.2. Specify callbacks(trial) and keras_verbose in fit \r\n",
        "    (or fit_generator) method of Keras model\r\n",
        "    \"\"\"\r\n",
        "    model.compile(Adam(),loss=tf.keras.losses.categorical_crossentropy,metrics=['acc'])\r\n",
        "    model.fit(trainX,y_train, \r\n",
        "              validation_data=(valX, y_val), shuffle=True,\r\n",
        "              batch_size=64, epochs=10,\r\n",
        "              callbacks=ok.callbacks(trial),\r\n",
        "              verbose=ok.keras_verbose )\r\n",
        "    \r\n",
        "    \r\n",
        "    \"\"\" Step 2.3. Return trial_best_value (or latest_value) \"\"\"\r\n",
        "    return ok.trial_best_value\r\n",
        "\r\n",
        "\"\"\" Step 3. Run optimize. \r\n",
        "Set n_trials and/or timeout (in sec) for optimization by Optuna\r\n",
        "\"\"\"\r\n",
        "ok.optimize(objective, timeout = 900) "
      ],
      "execution_count": null,
      "outputs": [
        {
          "output_type": "stream",
          "text": [
            "[2020-12-26 11:30:08.769103] [OptKeras] Ready for optimization. (message printed as verbose is set to 1+)\n",
            "[2020-12-26 11:30:09.294876]  (None) \n",
            "WARNING:tensorflow:`period` argument is deprecated. Please use `save_freq` to specify the frequency in number of batches seen.\n",
            "[2020-12-26 11:30:56.631605] Trial#: 0, value: 9.593023e-01| Best trial#: 0, value: 9.593023e-01, params: {'filters1': 64, 'filters2': 96, 'drop1': 0.05, 'drop2': 0.2}\n",
            "WARNING:tensorflow:`period` argument is deprecated. Please use `save_freq` to specify the frequency in number of batches seen.\n",
            "[2020-12-26 11:31:44.167734] Trial#: 1, value: 9.442545e-01| Best trial#: 0, value: 9.593023e-01, params: {'filters1': 64, 'filters2': 96, 'drop1': 0.05, 'drop2': 0.2}\n",
            "WARNING:tensorflow:`period` argument is deprecated. Please use `save_freq` to specify the frequency in number of batches seen.\n",
            "[2020-12-26 11:32:30.999340] Trial#: 2, value: 9.386457e-01| Best trial#: 0, value: 9.593023e-01, params: {'filters1': 64, 'filters2': 96, 'drop1': 0.05, 'drop2': 0.2}\n",
            "WARNING:tensorflow:`period` argument is deprecated. Please use `save_freq` to specify the frequency in number of batches seen.\n",
            "[2020-12-26 11:33:17.841323] Trial#: 3, value: 9.590287e-01| Best trial#: 0, value: 9.593023e-01, params: {'filters1': 64, 'filters2': 96, 'drop1': 0.05, 'drop2': 0.2}\n",
            "WARNING:tensorflow:`period` argument is deprecated. Please use `save_freq` to specify the frequency in number of batches seen.\n",
            "[2020-12-26 11:34:05.191256] Trial#: 4, value: 9.623803e-01| Best trial#: 4, value: 9.623803e-01, params: {'filters1': 96, 'filters2': 128, 'drop1': 0.08, 'drop2': 0.4}\n",
            "WARNING:tensorflow:`period` argument is deprecated. Please use `save_freq` to specify the frequency in number of batches seen.\n",
            "[2020-12-26 11:34:50.893972] Trial#: 5, value: 9.606703e-01| Best trial#: 4, value: 9.623803e-01, params: {'filters1': 96, 'filters2': 128, 'drop1': 0.08, 'drop2': 0.4}\n",
            "WARNING:tensorflow:`period` argument is deprecated. Please use `save_freq` to specify the frequency in number of batches seen.\n",
            "[2020-12-26 11:35:37.589558] Trial#: 6, value: 9.625171e-01| Best trial#: 6, value: 9.625171e-01, params: {'filters1': 96, 'filters2': 128, 'drop1': 0.05, 'drop2': 0.4}\n",
            "WARNING:tensorflow:`period` argument is deprecated. Please use `save_freq` to specify the frequency in number of batches seen.\n",
            "[2020-12-26 11:36:24.522313] Trial#: 7, value: 9.493844e-01| Best trial#: 6, value: 9.625171e-01, params: {'filters1': 96, 'filters2': 128, 'drop1': 0.05, 'drop2': 0.4}\n",
            "WARNING:tensorflow:`period` argument is deprecated. Please use `save_freq` to specify the frequency in number of batches seen.\n",
            "[2020-12-26 11:37:11.935307] Trial#: 8, value: 9.505472e-01| Best trial#: 6, value: 9.625171e-01, params: {'filters1': 96, 'filters2': 128, 'drop1': 0.05, 'drop2': 0.4}\n",
            "WARNING:tensorflow:`period` argument is deprecated. Please use `save_freq` to specify the frequency in number of batches seen.\n",
            "[2020-12-26 11:37:58.847128] Trial#: 9, value: 9.474692e-01| Best trial#: 6, value: 9.625171e-01, params: {'filters1': 96, 'filters2': 128, 'drop1': 0.05, 'drop2': 0.4}\n",
            "WARNING:tensorflow:`period` argument is deprecated. Please use `save_freq` to specify the frequency in number of batches seen.\n",
            "[2020-12-26 11:38:48.444463] Trial#: 10, value: 9.608071e-01| Best trial#: 6, value: 9.625171e-01, params: {'filters1': 96, 'filters2': 128, 'drop1': 0.05, 'drop2': 0.4}\n",
            "WARNING:tensorflow:`period` argument is deprecated. Please use `save_freq` to specify the frequency in number of batches seen.\n",
            "[2020-12-26 11:39:35.747832] Trial#: 11, value: 9.593023e-01| Best trial#: 6, value: 9.625171e-01, params: {'filters1': 96, 'filters2': 128, 'drop1': 0.05, 'drop2': 0.4}\n",
            "WARNING:tensorflow:`period` argument is deprecated. Please use `save_freq` to specify the frequency in number of batches seen.\n",
            "[2020-12-26 11:40:23.910431] Trial#: 12, value: 9.377565e-01| Best trial#: 6, value: 9.625171e-01, params: {'filters1': 96, 'filters2': 128, 'drop1': 0.05, 'drop2': 0.4}\n",
            "WARNING:tensorflow:`period` argument is deprecated. Please use `save_freq` to specify the frequency in number of batches seen.\n",
            "[2020-12-26 11:41:11.084448] Trial#: 13, value: 9.640219e-01| Best trial#: 13, value: 9.640219e-01, params: {'filters1': 96, 'filters2': 128, 'drop1': 0.06, 'drop2': 0.4}\n",
            "WARNING:tensorflow:`period` argument is deprecated. Please use `save_freq` to specify the frequency in number of batches seen.\n",
            "[2020-12-26 11:41:58.111306] Trial#: 14, value: 9.660054e-01| Best trial#: 14, value: 9.660054e-01, params: {'filters1': 96, 'filters2': 128, 'drop1': 0.06, 'drop2': 0.1}\n",
            "WARNING:tensorflow:`period` argument is deprecated. Please use `save_freq` to specify the frequency in number of batches seen.\n",
            "[2020-12-26 11:42:45.084970] Trial#: 15, value: 9.597127e-01| Best trial#: 14, value: 9.660054e-01, params: {'filters1': 96, 'filters2': 128, 'drop1': 0.06, 'drop2': 0.1}\n",
            "WARNING:tensorflow:`period` argument is deprecated. Please use `save_freq` to specify the frequency in number of batches seen.\n",
            "[2020-12-26 11:43:30.651101] Trial#: 16, value: 9.548563e-01| Best trial#: 14, value: 9.660054e-01, params: {'filters1': 96, 'filters2': 128, 'drop1': 0.06, 'drop2': 0.1}\n",
            "WARNING:tensorflow:`period` argument is deprecated. Please use `save_freq` to specify the frequency in number of batches seen.\n",
            "[2020-12-26 11:44:19.035760] Trial#: 17, value: 9.558824e-01| Best trial#: 14, value: 9.660054e-01, params: {'filters1': 96, 'filters2': 128, 'drop1': 0.06, 'drop2': 0.1}\n",
            "WARNING:tensorflow:`period` argument is deprecated. Please use `save_freq` to specify the frequency in number of batches seen.\n",
            "[2020-12-26 11:45:07.612085] Trial#: 18, value: 9.538304e-01| Best trial#: 14, value: 9.660054e-01, params: {'filters1': 96, 'filters2': 128, 'drop1': 0.06, 'drop2': 0.1}\n",
            "WARNING:tensorflow:`period` argument is deprecated. Please use `save_freq` to specify the frequency in number of batches seen.\n",
            "[2020-12-26 11:45:52.788249] Trial#: 19, value: 9.608071e-01| Best trial#: 14, value: 9.660054e-01, params: {'filters1': 96, 'filters2': 128, 'drop1': 0.06, 'drop2': 0.1}\n"
          ],
          "name": "stdout"
        }
      ]
    },
    {
      "cell_type": "code",
      "metadata": {
        "colab": {
          "base_uri": "https://localhost:8080/"
        },
        "id": "M83W3AE-MkQB",
        "outputId": "da37a612-b42b-45b7-df8c-929f0a186a58"
      },
      "source": [
        "print('Best trial number: ', ok.best_trial.number)\r\n",
        "print('Best value:', ok.best_trial.value)\r\n",
        "print('Best parameters: \\n', ok.best_trial.params)"
      ],
      "execution_count": null,
      "outputs": [
        {
          "output_type": "stream",
          "text": [
            "Best trial number:  14\n",
            "Best value: 0.9660054445266724\n",
            "Best parameters: \n",
            " {'filters1': 96, 'filters2': 128, 'drop1': 0.06, 'drop2': 0.1}\n"
          ],
          "name": "stdout"
        }
      ]
    },
    {
      "cell_type": "code",
      "metadata": {
        "colab": {
          "base_uri": "https://localhost:8080/",
          "height": 778
        },
        "id": "NwIplJEKMonX",
        "outputId": "ccc5ec4d-8dff-48c9-a26d-54426f92c602"
      },
      "source": [
        "print(\"Best parameters (retrieved directly from Optuna)\", ok.study.best_trial.params)\r\n",
        "\r\n",
        "\"\"\" Check the Optuna CSV log file \"\"\"\r\n",
        "pd.options.display.max_rows = 8 # limit rows to display\r\n",
        "print('Data Frame read from', ok.optuna_log_file_path, '\\n')\r\n",
        "display(pd.read_csv(ok.optuna_log_file_path))\r\n",
        "\r\n",
        "\"\"\" Check the Keras CSV log file \"\"\"\r\n",
        "pd.options.display.max_rows = 8 # limit rows to display\r\n",
        "print('Data Frame read from', ok.keras_log_file_path, '\\n')\r\n",
        "display(pd.read_csv(ok.keras_log_file_path))"
      ],
      "execution_count": null,
      "outputs": [
        {
          "output_type": "stream",
          "text": [
            "Best parameters (retrieved directly from Optuna) {'filters1': 96, 'filters2': 128, 'drop1': 0.06, 'drop2': 0.1}\n",
            "Data Frame read from HARTrain1_Optuna.csv \n",
            "\n"
          ],
          "name": "stdout"
        },
        {
          "output_type": "display_data",
          "data": {
            "text/html": [
              "<div>\n",
              "<style scoped>\n",
              "    .dataframe tbody tr th:only-of-type {\n",
              "        vertical-align: middle;\n",
              "    }\n",
              "\n",
              "    .dataframe tbody tr th {\n",
              "        vertical-align: top;\n",
              "    }\n",
              "\n",
              "    .dataframe thead th {\n",
              "        text-align: right;\n",
              "    }\n",
              "</style>\n",
              "<table border=\"1\" class=\"dataframe\">\n",
              "  <thead>\n",
              "    <tr style=\"text-align: right;\">\n",
              "      <th></th>\n",
              "      <th>number</th>\n",
              "      <th>state</th>\n",
              "      <th>value</th>\n",
              "      <th>datetime_start</th>\n",
              "      <th>datetime_complete</th>\n",
              "      <th>drop1</th>\n",
              "      <th>drop2</th>\n",
              "      <th>filters1</th>\n",
              "      <th>filters2</th>\n",
              "      <th>_Datetime_epoch_begin</th>\n",
              "      <th>_Datetime_epoch_end</th>\n",
              "      <th>_Trial_num</th>\n",
              "      <th>acc</th>\n",
              "      <th>loss</th>\n",
              "      <th>val_acc</th>\n",
              "      <th>val_loss</th>\n",
              "      <th>system_attrs__number</th>\n",
              "    </tr>\n",
              "  </thead>\n",
              "  <tbody>\n",
              "    <tr>\n",
              "      <th>0</th>\n",
              "      <td>0</td>\n",
              "      <td>TrialState.COMPLETE</td>\n",
              "      <td>0.959302</td>\n",
              "      <td>2020-12-26 11:30:08.769704</td>\n",
              "      <td>2020-12-26 11:30:56.119669</td>\n",
              "      <td>0.05</td>\n",
              "      <td>0.2</td>\n",
              "      <td>64</td>\n",
              "      <td>96</td>\n",
              "      <td>2020-12-26 11:30:51.132135</td>\n",
              "      <td>2020-12-26 11:30:55.352998</td>\n",
              "      <td>0</td>\n",
              "      <td>0.968149</td>\n",
              "      <td>0.086918</td>\n",
              "      <td>0.959302</td>\n",
              "      <td>0.107855</td>\n",
              "      <td>0</td>\n",
              "    </tr>\n",
              "    <tr>\n",
              "      <th>1</th>\n",
              "      <td>1</td>\n",
              "      <td>TrialState.COMPLETE</td>\n",
              "      <td>0.944254</td>\n",
              "      <td>2020-12-26 11:30:56.120086</td>\n",
              "      <td>2020-12-26 11:31:43.640830</td>\n",
              "      <td>0.08</td>\n",
              "      <td>0.4</td>\n",
              "      <td>32</td>\n",
              "      <td>32</td>\n",
              "      <td>2020-12-26 11:31:38.687086</td>\n",
              "      <td>2020-12-26 11:31:42.876187</td>\n",
              "      <td>1</td>\n",
              "      <td>0.958550</td>\n",
              "      <td>0.114901</td>\n",
              "      <td>0.944254</td>\n",
              "      <td>0.153481</td>\n",
              "      <td>1</td>\n",
              "    </tr>\n",
              "    <tr>\n",
              "      <th>2</th>\n",
              "      <td>2</td>\n",
              "      <td>TrialState.COMPLETE</td>\n",
              "      <td>0.938646</td>\n",
              "      <td>2020-12-26 11:31:43.641340</td>\n",
              "      <td>2020-12-26 11:32:30.488420</td>\n",
              "      <td>0.05</td>\n",
              "      <td>0.1</td>\n",
              "      <td>64</td>\n",
              "      <td>32</td>\n",
              "      <td>2020-12-26 11:32:25.576812</td>\n",
              "      <td>2020-12-26 11:32:29.728737</td>\n",
              "      <td>2</td>\n",
              "      <td>0.958003</td>\n",
              "      <td>0.112577</td>\n",
              "      <td>0.938646</td>\n",
              "      <td>0.166001</td>\n",
              "      <td>2</td>\n",
              "    </tr>\n",
              "    <tr>\n",
              "      <th>3</th>\n",
              "      <td>3</td>\n",
              "      <td>TrialState.COMPLETE</td>\n",
              "      <td>0.959029</td>\n",
              "      <td>2020-12-26 11:32:30.489137</td>\n",
              "      <td>2020-12-26 11:33:17.295252</td>\n",
              "      <td>0.05</td>\n",
              "      <td>0.2</td>\n",
              "      <td>96</td>\n",
              "      <td>64</td>\n",
              "      <td>2020-12-26 11:33:12.131029</td>\n",
              "      <td>2020-12-26 11:33:16.233334</td>\n",
              "      <td>3</td>\n",
              "      <td>0.964615</td>\n",
              "      <td>0.096222</td>\n",
              "      <td>0.959029</td>\n",
              "      <td>0.108873</td>\n",
              "      <td>3</td>\n",
              "    </tr>\n",
              "    <tr>\n",
              "      <th>...</th>\n",
              "      <td>...</td>\n",
              "      <td>...</td>\n",
              "      <td>...</td>\n",
              "      <td>...</td>\n",
              "      <td>...</td>\n",
              "      <td>...</td>\n",
              "      <td>...</td>\n",
              "      <td>...</td>\n",
              "      <td>...</td>\n",
              "      <td>...</td>\n",
              "      <td>...</td>\n",
              "      <td>...</td>\n",
              "      <td>...</td>\n",
              "      <td>...</td>\n",
              "      <td>...</td>\n",
              "      <td>...</td>\n",
              "      <td>...</td>\n",
              "    </tr>\n",
              "    <tr>\n",
              "      <th>16</th>\n",
              "      <td>16</td>\n",
              "      <td>TrialState.COMPLETE</td>\n",
              "      <td>0.954856</td>\n",
              "      <td>2020-12-26 11:42:44.535356</td>\n",
              "      <td>2020-12-26 11:43:30.109756</td>\n",
              "      <td>0.06</td>\n",
              "      <td>0.1</td>\n",
              "      <td>96</td>\n",
              "      <td>64</td>\n",
              "      <td>2020-12-26 11:43:25.356399</td>\n",
              "      <td>2020-12-26 11:43:29.364274</td>\n",
              "      <td>16</td>\n",
              "      <td>0.965230</td>\n",
              "      <td>0.096380</td>\n",
              "      <td>0.954856</td>\n",
              "      <td>0.130372</td>\n",
              "      <td>16</td>\n",
              "    </tr>\n",
              "    <tr>\n",
              "      <th>17</th>\n",
              "      <td>17</td>\n",
              "      <td>TrialState.COMPLETE</td>\n",
              "      <td>0.955882</td>\n",
              "      <td>2020-12-26 11:43:30.112812</td>\n",
              "      <td>2020-12-26 11:44:18.524045</td>\n",
              "      <td>0.06</td>\n",
              "      <td>0.1</td>\n",
              "      <td>96</td>\n",
              "      <td>128</td>\n",
              "      <td>2020-12-26 11:44:13.588493</td>\n",
              "      <td>2020-12-26 11:44:17.754141</td>\n",
              "      <td>17</td>\n",
              "      <td>0.967829</td>\n",
              "      <td>0.089108</td>\n",
              "      <td>0.955882</td>\n",
              "      <td>0.127399</td>\n",
              "      <td>17</td>\n",
              "    </tr>\n",
              "    <tr>\n",
              "      <th>18</th>\n",
              "      <td>18</td>\n",
              "      <td>TrialState.COMPLETE</td>\n",
              "      <td>0.953830</td>\n",
              "      <td>2020-12-26 11:44:18.527022</td>\n",
              "      <td>2020-12-26 11:45:07.096343</td>\n",
              "      <td>0.06</td>\n",
              "      <td>0.1</td>\n",
              "      <td>128</td>\n",
              "      <td>128</td>\n",
              "      <td>2020-12-26 11:45:02.069911</td>\n",
              "      <td>2020-12-26 11:45:06.335449</td>\n",
              "      <td>18</td>\n",
              "      <td>0.964866</td>\n",
              "      <td>0.095449</td>\n",
              "      <td>0.953830</td>\n",
              "      <td>0.130209</td>\n",
              "      <td>18</td>\n",
              "    </tr>\n",
              "    <tr>\n",
              "      <th>19</th>\n",
              "      <td>19</td>\n",
              "      <td>TrialState.COMPLETE</td>\n",
              "      <td>0.960807</td>\n",
              "      <td>2020-12-26 11:45:07.099405</td>\n",
              "      <td>2020-12-26 11:45:52.765722</td>\n",
              "      <td>0.06</td>\n",
              "      <td>0.3</td>\n",
              "      <td>96</td>\n",
              "      <td>96</td>\n",
              "      <td>2020-12-26 11:45:47.951010</td>\n",
              "      <td>2020-12-26 11:45:51.951803</td>\n",
              "      <td>19</td>\n",
              "      <td>0.968627</td>\n",
              "      <td>0.088463</td>\n",
              "      <td>0.960807</td>\n",
              "      <td>0.117357</td>\n",
              "      <td>19</td>\n",
              "    </tr>\n",
              "  </tbody>\n",
              "</table>\n",
              "<p>20 rows × 17 columns</p>\n",
              "</div>"
            ],
            "text/plain": [
              "    number                state  ...  val_loss system_attrs__number\n",
              "0        0  TrialState.COMPLETE  ...  0.107855                    0\n",
              "1        1  TrialState.COMPLETE  ...  0.153481                    1\n",
              "2        2  TrialState.COMPLETE  ...  0.166001                    2\n",
              "3        3  TrialState.COMPLETE  ...  0.108873                    3\n",
              "..     ...                  ...  ...       ...                  ...\n",
              "16      16  TrialState.COMPLETE  ...  0.130372                   16\n",
              "17      17  TrialState.COMPLETE  ...  0.127399                   17\n",
              "18      18  TrialState.COMPLETE  ...  0.130209                   18\n",
              "19      19  TrialState.COMPLETE  ...  0.117357                   19\n",
              "\n",
              "[20 rows x 17 columns]"
            ]
          },
          "metadata": {
            "tags": []
          }
        },
        {
          "output_type": "stream",
          "text": [
            "Data Frame read from HARTrain1_Keras.csv \n",
            "\n"
          ],
          "name": "stdout"
        },
        {
          "output_type": "display_data",
          "data": {
            "text/html": [
              "<div>\n",
              "<style scoped>\n",
              "    .dataframe tbody tr th:only-of-type {\n",
              "        vertical-align: middle;\n",
              "    }\n",
              "\n",
              "    .dataframe tbody tr th {\n",
              "        vertical-align: top;\n",
              "    }\n",
              "\n",
              "    .dataframe thead th {\n",
              "        text-align: right;\n",
              "    }\n",
              "</style>\n",
              "<table border=\"1\" class=\"dataframe\">\n",
              "  <thead>\n",
              "    <tr style=\"text-align: right;\">\n",
              "      <th></th>\n",
              "      <th>epoch</th>\n",
              "      <th>_Datetime_epoch_begin</th>\n",
              "      <th>_Datetime_epoch_end</th>\n",
              "      <th>_Trial_num</th>\n",
              "      <th>acc</th>\n",
              "      <th>loss</th>\n",
              "      <th>val_acc</th>\n",
              "      <th>val_loss</th>\n",
              "    </tr>\n",
              "  </thead>\n",
              "  <tbody>\n",
              "    <tr>\n",
              "      <th>0</th>\n",
              "      <td>0</td>\n",
              "      <td>2020-12-26 06:36:26.516100</td>\n",
              "      <td>2020-12-26 06:36:39.411224</td>\n",
              "      <td>0</td>\n",
              "      <td>0.828272</td>\n",
              "      <td>0.429519</td>\n",
              "      <td>0.892408</td>\n",
              "      <td>0.281749</td>\n",
              "    </tr>\n",
              "    <tr>\n",
              "      <th>1</th>\n",
              "      <td>1</td>\n",
              "      <td>2020-12-26 06:36:39.468646</td>\n",
              "      <td>2020-12-26 06:36:42.753967</td>\n",
              "      <td>0</td>\n",
              "      <td>0.900570</td>\n",
              "      <td>0.265009</td>\n",
              "      <td>0.906224</td>\n",
              "      <td>0.247375</td>\n",
              "    </tr>\n",
              "    <tr>\n",
              "      <th>2</th>\n",
              "      <td>2</td>\n",
              "      <td>2020-12-26 06:36:42.802889</td>\n",
              "      <td>2020-12-26 06:36:46.082391</td>\n",
              "      <td>0</td>\n",
              "      <td>0.917693</td>\n",
              "      <td>0.218842</td>\n",
              "      <td>0.912038</td>\n",
              "      <td>0.227891</td>\n",
              "    </tr>\n",
              "    <tr>\n",
              "      <th>3</th>\n",
              "      <td>3</td>\n",
              "      <td>2020-12-26 06:36:46.131227</td>\n",
              "      <td>2020-12-26 06:36:49.417641</td>\n",
              "      <td>0</td>\n",
              "      <td>0.930347</td>\n",
              "      <td>0.187226</td>\n",
              "      <td>0.928728</td>\n",
              "      <td>0.187615</td>\n",
              "    </tr>\n",
              "    <tr>\n",
              "      <th>...</th>\n",
              "      <td>...</td>\n",
              "      <td>...</td>\n",
              "      <td>...</td>\n",
              "      <td>...</td>\n",
              "      <td>...</td>\n",
              "      <td>...</td>\n",
              "      <td>...</td>\n",
              "      <td>...</td>\n",
              "    </tr>\n",
              "    <tr>\n",
              "      <th>426</th>\n",
              "      <td>6</td>\n",
              "      <td>2020-12-26 11:45:35.450817</td>\n",
              "      <td>2020-12-26 11:45:39.515909</td>\n",
              "      <td>19</td>\n",
              "      <td>0.959713</td>\n",
              "      <td>0.112494</td>\n",
              "      <td>0.948564</td>\n",
              "      <td>0.141704</td>\n",
              "    </tr>\n",
              "    <tr>\n",
              "      <th>427</th>\n",
              "      <td>7</td>\n",
              "      <td>2020-12-26 11:45:39.573847</td>\n",
              "      <td>2020-12-26 11:45:43.609552</td>\n",
              "      <td>19</td>\n",
              "      <td>0.963520</td>\n",
              "      <td>0.102886</td>\n",
              "      <td>0.948358</td>\n",
              "      <td>0.133747</td>\n",
              "    </tr>\n",
              "    <tr>\n",
              "      <th>428</th>\n",
              "      <td>8</td>\n",
              "      <td>2020-12-26 11:45:43.611468</td>\n",
              "      <td>2020-12-26 11:45:47.652691</td>\n",
              "      <td>19</td>\n",
              "      <td>0.964455</td>\n",
              "      <td>0.098092</td>\n",
              "      <td>0.956772</td>\n",
              "      <td>0.121651</td>\n",
              "    </tr>\n",
              "    <tr>\n",
              "      <th>429</th>\n",
              "      <td>9</td>\n",
              "      <td>2020-12-26 11:45:47.951010</td>\n",
              "      <td>2020-12-26 11:45:51.951803</td>\n",
              "      <td>19</td>\n",
              "      <td>0.968627</td>\n",
              "      <td>0.088463</td>\n",
              "      <td>0.960807</td>\n",
              "      <td>0.117357</td>\n",
              "    </tr>\n",
              "  </tbody>\n",
              "</table>\n",
              "<p>430 rows × 8 columns</p>\n",
              "</div>"
            ],
            "text/plain": [
              "     epoch       _Datetime_epoch_begin  ...   val_acc  val_loss\n",
              "0        0  2020-12-26 06:36:26.516100  ...  0.892408  0.281749\n",
              "1        1  2020-12-26 06:36:39.468646  ...  0.906224  0.247375\n",
              "2        2  2020-12-26 06:36:42.802889  ...  0.912038  0.227891\n",
              "3        3  2020-12-26 06:36:46.131227  ...  0.928728  0.187615\n",
              "..     ...                         ...  ...       ...       ...\n",
              "426      6  2020-12-26 11:45:35.450817  ...  0.948564  0.141704\n",
              "427      7  2020-12-26 11:45:39.573847  ...  0.948358  0.133747\n",
              "428      8  2020-12-26 11:45:43.611468  ...  0.956772  0.121651\n",
              "429      9  2020-12-26 11:45:47.951010  ...  0.960807  0.117357\n",
              "\n",
              "[430 rows x 8 columns]"
            ]
          },
          "metadata": {
            "tags": []
          }
        }
      ]
    },
    {
      "cell_type": "markdown",
      "metadata": {
        "id": "tH7kz-nothuI"
      },
      "source": [
        "## **CNN 1D + LSTM - Conv1D-MaxPool-Conv1D-MaxPool-DropOut-Flatten-LSTM-DropOut-Dense-SoftMax with best parameters**"
      ]
    },
    {
      "cell_type": "code",
      "metadata": {
        "id": "TlfqLN-VJxCc"
      },
      "source": [
        "# define model\r\n",
        "model = Sequential()\r\n",
        "model.add(TimeDistributed(Conv1D(filters=96, kernel_size=3, activation='relu'), input_shape=(None,n_length,n_features)))\r\n",
        "model.add(TimeDistributed(MaxPooling1D(pool_size=2)))\r\n",
        "model.add(TimeDistributed(Conv1D(filters=128, kernel_size=3, activation='relu')))\r\n",
        "model.add(TimeDistributed(MaxPooling1D(pool_size=2)))\r\n",
        "model.add(TimeDistributed(Dropout(0.06)))\r\n",
        "model.add(TimeDistributed(Flatten()))\r\n",
        "model.add(LSTM(64 , return_sequences= True ))\r\n",
        "model.add(LSTM(64))\r\n",
        "model.add(Dropout(0.1))\r\n",
        "model.add(Dense(y_train.shape[1], activation = 'softmax'))\r\n"
      ],
      "execution_count": null,
      "outputs": []
    },
    {
      "cell_type": "code",
      "metadata": {
        "colab": {
          "base_uri": "https://localhost:8080/",
          "height": 1000
        },
        "id": "YAT5I3pjhM4C",
        "outputId": "17156761-b45e-43e3-8325-1d9a2ca61742"
      },
      "source": [
        "plot_model(model, to_file='model_plot_cnnlstm.png', show_shapes=True,rankdir = 'TB',expand_nested = False,  show_layer_names=False, show_dtype =False)"
      ],
      "execution_count": null,
      "outputs": [
        {
          "output_type": "execute_result",
          "data": {
            "image/png": "[encoded data removed]",
            "text/plain": [
              "<IPython.core.display.Image object>"
            ]
          },
          "metadata": {
            "tags": []
          },
          "execution_count": 19
        }
      ]
    },
    {
      "cell_type": "code",
      "metadata": {
        "id": "uM-pQpYSdV07"
      },
      "source": [
        "model.compile(Adam(),\r\n",
        "              loss=tf.keras.losses.categorical_crossentropy,\r\n",
        "              metrics=['acc'])"
      ],
      "execution_count": null,
      "outputs": []
    },
    {
      "cell_type": "code",
      "metadata": {
        "colab": {
          "base_uri": "https://localhost:8080/"
        },
        "id": "ApSDOlQ1deIT",
        "outputId": "dd56dda6-cdc5-4109-ba84-4478455c9854"
      },
      "source": [
        "history = model.fit(trainX,y_train, epochs=25, validation_data=(valX, y_val), verbose=1 , batch_size  = 64 )"
      ],
      "execution_count": null,
      "outputs": [
        {
          "output_type": "stream",
          "text": [
            "Epoch 1/25\n",
            "686/686 [==============================] - 15s 9ms/step - loss: 0.5484 - acc: 0.7667 - val_loss: 0.2672 - val_acc: 0.9016\n",
            "Epoch 2/25\n",
            "686/686 [==============================] - 5s 8ms/step - loss: 0.2651 - acc: 0.8996 - val_loss: 0.2236 - val_acc: 0.9176\n",
            "Epoch 3/25\n",
            "686/686 [==============================] - 5s 8ms/step - loss: 0.2155 - acc: 0.9199 - val_loss: 0.1754 - val_acc: 0.9362\n",
            "Epoch 4/25\n",
            "686/686 [==============================] - 5s 7ms/step - loss: 0.1768 - acc: 0.9349 - val_loss: 0.1743 - val_acc: 0.9317\n",
            "Epoch 5/25\n",
            "686/686 [==============================] - 5s 7ms/step - loss: 0.1535 - acc: 0.9411 - val_loss: 0.1667 - val_acc: 0.9399\n",
            "Epoch 6/25\n",
            "686/686 [==============================] - 5s 7ms/step - loss: 0.1321 - acc: 0.9507 - val_loss: 0.1309 - val_acc: 0.9535\n",
            "Epoch 7/25\n",
            "686/686 [==============================] - 5s 8ms/step - loss: 0.1145 - acc: 0.9571 - val_loss: 0.1275 - val_acc: 0.9572\n",
            "Epoch 8/25\n",
            "686/686 [==============================] - 5s 8ms/step - loss: 0.0994 - acc: 0.9643 - val_loss: 0.1167 - val_acc: 0.9566\n",
            "Epoch 9/25\n",
            "686/686 [==============================] - 5s 8ms/step - loss: 0.0912 - acc: 0.9657 - val_loss: 0.1305 - val_acc: 0.9527\n",
            "Epoch 10/25\n",
            "686/686 [==============================] - 6s 8ms/step - loss: 0.0893 - acc: 0.9671 - val_loss: 0.1173 - val_acc: 0.9598\n",
            "Epoch 11/25\n",
            "686/686 [==============================] - 5s 8ms/step - loss: 0.0879 - acc: 0.9670 - val_loss: 0.1135 - val_acc: 0.9600\n",
            "Epoch 12/25\n",
            "686/686 [==============================] - 5s 8ms/step - loss: 0.0816 - acc: 0.9701 - val_loss: 0.1041 - val_acc: 0.9623\n",
            "Epoch 13/25\n",
            "686/686 [==============================] - 5s 8ms/step - loss: 0.0777 - acc: 0.9720 - val_loss: 0.1091 - val_acc: 0.9592\n",
            "Epoch 14/25\n",
            "686/686 [==============================] - 5s 7ms/step - loss: 0.0758 - acc: 0.9725 - val_loss: 0.1026 - val_acc: 0.9632\n",
            "Epoch 15/25\n",
            "686/686 [==============================] - 5s 8ms/step - loss: 0.0698 - acc: 0.9756 - val_loss: 0.1226 - val_acc: 0.9594\n",
            "Epoch 16/25\n",
            "686/686 [==============================] - 5s 7ms/step - loss: 0.0610 - acc: 0.9784 - val_loss: 0.1180 - val_acc: 0.9547\n",
            "Epoch 17/25\n",
            "686/686 [==============================] - 5s 8ms/step - loss: 0.0679 - acc: 0.9737 - val_loss: 0.0903 - val_acc: 0.9694\n",
            "Epoch 18/25\n",
            "686/686 [==============================] - 5s 8ms/step - loss: 0.0595 - acc: 0.9780 - val_loss: 0.1027 - val_acc: 0.9659\n",
            "Epoch 19/25\n",
            "686/686 [==============================] - 5s 8ms/step - loss: 0.0608 - acc: 0.9776 - val_loss: 0.0903 - val_acc: 0.9685\n",
            "Epoch 20/25\n",
            "686/686 [==============================] - 5s 8ms/step - loss: 0.0537 - acc: 0.9802 - val_loss: 0.0990 - val_acc: 0.9636\n",
            "Epoch 21/25\n",
            "686/686 [==============================] - 5s 8ms/step - loss: 0.0567 - acc: 0.9788 - val_loss: 0.0977 - val_acc: 0.9661\n",
            "Epoch 22/25\n",
            "686/686 [==============================] - 5s 7ms/step - loss: 0.0545 - acc: 0.9798 - val_loss: 0.1192 - val_acc: 0.9579\n",
            "Epoch 23/25\n",
            "686/686 [==============================] - 5s 7ms/step - loss: 0.0568 - acc: 0.9795 - val_loss: 0.0862 - val_acc: 0.9702\n",
            "Epoch 24/25\n",
            "686/686 [==============================] - 5s 8ms/step - loss: 0.0504 - acc: 0.9813 - val_loss: 0.0973 - val_acc: 0.9662\n",
            "Epoch 25/25\n",
            "686/686 [==============================] - 5s 7ms/step - loss: 0.0530 - acc: 0.9814 - val_loss: 0.0964 - val_acc: 0.9705\n"
          ],
          "name": "stdout"
        }
      ]
    },
    {
      "cell_type": "markdown",
      "metadata": {
        "id": "Oky2uo7uxqvO"
      },
      "source": [
        "## **Evaluation - Metrics**"
      ]
    },
    {
      "cell_type": "code",
      "metadata": {
        "id": "y_cNHp3LxuRT"
      },
      "source": [
        "# Reverse activity encoding encodes index like 3 -> eating sandwich\r\n",
        "reverse_activity_encoding = {v: activity_map[k] for k, v in activity_encoding.items()}\r\n",
        "lstm_y_val_pred = model.predict(valX)\r\n",
        "\r\n",
        "y_val_argmax = y_val.argmax(axis=1)\r\n",
        "y_val_pred_argmax = lstm_y_val_pred.argmax(axis=1)\r\n",
        "\r\n",
        "lstm_actual_val_activities = [reverse_activity_encoding[i] for i in y_val_argmax]\r\n",
        "lstm_predicted_val_activities = [reverse_activity_encoding[i] for i in y_val_pred_argmax]\r\n",
        "\r\n",
        "##### Below is Final Test Set results ######\r\n",
        "lstm_y_test_pred = model.predict(testX)\r\n",
        "lstm_y_test_argmax = y_test.argmax(axis=1)\r\n",
        "\r\n",
        "lstm_y_test_pred_argmax = lstm_y_test_pred.argmax(axis=1)\r\n",
        "\r\n",
        "lstm_actual_test_activities = [reverse_activity_encoding[i] for i in lstm_y_test_argmax]\r\n",
        "lstm_predicted_test_activities = [reverse_activity_encoding[i] for i in lstm_y_test_pred_argmax]"
      ],
      "execution_count": null,
      "outputs": []
    },
    {
      "cell_type": "code",
      "metadata": {
        "colab": {
          "base_uri": "https://localhost:8080/"
        },
        "id": "Fkll4BIux58I",
        "outputId": "acd171dd-ca8b-4e4d-ff5a-414139f4d733"
      },
      "source": [
        "from sklearn.metrics import classification_report \r\n",
        "print(\"             SmartWatch Results with CNN-LSTM for Validation Set\\n\\n\" + classification_report(lstm_predicted_val_activities,lstm_actual_val_activities , digits = 4))\r\n",
        "print(\"             SmartWatch Results with CNN-LSTM for Test Set\\n\\n\" + classification_report(lstm_predicted_test_activities,lstm_actual_test_activities , digits = 4))"
      ],
      "execution_count": null,
      "outputs": [
        {
          "output_type": "stream",
          "text": [
            "             SmartWatch Results with CNN-LSTM for Validation Set\n",
            "\n",
            "                       precision    recall  f1-score   support\n",
            "\n",
            "  Ambulation Oriented     0.9749    0.9611    0.9680      4761\n",
            " Hand Oriented Eating     0.9558    0.9748    0.9652      4012\n",
            "Hand Oriented General     0.9774    0.9752    0.9763      5847\n",
            "\n",
            "             accuracy                         0.9705     14620\n",
            "            macro avg     0.9693    0.9704    0.9698     14620\n",
            "         weighted avg     0.9706    0.9705    0.9705     14620\n",
            "\n",
            "             SmartWatch Results with CNN-LSTM for Test Set\n",
            "\n",
            "                       precision    recall  f1-score   support\n",
            "\n",
            "  Ambulation Oriented     0.9711    0.9590    0.9650      4908\n",
            " Hand Oriented Eating     0.9534    0.9725    0.9628      3957\n",
            "Hand Oriented General     0.9763    0.9732    0.9748      5756\n",
            "\n",
            "             accuracy                         0.9683     14621\n",
            "            macro avg     0.9669    0.9682    0.9676     14621\n",
            "         weighted avg     0.9684    0.9683    0.9683     14621\n",
            "\n"
          ],
          "name": "stdout"
        }
      ]
    },
    {
      "cell_type": "code",
      "metadata": {
        "colab": {
          "base_uri": "https://localhost:8080/",
          "height": 404
        },
        "id": "u2sj4cNLx-KW",
        "outputId": "df342d14-93fd-4056-f146-ebedbd586a19"
      },
      "source": [
        "import seaborn as sns\r\n",
        "from sklearn.metrics import confusion_matrix\r\n",
        "lstm_cm = confusion_matrix(lstm_y_test_argmax, lstm_y_test_pred_argmax)\r\n",
        "df_cm = pd.DataFrame(lstm_cm, index = [reverse_activity_encoding[i] for i in range(3)], columns = [reverse_activity_encoding[i] for i in range(3)])\r\n",
        "#plt.figure(figsize = (12,12))\r\n",
        "plt.title('Smartwatch CNN-LSTM Confusion Matrix')\r\n",
        "sns.heatmap(df_cm, annot=True, fmt='g')"
      ],
      "execution_count": null,
      "outputs": [
        {
          "output_type": "execute_result",
          "data": {
            "text/plain": [
              "<matplotlib.axes._subplots.AxesSubplot at 0x7f1fbae30a58>"
            ]
          },
          "metadata": {
            "tags": []
          },
          "execution_count": 25
        },
        {
          "output_type": "display_data",
          "data": {
            "image/png": "[encoded data removed]",
            "text/plain": [
              "<Figure size 432x288 with 2 Axes>"
            ]
          },
          "metadata": {
            "tags": [],
            "needs_background": "light"
          }
        }
      ]
    },
    {
      "cell_type": "code",
      "metadata": {
        "colab": {
          "base_uri": "https://localhost:8080/",
          "height": 312
        },
        "id": "ff_8LeqbyKEK",
        "outputId": "aeb3f8a8-b7a9-4489-f43c-14aefb816a73"
      },
      "source": [
        "metrics_history = pd.DataFrame(history.history)\r\n",
        "metrics_history[['loss', 'val_loss' , 'acc' , 'val_acc']].plot(title = 'Model Accuracy & Loss CNN-LSTM' , xlabel = 'epoch' , ylabel = 'Accuracy & Loss') #loss = train loss, val_loss = validation Loss\r\n"
      ],
      "execution_count": null,
      "outputs": [
        {
          "output_type": "execute_result",
          "data": {
            "text/plain": [
              "<matplotlib.axes._subplots.AxesSubplot at 0x7f1fbb078518>"
            ]
          },
          "metadata": {
            "tags": []
          },
          "execution_count": 26
        },
        {
          "output_type": "display_data",
          "data": {
            "image/png": "[encoded data removed]",
            "text/plain": [
              "<Figure size 432x288 with 1 Axes>"
            ]
          },
          "metadata": {
            "tags": [],
            "needs_background": "light"
          }
        }
      ]
    },
    {
      "cell_type": "code",
      "metadata": {
        "id": "WrFGbJTWb6wL"
      },
      "source": [
        "def evaluate_model(trainX, y_train, testX, y_test):\r\n",
        "\t# define model\r\n",
        "# reshape data into time steps of sub-sequences\r\n",
        "  n_steps, n_length,n_features = 4,50,6\r\n",
        "  trainX = X_train.reshape((X_train.shape[0], n_steps, n_length, n_features))\r\n",
        "  valX = X_val.reshape((X_val.shape[0], n_steps, n_length, n_features))\r\n",
        "  testX = X_test.reshape((X_test.shape[0], n_steps, n_length, n_features))\r\n",
        "# define model\r\n",
        "# define model\r\n",
        "  model = Sequential()\r\n",
        "  model.add(TimeDistributed(Conv1D(filters=96, kernel_size=3, activation='relu'), input_shape=(None,n_length,n_features)))\r\n",
        "  model.add(TimeDistributed(MaxPooling1D(pool_size=2)))\r\n",
        "  model.add(TimeDistributed(Conv1D(filters=128, kernel_size=3, activation='relu')))\r\n",
        "  model.add(TimeDistributed(MaxPooling1D(pool_size=2)))\r\n",
        "  model.add(TimeDistributed(Dropout(0.06)))\r\n",
        "  model.add(TimeDistributed(Flatten()))\r\n",
        "  model.add(LSTM(64 , return_sequences= True ))\r\n",
        "  model.add(LSTM(64))\r\n",
        "  model.add(Dropout(0.1))\r\n",
        "  model.add(Dense(y_train.shape[1], activation = 'softmax'))\r\n",
        "  model.compile(Adam(),\r\n",
        "              loss=tf.keras.losses.categorical_crossentropy,\r\n",
        "              metrics=['acc'])\r\n",
        "# fit network\r\n",
        "  model.fit(trainX, y_train, epochs=25, batch_size=64, validation_data=(valX, y_val),verbose=0)\r\n",
        "# evaluate model\r\n",
        "  _, accuracy = model.evaluate(testX, y_test, batch_size=64, verbose=0)\r\n",
        "  return accuracy\r\n",
        " \r\n",
        "# summarize scores\r\n",
        "def summarize_results(scores):\r\n",
        "\tprint(scores)\r\n",
        "\tm, s = mean(scores), std(scores)\r\n",
        "\tprint('Accuracy: %.3f%% (+/-%.3f)' % (m, s))\r\n",
        " \r\n",
        "# run an experiment\r\n",
        "def run_experiment(repeats=10):\r\n",
        "\t# load data\r\n",
        "\t#trainX, trainy, testX, testy = load_dataset()\r\n",
        "\t# repeat experiment\r\n",
        "\tscores = list()\r\n",
        "\tfor r in range(repeats):\r\n",
        "\t\tscore = evaluate_model(trainX, y_train, testX, y_test)\r\n",
        "\t\tscore = score * 100.0\r\n",
        "\t\tprint('>#%d: %.3f' % (r+1, score))\r\n",
        "\t\tscores.append(score)\r\n",
        "\t# summarize results\r\n",
        "\tsummarize_results(scores)"
      ],
      "execution_count": null,
      "outputs": []
    },
    {
      "cell_type": "code",
      "metadata": {
        "colab": {
          "base_uri": "https://localhost:8080/"
        },
        "id": "TXtt8bfYwRk-",
        "outputId": "09d8e57d-6cb3-400d-f9e1-68088e0ba894"
      },
      "source": [
        "run_experiment()"
      ],
      "execution_count": null,
      "outputs": [
        {
          "output_type": "stream",
          "text": [
            ">#1: 95.705\n",
            ">#2: 96.409\n",
            ">#3: 95.602\n",
            ">#4: 96.190\n",
            ">#5: 96.013\n",
            ">#6: 96.826\n",
            ">#7: 96.143\n",
            ">#8: 96.655\n",
            ">#9: 96.170\n",
            ">#10: 96.143\n",
            "[95.70480585098267, 96.40927314758301, 95.60221433639526, 96.19041085243225, 96.01258635520935, 96.82648181915283, 96.14253640174866, 96.65549397468567, 96.16989493370056, 96.14253640174866]\n",
            "Accuracy: 96.186% (+/-0.359)\n"
          ],
          "name": "stdout"
        }
      ]
    },
    {
      "cell_type": "code",
      "metadata": {
        "id": "4M4NGf8zul22"
      },
      "source": [
        ""
      ],
      "execution_count": null,
      "outputs": []
    }
  ]
}