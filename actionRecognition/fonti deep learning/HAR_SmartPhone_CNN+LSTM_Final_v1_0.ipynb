{
  "nbformat": 4,
  "nbformat_minor": 0,
  "metadata": {
    "colab": {
      "name": " HAR SmartPhone CNN+LSTM Final v1.0.ipynb",
      "provenance": []
    },
    "kernelspec": {
      "name": "python3",
      "display_name": "Python 3"
    },
    "widgets": {
      "application/vnd.jupyter.widget-state+json": {
        "f0d5f65b9c5b4cf0b8c1ea70842e79fc": {
          "model_module": "@jupyter-widgets/controls",
          "model_name": "HBoxModel",
          "state": {
            "_view_name": "HBoxView",
            "_dom_classes": [],
            "_model_name": "HBoxModel",
            "_view_module": "@jupyter-widgets/controls",
            "_model_module_version": "1.5.0",
            "_view_count": null,
            "_view_module_version": "1.5.0",
            "box_style": "",
            "layout": "IPY_MODEL_cea336c20cd04a48bef9af13159181c8",
            "_model_module": "@jupyter-widgets/controls",
            "children": [
              "IPY_MODEL_d3ed2fb0e69f45d1ac2e1d68a6e07af6",
              "IPY_MODEL_cd912a57a6164d109984b8f07f947f6d"
            ]
          }
        },
        "cea336c20cd04a48bef9af13159181c8": {
          "model_module": "@jupyter-widgets/base",
          "model_name": "LayoutModel",
          "state": {
            "_view_name": "LayoutView",
            "grid_template_rows": null,
            "right": null,
            "justify_content": null,
            "_view_module": "@jupyter-widgets/base",
            "overflow": null,
            "_model_module_version": "1.2.0",
            "_view_count": null,
            "flex_flow": null,
            "width": null,
            "min_width": null,
            "border": null,
            "align_items": null,
            "bottom": null,
            "_model_module": "@jupyter-widgets/base",
            "top": null,
            "grid_column": null,
            "overflow_y": null,
            "overflow_x": null,
            "grid_auto_flow": null,
            "grid_area": null,
            "grid_template_columns": null,
            "flex": null,
            "_model_name": "LayoutModel",
            "justify_items": null,
            "grid_row": null,
            "max_height": null,
            "align_content": null,
            "visibility": null,
            "align_self": null,
            "height": null,
            "min_height": null,
            "padding": null,
            "grid_auto_rows": null,
            "grid_gap": null,
            "max_width": null,
            "order": null,
            "_view_module_version": "1.2.0",
            "grid_template_areas": null,
            "object_position": null,
            "object_fit": null,
            "grid_auto_columns": null,
            "margin": null,
            "display": null,
            "left": null
          }
        },
        "d3ed2fb0e69f45d1ac2e1d68a6e07af6": {
          "model_module": "@jupyter-widgets/controls",
          "model_name": "FloatProgressModel",
          "state": {
            "_view_name": "ProgressView",
            "style": "IPY_MODEL_f681438659f943a29463f4fa4791d3eb",
            "_dom_classes": [],
            "description": "100%",
            "_model_name": "FloatProgressModel",
            "bar_style": "success",
            "max": 95602,
            "_view_module": "@jupyter-widgets/controls",
            "_model_module_version": "1.5.0",
            "value": 95602,
            "_view_count": null,
            "_view_module_version": "1.5.0",
            "orientation": "horizontal",
            "min": 0,
            "description_tooltip": null,
            "_model_module": "@jupyter-widgets/controls",
            "layout": "IPY_MODEL_9a1fa0484e164327bbd6e2c9480079b0"
          }
        },
        "cd912a57a6164d109984b8f07f947f6d": {
          "model_module": "@jupyter-widgets/controls",
          "model_name": "HTMLModel",
          "state": {
            "_view_name": "HTMLView",
            "style": "IPY_MODEL_5061c52e7f6848f8a4c229b09fd6aaca",
            "_dom_classes": [],
            "description": "",
            "_model_name": "HTMLModel",
            "placeholder": "​",
            "_view_module": "@jupyter-widgets/controls",
            "_model_module_version": "1.5.0",
            "value": " 95602/95602 [03:21&lt;00:00, 473.53it/s]",
            "_view_count": null,
            "_view_module_version": "1.5.0",
            "description_tooltip": null,
            "_model_module": "@jupyter-widgets/controls",
            "layout": "IPY_MODEL_e40cd4ffdcd248eda7ff20c377c7e862"
          }
        },
        "f681438659f943a29463f4fa4791d3eb": {
          "model_module": "@jupyter-widgets/controls",
          "model_name": "ProgressStyleModel",
          "state": {
            "_view_name": "StyleView",
            "_model_name": "ProgressStyleModel",
            "description_width": "initial",
            "_view_module": "@jupyter-widgets/base",
            "_model_module_version": "1.5.0",
            "_view_count": null,
            "_view_module_version": "1.2.0",
            "bar_color": null,
            "_model_module": "@jupyter-widgets/controls"
          }
        },
        "9a1fa0484e164327bbd6e2c9480079b0": {
          "model_module": "@jupyter-widgets/base",
          "model_name": "LayoutModel",
          "state": {
            "_view_name": "LayoutView",
            "grid_template_rows": null,
            "right": null,
            "justify_content": null,
            "_view_module": "@jupyter-widgets/base",
            "overflow": null,
            "_model_module_version": "1.2.0",
            "_view_count": null,
            "flex_flow": null,
            "width": null,
            "min_width": null,
            "border": null,
            "align_items": null,
            "bottom": null,
            "_model_module": "@jupyter-widgets/base",
            "top": null,
            "grid_column": null,
            "overflow_y": null,
            "overflow_x": null,
            "grid_auto_flow": null,
            "grid_area": null,
            "grid_template_columns": null,
            "flex": null,
            "_model_name": "LayoutModel",
            "justify_items": null,
            "grid_row": null,
            "max_height": null,
            "align_content": null,
            "visibility": null,
            "align_self": null,
            "height": null,
            "min_height": null,
            "padding": null,
            "grid_auto_rows": null,
            "grid_gap": null,
            "max_width": null,
            "order": null,
            "_view_module_version": "1.2.0",
            "grid_template_areas": null,
            "object_position": null,
            "object_fit": null,
            "grid_auto_columns": null,
            "margin": null,
            "display": null,
            "left": null
          }
        },
        "5061c52e7f6848f8a4c229b09fd6aaca": {
          "model_module": "@jupyter-widgets/controls",
          "model_name": "DescriptionStyleModel",
          "state": {
            "_view_name": "StyleView",
            "_model_name": "DescriptionStyleModel",
            "description_width": "",
            "_view_module": "@jupyter-widgets/base",
            "_model_module_version": "1.5.0",
            "_view_count": null,
            "_view_module_version": "1.2.0",
            "_model_module": "@jupyter-widgets/controls"
          }
        },
        "e40cd4ffdcd248eda7ff20c377c7e862": {
          "model_module": "@jupyter-widgets/base",
          "model_name": "LayoutModel",
          "state": {
            "_view_name": "LayoutView",
            "grid_template_rows": null,
            "right": null,
            "justify_content": null,
            "_view_module": "@jupyter-widgets/base",
            "overflow": null,
            "_model_module_version": "1.2.0",
            "_view_count": null,
            "flex_flow": null,
            "width": null,
            "min_width": null,
            "border": null,
            "align_items": null,
            "bottom": null,
            "_model_module": "@jupyter-widgets/base",
            "top": null,
            "grid_column": null,
            "overflow_y": null,
            "overflow_x": null,
            "grid_auto_flow": null,
            "grid_area": null,
            "grid_template_columns": null,
            "flex": null,
            "_model_name": "LayoutModel",
            "justify_items": null,
            "grid_row": null,
            "max_height": null,
            "align_content": null,
            "visibility": null,
            "align_self": null,
            "height": null,
            "min_height": null,
            "padding": null,
            "grid_auto_rows": null,
            "grid_gap": null,
            "max_width": null,
            "order": null,
            "_view_module_version": "1.2.0",
            "grid_template_areas": null,
            "object_position": null,
            "object_fit": null,
            "grid_auto_columns": null,
            "margin": null,
            "display": null,
            "left": null
          }
        },
        "2a6ef8e244be4e8fa21bc95d745237e4": {
          "model_module": "@jupyter-widgets/controls",
          "model_name": "HBoxModel",
          "state": {
            "_view_name": "HBoxView",
            "_dom_classes": [],
            "_model_name": "HBoxModel",
            "_view_module": "@jupyter-widgets/controls",
            "_model_module_version": "1.5.0",
            "_view_count": null,
            "_view_module_version": "1.5.0",
            "box_style": "",
            "layout": "IPY_MODEL_cbdc033a7898482b92f70db54bb6cf97",
            "_model_module": "@jupyter-widgets/controls",
            "children": [
              "IPY_MODEL_70e44790bc484137abd0c1d4e9cb7ce7",
              "IPY_MODEL_af5e3db80b994094ac9b18a5f13bae60"
            ]
          }
        },
        "cbdc033a7898482b92f70db54bb6cf97": {
          "model_module": "@jupyter-widgets/base",
          "model_name": "LayoutModel",
          "state": {
            "_view_name": "LayoutView",
            "grid_template_rows": null,
            "right": null,
            "justify_content": null,
            "_view_module": "@jupyter-widgets/base",
            "overflow": null,
            "_model_module_version": "1.2.0",
            "_view_count": null,
            "flex_flow": null,
            "width": null,
            "min_width": null,
            "border": null,
            "align_items": null,
            "bottom": null,
            "_model_module": "@jupyter-widgets/base",
            "top": null,
            "grid_column": null,
            "overflow_y": null,
            "overflow_x": null,
            "grid_auto_flow": null,
            "grid_area": null,
            "grid_template_columns": null,
            "flex": null,
            "_model_name": "LayoutModel",
            "justify_items": null,
            "grid_row": null,
            "max_height": null,
            "align_content": null,
            "visibility": null,
            "align_self": null,
            "height": null,
            "min_height": null,
            "padding": null,
            "grid_auto_rows": null,
            "grid_gap": null,
            "max_width": null,
            "order": null,
            "_view_module_version": "1.2.0",
            "grid_template_areas": null,
            "object_position": null,
            "object_fit": null,
            "grid_auto_columns": null,
            "margin": null,
            "display": null,
            "left": null
          }
        },
        "70e44790bc484137abd0c1d4e9cb7ce7": {
          "model_module": "@jupyter-widgets/controls",
          "model_name": "FloatProgressModel",
          "state": {
            "_view_name": "ProgressView",
            "style": "IPY_MODEL_03ad298dab164e40a9bc7249a6991d59",
            "_dom_classes": [],
            "description": "100%",
            "_model_name": "FloatProgressModel",
            "bar_style": "success",
            "max": 94115,
            "_view_module": "@jupyter-widgets/controls",
            "_model_module_version": "1.5.0",
            "value": 94115,
            "_view_count": null,
            "_view_module_version": "1.5.0",
            "orientation": "horizontal",
            "min": 0,
            "description_tooltip": null,
            "_model_module": "@jupyter-widgets/controls",
            "layout": "IPY_MODEL_7c5b442c1e2342d4afe156f7a49b5051"
          }
        },
        "af5e3db80b994094ac9b18a5f13bae60": {
          "model_module": "@jupyter-widgets/controls",
          "model_name": "HTMLModel",
          "state": {
            "_view_name": "HTMLView",
            "style": "IPY_MODEL_a940bf0cd714432a9a8975cfe0c722de",
            "_dom_classes": [],
            "description": "",
            "_model_name": "HTMLModel",
            "placeholder": "​",
            "_view_module": "@jupyter-widgets/controls",
            "_model_module_version": "1.5.0",
            "value": " 94115/94115 [02:03&lt;00:00, 760.11it/s]",
            "_view_count": null,
            "_view_module_version": "1.5.0",
            "description_tooltip": null,
            "_model_module": "@jupyter-widgets/controls",
            "layout": "IPY_MODEL_68b2363861bb4712a827964476b24fd8"
          }
        },
        "03ad298dab164e40a9bc7249a6991d59": {
          "model_module": "@jupyter-widgets/controls",
          "model_name": "ProgressStyleModel",
          "state": {
            "_view_name": "StyleView",
            "_model_name": "ProgressStyleModel",
            "description_width": "initial",
            "_view_module": "@jupyter-widgets/base",
            "_model_module_version": "1.5.0",
            "_view_count": null,
            "_view_module_version": "1.2.0",
            "bar_color": null,
            "_model_module": "@jupyter-widgets/controls"
          }
        },
        "7c5b442c1e2342d4afe156f7a49b5051": {
          "model_module": "@jupyter-widgets/base",
          "model_name": "LayoutModel",
          "state": {
            "_view_name": "LayoutView",
            "grid_template_rows": null,
            "right": null,
            "justify_content": null,
            "_view_module": "@jupyter-widgets/base",
            "overflow": null,
            "_model_module_version": "1.2.0",
            "_view_count": null,
            "flex_flow": null,
            "width": null,
            "min_width": null,
            "border": null,
            "align_items": null,
            "bottom": null,
            "_model_module": "@jupyter-widgets/base",
            "top": null,
            "grid_column": null,
            "overflow_y": null,
            "overflow_x": null,
            "grid_auto_flow": null,
            "grid_area": null,
            "grid_template_columns": null,
            "flex": null,
            "_model_name": "LayoutModel",
            "justify_items": null,
            "grid_row": null,
            "max_height": null,
            "align_content": null,
            "visibility": null,
            "align_self": null,
            "height": null,
            "min_height": null,
            "padding": null,
            "grid_auto_rows": null,
            "grid_gap": null,
            "max_width": null,
            "order": null,
            "_view_module_version": "1.2.0",
            "grid_template_areas": null,
            "object_position": null,
            "object_fit": null,
            "grid_auto_columns": null,
            "margin": null,
            "display": null,
            "left": null
          }
        },
        "a940bf0cd714432a9a8975cfe0c722de": {
          "model_module": "@jupyter-widgets/controls",
          "model_name": "DescriptionStyleModel",
          "state": {
            "_view_name": "StyleView",
            "_model_name": "DescriptionStyleModel",
            "description_width": "",
            "_view_module": "@jupyter-widgets/base",
            "_model_module_version": "1.5.0",
            "_view_count": null,
            "_view_module_version": "1.2.0",
            "_model_module": "@jupyter-widgets/controls"
          }
        },
        "68b2363861bb4712a827964476b24fd8": {
          "model_module": "@jupyter-widgets/base",
          "model_name": "LayoutModel",
          "state": {
            "_view_name": "LayoutView",
            "grid_template_rows": null,
            "right": null,
            "justify_content": null,
            "_view_module": "@jupyter-widgets/base",
            "overflow": null,
            "_model_module_version": "1.2.0",
            "_view_count": null,
            "flex_flow": null,
            "width": null,
            "min_width": null,
            "border": null,
            "align_items": null,
            "bottom": null,
            "_model_module": "@jupyter-widgets/base",
            "top": null,
            "grid_column": null,
            "overflow_y": null,
            "overflow_x": null,
            "grid_auto_flow": null,
            "grid_area": null,
            "grid_template_columns": null,
            "flex": null,
            "_model_name": "LayoutModel",
            "justify_items": null,
            "grid_row": null,
            "max_height": null,
            "align_content": null,
            "visibility": null,
            "align_self": null,
            "height": null,
            "min_height": null,
            "padding": null,
            "grid_auto_rows": null,
            "grid_gap": null,
            "max_width": null,
            "order": null,
            "_view_module_version": "1.2.0",
            "grid_template_areas": null,
            "object_position": null,
            "object_fit": null,
            "grid_auto_columns": null,
            "margin": null,
            "display": null,
            "left": null
          }
        }
      }
    },
    "accelerator": "GPU"
  },
  "cells": [
    {
      "cell_type": "code",
      "metadata": {
        "id": "og0GRM4buWlk",
        "colab": {
          "base_uri": "https://localhost:8080/"
        },
        "outputId": "2acd2384-258d-4007-9864-28ab53ad4b03"
      },
      "source": [
        "from google.colab import drive \r\n",
        "drive.mount('/saurabh' , force_remount = True)"
      ],
      "execution_count": null,
      "outputs": [
        {
          "output_type": "stream",
          "text": [
            "Mounted at /saurabh\n"
          ],
          "name": "stdout"
        }
      ]
    },
    {
      "cell_type": "markdown",
      "metadata": {
        "id": "wP_X3DgApfeg"
      },
      "source": [
        "# **CNN+LSTM Hybrid Model for SmartPhone Dataset**"
      ]
    },
    {
      "cell_type": "markdown",
      "metadata": {
        "id": "jS6-VcbSp3Eg"
      },
      "source": [
        "## **Installing Optuna and OptKeras packages which will be used for tuning hyperparameters**"
      ]
    },
    {
      "cell_type": "code",
      "metadata": {
        "colab": {
          "base_uri": "https://localhost:8080/",
          "height": 1000
        },
        "id": "E10W-oBPodpZ",
        "outputId": "0126a87c-dd5e-4e65-812e-9a625187934c"
      },
      "source": [
        "!pip3 install optuna==0.14.0\r\n",
        "!pip3 install optkeras==0.0.7"
      ],
      "execution_count": null,
      "outputs": [
        {
          "output_type": "stream",
          "text": [
            "Collecting optuna==0.14.0\n",
            "\u001b[?25l  Downloading https://files.pythonhosted.org/packages/0c/dc/c10b179b9bbee133241049ee360cc3135b725e18380f1b7d5aced02f961e/optuna-0.14.0.tar.gz (91kB)\n",
            "\u001b[K     |████████████████████████████████| 92kB 6.8MB/s \n",
            "\u001b[?25hRequirement already satisfied: sqlalchemy>=1.1.0 in /usr/local/lib/python3.6/dist-packages (from optuna==0.14.0) (1.3.20)\n",
            "Requirement already satisfied: numpy in /usr/local/lib/python3.6/dist-packages (from optuna==0.14.0) (1.19.4)\n",
            "Requirement already satisfied: scipy in /usr/local/lib/python3.6/dist-packages (from optuna==0.14.0) (1.4.1)\n",
            "Requirement already satisfied: six in /usr/local/lib/python3.6/dist-packages (from optuna==0.14.0) (1.15.0)\n",
            "Collecting cliff\n",
            "\u001b[?25l  Downloading https://files.pythonhosted.org/packages/8a/61/5b64d73b01c1218f55c894b5ec0fb89b32c6960b7f7b3ad9f5ac0c373b9d/cliff-3.5.0-py3-none-any.whl (81kB)\n",
            "\u001b[K     |████████████████████████████████| 81kB 8.7MB/s \n",
            "\u001b[?25hCollecting colorlog\n",
            "  Downloading https://files.pythonhosted.org/packages/4e/c8/c16d30bbed11a1722060014c246d124582d1f781b26f5859d8dacc3e08e1/colorlog-4.6.2-py2.py3-none-any.whl\n",
            "Requirement already satisfied: pandas in /usr/local/lib/python3.6/dist-packages (from optuna==0.14.0) (1.1.5)\n",
            "Collecting alembic\n",
            "\u001b[?25l  Downloading https://files.pythonhosted.org/packages/12/aa/c261dfd7f4ba6ce4701846a2689a46e2a172e012171de4378fc2926e3bf0/alembic-1.4.3-py2.py3-none-any.whl (159kB)\n",
            "\u001b[K     |████████████████████████████████| 163kB 26.3MB/s \n",
            "\u001b[?25hCollecting typing\n",
            "\u001b[?25l  Downloading https://files.pythonhosted.org/packages/05/d9/6eebe19d46bd05360c9a9aae822e67a80f9242aabbfc58b641b957546607/typing-3.7.4.3.tar.gz (78kB)\n",
            "\u001b[K     |████████████████████████████████| 81kB 14.2MB/s \n",
            "\u001b[?25hRequirement already satisfied: PyYAML>=3.12 in /usr/local/lib/python3.6/dist-packages (from cliff->optuna==0.14.0) (3.13)\n",
            "Collecting stevedore>=2.0.1\n",
            "\u001b[?25l  Downloading https://files.pythonhosted.org/packages/d4/49/b602307aeac3df3384ff1fcd05da9c0376c622a6c48bb5325f28ab165b57/stevedore-3.3.0-py3-none-any.whl (49kB)\n",
            "\u001b[K     |████████████████████████████████| 51kB 9.6MB/s \n",
            "\u001b[?25hCollecting cmd2!=0.8.3,>=0.8.0\n",
            "\u001b[?25l  Downloading https://files.pythonhosted.org/packages/27/54/af6e2703f064485d717cb311d3f9440cd302a823ba6d80a020b59eae166d/cmd2-1.4.0-py3-none-any.whl (133kB)\n",
            "\u001b[K     |████████████████████████████████| 133kB 52.7MB/s \n",
            "\u001b[?25hCollecting PrettyTable<0.8,>=0.7.2\n",
            "  Downloading https://files.pythonhosted.org/packages/ef/30/4b0746848746ed5941f052479e7c23d2b56d174b82f4fd34a25e389831f5/prettytable-0.7.2.tar.bz2\n",
            "Collecting pbr!=2.1.0,>=2.0.0\n",
            "\u001b[?25l  Downloading https://files.pythonhosted.org/packages/fb/48/69046506f6ac61c1eaa9a0d42d22d54673b69e176d30ca98e3f61513e980/pbr-5.5.1-py2.py3-none-any.whl (106kB)\n",
            "\u001b[K     |████████████████████████████████| 112kB 54.2MB/s \n",
            "\u001b[?25hRequirement already satisfied: pyparsing>=2.1.0 in /usr/local/lib/python3.6/dist-packages (from cliff->optuna==0.14.0) (2.4.7)\n",
            "Requirement already satisfied: pytz>=2017.2 in /usr/local/lib/python3.6/dist-packages (from pandas->optuna==0.14.0) (2018.9)\n",
            "Requirement already satisfied: python-dateutil>=2.7.3 in /usr/local/lib/python3.6/dist-packages (from pandas->optuna==0.14.0) (2.8.1)\n",
            "Collecting python-editor>=0.3\n",
            "  Downloading https://files.pythonhosted.org/packages/c6/d3/201fc3abe391bbae6606e6f1d598c15d367033332bd54352b12f35513717/python_editor-1.0.4-py3-none-any.whl\n",
            "Collecting Mako\n",
            "\u001b[?25l  Downloading https://files.pythonhosted.org/packages/a6/37/0e706200d22172eb8fa17d68a7ae22dec7631a0a92266634fb518a88a5b2/Mako-1.1.3-py2.py3-none-any.whl (75kB)\n",
            "\u001b[K     |████████████████████████████████| 81kB 14.4MB/s \n",
            "\u001b[?25hRequirement already satisfied: importlib-metadata>=1.7.0; python_version < \"3.8\" in /usr/local/lib/python3.6/dist-packages (from stevedore>=2.0.1->cliff->optuna==0.14.0) (3.3.0)\n",
            "Requirement already satisfied: wcwidth>=0.1.7 in /usr/local/lib/python3.6/dist-packages (from cmd2!=0.8.3,>=0.8.0->cliff->optuna==0.14.0) (0.2.5)\n",
            "Collecting pyperclip>=1.6\n",
            "  Downloading https://files.pythonhosted.org/packages/6f/4c/0b1d507ad7e8bc31d690d04b4f475e74c2002d060f7994ce8c09612df707/pyperclip-1.8.1.tar.gz\n",
            "Requirement already satisfied: attrs>=16.3.0 in /usr/local/lib/python3.6/dist-packages (from cmd2!=0.8.3,>=0.8.0->cliff->optuna==0.14.0) (20.3.0)\n",
            "Collecting colorama>=0.3.7\n",
            "  Downloading https://files.pythonhosted.org/packages/44/98/5b86278fbbf250d239ae0ecb724f8572af1c91f4a11edf4d36a206189440/colorama-0.4.4-py2.py3-none-any.whl\n",
            "Requirement already satisfied: MarkupSafe>=0.9.2 in /usr/local/lib/python3.6/dist-packages (from Mako->alembic->optuna==0.14.0) (1.1.1)\n",
            "Requirement already satisfied: zipp>=0.5 in /usr/local/lib/python3.6/dist-packages (from importlib-metadata>=1.7.0; python_version < \"3.8\"->stevedore>=2.0.1->cliff->optuna==0.14.0) (3.4.0)\n",
            "Requirement already satisfied: typing-extensions>=3.6.4; python_version < \"3.8\" in /usr/local/lib/python3.6/dist-packages (from importlib-metadata>=1.7.0; python_version < \"3.8\"->stevedore>=2.0.1->cliff->optuna==0.14.0) (3.7.4.3)\n",
            "Building wheels for collected packages: optuna, typing, PrettyTable, pyperclip\n",
            "  Building wheel for optuna (setup.py) ... \u001b[?25l\u001b[?25hdone\n",
            "  Created wheel for optuna: filename=optuna-0.14.0-cp36-none-any.whl size=125712 sha256=4ec07f9f2a1752723d47f9d1488b63420c8757d0430cc128a7bacfffe27e14c7\n",
            "  Stored in directory: /root/.cache/pip/wheels/4f/5f/2b/3c699d0425d8f34f8a81dfebe30f4d2b9f19377f41c57dbae3\n",
            "  Building wheel for typing (setup.py) ... \u001b[?25l\u001b[?25hdone\n",
            "  Created wheel for typing: filename=typing-3.7.4.3-cp36-none-any.whl size=26310 sha256=3323dcc776fa7625bcb43242844548e49f6964204ddca9174e74bc11682fd118\n",
            "  Stored in directory: /root/.cache/pip/wheels/2d/04/41/8e1836e79581989c22eebac3f4e70aaac9af07b0908da173be\n",
            "  Building wheel for PrettyTable (setup.py) ... \u001b[?25l\u001b[?25hdone\n",
            "  Created wheel for PrettyTable: filename=prettytable-0.7.2-cp36-none-any.whl size=13702 sha256=7b34b91e50a283eac5487e1986939534ca48eabbff2859c3cf764bfad6ae24a0\n",
            "  Stored in directory: /root/.cache/pip/wheels/80/34/1c/3967380d9676d162cb59513bd9dc862d0584e045a162095606\n",
            "  Building wheel for pyperclip (setup.py) ... \u001b[?25l\u001b[?25hdone\n",
            "  Created wheel for pyperclip: filename=pyperclip-1.8.1-cp36-none-any.whl size=11120 sha256=4a7e522772f6d54226135fd38424e4cd5cb67169e46198f9e1773fa194d7b0d8\n",
            "  Stored in directory: /root/.cache/pip/wheels/44/10/3a/c830e9bb3db2c93274ea1f213a41fabde0d8cf3794251fad0c\n",
            "Successfully built optuna typing PrettyTable pyperclip\n",
            "Installing collected packages: pbr, stevedore, pyperclip, colorama, cmd2, PrettyTable, cliff, colorlog, python-editor, Mako, alembic, typing, optuna\n",
            "  Found existing installation: prettytable 2.0.0\n",
            "    Uninstalling prettytable-2.0.0:\n",
            "      Successfully uninstalled prettytable-2.0.0\n",
            "Successfully installed Mako-1.1.3 PrettyTable-0.7.2 alembic-1.4.3 cliff-3.5.0 cmd2-1.4.0 colorama-0.4.4 colorlog-4.6.2 optuna-0.14.0 pbr-5.5.1 pyperclip-1.8.1 python-editor-1.0.4 stevedore-3.3.0 typing-3.7.4.3\n"
          ],
          "name": "stdout"
        },
        {
          "output_type": "display_data",
          "data": {
            "application/vnd.colab-display-data+json": {
              "pip_warning": {
                "packages": [
                  "typing"
                ]
              }
            }
          },
          "metadata": {
            "tags": []
          }
        },
        {
          "output_type": "stream",
          "text": [
            "Collecting optkeras==0.0.7\n",
            "  Downloading https://files.pythonhosted.org/packages/c2/e3/51dca48c141c8c461a01c0d1fabe33ded992abfe9ec3c0a899e64a7834ab/optkeras-0.0.7-py3-none-any.whl\n",
            "Requirement already satisfied: numpy in /usr/local/lib/python3.6/dist-packages (from optkeras==0.0.7) (1.19.4)\n",
            "Requirement already satisfied: optuna>=0.9.0 in /usr/local/lib/python3.6/dist-packages (from optkeras==0.0.7) (0.14.0)\n",
            "Requirement already satisfied: keras in /usr/local/lib/python3.6/dist-packages (from optkeras==0.0.7) (2.4.3)\n",
            "Requirement already satisfied: scipy in /usr/local/lib/python3.6/dist-packages (from optuna>=0.9.0->optkeras==0.0.7) (1.4.1)\n",
            "Requirement already satisfied: alembic in /usr/local/lib/python3.6/dist-packages (from optuna>=0.9.0->optkeras==0.0.7) (1.4.3)\n",
            "Requirement already satisfied: pandas in /usr/local/lib/python3.6/dist-packages (from optuna>=0.9.0->optkeras==0.0.7) (1.1.5)\n",
            "Requirement already satisfied: typing in /usr/local/lib/python3.6/dist-packages (from optuna>=0.9.0->optkeras==0.0.7) (3.7.4.3)\n",
            "Requirement already satisfied: sqlalchemy>=1.1.0 in /usr/local/lib/python3.6/dist-packages (from optuna>=0.9.0->optkeras==0.0.7) (1.3.20)\n",
            "Requirement already satisfied: six in /usr/local/lib/python3.6/dist-packages (from optuna>=0.9.0->optkeras==0.0.7) (1.15.0)\n",
            "Requirement already satisfied: cliff in /usr/local/lib/python3.6/dist-packages (from optuna>=0.9.0->optkeras==0.0.7) (3.5.0)\n",
            "Requirement already satisfied: colorlog in /usr/local/lib/python3.6/dist-packages (from optuna>=0.9.0->optkeras==0.0.7) (4.6.2)\n",
            "Requirement already satisfied: h5py in /usr/local/lib/python3.6/dist-packages (from keras->optkeras==0.0.7) (2.10.0)\n",
            "Requirement already satisfied: pyyaml in /usr/local/lib/python3.6/dist-packages (from keras->optkeras==0.0.7) (3.13)\n",
            "Requirement already satisfied: python-dateutil in /usr/local/lib/python3.6/dist-packages (from alembic->optuna>=0.9.0->optkeras==0.0.7) (2.8.1)\n",
            "Requirement already satisfied: python-editor>=0.3 in /usr/local/lib/python3.6/dist-packages (from alembic->optuna>=0.9.0->optkeras==0.0.7) (1.0.4)\n",
            "Requirement already satisfied: Mako in /usr/local/lib/python3.6/dist-packages (from alembic->optuna>=0.9.0->optkeras==0.0.7) (1.1.3)\n",
            "Requirement already satisfied: pytz>=2017.2 in /usr/local/lib/python3.6/dist-packages (from pandas->optuna>=0.9.0->optkeras==0.0.7) (2018.9)\n",
            "Requirement already satisfied: pbr!=2.1.0,>=2.0.0 in /usr/local/lib/python3.6/dist-packages (from cliff->optuna>=0.9.0->optkeras==0.0.7) (5.5.1)\n",
            "Requirement already satisfied: pyparsing>=2.1.0 in /usr/local/lib/python3.6/dist-packages (from cliff->optuna>=0.9.0->optkeras==0.0.7) (2.4.7)\n",
            "Requirement already satisfied: cmd2!=0.8.3,>=0.8.0 in /usr/local/lib/python3.6/dist-packages (from cliff->optuna>=0.9.0->optkeras==0.0.7) (1.4.0)\n",
            "Requirement already satisfied: PrettyTable<0.8,>=0.7.2 in /usr/local/lib/python3.6/dist-packages (from cliff->optuna>=0.9.0->optkeras==0.0.7) (0.7.2)\n",
            "Requirement already satisfied: stevedore>=2.0.1 in /usr/local/lib/python3.6/dist-packages (from cliff->optuna>=0.9.0->optkeras==0.0.7) (3.3.0)\n",
            "Requirement already satisfied: MarkupSafe>=0.9.2 in /usr/local/lib/python3.6/dist-packages (from Mako->alembic->optuna>=0.9.0->optkeras==0.0.7) (1.1.1)\n",
            "Requirement already satisfied: attrs>=16.3.0 in /usr/local/lib/python3.6/dist-packages (from cmd2!=0.8.3,>=0.8.0->cliff->optuna>=0.9.0->optkeras==0.0.7) (20.3.0)\n",
            "Requirement already satisfied: importlib-metadata>=1.6.0; python_version < \"3.8\" in /usr/local/lib/python3.6/dist-packages (from cmd2!=0.8.3,>=0.8.0->cliff->optuna>=0.9.0->optkeras==0.0.7) (3.3.0)\n",
            "Requirement already satisfied: pyperclip>=1.6 in /usr/local/lib/python3.6/dist-packages (from cmd2!=0.8.3,>=0.8.0->cliff->optuna>=0.9.0->optkeras==0.0.7) (1.8.1)\n",
            "Requirement already satisfied: wcwidth>=0.1.7 in /usr/local/lib/python3.6/dist-packages (from cmd2!=0.8.3,>=0.8.0->cliff->optuna>=0.9.0->optkeras==0.0.7) (0.2.5)\n",
            "Requirement already satisfied: colorama>=0.3.7 in /usr/local/lib/python3.6/dist-packages (from cmd2!=0.8.3,>=0.8.0->cliff->optuna>=0.9.0->optkeras==0.0.7) (0.4.4)\n",
            "Requirement already satisfied: typing-extensions>=3.6.4; python_version < \"3.8\" in /usr/local/lib/python3.6/dist-packages (from importlib-metadata>=1.6.0; python_version < \"3.8\"->cmd2!=0.8.3,>=0.8.0->cliff->optuna>=0.9.0->optkeras==0.0.7) (3.7.4.3)\n",
            "Requirement already satisfied: zipp>=0.5 in /usr/local/lib/python3.6/dist-packages (from importlib-metadata>=1.6.0; python_version < \"3.8\"->cmd2!=0.8.3,>=0.8.0->cliff->optuna>=0.9.0->optkeras==0.0.7) (3.4.0)\n",
            "Installing collected packages: optkeras\n",
            "Successfully installed optkeras-0.0.7\n"
          ],
          "name": "stdout"
        }
      ]
    },
    {
      "cell_type": "markdown",
      "metadata": {
        "id": "Y3dnV15XqEFw"
      },
      "source": [
        "## **Importing the required libraries**"
      ]
    },
    {
      "cell_type": "code",
      "metadata": {
        "id": "77gZkQASu06j",
        "colab": {
          "base_uri": "https://localhost:8080/"
        },
        "outputId": "a54a17bb-12af-4066-f9fc-c7d99b517ac5"
      },
      "source": [
        "import os\r\n",
        "import statistics\r\n",
        "import csv\r\n",
        "import itertools\r\n",
        "import tensorflow as tf\r\n",
        "import keras\r\n",
        "\r\n",
        "import pandas as pd\r\n",
        "import numpy as np\r\n",
        "import datetime as dt\r\n",
        "import matplotlib.pyplot as plt\r\n",
        "import seaborn as sn\r\n",
        "\r\n",
        "from tqdm import tqdm_notebook as tqdm\r\n",
        "\r\n",
        "from sklearn.model_selection import train_test_split\r\n",
        "from sklearn.metrics import classification_report, confusion_matrix\r\n",
        "from sklearn.preprocessing import StandardScaler\r\n",
        "from keras.models import Sequential\r\n",
        "from keras.layers import *\r\n",
        "from keras.utils import to_categorical\r\n",
        "from keras.optimizers import Adam\r\n",
        "from keras.utils.vis_utils import plot_model\r\n",
        "import optuna \r\n",
        "print('Optuna', optuna.__version__)\r\n",
        "\r\n",
        "from optkeras.optkeras import OptKeras\r\n",
        "import optkeras\r\n",
        "print('OptKeras', optkeras.__version__)\r\n",
        "\r\n",
        "# (Optional) Disable messages from Optuna below WARN level.\r\n",
        "optuna.logging.set_verbosity(optuna.logging.WARN)\r\n",
        "from numpy import mean\r\n",
        "from numpy import std\r\n"
      ],
      "execution_count": null,
      "outputs": [
        {
          "output_type": "stream",
          "text": [
            "Optuna 0.14.0\n",
            "OptKeras 0.0.7\n"
          ],
          "name": "stdout"
        }
      ]
    },
    {
      "cell_type": "code",
      "metadata": {
        "colab": {
          "base_uri": "https://localhost:8080/"
        },
        "id": "Jueep5u0vDc4",
        "outputId": "e4a82828-a545-41fd-874d-2f2ad4b6a791"
      },
      "source": [
        "cd /saurabh/My Drive/Datasets/har/wisdm-dataset/"
      ],
      "execution_count": null,
      "outputs": [
        {
          "output_type": "stream",
          "text": [
            "/saurabh/My Drive/Datasets/har/wisdm-dataset\n"
          ],
          "name": "stdout"
        }
      ]
    },
    {
      "cell_type": "code",
      "metadata": {
        "colab": {
          "base_uri": "https://localhost:8080/"
        },
        "id": "e9Il_KJ7vESR",
        "outputId": "fe130027-d9ba-4474-9e9f-f627c7aa7fe7"
      },
      "source": [
        "ls"
      ],
      "execution_count": null,
      "outputs": [
        {
          "output_type": "stream",
          "text": [
            "activity_key.txt             HARWatchGRU_Optuna.csv\n",
            "\u001b[0m\u001b[01;34marff_files\u001b[0m/                  \u001b[01;34minception\u001b[0m/\n",
            "\u001b[01;34marffmagic-master\u001b[0m/            model1_plot.png\n",
            "change_raw_act.pl            model_plot2.png\n",
            "\u001b[01;34mdata\u001b[0m/                        model_plot3.png\n",
            "\u001b[01;34mdeepconvlstm\u001b[0m/                model_plot4.png\n",
            "HAR_Simple_Keras.csv         model_plot_cnnlstm.png\n",
            "HAR_Simple_model_000003.h5   model_plot.png\n",
            "HAR_Simple_Optuna.csv        multichannel.png\n",
            "HARTrain1_Keras.csv          phone.df\n",
            "HARTrain1_model_000013.h5    \u001b[01;34mraw\u001b[0m/\n",
            "HARTrain1_Optuna.csv         README.txt\n",
            "HARTrain_Keras.csv           \u001b[01;34mresnet\u001b[0m/\n",
            "HARTrain_Optuna.csv          watch.df\n",
            "HARWatchGRU_Keras.csv        WISDM-dataset-description.pdf\n",
            "HARWatchGRU_model_000000.h5\n"
          ],
          "name": "stdout"
        }
      ]
    },
    {
      "cell_type": "markdown",
      "metadata": {
        "id": "2qWFDry-q6ls"
      },
      "source": [
        "## **Loading the watch dataset which was saved in the preprocessing stage**"
      ]
    },
    {
      "cell_type": "code",
      "metadata": {
        "id": "6qEHmaUIqnHO"
      },
      "source": [
        "phone = pd.read_pickle('phone.df')"
      ],
      "execution_count": null,
      "outputs": []
    },
    {
      "cell_type": "code",
      "metadata": {
        "colab": {
          "base_uri": "https://localhost:8080/"
        },
        "id": "mxxezkU6qnTU",
        "outputId": "51fa6236-f0c8-41ec-c369-a7c13d14fc5b"
      },
      "source": [
        "phone.shape"
      ],
      "execution_count": null,
      "outputs": [
        {
          "output_type": "execute_result",
          "data": {
            "text/plain": [
              "(4780251, 9)"
            ]
          },
          "metadata": {
            "tags": []
          },
          "execution_count": 7
        }
      ]
    },
    {
      "cell_type": "markdown",
      "metadata": {
        "id": "OUBwi4DUrbIp"
      },
      "source": [
        "## **Mapping the 18 activities into 3 Groups**"
      ]
    },
    {
      "cell_type": "code",
      "metadata": {
        "id": "54Ysm3t-YzcS"
      },
      "source": [
        "def activity_mapper(activity):\r\n",
        "    if(activity in ['A', 'B', 'C', 'D', 'E', 'M']):\r\n",
        "        return 0\r\n",
        "    elif(activity in ['P', 'O', 'F', 'Q', 'R','G', 'S']):\r\n",
        "        return 1\r\n",
        "    else:\r\n",
        "        return 2\r\n",
        "phone['activity'] = phone['activity'].apply(activity_mapper)"
      ],
      "execution_count": null,
      "outputs": []
    },
    {
      "cell_type": "code",
      "metadata": {
        "colab": {
          "base_uri": "https://localhost:8080/"
        },
        "id": "0XUvO9dqrscL",
        "outputId": "f1f05f47-0289-49e6-b184-e8902406c8ef"
      },
      "source": [
        "phone.activity.value_counts()"
      ],
      "execution_count": null,
      "outputs": [
        {
          "output_type": "execute_result",
          "data": {
            "text/plain": [
              "1    1843466\n",
              "0    1614563\n",
              "2    1322222\n",
              "Name: activity, dtype: int64"
            ]
          },
          "metadata": {
            "tags": []
          },
          "execution_count": 9
        }
      ]
    },
    {
      "cell_type": "code",
      "metadata": {
        "id": "BTLC7LMDYzfb"
      },
      "source": [
        "activity_map = {\r\n",
        "    0: 'Ambulation Oriented',\r\n",
        "    1: 'Hand Oriented General',\r\n",
        "    2: 'Hand Oriented Eating'\r\n",
        "}"
      ],
      "execution_count": null,
      "outputs": []
    },
    {
      "cell_type": "code",
      "metadata": {
        "id": "QfQ6iyqCYzlb"
      },
      "source": [
        "activities = sorted(activity_map.keys())\r\n",
        "activity_encoding = {v: k for k, v in enumerate(activities)}\r\n"
      ],
      "execution_count": null,
      "outputs": []
    },
    {
      "cell_type": "markdown",
      "metadata": {
        "id": "LBxh__n6r2aX"
      },
      "source": [
        "## **Data Transformation using a sliding windows of 10 seconds = 200 (10 * 20) data points and stride of 50**"
      ]
    },
    {
      "cell_type": "code",
      "metadata": {
        "colab": {
          "base_uri": "https://localhost:8080/",
          "height": 153,
          "referenced_widgets": [
            "f0d5f65b9c5b4cf0b8c1ea70842e79fc",
            "cea336c20cd04a48bef9af13159181c8",
            "d3ed2fb0e69f45d1ac2e1d68a6e07af6",
            "cd912a57a6164d109984b8f07f947f6d",
            "f681438659f943a29463f4fa4791d3eb",
            "9a1fa0484e164327bbd6e2c9480079b0",
            "5061c52e7f6848f8a4c229b09fd6aaca",
            "e40cd4ffdcd248eda7ff20c377c7e862"
          ]
        },
        "id": "5nPVDjL0q1Hg",
        "outputId": "397aa924-2f97-442b-b820-d80d6cb1015c"
      },
      "source": [
        "window_size = 200\r\n",
        "stride = 50\r\n",
        "frames = []\r\n",
        "for i in tqdm(range(0, len(phone)-window_size, stride)):\r\n",
        "    window = phone.iloc[i:i+window_size]\r\n",
        "    if window['activity'].nunique() == 1:\r\n",
        "      frames.append(window)"
      ],
      "execution_count": null,
      "outputs": [
        {
          "output_type": "stream",
          "text": [
            "/usr/local/lib/python3.6/dist-packages/ipykernel_launcher.py:4: TqdmDeprecationWarning:\n",
            "\n",
            "This function will be removed in tqdm==5.0.0\n",
            "Please use `tqdm.notebook.tqdm` instead of `tqdm.tqdm_notebook`\n",
            "\n"
          ],
          "name": "stderr"
        },
        {
          "output_type": "display_data",
          "data": {
            "application/vnd.jupyter.widget-view+json": {
              "model_id": "f0d5f65b9c5b4cf0b8c1ea70842e79fc",
              "version_minor": 0,
              "version_major": 2
            },
            "text/plain": [
              "HBox(children=(FloatProgress(value=0.0, max=95602.0), HTML(value='')))"
            ]
          },
          "metadata": {
            "tags": []
          }
        },
        {
          "output_type": "stream",
          "text": [
            "\n"
          ],
          "name": "stdout"
        }
      ]
    },
    {
      "cell_type": "code",
      "metadata": {
        "colab": {
          "base_uri": "https://localhost:8080/",
          "height": 153,
          "referenced_widgets": [
            "2a6ef8e244be4e8fa21bc95d745237e4",
            "cbdc033a7898482b92f70db54bb6cf97",
            "70e44790bc484137abd0c1d4e9cb7ce7",
            "af5e3db80b994094ac9b18a5f13bae60",
            "03ad298dab164e40a9bc7249a6991d59",
            "7c5b442c1e2342d4afe156f7a49b5051",
            "a940bf0cd714432a9a8975cfe0c722de",
            "68b2363861bb4712a827964476b24fd8"
          ]
        },
        "id": "YZTZKFmj36iF",
        "outputId": "53676491-a7d7-462e-8ac4-c5a118681bbf"
      },
      "source": [
        "#activities = sorted(act_map.keys())\r\n",
        "#activity_encoding = {v: k for k, v in enumerate(activities)}\r\n",
        "\r\n",
        "X_list = []\r\n",
        "y_list = []\r\n",
        "\r\n",
        "#for each frame replace label with activity\r\n",
        "for frame in tqdm(frames):\r\n",
        "    X_list.append(frame[['phone_accel_x', 'phone_accel_y', 'phone_accel_z', 'phone_gyro_x', 'phone_gyro_y', 'phone_gyro_z']].values)\r\n",
        "    y_list.append(activity_encoding[frame.iloc[0]['activity']])\r\n",
        "    #y_list.append(frame.iloc[0][['activity']].values)"
      ],
      "execution_count": null,
      "outputs": [
        {
          "output_type": "stream",
          "text": [
            "/usr/local/lib/python3.6/dist-packages/ipykernel_launcher.py:8: TqdmDeprecationWarning:\n",
            "\n",
            "This function will be removed in tqdm==5.0.0\n",
            "Please use `tqdm.notebook.tqdm` instead of `tqdm.tqdm_notebook`\n",
            "\n"
          ],
          "name": "stderr"
        },
        {
          "output_type": "display_data",
          "data": {
            "application/vnd.jupyter.widget-view+json": {
              "model_id": "2a6ef8e244be4e8fa21bc95d745237e4",
              "version_minor": 0,
              "version_major": 2
            },
            "text/plain": [
              "HBox(children=(FloatProgress(value=0.0, max=94115.0), HTML(value='')))"
            ]
          },
          "metadata": {
            "tags": []
          }
        },
        {
          "output_type": "stream",
          "text": [
            "\n"
          ],
          "name": "stdout"
        }
      ]
    },
    {
      "cell_type": "code",
      "metadata": {
        "id": "YyRvRBnpcInM"
      },
      "source": [
        "X = np.array(X_list)\r\n",
        "y = np.array(to_categorical(y_list))"
      ],
      "execution_count": null,
      "outputs": []
    },
    {
      "cell_type": "code",
      "metadata": {
        "colab": {
          "base_uri": "https://localhost:8080/"
        },
        "id": "67KAS8FVu8IN",
        "outputId": "657aa96f-6d26-4418-8d40-3231466dbc48"
      },
      "source": [
        "print(X.shape)\r\n",
        "print(y.shape)"
      ],
      "execution_count": null,
      "outputs": [
        {
          "output_type": "stream",
          "text": [
            "(94115, 200, 6)\n",
            "(94115, 3)\n"
          ],
          "name": "stdout"
        }
      ]
    },
    {
      "cell_type": "code",
      "metadata": {
        "colab": {
          "base_uri": "https://localhost:8080/"
        },
        "id": "KOx51zyUcKd1",
        "outputId": "9f272e98-af38-4092-8301-3ff5f8794f8f"
      },
      "source": [
        "print(X.shape[1:])"
      ],
      "execution_count": null,
      "outputs": [
        {
          "output_type": "stream",
          "text": [
            "(200, 6)\n"
          ],
          "name": "stdout"
        }
      ]
    },
    {
      "cell_type": "markdown",
      "metadata": {
        "id": "GimQ56yVs7dh"
      },
      "source": [
        "## **Data Splitting  60:20:20**"
      ]
    },
    {
      "cell_type": "code",
      "metadata": {
        "colab": {
          "base_uri": "https://localhost:8080/"
        },
        "id": "sYt4Q6e0cMzd",
        "outputId": "c5992571-914b-49df-ad03-39ec904fd423"
      },
      "source": [
        "#data split: as informed by slides split for 30,000 examples \r\n",
        "#our example is a window and coming from a big expansive amount of data\r\n",
        "#5 second split based on papers using 5 sec split. We can play with this \r\n",
        "\r\n",
        "X_train, X_valtest, y_train, y_valtest = train_test_split(X, y, test_size=0.4, random_state=42)\r\n",
        "X_val, X_test, y_val, y_test = train_test_split(X_valtest, y_valtest, test_size=0.5, random_state=42)\r\n",
        "\r\n",
        "#train\r\n",
        "print(\"X_train: \",X_train.shape)\r\n",
        "\r\n",
        "#dev\r\n",
        "print(\"X_val: \",X_val.shape)\r\n",
        "\r\n",
        "#test\r\n",
        "print(\"X_test: \",X_test.shape)\r\n",
        "\r\n",
        "print(\"Y_train: \",y_train.shape)\r\n",
        "print(\"Y_val: \",y_val.shape)\r\n",
        "print(\"Y_test: \",y_test.shape)"
      ],
      "execution_count": null,
      "outputs": [
        {
          "output_type": "stream",
          "text": [
            "X_train:  (56469, 200, 6)\n",
            "X_val:  (18823, 200, 6)\n",
            "X_test:  (18823, 200, 6)\n",
            "Y_train:  (56469, 3)\n",
            "Y_val:  (18823, 3)\n",
            "Y_test:  (18823, 3)\n"
          ],
          "name": "stdout"
        }
      ]
    },
    {
      "cell_type": "code",
      "metadata": {
        "id": "-92HgovyKG6F"
      },
      "source": [
        "# reshape data into time steps of sub-sequences\r\n",
        "n_steps, n_length,n_features = 4,50,6\r\n",
        "trainX = X_train.reshape((X_train.shape[0], n_steps, n_length, n_features))\r\n",
        "valX = X_val.reshape((X_val.shape[0], n_steps, n_length, n_features))\r\n",
        "testX = X_test.reshape((X_test.shape[0], n_steps, n_length, n_features))"
      ],
      "execution_count": null,
      "outputs": []
    },
    {
      "cell_type": "markdown",
      "metadata": {
        "id": "V8NZalLEIHEg"
      },
      "source": [
        "## **Hyperparameter Optimization Using OptKeras which is based on Optuna - Bayesian Optimization**"
      ]
    },
    {
      "cell_type": "code",
      "metadata": {
        "colab": {
          "base_uri": "https://localhost:8080/"
        },
        "id": "GWRjdPsSIDZE",
        "outputId": "7a26a81f-bdf2-46bd-e0fa-d28cbf8782f9"
      },
      "source": [
        "study_name = 'HAR' + 'Train1'\r\n",
        "\r\n",
        "\"\"\" Step 1. Instantiate OptKeras class\r\n",
        "You can specify arguments for Optuna's create_study method and other arguments \r\n",
        "for OptKeras such as enable_pruning. \r\n",
        "\"\"\"\r\n",
        "\r\n",
        "ok = OptKeras(study_name=study_name,\r\n",
        "              monitor='val_acc',\r\n",
        "              direction='maximize')\r\n",
        "\r\n",
        "\r\n",
        "\"\"\" Step 2. Define objective function for Optuna \"\"\"\r\n",
        "\r\n",
        "def objective(trial):\r\n",
        "    \r\n",
        "    \"\"\" Step 2.1. Define parameters to try using methods of optuna.trial such as \r\n",
        "    suggest_categorical. In this simple demo, try 2*2*2*2 = 16 parameter sets: \r\n",
        "    2 values specified in list for each of 4 parameters \r\n",
        "    (filters, kernel_size, strides, and activation for convolution).\r\n",
        "    \"\"\"    \r\n",
        "    model = Sequential()\r\n",
        "    model.add(TimeDistributed(Conv1D(filters=trial.suggest_categorical('filters1', [32,64,96,128]), kernel_size=3, activation='relu'), input_shape=(None,n_length,n_features)))\r\n",
        "    model.add(TimeDistributed(MaxPooling1D(pool_size=2)))\r\n",
        "    model.add(TimeDistributed(Conv1D(filters=trial.suggest_categorical('filters2', [32,64,96,128]), kernel_size=3, activation='relu')))\r\n",
        "    model.add(TimeDistributed(MaxPooling1D(pool_size=2)))\r\n",
        "    model.add(TimeDistributed(Dropout(rate = trial.suggest_categorical('drop1', [0.05,0.06,0.07,0.08]))))\r\n",
        "    model.add(TimeDistributed(Flatten()))\r\n",
        "    model.add(LSTM(64 , return_sequences = True))\r\n",
        "    model.add(LSTM(64))\r\n",
        "    model.add(Dropout(rate = trial.suggest_categorical('drop2', [0.1,0.2,0.3,0.4])))\r\n",
        "    model.add(Dense(y_train.shape[1], activation = 'softmax'))\r\n",
        "    \r\n",
        "    \"\"\" Step 2.2. Specify callbacks(trial) and keras_verbose in fit \r\n",
        "    (or fit_generator) method of Keras model\r\n",
        "    \"\"\"\r\n",
        "    model.compile(Adam(),loss=tf.keras.losses.categorical_crossentropy,metrics=['acc'])\r\n",
        "    model.fit(trainX,y_train, \r\n",
        "              validation_data=(valX, y_val), shuffle=True,\r\n",
        "              batch_size=64, epochs=10,\r\n",
        "              callbacks=ok.callbacks(trial),\r\n",
        "              verbose=ok.keras_verbose )\r\n",
        "    \r\n",
        "    \r\n",
        "    \"\"\" Step 2.3. Return trial_best_value (or latest_value) \"\"\"\r\n",
        "    return ok.trial_best_value\r\n",
        "\r\n",
        "\"\"\" Step 3. Run optimize. \r\n",
        "Set n_trials and/or timeout (in sec) for optimization by Optuna\r\n",
        "\"\"\"\r\n",
        "ok.optimize(objective, timeout = 900) "
      ],
      "execution_count": null,
      "outputs": [
        {
          "output_type": "stream",
          "text": [
            "[2020-12-27 02:58:33.741355] [OptKeras] Ready for optimization. (message printed as verbose is set to 1+)\n",
            "[2020-12-27 02:58:34.431749]  (None) \n",
            "WARNING:tensorflow:`period` argument is deprecated. Please use `save_freq` to specify the frequency in number of batches seen.\n",
            "[2020-12-27 02:59:30.457380] Trial#: 0, value: 8.601711e-01| Best trial#: 0, value: 8.601711e-01, params: {'filters1': 32, 'filters2': 64, 'drop1': 0.06, 'drop2': 0.4}\n",
            "WARNING:tensorflow:`period` argument is deprecated. Please use `save_freq` to specify the frequency in number of batches seen.\n",
            "[2020-12-27 03:00:27.132832] Trial#: 1, value: 8.579929e-01| Best trial#: 0, value: 8.601711e-01, params: {'filters1': 32, 'filters2': 64, 'drop1': 0.06, 'drop2': 0.4}\n",
            "WARNING:tensorflow:`period` argument is deprecated. Please use `save_freq` to specify the frequency in number of batches seen.\n",
            "[2020-12-27 03:01:23.000169] Trial#: 2, value: 8.649524e-01| Best trial#: 2, value: 8.649524e-01, params: {'filters1': 64, 'filters2': 96, 'drop1': 0.05, 'drop2': 0.3}\n",
            "WARNING:tensorflow:`period` argument is deprecated. Please use `save_freq` to specify the frequency in number of batches seen.\n",
            "[2020-12-27 03:02:21.741915] Trial#: 3, value: 8.495458e-01| Best trial#: 2, value: 8.649524e-01, params: {'filters1': 64, 'filters2': 96, 'drop1': 0.05, 'drop2': 0.3}\n",
            "WARNING:tensorflow:`period` argument is deprecated. Please use `save_freq` to specify the frequency in number of batches seen.\n",
            "[2020-12-27 03:03:17.195093] Trial#: 4, value: 8.635181e-01| Best trial#: 2, value: 8.649524e-01, params: {'filters1': 64, 'filters2': 96, 'drop1': 0.05, 'drop2': 0.3}\n",
            "WARNING:tensorflow:`period` argument is deprecated. Please use `save_freq` to specify the frequency in number of batches seen.\n",
            "[2020-12-27 03:04:12.869636] Trial#: 5, value: 8.258514e-01| Best trial#: 2, value: 8.649524e-01, params: {'filters1': 64, 'filters2': 96, 'drop1': 0.05, 'drop2': 0.3}\n",
            "WARNING:tensorflow:`period` argument is deprecated. Please use `save_freq` to specify the frequency in number of batches seen.\n",
            "[2020-12-27 03:05:09.883143] Trial#: 6, value: 8.400362e-01| Best trial#: 2, value: 8.649524e-01, params: {'filters1': 64, 'filters2': 96, 'drop1': 0.05, 'drop2': 0.3}\n",
            "WARNING:tensorflow:`period` argument is deprecated. Please use `save_freq` to specify the frequency in number of batches seen.\n",
            "[2020-12-27 03:06:05.990012] Trial#: 7, value: 8.348297e-01| Best trial#: 2, value: 8.649524e-01, params: {'filters1': 64, 'filters2': 96, 'drop1': 0.05, 'drop2': 0.3}\n",
            "WARNING:tensorflow:`period` argument is deprecated. Please use `save_freq` to specify the frequency in number of batches seen.\n",
            "[2020-12-27 03:07:02.003049] Trial#: 8, value: 8.623493e-01| Best trial#: 2, value: 8.649524e-01, params: {'filters1': 64, 'filters2': 96, 'drop1': 0.05, 'drop2': 0.3}\n",
            "WARNING:tensorflow:`period` argument is deprecated. Please use `save_freq` to specify the frequency in number of batches seen.\n",
            "[2020-12-27 03:07:57.973587] Trial#: 9, value: 8.387080e-01| Best trial#: 2, value: 8.649524e-01, params: {'filters1': 64, 'filters2': 96, 'drop1': 0.05, 'drop2': 0.3}\n",
            "WARNING:tensorflow:`period` argument is deprecated. Please use `save_freq` to specify the frequency in number of batches seen.\n",
            "[2020-12-27 03:08:54.780396] Trial#: 10, value: 8.468894e-01| Best trial#: 2, value: 8.649524e-01, params: {'filters1': 64, 'filters2': 96, 'drop1': 0.05, 'drop2': 0.3}\n",
            "WARNING:tensorflow:`period` argument is deprecated. Please use `save_freq` to specify the frequency in number of batches seen.\n",
            "[2020-12-27 03:09:51.324151] Trial#: 11, value: 8.548584e-01| Best trial#: 2, value: 8.649524e-01, params: {'filters1': 64, 'filters2': 96, 'drop1': 0.05, 'drop2': 0.3}\n",
            "WARNING:tensorflow:`period` argument is deprecated. Please use `save_freq` to specify the frequency in number of batches seen.\n",
            "[2020-12-27 03:10:48.228763] Trial#: 12, value: 8.526271e-01| Best trial#: 2, value: 8.649524e-01, params: {'filters1': 64, 'filters2': 96, 'drop1': 0.05, 'drop2': 0.3}\n",
            "WARNING:tensorflow:`period` argument is deprecated. Please use `save_freq` to specify the frequency in number of batches seen.\n",
            "[2020-12-27 03:11:45.315945] Trial#: 13, value: 8.761090e-01| Best trial#: 13, value: 8.761090e-01, params: {'filters1': 32, 'filters2': 96, 'drop1': 0.05, 'drop2': 0.1}\n",
            "WARNING:tensorflow:`period` argument is deprecated. Please use `save_freq` to specify the frequency in number of batches seen.\n",
            "[2020-12-27 03:12:41.016510] Trial#: 14, value: 8.645275e-01| Best trial#: 13, value: 8.761090e-01, params: {'filters1': 32, 'filters2': 96, 'drop1': 0.05, 'drop2': 0.1}\n",
            "WARNING:tensorflow:`period` argument is deprecated. Please use `save_freq` to specify the frequency in number of batches seen.\n",
            "[2020-12-27 03:13:36.971093] Trial#: 15, value: 8.747277e-01| Best trial#: 13, value: 8.761090e-01, params: {'filters1': 32, 'filters2': 96, 'drop1': 0.05, 'drop2': 0.1}\n"
          ],
          "name": "stdout"
        }
      ]
    },
    {
      "cell_type": "code",
      "metadata": {
        "colab": {
          "base_uri": "https://localhost:8080/"
        },
        "id": "M83W3AE-MkQB",
        "outputId": "4579fcf4-4da7-4d3c-a792-761fcc99a881"
      },
      "source": [
        "print('Best trial number: ', ok.best_trial.number)\r\n",
        "print('Best value:', ok.best_trial.value)\r\n",
        "print('Best parameters: \\n', ok.best_trial.params)"
      ],
      "execution_count": null,
      "outputs": [
        {
          "output_type": "stream",
          "text": [
            "Best trial number:  13\n",
            "Best value: 0.8761090040206909\n",
            "Best parameters: \n",
            " {'filters1': 32, 'filters2': 96, 'drop1': 0.05, 'drop2': 0.1}\n"
          ],
          "name": "stdout"
        }
      ]
    },
    {
      "cell_type": "code",
      "metadata": {
        "colab": {
          "base_uri": "https://localhost:8080/",
          "height": 778
        },
        "id": "NwIplJEKMonX",
        "outputId": "ccc5ec4d-8dff-48c9-a26d-54426f92c602"
      },
      "source": [
        "print(\"Best parameters (retrieved directly from Optuna)\", ok.study.best_trial.params)\r\n",
        "\r\n",
        "\"\"\" Check the Optuna CSV log file \"\"\"\r\n",
        "pd.options.display.max_rows = 8 # limit rows to display\r\n",
        "print('Data Frame read from', ok.optuna_log_file_path, '\\n')\r\n",
        "display(pd.read_csv(ok.optuna_log_file_path))\r\n",
        "\r\n",
        "\"\"\" Check the Keras CSV log file \"\"\"\r\n",
        "pd.options.display.max_rows = 8 # limit rows to display\r\n",
        "print('Data Frame read from', ok.keras_log_file_path, '\\n')\r\n",
        "display(pd.read_csv(ok.keras_log_file_path))"
      ],
      "execution_count": null,
      "outputs": [
        {
          "output_type": "stream",
          "text": [
            "Best parameters (retrieved directly from Optuna) {'filters1': 96, 'filters2': 128, 'drop1': 0.06, 'drop2': 0.1}\n",
            "Data Frame read from HARTrain1_Optuna.csv \n",
            "\n"
          ],
          "name": "stdout"
        },
        {
          "output_type": "display_data",
          "data": {
            "text/html": [
              "<div>\n",
              "<style scoped>\n",
              "    .dataframe tbody tr th:only-of-type {\n",
              "        vertical-align: middle;\n",
              "    }\n",
              "\n",
              "    .dataframe tbody tr th {\n",
              "        vertical-align: top;\n",
              "    }\n",
              "\n",
              "    .dataframe thead th {\n",
              "        text-align: right;\n",
              "    }\n",
              "</style>\n",
              "<table border=\"1\" class=\"dataframe\">\n",
              "  <thead>\n",
              "    <tr style=\"text-align: right;\">\n",
              "      <th></th>\n",
              "      <th>number</th>\n",
              "      <th>state</th>\n",
              "      <th>value</th>\n",
              "      <th>datetime_start</th>\n",
              "      <th>datetime_complete</th>\n",
              "      <th>drop1</th>\n",
              "      <th>drop2</th>\n",
              "      <th>filters1</th>\n",
              "      <th>filters2</th>\n",
              "      <th>_Datetime_epoch_begin</th>\n",
              "      <th>_Datetime_epoch_end</th>\n",
              "      <th>_Trial_num</th>\n",
              "      <th>acc</th>\n",
              "      <th>loss</th>\n",
              "      <th>val_acc</th>\n",
              "      <th>val_loss</th>\n",
              "      <th>system_attrs__number</th>\n",
              "    </tr>\n",
              "  </thead>\n",
              "  <tbody>\n",
              "    <tr>\n",
              "      <th>0</th>\n",
              "      <td>0</td>\n",
              "      <td>TrialState.COMPLETE</td>\n",
              "      <td>0.959302</td>\n",
              "      <td>2020-12-26 11:30:08.769704</td>\n",
              "      <td>2020-12-26 11:30:56.119669</td>\n",
              "      <td>0.05</td>\n",
              "      <td>0.2</td>\n",
              "      <td>64</td>\n",
              "      <td>96</td>\n",
              "      <td>2020-12-26 11:30:51.132135</td>\n",
              "      <td>2020-12-26 11:30:55.352998</td>\n",
              "      <td>0</td>\n",
              "      <td>0.968149</td>\n",
              "      <td>0.086918</td>\n",
              "      <td>0.959302</td>\n",
              "      <td>0.107855</td>\n",
              "      <td>0</td>\n",
              "    </tr>\n",
              "    <tr>\n",
              "      <th>1</th>\n",
              "      <td>1</td>\n",
              "      <td>TrialState.COMPLETE</td>\n",
              "      <td>0.944254</td>\n",
              "      <td>2020-12-26 11:30:56.120086</td>\n",
              "      <td>2020-12-26 11:31:43.640830</td>\n",
              "      <td>0.08</td>\n",
              "      <td>0.4</td>\n",
              "      <td>32</td>\n",
              "      <td>32</td>\n",
              "      <td>2020-12-26 11:31:38.687086</td>\n",
              "      <td>2020-12-26 11:31:42.876187</td>\n",
              "      <td>1</td>\n",
              "      <td>0.958550</td>\n",
              "      <td>0.114901</td>\n",
              "      <td>0.944254</td>\n",
              "      <td>0.153481</td>\n",
              "      <td>1</td>\n",
              "    </tr>\n",
              "    <tr>\n",
              "      <th>2</th>\n",
              "      <td>2</td>\n",
              "      <td>TrialState.COMPLETE</td>\n",
              "      <td>0.938646</td>\n",
              "      <td>2020-12-26 11:31:43.641340</td>\n",
              "      <td>2020-12-26 11:32:30.488420</td>\n",
              "      <td>0.05</td>\n",
              "      <td>0.1</td>\n",
              "      <td>64</td>\n",
              "      <td>32</td>\n",
              "      <td>2020-12-26 11:32:25.576812</td>\n",
              "      <td>2020-12-26 11:32:29.728737</td>\n",
              "      <td>2</td>\n",
              "      <td>0.958003</td>\n",
              "      <td>0.112577</td>\n",
              "      <td>0.938646</td>\n",
              "      <td>0.166001</td>\n",
              "      <td>2</td>\n",
              "    </tr>\n",
              "    <tr>\n",
              "      <th>3</th>\n",
              "      <td>3</td>\n",
              "      <td>TrialState.COMPLETE</td>\n",
              "      <td>0.959029</td>\n",
              "      <td>2020-12-26 11:32:30.489137</td>\n",
              "      <td>2020-12-26 11:33:17.295252</td>\n",
              "      <td>0.05</td>\n",
              "      <td>0.2</td>\n",
              "      <td>96</td>\n",
              "      <td>64</td>\n",
              "      <td>2020-12-26 11:33:12.131029</td>\n",
              "      <td>2020-12-26 11:33:16.233334</td>\n",
              "      <td>3</td>\n",
              "      <td>0.964615</td>\n",
              "      <td>0.096222</td>\n",
              "      <td>0.959029</td>\n",
              "      <td>0.108873</td>\n",
              "      <td>3</td>\n",
              "    </tr>\n",
              "    <tr>\n",
              "      <th>...</th>\n",
              "      <td>...</td>\n",
              "      <td>...</td>\n",
              "      <td>...</td>\n",
              "      <td>...</td>\n",
              "      <td>...</td>\n",
              "      <td>...</td>\n",
              "      <td>...</td>\n",
              "      <td>...</td>\n",
              "      <td>...</td>\n",
              "      <td>...</td>\n",
              "      <td>...</td>\n",
              "      <td>...</td>\n",
              "      <td>...</td>\n",
              "      <td>...</td>\n",
              "      <td>...</td>\n",
              "      <td>...</td>\n",
              "      <td>...</td>\n",
              "    </tr>\n",
              "    <tr>\n",
              "      <th>16</th>\n",
              "      <td>16</td>\n",
              "      <td>TrialState.COMPLETE</td>\n",
              "      <td>0.954856</td>\n",
              "      <td>2020-12-26 11:42:44.535356</td>\n",
              "      <td>2020-12-26 11:43:30.109756</td>\n",
              "      <td>0.06</td>\n",
              "      <td>0.1</td>\n",
              "      <td>96</td>\n",
              "      <td>64</td>\n",
              "      <td>2020-12-26 11:43:25.356399</td>\n",
              "      <td>2020-12-26 11:43:29.364274</td>\n",
              "      <td>16</td>\n",
              "      <td>0.965230</td>\n",
              "      <td>0.096380</td>\n",
              "      <td>0.954856</td>\n",
              "      <td>0.130372</td>\n",
              "      <td>16</td>\n",
              "    </tr>\n",
              "    <tr>\n",
              "      <th>17</th>\n",
              "      <td>17</td>\n",
              "      <td>TrialState.COMPLETE</td>\n",
              "      <td>0.955882</td>\n",
              "      <td>2020-12-26 11:43:30.112812</td>\n",
              "      <td>2020-12-26 11:44:18.524045</td>\n",
              "      <td>0.06</td>\n",
              "      <td>0.1</td>\n",
              "      <td>96</td>\n",
              "      <td>128</td>\n",
              "      <td>2020-12-26 11:44:13.588493</td>\n",
              "      <td>2020-12-26 11:44:17.754141</td>\n",
              "      <td>17</td>\n",
              "      <td>0.967829</td>\n",
              "      <td>0.089108</td>\n",
              "      <td>0.955882</td>\n",
              "      <td>0.127399</td>\n",
              "      <td>17</td>\n",
              "    </tr>\n",
              "    <tr>\n",
              "      <th>18</th>\n",
              "      <td>18</td>\n",
              "      <td>TrialState.COMPLETE</td>\n",
              "      <td>0.953830</td>\n",
              "      <td>2020-12-26 11:44:18.527022</td>\n",
              "      <td>2020-12-26 11:45:07.096343</td>\n",
              "      <td>0.06</td>\n",
              "      <td>0.1</td>\n",
              "      <td>128</td>\n",
              "      <td>128</td>\n",
              "      <td>2020-12-26 11:45:02.069911</td>\n",
              "      <td>2020-12-26 11:45:06.335449</td>\n",
              "      <td>18</td>\n",
              "      <td>0.964866</td>\n",
              "      <td>0.095449</td>\n",
              "      <td>0.953830</td>\n",
              "      <td>0.130209</td>\n",
              "      <td>18</td>\n",
              "    </tr>\n",
              "    <tr>\n",
              "      <th>19</th>\n",
              "      <td>19</td>\n",
              "      <td>TrialState.COMPLETE</td>\n",
              "      <td>0.960807</td>\n",
              "      <td>2020-12-26 11:45:07.099405</td>\n",
              "      <td>2020-12-26 11:45:52.765722</td>\n",
              "      <td>0.06</td>\n",
              "      <td>0.3</td>\n",
              "      <td>96</td>\n",
              "      <td>96</td>\n",
              "      <td>2020-12-26 11:45:47.951010</td>\n",
              "      <td>2020-12-26 11:45:51.951803</td>\n",
              "      <td>19</td>\n",
              "      <td>0.968627</td>\n",
              "      <td>0.088463</td>\n",
              "      <td>0.960807</td>\n",
              "      <td>0.117357</td>\n",
              "      <td>19</td>\n",
              "    </tr>\n",
              "  </tbody>\n",
              "</table>\n",
              "<p>20 rows × 17 columns</p>\n",
              "</div>"
            ],
            "text/plain": [
              "    number                state  ...  val_loss system_attrs__number\n",
              "0        0  TrialState.COMPLETE  ...  0.107855                    0\n",
              "1        1  TrialState.COMPLETE  ...  0.153481                    1\n",
              "2        2  TrialState.COMPLETE  ...  0.166001                    2\n",
              "3        3  TrialState.COMPLETE  ...  0.108873                    3\n",
              "..     ...                  ...  ...       ...                  ...\n",
              "16      16  TrialState.COMPLETE  ...  0.130372                   16\n",
              "17      17  TrialState.COMPLETE  ...  0.127399                   17\n",
              "18      18  TrialState.COMPLETE  ...  0.130209                   18\n",
              "19      19  TrialState.COMPLETE  ...  0.117357                   19\n",
              "\n",
              "[20 rows x 17 columns]"
            ]
          },
          "metadata": {
            "tags": []
          }
        },
        {
          "output_type": "stream",
          "text": [
            "Data Frame read from HARTrain1_Keras.csv \n",
            "\n"
          ],
          "name": "stdout"
        },
        {
          "output_type": "display_data",
          "data": {
            "text/html": [
              "<div>\n",
              "<style scoped>\n",
              "    .dataframe tbody tr th:only-of-type {\n",
              "        vertical-align: middle;\n",
              "    }\n",
              "\n",
              "    .dataframe tbody tr th {\n",
              "        vertical-align: top;\n",
              "    }\n",
              "\n",
              "    .dataframe thead th {\n",
              "        text-align: right;\n",
              "    }\n",
              "</style>\n",
              "<table border=\"1\" class=\"dataframe\">\n",
              "  <thead>\n",
              "    <tr style=\"text-align: right;\">\n",
              "      <th></th>\n",
              "      <th>epoch</th>\n",
              "      <th>_Datetime_epoch_begin</th>\n",
              "      <th>_Datetime_epoch_end</th>\n",
              "      <th>_Trial_num</th>\n",
              "      <th>acc</th>\n",
              "      <th>loss</th>\n",
              "      <th>val_acc</th>\n",
              "      <th>val_loss</th>\n",
              "    </tr>\n",
              "  </thead>\n",
              "  <tbody>\n",
              "    <tr>\n",
              "      <th>0</th>\n",
              "      <td>0</td>\n",
              "      <td>2020-12-26 06:36:26.516100</td>\n",
              "      <td>2020-12-26 06:36:39.411224</td>\n",
              "      <td>0</td>\n",
              "      <td>0.828272</td>\n",
              "      <td>0.429519</td>\n",
              "      <td>0.892408</td>\n",
              "      <td>0.281749</td>\n",
              "    </tr>\n",
              "    <tr>\n",
              "      <th>1</th>\n",
              "      <td>1</td>\n",
              "      <td>2020-12-26 06:36:39.468646</td>\n",
              "      <td>2020-12-26 06:36:42.753967</td>\n",
              "      <td>0</td>\n",
              "      <td>0.900570</td>\n",
              "      <td>0.265009</td>\n",
              "      <td>0.906224</td>\n",
              "      <td>0.247375</td>\n",
              "    </tr>\n",
              "    <tr>\n",
              "      <th>2</th>\n",
              "      <td>2</td>\n",
              "      <td>2020-12-26 06:36:42.802889</td>\n",
              "      <td>2020-12-26 06:36:46.082391</td>\n",
              "      <td>0</td>\n",
              "      <td>0.917693</td>\n",
              "      <td>0.218842</td>\n",
              "      <td>0.912038</td>\n",
              "      <td>0.227891</td>\n",
              "    </tr>\n",
              "    <tr>\n",
              "      <th>3</th>\n",
              "      <td>3</td>\n",
              "      <td>2020-12-26 06:36:46.131227</td>\n",
              "      <td>2020-12-26 06:36:49.417641</td>\n",
              "      <td>0</td>\n",
              "      <td>0.930347</td>\n",
              "      <td>0.187226</td>\n",
              "      <td>0.928728</td>\n",
              "      <td>0.187615</td>\n",
              "    </tr>\n",
              "    <tr>\n",
              "      <th>...</th>\n",
              "      <td>...</td>\n",
              "      <td>...</td>\n",
              "      <td>...</td>\n",
              "      <td>...</td>\n",
              "      <td>...</td>\n",
              "      <td>...</td>\n",
              "      <td>...</td>\n",
              "      <td>...</td>\n",
              "    </tr>\n",
              "    <tr>\n",
              "      <th>426</th>\n",
              "      <td>6</td>\n",
              "      <td>2020-12-26 11:45:35.450817</td>\n",
              "      <td>2020-12-26 11:45:39.515909</td>\n",
              "      <td>19</td>\n",
              "      <td>0.959713</td>\n",
              "      <td>0.112494</td>\n",
              "      <td>0.948564</td>\n",
              "      <td>0.141704</td>\n",
              "    </tr>\n",
              "    <tr>\n",
              "      <th>427</th>\n",
              "      <td>7</td>\n",
              "      <td>2020-12-26 11:45:39.573847</td>\n",
              "      <td>2020-12-26 11:45:43.609552</td>\n",
              "      <td>19</td>\n",
              "      <td>0.963520</td>\n",
              "      <td>0.102886</td>\n",
              "      <td>0.948358</td>\n",
              "      <td>0.133747</td>\n",
              "    </tr>\n",
              "    <tr>\n",
              "      <th>428</th>\n",
              "      <td>8</td>\n",
              "      <td>2020-12-26 11:45:43.611468</td>\n",
              "      <td>2020-12-26 11:45:47.652691</td>\n",
              "      <td>19</td>\n",
              "      <td>0.964455</td>\n",
              "      <td>0.098092</td>\n",
              "      <td>0.956772</td>\n",
              "      <td>0.121651</td>\n",
              "    </tr>\n",
              "    <tr>\n",
              "      <th>429</th>\n",
              "      <td>9</td>\n",
              "      <td>2020-12-26 11:45:47.951010</td>\n",
              "      <td>2020-12-26 11:45:51.951803</td>\n",
              "      <td>19</td>\n",
              "      <td>0.968627</td>\n",
              "      <td>0.088463</td>\n",
              "      <td>0.960807</td>\n",
              "      <td>0.117357</td>\n",
              "    </tr>\n",
              "  </tbody>\n",
              "</table>\n",
              "<p>430 rows × 8 columns</p>\n",
              "</div>"
            ],
            "text/plain": [
              "     epoch       _Datetime_epoch_begin  ...   val_acc  val_loss\n",
              "0        0  2020-12-26 06:36:26.516100  ...  0.892408  0.281749\n",
              "1        1  2020-12-26 06:36:39.468646  ...  0.906224  0.247375\n",
              "2        2  2020-12-26 06:36:42.802889  ...  0.912038  0.227891\n",
              "3        3  2020-12-26 06:36:46.131227  ...  0.928728  0.187615\n",
              "..     ...                         ...  ...       ...       ...\n",
              "426      6  2020-12-26 11:45:35.450817  ...  0.948564  0.141704\n",
              "427      7  2020-12-26 11:45:39.573847  ...  0.948358  0.133747\n",
              "428      8  2020-12-26 11:45:43.611468  ...  0.956772  0.121651\n",
              "429      9  2020-12-26 11:45:47.951010  ...  0.960807  0.117357\n",
              "\n",
              "[430 rows x 8 columns]"
            ]
          },
          "metadata": {
            "tags": []
          }
        }
      ]
    },
    {
      "cell_type": "markdown",
      "metadata": {
        "id": "tH7kz-nothuI"
      },
      "source": [
        "## **CNN 1D + LSTM - Conv1D-MaxPool-Conv1D-MaxPool-DropOut-Flatten-LSTM-DropOut-Dense-SoftMax with best parameters**"
      ]
    },
    {
      "cell_type": "code",
      "metadata": {
        "id": "TlfqLN-VJxCc"
      },
      "source": [
        "# define model\r\n",
        "model = Sequential()\r\n",
        "model.add(TimeDistributed(Conv1D(filters=96, kernel_size=3, activation='relu'), input_shape=(None,n_length,n_features)))\r\n",
        "model.add(TimeDistributed(MaxPooling1D(pool_size=2)))\r\n",
        "model.add(TimeDistributed(Conv1D(filters=128, kernel_size=3, activation='relu')))\r\n",
        "model.add(TimeDistributed(MaxPooling1D(pool_size=2)))\r\n",
        "model.add(TimeDistributed(Dropout(0.06)))\r\n",
        "model.add(TimeDistributed(Flatten()))\r\n",
        "model.add(LSTM(64 , return_sequences= True ))\r\n",
        "model.add(LSTM(64))\r\n",
        "model.add(Dropout(0.1))\r\n",
        "model.add(Dense(y_train.shape[1], activation = 'softmax'))\r\n"
      ],
      "execution_count": null,
      "outputs": []
    },
    {
      "cell_type": "code",
      "metadata": {
        "colab": {
          "base_uri": "https://localhost:8080/",
          "height": 1000
        },
        "id": "YAT5I3pjhM4C",
        "outputId": "4bf46819-541c-4702-b5a9-dcd010bf74ea"
      },
      "source": [
        "plot_model(model, to_file='model1_plot.png', show_shapes=True,rankdir = 'TB',expand_nested = False,  show_layer_names=False, show_dtype =False)"
      ],
      "execution_count": null,
      "outputs": [
        {
          "output_type": "execute_result",
          "data": {
            "image/png": "[encoded data removed]",
            "text/plain": [
              "<IPython.core.display.Image object>"
            ]
          },
          "metadata": {
            "tags": []
          },
          "execution_count": 20
        }
      ]
    },
    {
      "cell_type": "code",
      "metadata": {
        "id": "uM-pQpYSdV07"
      },
      "source": [
        "model.compile(Adam(),\r\n",
        "              loss=tf.keras.losses.categorical_crossentropy,\r\n",
        "              metrics=['acc'])"
      ],
      "execution_count": null,
      "outputs": []
    },
    {
      "cell_type": "code",
      "metadata": {
        "colab": {
          "base_uri": "https://localhost:8080/"
        },
        "id": "ApSDOlQ1deIT",
        "outputId": "17830492-4e50-48df-c6c8-c67bcd6211d6"
      },
      "source": [
        "history = model.fit(trainX,y_train, epochs=25, validation_data=(valX, y_val), verbose=1 , batch_size  = 64 )"
      ],
      "execution_count": null,
      "outputs": [
        {
          "output_type": "stream",
          "text": [
            "Epoch 1/25\n",
            "883/883 [==============================] - 17s 9ms/step - loss: 0.8239 - acc: 0.5973 - val_loss: 0.6987 - val_acc: 0.6729\n",
            "Epoch 2/25\n",
            "883/883 [==============================] - 7s 8ms/step - loss: 0.6549 - acc: 0.6887 - val_loss: 0.6101 - val_acc: 0.7135\n",
            "Epoch 3/25\n",
            "883/883 [==============================] - 7s 8ms/step - loss: 0.5659 - acc: 0.7440 - val_loss: 0.5313 - val_acc: 0.7531\n",
            "Epoch 4/25\n",
            "883/883 [==============================] - 6s 7ms/step - loss: 0.4968 - acc: 0.7748 - val_loss: 0.4763 - val_acc: 0.7925\n",
            "Epoch 5/25\n",
            "883/883 [==============================] - 7s 7ms/step - loss: 0.4508 - acc: 0.7980 - val_loss: 0.4466 - val_acc: 0.7994\n",
            "Epoch 6/25\n",
            "883/883 [==============================] - 7s 8ms/step - loss: 0.4249 - acc: 0.8126 - val_loss: 0.4095 - val_acc: 0.8257\n",
            "Epoch 7/25\n",
            "883/883 [==============================] - 7s 8ms/step - loss: 0.3925 - acc: 0.8299 - val_loss: 0.3921 - val_acc: 0.8315\n",
            "Epoch 8/25\n",
            "883/883 [==============================] - 7s 8ms/step - loss: 0.3628 - acc: 0.8420 - val_loss: 0.3786 - val_acc: 0.8429\n",
            "Epoch 9/25\n",
            "883/883 [==============================] - 6s 7ms/step - loss: 0.3477 - acc: 0.8500 - val_loss: 0.3639 - val_acc: 0.8528\n",
            "Epoch 10/25\n",
            "883/883 [==============================] - 7s 8ms/step - loss: 0.3279 - acc: 0.8622 - val_loss: 0.3540 - val_acc: 0.8424\n",
            "Epoch 11/25\n",
            "883/883 [==============================] - 6s 7ms/step - loss: 0.3109 - acc: 0.8666 - val_loss: 0.3305 - val_acc: 0.8633\n",
            "Epoch 12/25\n",
            "883/883 [==============================] - 7s 7ms/step - loss: 0.2956 - acc: 0.8747 - val_loss: 0.3645 - val_acc: 0.8411\n",
            "Epoch 13/25\n",
            "883/883 [==============================] - 7s 8ms/step - loss: 0.2962 - acc: 0.8753 - val_loss: 0.3249 - val_acc: 0.8610\n",
            "Epoch 14/25\n",
            "883/883 [==============================] - 7s 8ms/step - loss: 0.2862 - acc: 0.8792 - val_loss: 0.3505 - val_acc: 0.8579\n",
            "Epoch 15/25\n",
            "883/883 [==============================] - 7s 7ms/step - loss: 0.2808 - acc: 0.8818 - val_loss: 0.3815 - val_acc: 0.8497\n",
            "Epoch 16/25\n",
            "883/883 [==============================] - 7s 7ms/step - loss: 0.2817 - acc: 0.8799 - val_loss: 0.3207 - val_acc: 0.8646\n",
            "Epoch 17/25\n",
            "883/883 [==============================] - 7s 8ms/step - loss: 0.2708 - acc: 0.8869 - val_loss: 0.2806 - val_acc: 0.8849\n",
            "Epoch 18/25\n",
            "883/883 [==============================] - 7s 7ms/step - loss: 0.2583 - acc: 0.8928 - val_loss: 0.2913 - val_acc: 0.8816\n",
            "Epoch 19/25\n",
            "883/883 [==============================] - 7s 8ms/step - loss: 0.2489 - acc: 0.8972 - val_loss: 0.2696 - val_acc: 0.8909\n",
            "Epoch 20/25\n",
            "883/883 [==============================] - 7s 8ms/step - loss: 0.2544 - acc: 0.8945 - val_loss: 0.3365 - val_acc: 0.8600\n",
            "Epoch 21/25\n",
            "883/883 [==============================] - 7s 8ms/step - loss: 0.2633 - acc: 0.8870 - val_loss: 0.2893 - val_acc: 0.8814\n",
            "Epoch 22/25\n",
            "883/883 [==============================] - 7s 8ms/step - loss: 0.2467 - acc: 0.8987 - val_loss: 0.2962 - val_acc: 0.8838\n",
            "Epoch 23/25\n",
            "883/883 [==============================] - 7s 8ms/step - loss: 0.2483 - acc: 0.8999 - val_loss: 0.2812 - val_acc: 0.8842\n",
            "Epoch 24/25\n",
            "883/883 [==============================] - 7s 8ms/step - loss: 0.2517 - acc: 0.8962 - val_loss: 0.2698 - val_acc: 0.8959\n",
            "Epoch 25/25\n",
            "883/883 [==============================] - 7s 8ms/step - loss: 0.2392 - acc: 0.9020 - val_loss: 0.2657 - val_acc: 0.8977\n"
          ],
          "name": "stdout"
        }
      ]
    },
    {
      "cell_type": "markdown",
      "metadata": {
        "id": "Oky2uo7uxqvO"
      },
      "source": [
        "## **Evaluation - Metrics**"
      ]
    },
    {
      "cell_type": "code",
      "metadata": {
        "id": "y_cNHp3LxuRT"
      },
      "source": [
        "# Reverse activity encoding encodes index like 3 -> eating sandwich\r\n",
        "reverse_activity_encoding = {v: activity_map[k] for k, v in activity_encoding.items()}\r\n",
        "lstm_y_val_pred = model.predict(valX)\r\n",
        "\r\n",
        "y_val_argmax = y_val.argmax(axis=1)\r\n",
        "y_val_pred_argmax = lstm_y_val_pred.argmax(axis=1)\r\n",
        "\r\n",
        "lstm_actual_val_activities = [reverse_activity_encoding[i] for i in y_val_argmax]\r\n",
        "lstm_predicted_val_activities = [reverse_activity_encoding[i] for i in y_val_pred_argmax]\r\n",
        "\r\n",
        "##### Below is Final Test Set results ######\r\n",
        "lstm_y_test_pred = model.predict(testX)\r\n",
        "lstm_y_test_argmax = y_test.argmax(axis=1)\r\n",
        "\r\n",
        "lstm_y_test_pred_argmax = lstm_y_test_pred.argmax(axis=1)\r\n",
        "\r\n",
        "lstm_actual_test_activities = [reverse_activity_encoding[i] for i in lstm_y_test_argmax]\r\n",
        "lstm_predicted_test_activities = [reverse_activity_encoding[i] for i in lstm_y_test_pred_argmax]"
      ],
      "execution_count": null,
      "outputs": []
    },
    {
      "cell_type": "code",
      "metadata": {
        "colab": {
          "base_uri": "https://localhost:8080/"
        },
        "id": "Fkll4BIux58I",
        "outputId": "1ff63480-b78c-4296-ad52-f93acf70cc6b"
      },
      "source": [
        "from sklearn.metrics import classification_report \r\n",
        "print(\"             Smartphone Results with CNN-lSTM for Validation Set\\n\\n\" + classification_report(lstm_predicted_val_activities,lstm_actual_val_activities , digits = 4))\r\n",
        "print(\"             Smartphone Results with CNN-LSTM for Test Set\\n\\n\" + classification_report(lstm_predicted_test_activities,lstm_actual_test_activities , digits = 4))"
      ],
      "execution_count": null,
      "outputs": [
        {
          "output_type": "stream",
          "text": [
            "             Smartphone Results with CNN-lSTM for Validation Set\n",
            "\n",
            "                       precision    recall  f1-score   support\n",
            "\n",
            "  Ambulation Oriented     0.9185    0.9404    0.9293      6245\n",
            " Hand Oriented Eating     0.8765    0.8592    0.8678      5355\n",
            "Hand Oriented General     0.8947    0.8894    0.8920      7223\n",
            "\n",
            "             accuracy                         0.8977     18823\n",
            "            macro avg     0.8966    0.8963    0.8964     18823\n",
            "         weighted avg     0.8974    0.8977    0.8975     18823\n",
            "\n",
            "             Smartphone Results with CNN-LSTM for Test Set\n",
            "\n",
            "                       precision    recall  f1-score   support\n",
            "\n",
            "  Ambulation Oriented     0.9128    0.9349    0.9237      6095\n",
            " Hand Oriented Eating     0.8704    0.8520    0.8611      5330\n",
            "Hand Oriented General     0.8893    0.8852    0.8873      7398\n",
            "\n",
            "             accuracy                         0.8919     18823\n",
            "            macro avg     0.8909    0.8907    0.8907     18823\n",
            "         weighted avg     0.8916    0.8919    0.8917     18823\n",
            "\n"
          ],
          "name": "stdout"
        }
      ]
    },
    {
      "cell_type": "code",
      "metadata": {
        "colab": {
          "base_uri": "https://localhost:8080/",
          "height": 404
        },
        "id": "u2sj4cNLx-KW",
        "outputId": "84d2ce06-4935-4cd8-8474-76df874f6333"
      },
      "source": [
        "import seaborn as sns\r\n",
        "from sklearn.metrics import confusion_matrix\r\n",
        "lstm_cm = confusion_matrix(lstm_y_test_argmax, lstm_y_test_pred_argmax)\r\n",
        "df_cm = pd.DataFrame(lstm_cm, index = [reverse_activity_encoding[i] for i in range(3)], columns = [reverse_activity_encoding[i] for i in range(3)])\r\n",
        "#plt.figure(figsize = (12,12))\r\n",
        "plt.title('Smartphone CNN-LSTM Confusion Matrix')\r\n",
        "sns.heatmap(df_cm, annot=True, fmt='g')"
      ],
      "execution_count": null,
      "outputs": [
        {
          "output_type": "execute_result",
          "data": {
            "text/plain": [
              "<matplotlib.axes._subplots.AxesSubplot at 0x7f1816dfa2e8>"
            ]
          },
          "metadata": {
            "tags": []
          },
          "execution_count": 25
        },
        {
          "output_type": "display_data",
          "data": {
            "image/png": "[encoded data removed]",
            "text/plain": [
              "<Figure size 432x288 with 2 Axes>"
            ]
          },
          "metadata": {
            "tags": [],
            "needs_background": "light"
          }
        }
      ]
    },
    {
      "cell_type": "code",
      "metadata": {
        "colab": {
          "base_uri": "https://localhost:8080/",
          "height": 312
        },
        "id": "ff_8LeqbyKEK",
        "outputId": "f097af1f-19c0-42da-dde6-868378a99cea"
      },
      "source": [
        "metrics_history = pd.DataFrame(history.history)\r\n",
        "\r\n",
        "metrics_history[['loss', 'val_loss' , 'acc' , 'val_acc']].plot(title = 'Model Accuracy & Loss CNN-LSTM' , xlabel = 'epoch' , ylabel = 'Accuracy & Loss') #loss = train loss, val_loss = validation Loss\r\n"
      ],
      "execution_count": null,
      "outputs": [
        {
          "output_type": "execute_result",
          "data": {
            "text/plain": [
              "<matplotlib.axes._subplots.AxesSubplot at 0x7f1818a43048>"
            ]
          },
          "metadata": {
            "tags": []
          },
          "execution_count": 26
        },
        {
          "output_type": "display_data",
          "data": {
            "image/png": "[encoded data removed]",
            "text/plain": [
              "<Figure size 432x288 with 1 Axes>"
            ]
          },
          "metadata": {
            "tags": [],
            "needs_background": "light"
          }
        }
      ]
    },
    {
      "cell_type": "code",
      "metadata": {
        "id": "WrFGbJTWb6wL"
      },
      "source": [
        "def evaluate_model(trainX, y_train, testX, y_test):\r\n",
        "\t# define model\r\n",
        "# reshape data into time steps of sub-sequences\r\n",
        "  n_steps, n_length,n_features = 4,50,6\r\n",
        "  trainX = X_train.reshape((X_train.shape[0], n_steps, n_length, n_features))\r\n",
        "  valX = X_val.reshape((X_val.shape[0], n_steps, n_length, n_features))\r\n",
        "  testX = X_test.reshape((X_test.shape[0], n_steps, n_length, n_features))\r\n",
        "# define model\r\n",
        "# define model\r\n",
        "  model = Sequential()\r\n",
        "  model.add(TimeDistributed(Conv1D(filters=96, kernel_size=3, activation='relu'), input_shape=(None,n_length,n_features)))\r\n",
        "  model.add(TimeDistributed(MaxPooling1D(pool_size=2)))\r\n",
        "  model.add(TimeDistributed(Conv1D(filters=128, kernel_size=3, activation='relu')))\r\n",
        "  model.add(TimeDistributed(MaxPooling1D(pool_size=2)))\r\n",
        "  model.add(TimeDistributed(Dropout(0.06)))\r\n",
        "  model.add(TimeDistributed(Flatten()))\r\n",
        "  model.add(LSTM(64 , return_sequences= True ))\r\n",
        "  model.add(LSTM(64))\r\n",
        "  model.add(Dropout(0.1))\r\n",
        "  model.add(Dense(y_train.shape[1], activation = 'softmax'))\r\n",
        "  model.compile(Adam(),\r\n",
        "              loss=tf.keras.losses.categorical_crossentropy,\r\n",
        "              metrics=['acc'])\r\n",
        "# fit network\r\n",
        "  model.fit(trainX, y_train, epochs=25, batch_size=64, validation_data=(valX, y_val),verbose=0)\r\n",
        "# evaluate model\r\n",
        "  _, accuracy = model.evaluate(testX, y_test, batch_size=64, verbose=0)\r\n",
        "  return accuracy\r\n",
        " \r\n",
        "# summarize scores\r\n",
        "def summarize_results(scores):\r\n",
        "\tprint(scores)\r\n",
        "\tm, s = mean(scores), std(scores)\r\n",
        "\tprint('Accuracy: %.3f%% (+/-%.3f)' % (m, s))\r\n",
        " \r\n",
        "# run an experiment\r\n",
        "def run_experiment(repeats=10):\r\n",
        "\t# load data\r\n",
        "\t#trainX, trainy, testX, testy = load_dataset()\r\n",
        "\t# repeat experiment\r\n",
        "\tscores = list()\r\n",
        "\tfor r in range(repeats):\r\n",
        "\t\tscore = evaluate_model(trainX, y_train, testX, y_test)\r\n",
        "\t\tscore = score * 100.0\r\n",
        "\t\tprint('>#%d: %.3f' % (r+1, score))\r\n",
        "\t\tscores.append(score)\r\n",
        "\t# summarize results\r\n",
        "\tsummarize_results(scores)"
      ],
      "execution_count": null,
      "outputs": []
    },
    {
      "cell_type": "code",
      "metadata": {
        "colab": {
          "base_uri": "https://localhost:8080/"
        },
        "id": "jGnvtd1O2o9D",
        "outputId": "261e99c6-56b0-4735-d9ef-82f53bbadf3b"
      },
      "source": [
        "run_experiment()"
      ],
      "execution_count": null,
      "outputs": [
        {
          "output_type": "stream",
          "text": [
            ">#1: 87.632\n",
            ">#2: 88.950\n",
            ">#3: 89.667\n",
            ">#4: 87.505\n",
            ">#5: 87.579\n",
            ">#6: 89.911\n",
            ">#7: 88.541\n",
            ">#8: 87.861\n",
            ">#9: 89.518\n",
            ">#10: 89.895\n",
            "[87.63214945793152, 88.94968628883362, 89.66689705848694, 87.50464916229248, 87.57902383804321, 89.91127610206604, 88.54061365127563, 87.86059617996216, 89.518141746521, 89.89534378051758]\n",
            "Accuracy: 88.706% (+/-0.955)\n"
          ],
          "name": "stdout"
        }
      ]
    },
    {
      "cell_type": "code",
      "metadata": {
        "id": "dvPcNyvE5L1N"
      },
      "source": [
        ""
      ],
      "execution_count": null,
      "outputs": []
    }
  ]
}