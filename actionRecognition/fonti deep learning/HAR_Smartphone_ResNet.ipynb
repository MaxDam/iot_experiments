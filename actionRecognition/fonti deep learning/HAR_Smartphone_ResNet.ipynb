{
  "nbformat": 4,
  "nbformat_minor": 0,
  "metadata": {
    "colab": {
      "name": "HAR Smartphone ResNet.ipynb",
      "provenance": []
    },
    "kernelspec": {
      "name": "python3",
      "display_name": "Python 3"
    },
    "accelerator": "GPU",
    "widgets": {
      "application/vnd.jupyter.widget-state+json": {
        "ab9bb3e2767d45958322aded82d12e8d": {
          "model_module": "@jupyter-widgets/controls",
          "model_name": "HBoxModel",
          "state": {
            "_view_name": "HBoxView",
            "_dom_classes": [],
            "_model_name": "HBoxModel",
            "_view_module": "@jupyter-widgets/controls",
            "_model_module_version": "1.5.0",
            "_view_count": null,
            "_view_module_version": "1.5.0",
            "box_style": "",
            "layout": "IPY_MODEL_c61534d41eb94863bb73e4e74788d877",
            "_model_module": "@jupyter-widgets/controls",
            "children": [
              "IPY_MODEL_538ceafe39024ae3a1da806fbd943227",
              "IPY_MODEL_a47e7ac398514b05b81c93c5ecf66fad"
            ]
          }
        },
        "c61534d41eb94863bb73e4e74788d877": {
          "model_module": "@jupyter-widgets/base",
          "model_name": "LayoutModel",
          "state": {
            "_view_name": "LayoutView",
            "grid_template_rows": null,
            "right": null,
            "justify_content": null,
            "_view_module": "@jupyter-widgets/base",
            "overflow": null,
            "_model_module_version": "1.2.0",
            "_view_count": null,
            "flex_flow": null,
            "width": null,
            "min_width": null,
            "border": null,
            "align_items": null,
            "bottom": null,
            "_model_module": "@jupyter-widgets/base",
            "top": null,
            "grid_column": null,
            "overflow_y": null,
            "overflow_x": null,
            "grid_auto_flow": null,
            "grid_area": null,
            "grid_template_columns": null,
            "flex": null,
            "_model_name": "LayoutModel",
            "justify_items": null,
            "grid_row": null,
            "max_height": null,
            "align_content": null,
            "visibility": null,
            "align_self": null,
            "height": null,
            "min_height": null,
            "padding": null,
            "grid_auto_rows": null,
            "grid_gap": null,
            "max_width": null,
            "order": null,
            "_view_module_version": "1.2.0",
            "grid_template_areas": null,
            "object_position": null,
            "object_fit": null,
            "grid_auto_columns": null,
            "margin": null,
            "display": null,
            "left": null
          }
        },
        "538ceafe39024ae3a1da806fbd943227": {
          "model_module": "@jupyter-widgets/controls",
          "model_name": "FloatProgressModel",
          "state": {
            "_view_name": "ProgressView",
            "style": "IPY_MODEL_dadd4168f0d3405e84f112fb118b9899",
            "_dom_classes": [],
            "description": "100%",
            "_model_name": "FloatProgressModel",
            "bar_style": "success",
            "max": 95602,
            "_view_module": "@jupyter-widgets/controls",
            "_model_module_version": "1.5.0",
            "value": 95602,
            "_view_count": null,
            "_view_module_version": "1.5.0",
            "orientation": "horizontal",
            "min": 0,
            "description_tooltip": null,
            "_model_module": "@jupyter-widgets/controls",
            "layout": "IPY_MODEL_47f8b484b45e48f4b393f6fe9563881e"
          }
        },
        "a47e7ac398514b05b81c93c5ecf66fad": {
          "model_module": "@jupyter-widgets/controls",
          "model_name": "HTMLModel",
          "state": {
            "_view_name": "HTMLView",
            "style": "IPY_MODEL_cacec46c37944e0a89349ad6a37c6f99",
            "_dom_classes": [],
            "description": "",
            "_model_name": "HTMLModel",
            "placeholder": "​",
            "_view_module": "@jupyter-widgets/controls",
            "_model_module_version": "1.5.0",
            "value": " 95602/95602 [02:41&lt;00:00, 593.59it/s]",
            "_view_count": null,
            "_view_module_version": "1.5.0",
            "description_tooltip": null,
            "_model_module": "@jupyter-widgets/controls",
            "layout": "IPY_MODEL_fcf40acc52564f2aa5710e3e56a87b98"
          }
        },
        "dadd4168f0d3405e84f112fb118b9899": {
          "model_module": "@jupyter-widgets/controls",
          "model_name": "ProgressStyleModel",
          "state": {
            "_view_name": "StyleView",
            "_model_name": "ProgressStyleModel",
            "description_width": "initial",
            "_view_module": "@jupyter-widgets/base",
            "_model_module_version": "1.5.0",
            "_view_count": null,
            "_view_module_version": "1.2.0",
            "bar_color": null,
            "_model_module": "@jupyter-widgets/controls"
          }
        },
        "47f8b484b45e48f4b393f6fe9563881e": {
          "model_module": "@jupyter-widgets/base",
          "model_name": "LayoutModel",
          "state": {
            "_view_name": "LayoutView",
            "grid_template_rows": null,
            "right": null,
            "justify_content": null,
            "_view_module": "@jupyter-widgets/base",
            "overflow": null,
            "_model_module_version": "1.2.0",
            "_view_count": null,
            "flex_flow": null,
            "width": null,
            "min_width": null,
            "border": null,
            "align_items": null,
            "bottom": null,
            "_model_module": "@jupyter-widgets/base",
            "top": null,
            "grid_column": null,
            "overflow_y": null,
            "overflow_x": null,
            "grid_auto_flow": null,
            "grid_area": null,
            "grid_template_columns": null,
            "flex": null,
            "_model_name": "LayoutModel",
            "justify_items": null,
            "grid_row": null,
            "max_height": null,
            "align_content": null,
            "visibility": null,
            "align_self": null,
            "height": null,
            "min_height": null,
            "padding": null,
            "grid_auto_rows": null,
            "grid_gap": null,
            "max_width": null,
            "order": null,
            "_view_module_version": "1.2.0",
            "grid_template_areas": null,
            "object_position": null,
            "object_fit": null,
            "grid_auto_columns": null,
            "margin": null,
            "display": null,
            "left": null
          }
        },
        "cacec46c37944e0a89349ad6a37c6f99": {
          "model_module": "@jupyter-widgets/controls",
          "model_name": "DescriptionStyleModel",
          "state": {
            "_view_name": "StyleView",
            "_model_name": "DescriptionStyleModel",
            "description_width": "",
            "_view_module": "@jupyter-widgets/base",
            "_model_module_version": "1.5.0",
            "_view_count": null,
            "_view_module_version": "1.2.0",
            "_model_module": "@jupyter-widgets/controls"
          }
        },
        "fcf40acc52564f2aa5710e3e56a87b98": {
          "model_module": "@jupyter-widgets/base",
          "model_name": "LayoutModel",
          "state": {
            "_view_name": "LayoutView",
            "grid_template_rows": null,
            "right": null,
            "justify_content": null,
            "_view_module": "@jupyter-widgets/base",
            "overflow": null,
            "_model_module_version": "1.2.0",
            "_view_count": null,
            "flex_flow": null,
            "width": null,
            "min_width": null,
            "border": null,
            "align_items": null,
            "bottom": null,
            "_model_module": "@jupyter-widgets/base",
            "top": null,
            "grid_column": null,
            "overflow_y": null,
            "overflow_x": null,
            "grid_auto_flow": null,
            "grid_area": null,
            "grid_template_columns": null,
            "flex": null,
            "_model_name": "LayoutModel",
            "justify_items": null,
            "grid_row": null,
            "max_height": null,
            "align_content": null,
            "visibility": null,
            "align_self": null,
            "height": null,
            "min_height": null,
            "padding": null,
            "grid_auto_rows": null,
            "grid_gap": null,
            "max_width": null,
            "order": null,
            "_view_module_version": "1.2.0",
            "grid_template_areas": null,
            "object_position": null,
            "object_fit": null,
            "grid_auto_columns": null,
            "margin": null,
            "display": null,
            "left": null
          }
        },
        "fc6b72b4230d4d3dbc7216046af5c4f4": {
          "model_module": "@jupyter-widgets/controls",
          "model_name": "HBoxModel",
          "state": {
            "_view_name": "HBoxView",
            "_dom_classes": [],
            "_model_name": "HBoxModel",
            "_view_module": "@jupyter-widgets/controls",
            "_model_module_version": "1.5.0",
            "_view_count": null,
            "_view_module_version": "1.5.0",
            "box_style": "",
            "layout": "IPY_MODEL_8cd1a998d20f4804b78d04cfe02e88c0",
            "_model_module": "@jupyter-widgets/controls",
            "children": [
              "IPY_MODEL_af690e7b164f44849287c79a68fb3d8a",
              "IPY_MODEL_789bae3f19374e1893f3a5d0bee12b06"
            ]
          }
        },
        "8cd1a998d20f4804b78d04cfe02e88c0": {
          "model_module": "@jupyter-widgets/base",
          "model_name": "LayoutModel",
          "state": {
            "_view_name": "LayoutView",
            "grid_template_rows": null,
            "right": null,
            "justify_content": null,
            "_view_module": "@jupyter-widgets/base",
            "overflow": null,
            "_model_module_version": "1.2.0",
            "_view_count": null,
            "flex_flow": null,
            "width": null,
            "min_width": null,
            "border": null,
            "align_items": null,
            "bottom": null,
            "_model_module": "@jupyter-widgets/base",
            "top": null,
            "grid_column": null,
            "overflow_y": null,
            "overflow_x": null,
            "grid_auto_flow": null,
            "grid_area": null,
            "grid_template_columns": null,
            "flex": null,
            "_model_name": "LayoutModel",
            "justify_items": null,
            "grid_row": null,
            "max_height": null,
            "align_content": null,
            "visibility": null,
            "align_self": null,
            "height": null,
            "min_height": null,
            "padding": null,
            "grid_auto_rows": null,
            "grid_gap": null,
            "max_width": null,
            "order": null,
            "_view_module_version": "1.2.0",
            "grid_template_areas": null,
            "object_position": null,
            "object_fit": null,
            "grid_auto_columns": null,
            "margin": null,
            "display": null,
            "left": null
          }
        },
        "af690e7b164f44849287c79a68fb3d8a": {
          "model_module": "@jupyter-widgets/controls",
          "model_name": "FloatProgressModel",
          "state": {
            "_view_name": "ProgressView",
            "style": "IPY_MODEL_e856190763264ebfa3ef3f86efadde01",
            "_dom_classes": [],
            "description": "100%",
            "_model_name": "FloatProgressModel",
            "bar_style": "success",
            "max": 94115,
            "_view_module": "@jupyter-widgets/controls",
            "_model_module_version": "1.5.0",
            "value": 94115,
            "_view_count": null,
            "_view_module_version": "1.5.0",
            "orientation": "horizontal",
            "min": 0,
            "description_tooltip": null,
            "_model_module": "@jupyter-widgets/controls",
            "layout": "IPY_MODEL_1ed7bf3156dc4058b5d7cc385cb5178e"
          }
        },
        "789bae3f19374e1893f3a5d0bee12b06": {
          "model_module": "@jupyter-widgets/controls",
          "model_name": "HTMLModel",
          "state": {
            "_view_name": "HTMLView",
            "style": "IPY_MODEL_fadcd65ac6fa4b1f9f618ff39df98641",
            "_dom_classes": [],
            "description": "",
            "_model_name": "HTMLModel",
            "placeholder": "​",
            "_view_module": "@jupyter-widgets/controls",
            "_model_module_version": "1.5.0",
            "value": " 94115/94115 [02:07&lt;00:00, 738.30it/s]",
            "_view_count": null,
            "_view_module_version": "1.5.0",
            "description_tooltip": null,
            "_model_module": "@jupyter-widgets/controls",
            "layout": "IPY_MODEL_e68ac9889f3b4b8aa593bcaa351a8472"
          }
        },
        "e856190763264ebfa3ef3f86efadde01": {
          "model_module": "@jupyter-widgets/controls",
          "model_name": "ProgressStyleModel",
          "state": {
            "_view_name": "StyleView",
            "_model_name": "ProgressStyleModel",
            "description_width": "initial",
            "_view_module": "@jupyter-widgets/base",
            "_model_module_version": "1.5.0",
            "_view_count": null,
            "_view_module_version": "1.2.0",
            "bar_color": null,
            "_model_module": "@jupyter-widgets/controls"
          }
        },
        "1ed7bf3156dc4058b5d7cc385cb5178e": {
          "model_module": "@jupyter-widgets/base",
          "model_name": "LayoutModel",
          "state": {
            "_view_name": "LayoutView",
            "grid_template_rows": null,
            "right": null,
            "justify_content": null,
            "_view_module": "@jupyter-widgets/base",
            "overflow": null,
            "_model_module_version": "1.2.0",
            "_view_count": null,
            "flex_flow": null,
            "width": null,
            "min_width": null,
            "border": null,
            "align_items": null,
            "bottom": null,
            "_model_module": "@jupyter-widgets/base",
            "top": null,
            "grid_column": null,
            "overflow_y": null,
            "overflow_x": null,
            "grid_auto_flow": null,
            "grid_area": null,
            "grid_template_columns": null,
            "flex": null,
            "_model_name": "LayoutModel",
            "justify_items": null,
            "grid_row": null,
            "max_height": null,
            "align_content": null,
            "visibility": null,
            "align_self": null,
            "height": null,
            "min_height": null,
            "padding": null,
            "grid_auto_rows": null,
            "grid_gap": null,
            "max_width": null,
            "order": null,
            "_view_module_version": "1.2.0",
            "grid_template_areas": null,
            "object_position": null,
            "object_fit": null,
            "grid_auto_columns": null,
            "margin": null,
            "display": null,
            "left": null
          }
        },
        "fadcd65ac6fa4b1f9f618ff39df98641": {
          "model_module": "@jupyter-widgets/controls",
          "model_name": "DescriptionStyleModel",
          "state": {
            "_view_name": "StyleView",
            "_model_name": "DescriptionStyleModel",
            "description_width": "",
            "_view_module": "@jupyter-widgets/base",
            "_model_module_version": "1.5.0",
            "_view_count": null,
            "_view_module_version": "1.2.0",
            "_model_module": "@jupyter-widgets/controls"
          }
        },
        "e68ac9889f3b4b8aa593bcaa351a8472": {
          "model_module": "@jupyter-widgets/base",
          "model_name": "LayoutModel",
          "state": {
            "_view_name": "LayoutView",
            "grid_template_rows": null,
            "right": null,
            "justify_content": null,
            "_view_module": "@jupyter-widgets/base",
            "overflow": null,
            "_model_module_version": "1.2.0",
            "_view_count": null,
            "flex_flow": null,
            "width": null,
            "min_width": null,
            "border": null,
            "align_items": null,
            "bottom": null,
            "_model_module": "@jupyter-widgets/base",
            "top": null,
            "grid_column": null,
            "overflow_y": null,
            "overflow_x": null,
            "grid_auto_flow": null,
            "grid_area": null,
            "grid_template_columns": null,
            "flex": null,
            "_model_name": "LayoutModel",
            "justify_items": null,
            "grid_row": null,
            "max_height": null,
            "align_content": null,
            "visibility": null,
            "align_self": null,
            "height": null,
            "min_height": null,
            "padding": null,
            "grid_auto_rows": null,
            "grid_gap": null,
            "max_width": null,
            "order": null,
            "_view_module_version": "1.2.0",
            "grid_template_areas": null,
            "object_position": null,
            "object_fit": null,
            "grid_auto_columns": null,
            "margin": null,
            "display": null,
            "left": null
          }
        }
      }
    }
  },
  "cells": [
    {
      "cell_type": "code",
      "metadata": {
        "id": "Aj6bztMuMIYa",
        "colab": {
          "base_uri": "https://localhost:8080/"
        },
        "outputId": "f9d3e5a1-524d-422c-cb98-55071574744e"
      },
      "source": [
        "from google.colab import drive \n",
        "drive.mount('/saurabh' , force_remount = True) "
      ],
      "execution_count": null,
      "outputs": [
        {
          "output_type": "stream",
          "text": [
            "Mounted at /saurabh\n"
          ],
          "name": "stdout"
        }
      ]
    },
    {
      "cell_type": "markdown",
      "metadata": {
        "id": "9azaaUvbGwIb"
      },
      "source": [
        ""
      ]
    },
    {
      "cell_type": "code",
      "metadata": {
        "id": "lvEdns4HVRU0",
        "colab": {
          "base_uri": "https://localhost:8080/"
        },
        "outputId": "d25d48a5-7ed7-4f24-8095-bf95cee4118b"
      },
      "source": [
        "gpu_info = !nvidia-smi\n",
        "gpu_info = '\\n'.join(gpu_info)\n",
        "if gpu_info.find('failed') >= 0:\n",
        "  print('Select the Runtime > \"Change runtime type\" menu to enable a GPU accelerator, ')\n",
        "  print('and then re-execute this cell.')\n",
        "else:\n",
        "  print(gpu_info)"
      ],
      "execution_count": null,
      "outputs": [
        {
          "output_type": "stream",
          "text": [
            "Sun Jan  3 13:26:33 2021       \n",
            "+-----------------------------------------------------------------------------+\n",
            "| NVIDIA-SMI 460.27.04    Driver Version: 418.67       CUDA Version: 10.1     |\n",
            "|-------------------------------+----------------------+----------------------+\n",
            "| GPU  Name        Persistence-M| Bus-Id        Disp.A | Volatile Uncorr. ECC |\n",
            "| Fan  Temp  Perf  Pwr:Usage/Cap|         Memory-Usage | GPU-Util  Compute M. |\n",
            "|                               |                      |               MIG M. |\n",
            "|===============================+======================+======================|\n",
            "|   0  Tesla T4            Off  | 00000000:00:04.0 Off |                    0 |\n",
            "| N/A   35C    P8     9W /  70W |      0MiB / 15079MiB |      0%      Default |\n",
            "|                               |                      |                 ERR! |\n",
            "+-------------------------------+----------------------+----------------------+\n",
            "                                                                               \n",
            "+-----------------------------------------------------------------------------+\n",
            "| Processes:                                                                  |\n",
            "|  GPU   GI   CI        PID   Type   Process name                  GPU Memory |\n",
            "|        ID   ID                                                   Usage      |\n",
            "|=============================================================================|\n",
            "|  No running processes found                                                 |\n",
            "+-----------------------------------------------------------------------------+\n"
          ],
          "name": "stdout"
        }
      ]
    },
    {
      "cell_type": "code",
      "metadata": {
        "id": "qt_2f-WdFq5h",
        "colab": {
          "base_uri": "https://localhost:8080/"
        },
        "outputId": "4acd7533-96c4-4e0d-caf3-2ea17d02f2c2"
      },
      "source": [
        "pip install mcfly"
      ],
      "execution_count": null,
      "outputs": [
        {
          "output_type": "stream",
          "text": [
            "Collecting mcfly\n",
            "  Downloading https://files.pythonhosted.org/packages/c9/79/e9955782bd2edb1cc76e1ef16b7a2a3f9d856bc6a33141a68e1b397f2be1/mcfly-3.1.0-py3-none-any.whl\n",
            "Requirement already satisfied: tensorflow>=2.0.0 in /usr/local/lib/python3.6/dist-packages (from mcfly) (2.4.0)\n",
            "Requirement already satisfied: numpy in /usr/local/lib/python3.6/dist-packages (from mcfly) (1.19.4)\n",
            "Requirement already satisfied: h5py in /usr/local/lib/python3.6/dist-packages (from mcfly) (2.10.0)\n",
            "Requirement already satisfied: scikit-learn>=0.15.0 in /usr/local/lib/python3.6/dist-packages (from mcfly) (0.22.2.post1)\n",
            "Requirement already satisfied: scipy>=0.11 in /usr/local/lib/python3.6/dist-packages (from mcfly) (1.4.1)\n",
            "Requirement already satisfied: wheel~=0.35 in /usr/local/lib/python3.6/dist-packages (from tensorflow>=2.0.0->mcfly) (0.36.2)\n",
            "Requirement already satisfied: opt-einsum~=3.3.0 in /usr/local/lib/python3.6/dist-packages (from tensorflow>=2.0.0->mcfly) (3.3.0)\n",
            "Requirement already satisfied: six~=1.15.0 in /usr/local/lib/python3.6/dist-packages (from tensorflow>=2.0.0->mcfly) (1.15.0)\n",
            "Requirement already satisfied: tensorboard~=2.4 in /usr/local/lib/python3.6/dist-packages (from tensorflow>=2.0.0->mcfly) (2.4.0)\n",
            "Requirement already satisfied: astunparse~=1.6.3 in /usr/local/lib/python3.6/dist-packages (from tensorflow>=2.0.0->mcfly) (1.6.3)\n",
            "Requirement already satisfied: grpcio~=1.32.0 in /usr/local/lib/python3.6/dist-packages (from tensorflow>=2.0.0->mcfly) (1.32.0)\n",
            "Requirement already satisfied: protobuf>=3.9.2 in /usr/local/lib/python3.6/dist-packages (from tensorflow>=2.0.0->mcfly) (3.12.4)\n",
            "Requirement already satisfied: typing-extensions~=3.7.4 in /usr/local/lib/python3.6/dist-packages (from tensorflow>=2.0.0->mcfly) (3.7.4.3)\n",
            "Requirement already satisfied: wrapt~=1.12.1 in /usr/local/lib/python3.6/dist-packages (from tensorflow>=2.0.0->mcfly) (1.12.1)\n",
            "Requirement already satisfied: keras-preprocessing~=1.1.2 in /usr/local/lib/python3.6/dist-packages (from tensorflow>=2.0.0->mcfly) (1.1.2)\n",
            "Requirement already satisfied: flatbuffers~=1.12.0 in /usr/local/lib/python3.6/dist-packages (from tensorflow>=2.0.0->mcfly) (1.12)\n",
            "Requirement already satisfied: termcolor~=1.1.0 in /usr/local/lib/python3.6/dist-packages (from tensorflow>=2.0.0->mcfly) (1.1.0)\n",
            "Requirement already satisfied: absl-py~=0.10 in /usr/local/lib/python3.6/dist-packages (from tensorflow>=2.0.0->mcfly) (0.10.0)\n",
            "Requirement already satisfied: tensorflow-estimator<2.5.0,>=2.4.0rc0 in /usr/local/lib/python3.6/dist-packages (from tensorflow>=2.0.0->mcfly) (2.4.0)\n",
            "Requirement already satisfied: gast==0.3.3 in /usr/local/lib/python3.6/dist-packages (from tensorflow>=2.0.0->mcfly) (0.3.3)\n",
            "Requirement already satisfied: google-pasta~=0.2 in /usr/local/lib/python3.6/dist-packages (from tensorflow>=2.0.0->mcfly) (0.2.0)\n",
            "Requirement already satisfied: joblib>=0.11 in /usr/local/lib/python3.6/dist-packages (from scikit-learn>=0.15.0->mcfly) (1.0.0)\n",
            "Requirement already satisfied: google-auth-oauthlib<0.5,>=0.4.1 in /usr/local/lib/python3.6/dist-packages (from tensorboard~=2.4->tensorflow>=2.0.0->mcfly) (0.4.2)\n",
            "Requirement already satisfied: requests<3,>=2.21.0 in /usr/local/lib/python3.6/dist-packages (from tensorboard~=2.4->tensorflow>=2.0.0->mcfly) (2.23.0)\n",
            "Requirement already satisfied: google-auth<2,>=1.6.3 in /usr/local/lib/python3.6/dist-packages (from tensorboard~=2.4->tensorflow>=2.0.0->mcfly) (1.17.2)\n",
            "Requirement already satisfied: tensorboard-plugin-wit>=1.6.0 in /usr/local/lib/python3.6/dist-packages (from tensorboard~=2.4->tensorflow>=2.0.0->mcfly) (1.7.0)\n",
            "Requirement already satisfied: setuptools>=41.0.0 in /usr/local/lib/python3.6/dist-packages (from tensorboard~=2.4->tensorflow>=2.0.0->mcfly) (51.0.0)\n",
            "Requirement already satisfied: werkzeug>=0.11.15 in /usr/local/lib/python3.6/dist-packages (from tensorboard~=2.4->tensorflow>=2.0.0->mcfly) (1.0.1)\n",
            "Requirement already satisfied: markdown>=2.6.8 in /usr/local/lib/python3.6/dist-packages (from tensorboard~=2.4->tensorflow>=2.0.0->mcfly) (3.3.3)\n",
            "Requirement already satisfied: requests-oauthlib>=0.7.0 in /usr/local/lib/python3.6/dist-packages (from google-auth-oauthlib<0.5,>=0.4.1->tensorboard~=2.4->tensorflow>=2.0.0->mcfly) (1.3.0)\n",
            "Requirement already satisfied: chardet<4,>=3.0.2 in /usr/local/lib/python3.6/dist-packages (from requests<3,>=2.21.0->tensorboard~=2.4->tensorflow>=2.0.0->mcfly) (3.0.4)\n",
            "Requirement already satisfied: certifi>=2017.4.17 in /usr/local/lib/python3.6/dist-packages (from requests<3,>=2.21.0->tensorboard~=2.4->tensorflow>=2.0.0->mcfly) (2020.12.5)\n",
            "Requirement already satisfied: idna<3,>=2.5 in /usr/local/lib/python3.6/dist-packages (from requests<3,>=2.21.0->tensorboard~=2.4->tensorflow>=2.0.0->mcfly) (2.10)\n",
            "Requirement already satisfied: urllib3!=1.25.0,!=1.25.1,<1.26,>=1.21.1 in /usr/local/lib/python3.6/dist-packages (from requests<3,>=2.21.0->tensorboard~=2.4->tensorflow>=2.0.0->mcfly) (1.24.3)\n",
            "Requirement already satisfied: cachetools<5.0,>=2.0.0 in /usr/local/lib/python3.6/dist-packages (from google-auth<2,>=1.6.3->tensorboard~=2.4->tensorflow>=2.0.0->mcfly) (4.2.0)\n",
            "Requirement already satisfied: rsa<5,>=3.1.4; python_version >= \"3\" in /usr/local/lib/python3.6/dist-packages (from google-auth<2,>=1.6.3->tensorboard~=2.4->tensorflow>=2.0.0->mcfly) (4.6)\n",
            "Requirement already satisfied: pyasn1-modules>=0.2.1 in /usr/local/lib/python3.6/dist-packages (from google-auth<2,>=1.6.3->tensorboard~=2.4->tensorflow>=2.0.0->mcfly) (0.2.8)\n",
            "Requirement already satisfied: importlib-metadata; python_version < \"3.8\" in /usr/local/lib/python3.6/dist-packages (from markdown>=2.6.8->tensorboard~=2.4->tensorflow>=2.0.0->mcfly) (3.3.0)\n",
            "Requirement already satisfied: oauthlib>=3.0.0 in /usr/local/lib/python3.6/dist-packages (from requests-oauthlib>=0.7.0->google-auth-oauthlib<0.5,>=0.4.1->tensorboard~=2.4->tensorflow>=2.0.0->mcfly) (3.1.0)\n",
            "Requirement already satisfied: pyasn1>=0.1.3 in /usr/local/lib/python3.6/dist-packages (from rsa<5,>=3.1.4; python_version >= \"3\"->google-auth<2,>=1.6.3->tensorboard~=2.4->tensorflow>=2.0.0->mcfly) (0.4.8)\n",
            "Requirement already satisfied: zipp>=0.5 in /usr/local/lib/python3.6/dist-packages (from importlib-metadata; python_version < \"3.8\"->markdown>=2.6.8->tensorboard~=2.4->tensorflow>=2.0.0->mcfly) (3.4.0)\n",
            "Installing collected packages: mcfly\n",
            "Successfully installed mcfly-3.1.0\n"
          ],
          "name": "stdout"
        }
      ]
    },
    {
      "cell_type": "markdown",
      "metadata": {
        "id": "gmSZWfzyVHav"
      },
      "source": [
        "# **Import important libraries**"
      ]
    },
    {
      "cell_type": "code",
      "metadata": {
        "id": "SR3EzlWj_w8e"
      },
      "source": [
        "import os\n",
        "import statistics\n",
        "import csv\n",
        "import itertools\n",
        "import tensorflow as tf\n",
        "import keras\n",
        "\n",
        "import pandas as pd\n",
        "import numpy as np\n",
        "import datetime as dt\n",
        "import matplotlib.pyplot as plt\n",
        "import seaborn as sn\n",
        "\n",
        "from tqdm import tqdm_notebook as tqdm\n",
        "\n",
        "from sklearn.model_selection import train_test_split\n",
        "from sklearn.metrics import classification_report, confusion_matrix\n",
        "from sklearn.preprocessing import StandardScaler\n",
        "from keras.models import Sequential\n",
        "from keras.layers import *\n",
        "from keras.utils import to_categorical\n",
        "from keras.optimizers import Adam\n",
        "from keras.utils.vis_utils import plot_model\n",
        "import mcfly\n",
        "from numpy import mean\n",
        "from numpy import std\n"
      ],
      "execution_count": null,
      "outputs": []
    },
    {
      "cell_type": "code",
      "metadata": {
        "colab": {
          "base_uri": "https://localhost:8080/"
        },
        "id": "T6mkQ5DsJTvZ",
        "outputId": "56386376-3c1d-476f-e253-79f823d656cf"
      },
      "source": [
        "cd /saurabh/My Drive/Datasets/har/wisdm-dataset/"
      ],
      "execution_count": null,
      "outputs": [
        {
          "output_type": "stream",
          "text": [
            "/saurabh/My Drive/Datasets/har/wisdm-dataset\n"
          ],
          "name": "stdout"
        }
      ]
    },
    {
      "cell_type": "code",
      "metadata": {
        "colab": {
          "base_uri": "https://localhost:8080/"
        },
        "id": "G1MncH0oJT75",
        "outputId": "b40d770c-e683-4b37-f262-e1bafb1fa9ec"
      },
      "source": [
        "ls"
      ],
      "execution_count": null,
      "outputs": [
        {
          "output_type": "stream",
          "text": [
            "activity_key.txt             HARWatchGRU_Optuna.csv\n",
            "\u001b[0m\u001b[01;34marff_files\u001b[0m/                  \u001b[01;34minception\u001b[0m/\n",
            "\u001b[01;34marffmagic-master\u001b[0m/            \u001b[01;34minception_phone\u001b[0m/\n",
            "change_raw_act.pl            model1_plot.png\n",
            "\u001b[01;34mdata\u001b[0m/                        model_plot2.png\n",
            "\u001b[01;34mdeepconv1\u001b[0m/                   model_plot3.png\n",
            "\u001b[01;34mdeepconvlstm\u001b[0m/                model_plot4.png\n",
            "HAR_Simple_Keras.csv         model_plot_cnnlstm.png\n",
            "HAR_Simple_model_000003.h5   model_plot.png\n",
            "HAR_Simple_Optuna.csv        multichannel.png\n",
            "HARTrain1_Keras.csv          phone.df\n",
            "HARTrain1_model_000013.h5    \u001b[01;34mraw\u001b[0m/\n",
            "HARTrain1_Optuna.csv         README.txt\n",
            "HARTrain_Keras.csv           \u001b[01;34mresnet\u001b[0m/\n",
            "HARTrain_Optuna.csv          watch.df\n",
            "HARWatchGRU_Keras.csv        WISDM-dataset-description.pdf\n",
            "HARWatchGRU_model_000000.h5\n"
          ],
          "name": "stdout"
        }
      ]
    },
    {
      "cell_type": "code",
      "metadata": {
        "id": "Sq-TeVd8JUBK"
      },
      "source": [
        "phone = pd.read_pickle('phone.df')"
      ],
      "execution_count": null,
      "outputs": []
    },
    {
      "cell_type": "code",
      "metadata": {
        "colab": {
          "base_uri": "https://localhost:8080/"
        },
        "id": "PCpVj_MRJUHP",
        "outputId": "a4e7a96f-e7eb-44fb-9239-303103205da7"
      },
      "source": [
        "phone.shape"
      ],
      "execution_count": null,
      "outputs": [
        {
          "output_type": "execute_result",
          "data": {
            "text/plain": [
              "(4780251, 9)"
            ]
          },
          "metadata": {
            "tags": []
          },
          "execution_count": 8
        }
      ]
    },
    {
      "cell_type": "markdown",
      "metadata": {
        "id": "s35pqR3XJijj"
      },
      "source": [
        "## **Mapping the 18 activities into 3 Groups**"
      ]
    },
    {
      "cell_type": "code",
      "metadata": {
        "id": "mncruPEAJUNK"
      },
      "source": [
        "def activity_mapper(activity):\r\n",
        "    if(activity in ['A', 'B', 'C', 'D', 'E', 'M']):\r\n",
        "        return 0\r\n",
        "    elif(activity in ['P', 'O', 'F', 'Q', 'R','G', 'S']):\r\n",
        "        return 1\r\n",
        "    else:\r\n",
        "        return 2\r\n",
        "phone['activity'] = phone['activity'].apply(activity_mapper)"
      ],
      "execution_count": null,
      "outputs": []
    },
    {
      "cell_type": "code",
      "metadata": {
        "colab": {
          "base_uri": "https://localhost:8080/"
        },
        "id": "Vq5j6HCtJURZ",
        "outputId": "063c9c30-feaa-497c-8a77-cec2d3579d60"
      },
      "source": [
        "phone.activity.value_counts()"
      ],
      "execution_count": null,
      "outputs": [
        {
          "output_type": "execute_result",
          "data": {
            "text/plain": [
              "1    1843466\n",
              "0    1614563\n",
              "2    1322222\n",
              "Name: activity, dtype: int64"
            ]
          },
          "metadata": {
            "tags": []
          },
          "execution_count": 10
        }
      ]
    },
    {
      "cell_type": "code",
      "metadata": {
        "id": "moakMhA2JUWQ"
      },
      "source": [
        "activity_map = {\r\n",
        "    0: 'Ambulation Oriented',\r\n",
        "    1: 'Hand Oriented General',\r\n",
        "    2: 'Hand Oriented Eating'\r\n",
        "}"
      ],
      "execution_count": null,
      "outputs": []
    },
    {
      "cell_type": "code",
      "metadata": {
        "id": "9TdFSYQ2JUax"
      },
      "source": [
        "activities = sorted(activity_map.keys())\r\n",
        "activity_encoding = {v: k for k, v in enumerate(activities)}"
      ],
      "execution_count": null,
      "outputs": []
    },
    {
      "cell_type": "markdown",
      "metadata": {
        "id": "fdEV4b2KJxd3"
      },
      "source": [
        "## **Data Transformation using a sliding windows of 10 seconds = 200 (10 * 20) data points and stride of 50**"
      ]
    },
    {
      "cell_type": "code",
      "metadata": {
        "colab": {
          "base_uri": "https://localhost:8080/",
          "height": 118,
          "referenced_widgets": [
            "ab9bb3e2767d45958322aded82d12e8d",
            "c61534d41eb94863bb73e4e74788d877",
            "538ceafe39024ae3a1da806fbd943227",
            "a47e7ac398514b05b81c93c5ecf66fad",
            "dadd4168f0d3405e84f112fb118b9899",
            "47f8b484b45e48f4b393f6fe9563881e",
            "cacec46c37944e0a89349ad6a37c6f99",
            "fcf40acc52564f2aa5710e3e56a87b98"
          ]
        },
        "id": "RhWOBpo6JUhc",
        "outputId": "cc4eb736-78c4-4e20-d5d8-1bdd59ca3ec1"
      },
      "source": [
        "window_size = 200\r\n",
        "stride = 50\r\n",
        "frames = []\r\n",
        "for i in tqdm(range(0, len(phone)-window_size, stride)):\r\n",
        "    window = phone.iloc[i:i+window_size]\r\n",
        "    if window['activity'].nunique() == 1:\r\n",
        "      frames.append(window)"
      ],
      "execution_count": null,
      "outputs": [
        {
          "output_type": "stream",
          "text": [
            "/usr/local/lib/python3.6/dist-packages/ipykernel_launcher.py:4: TqdmDeprecationWarning: This function will be removed in tqdm==5.0.0\n",
            "Please use `tqdm.notebook.tqdm` instead of `tqdm.tqdm_notebook`\n",
            "  after removing the cwd from sys.path.\n"
          ],
          "name": "stderr"
        },
        {
          "output_type": "display_data",
          "data": {
            "application/vnd.jupyter.widget-view+json": {
              "model_id": "ab9bb3e2767d45958322aded82d12e8d",
              "version_minor": 0,
              "version_major": 2
            },
            "text/plain": [
              "HBox(children=(FloatProgress(value=0.0, max=95602.0), HTML(value='')))"
            ]
          },
          "metadata": {
            "tags": []
          }
        },
        {
          "output_type": "stream",
          "text": [
            "\n"
          ],
          "name": "stdout"
        }
      ]
    },
    {
      "cell_type": "code",
      "metadata": {
        "colab": {
          "base_uri": "https://localhost:8080/",
          "height": 118,
          "referenced_widgets": [
            "fc6b72b4230d4d3dbc7216046af5c4f4",
            "8cd1a998d20f4804b78d04cfe02e88c0",
            "af690e7b164f44849287c79a68fb3d8a",
            "789bae3f19374e1893f3a5d0bee12b06",
            "e856190763264ebfa3ef3f86efadde01",
            "1ed7bf3156dc4058b5d7cc385cb5178e",
            "fadcd65ac6fa4b1f9f618ff39df98641",
            "e68ac9889f3b4b8aa593bcaa351a8472"
          ]
        },
        "id": "vLtO8Si4JUlt",
        "outputId": "76ac44e9-ec96-40ba-8232-5a650e652e1a"
      },
      "source": [
        "#activities = sorted(act_map.keys())\r\n",
        "#activity_encoding = {v: k for k, v in enumerate(activities)}\r\n",
        "\r\n",
        "X_list = []\r\n",
        "y_list = []\r\n",
        "\r\n",
        "#for each frame replace label with activity\r\n",
        "for frame in tqdm(frames):\r\n",
        "    X_list.append(frame[['phone_accel_x', 'phone_accel_y', 'phone_accel_z', 'phone_gyro_x', 'phone_gyro_y', 'phone_gyro_z']].values)\r\n",
        "    y_list.append(activity_encoding[frame.iloc[0]['activity']])\r\n",
        "    #y_list.append(frame.iloc[0][['activity']].values)"
      ],
      "execution_count": null,
      "outputs": [
        {
          "output_type": "stream",
          "text": [
            "/usr/local/lib/python3.6/dist-packages/ipykernel_launcher.py:8: TqdmDeprecationWarning: This function will be removed in tqdm==5.0.0\n",
            "Please use `tqdm.notebook.tqdm` instead of `tqdm.tqdm_notebook`\n",
            "  \n"
          ],
          "name": "stderr"
        },
        {
          "output_type": "display_data",
          "data": {
            "application/vnd.jupyter.widget-view+json": {
              "model_id": "fc6b72b4230d4d3dbc7216046af5c4f4",
              "version_minor": 0,
              "version_major": 2
            },
            "text/plain": [
              "HBox(children=(FloatProgress(value=0.0, max=94115.0), HTML(value='')))"
            ]
          },
          "metadata": {
            "tags": []
          }
        },
        {
          "output_type": "stream",
          "text": [
            "\n"
          ],
          "name": "stdout"
        }
      ]
    },
    {
      "cell_type": "code",
      "metadata": {
        "id": "_N99QhqyJUqS"
      },
      "source": [
        "X = np.array(X_list)\r\n",
        "y = np.array(to_categorical(y_list))"
      ],
      "execution_count": null,
      "outputs": []
    },
    {
      "cell_type": "code",
      "metadata": {
        "colab": {
          "base_uri": "https://localhost:8080/"
        },
        "id": "_vo_0kzaKe99",
        "outputId": "96e98a6a-2941-4fcd-837a-99c61f5d082b"
      },
      "source": [
        "print(X.shape)\r\n",
        "print(y.shape)"
      ],
      "execution_count": null,
      "outputs": [
        {
          "output_type": "stream",
          "text": [
            "(94115, 200, 6)\n",
            "(94115, 3)\n"
          ],
          "name": "stdout"
        }
      ]
    },
    {
      "cell_type": "code",
      "metadata": {
        "colab": {
          "base_uri": "https://localhost:8080/"
        },
        "id": "RXnJEOgvKhjI",
        "outputId": "b94108e3-5472-48f9-f3f4-794a826e173a"
      },
      "source": [
        "print(X.shape[1:])"
      ],
      "execution_count": null,
      "outputs": [
        {
          "output_type": "stream",
          "text": [
            "(200, 6)\n"
          ],
          "name": "stdout"
        }
      ]
    },
    {
      "cell_type": "markdown",
      "metadata": {
        "id": "TPt_13GdVyrs"
      },
      "source": [
        "# **Train , Validation , Test Split**"
      ]
    },
    {
      "cell_type": "code",
      "metadata": {
        "id": "Ikg7jLbRCiB7",
        "colab": {
          "base_uri": "https://localhost:8080/"
        },
        "outputId": "ee560c26-9403-4ee3-bec2-64b602283835"
      },
      "source": [
        "#data split: as informed by slides split for 30,000 examples \n",
        "#our example is a window and coming from a big expansive amount of data\n",
        "#5 second split based on papers using 5 sec split. We can play with this \n",
        "\n",
        "X_train, X_valtest, y_train, y_valtest = train_test_split(X, y, test_size=0.4, random_state=42)\n",
        "X_val, X_test, y_val, y_test = train_test_split(X_valtest, y_valtest, test_size=0.5, random_state=42)\n",
        "\n",
        "#train\n",
        "print(\"X_train: \",X_train.shape)\n",
        "\n",
        "#dev\n",
        "print(\"X_val: \",X_val.shape)\n",
        "\n",
        "#test\n",
        "print(\"X_test: \",X_test.shape)\n",
        "\n",
        "print(\"Y_train: \",y_train.shape)\n",
        "print(\"Y_val: \",y_val.shape)\n",
        "print(\"Y_test: \",y_test.shape)"
      ],
      "execution_count": null,
      "outputs": [
        {
          "output_type": "stream",
          "text": [
            "X_train:  (56469, 200, 6)\n",
            "X_val:  (18823, 200, 6)\n",
            "X_test:  (18823, 200, 6)\n",
            "Y_train:  (56469, 3)\n",
            "Y_val:  (18823, 3)\n",
            "Y_test:  (18823, 3)\n"
          ],
          "name": "stdout"
        }
      ]
    },
    {
      "cell_type": "code",
      "metadata": {
        "id": "kk0b0XeGybp9"
      },
      "source": [
        "num_classes = y_train.shape[1]\n",
        "metric = 'accuracy'"
      ],
      "execution_count": null,
      "outputs": []
    },
    {
      "cell_type": "code",
      "metadata": {
        "id": "KJD4eATRyb11",
        "colab": {
          "base_uri": "https://localhost:8080/"
        },
        "outputId": "202c704c-d9e4-4306-9544-85feda97dd98"
      },
      "source": [
        "print(num_classes)"
      ],
      "execution_count": null,
      "outputs": [
        {
          "output_type": "stream",
          "text": [
            "3\n"
          ],
          "name": "stdout"
        }
      ]
    },
    {
      "cell_type": "code",
      "metadata": {
        "id": "KGBjI9yByb_W"
      },
      "source": [
        "models = mcfly.modelgen.generate_models(X_train.shape,\n",
        "                                        number_of_classes=num_classes,\n",
        "                                        number_of_models = 4,\n",
        "                                        model_types = ['ResNet'],\n",
        "                                        metrics=[metric])"
      ],
      "execution_count": null,
      "outputs": []
    },
    {
      "cell_type": "code",
      "metadata": {
        "id": "6AqhAIs7ycCj",
        "colab": {
          "base_uri": "https://localhost:8080/"
        },
        "outputId": "588dbd9c-cae9-41e7-e694-7998e7c7dbd2"
      },
      "source": [
        "models_to_print = range(len(models))\n",
        "for i, item in enumerate(models):\n",
        "    if i in models_to_print:\n",
        "        model, params, model_types = item\n",
        "        print(\"-------------------------------------------------------------------------------------------------------\")\n",
        "        print(\"Model \" + str(i))\n",
        "        print(\" \")\n",
        "        print(\"Hyperparameters:\")\n",
        "        print(params)\n",
        "        print(\" \")\n",
        "        print(\"Model description:\")\n",
        "        model.summary()\n",
        "        print(\" \")\n",
        "        print(\"Model type:\")\n",
        "        print(model_types)\n",
        "        print(\" \")"
      ],
      "execution_count": null,
      "outputs": [
        {
          "output_type": "stream",
          "text": [
            "-------------------------------------------------------------------------------------------------------\n",
            "Model 0\n",
            " \n",
            "Hyperparameters:\n",
            "{'learning_rate': 0.0007352144016931533, 'regularization_rate': 0.0003499571747048207, 'network_depth': 4, 'min_filters_number': 58, 'max_kernel_size': 20}\n",
            " \n",
            "Model description:\n",
            "Model: \"model\"\n",
            "__________________________________________________________________________________________________\n",
            "Layer (type)                    Output Shape         Param #     Connected to                     \n",
            "==================================================================================================\n",
            "input_1 (InputLayer)            [(None, 200, 6)]     0                                            \n",
            "__________________________________________________________________________________________________\n",
            "batch_normalization (BatchNorma (None, 200, 6)       24          input_1[0][0]                    \n",
            "__________________________________________________________________________________________________\n",
            "conv1d (Conv1D)                 (None, 200, 58)      7018        batch_normalization[0][0]        \n",
            "__________________________________________________________________________________________________\n",
            "batch_normalization_1 (BatchNor (None, 200, 58)      232         conv1d[0][0]                     \n",
            "__________________________________________________________________________________________________\n",
            "re_lu (ReLU)                    (None, 200, 58)      0           batch_normalization_1[0][0]      \n",
            "__________________________________________________________________________________________________\n",
            "conv1d_1 (Conv1D)               (None, 200, 58)      67338       re_lu[0][0]                      \n",
            "__________________________________________________________________________________________________\n",
            "batch_normalization_2 (BatchNor (None, 200, 58)      232         conv1d_1[0][0]                   \n",
            "__________________________________________________________________________________________________\n",
            "re_lu_1 (ReLU)                  (None, 200, 58)      0           batch_normalization_2[0][0]      \n",
            "__________________________________________________________________________________________________\n",
            "conv1d_2 (Conv1D)               (None, 200, 58)      67338       re_lu_1[0][0]                    \n",
            "__________________________________________________________________________________________________\n",
            "batch_normalization_3 (BatchNor (None, 200, 58)      232         conv1d_2[0][0]                   \n",
            "__________________________________________________________________________________________________\n",
            "re_lu_2 (ReLU)                  (None, 200, 58)      0           batch_normalization_3[0][0]      \n",
            "__________________________________________________________________________________________________\n",
            "conv1d_3 (Conv1D)               (None, 200, 58)      3422        re_lu_2[0][0]                    \n",
            "__________________________________________________________________________________________________\n",
            "add (Add)                       (None, 200, 58)      0           re_lu_2[0][0]                    \n",
            "                                                                 conv1d_3[0][0]                   \n",
            "__________________________________________________________________________________________________\n",
            "conv1d_4 (Conv1D)               (None, 200, 81)      65853       add[0][0]                        \n",
            "__________________________________________________________________________________________________\n",
            "batch_normalization_4 (BatchNor (None, 200, 81)      324         conv1d_4[0][0]                   \n",
            "__________________________________________________________________________________________________\n",
            "re_lu_3 (ReLU)                  (None, 200, 81)      0           batch_normalization_4[0][0]      \n",
            "__________________________________________________________________________________________________\n",
            "conv1d_5 (Conv1D)               (None, 200, 81)      91935       re_lu_3[0][0]                    \n",
            "__________________________________________________________________________________________________\n",
            "batch_normalization_5 (BatchNor (None, 200, 81)      324         conv1d_5[0][0]                   \n",
            "__________________________________________________________________________________________________\n",
            "re_lu_4 (ReLU)                  (None, 200, 81)      0           batch_normalization_5[0][0]      \n",
            "__________________________________________________________________________________________________\n",
            "conv1d_6 (Conv1D)               (None, 200, 81)      91935       re_lu_4[0][0]                    \n",
            "__________________________________________________________________________________________________\n",
            "batch_normalization_6 (BatchNor (None, 200, 81)      324         conv1d_6[0][0]                   \n",
            "__________________________________________________________________________________________________\n",
            "re_lu_5 (ReLU)                  (None, 200, 81)      0           batch_normalization_6[0][0]      \n",
            "__________________________________________________________________________________________________\n",
            "conv1d_7 (Conv1D)               (None, 200, 81)      6642        re_lu_5[0][0]                    \n",
            "__________________________________________________________________________________________________\n",
            "add_1 (Add)                     (None, 200, 81)      0           re_lu_5[0][0]                    \n",
            "                                                                 conv1d_7[0][0]                   \n",
            "__________________________________________________________________________________________________\n",
            "conv1d_8 (Conv1D)               (None, 200, 115)     93265       add_1[0][0]                      \n",
            "__________________________________________________________________________________________________\n",
            "batch_normalization_7 (BatchNor (None, 200, 115)     460         conv1d_8[0][0]                   \n",
            "__________________________________________________________________________________________________\n",
            "re_lu_6 (ReLU)                  (None, 200, 115)     0           batch_normalization_7[0][0]      \n",
            "__________________________________________________________________________________________________\n",
            "conv1d_9 (Conv1D)               (None, 200, 115)     132365      re_lu_6[0][0]                    \n",
            "__________________________________________________________________________________________________\n",
            "batch_normalization_8 (BatchNor (None, 200, 115)     460         conv1d_9[0][0]                   \n",
            "__________________________________________________________________________________________________\n",
            "re_lu_7 (ReLU)                  (None, 200, 115)     0           batch_normalization_8[0][0]      \n",
            "__________________________________________________________________________________________________\n",
            "conv1d_10 (Conv1D)              (None, 200, 115)     132365      re_lu_7[0][0]                    \n",
            "__________________________________________________________________________________________________\n",
            "batch_normalization_9 (BatchNor (None, 200, 115)     460         conv1d_10[0][0]                  \n",
            "__________________________________________________________________________________________________\n",
            "re_lu_8 (ReLU)                  (None, 200, 115)     0           batch_normalization_9[0][0]      \n",
            "__________________________________________________________________________________________________\n",
            "conv1d_11 (Conv1D)              (None, 200, 115)     13340       re_lu_8[0][0]                    \n",
            "__________________________________________________________________________________________________\n",
            "add_2 (Add)                     (None, 200, 115)     0           re_lu_8[0][0]                    \n",
            "                                                                 conv1d_11[0][0]                  \n",
            "__________________________________________________________________________________________________\n",
            "conv1d_12 (Conv1D)              (None, 200, 162)     130572      add_2[0][0]                      \n",
            "__________________________________________________________________________________________________\n",
            "batch_normalization_10 (BatchNo (None, 200, 162)     648         conv1d_12[0][0]                  \n",
            "__________________________________________________________________________________________________\n",
            "re_lu_9 (ReLU)                  (None, 200, 162)     0           batch_normalization_10[0][0]     \n",
            "__________________________________________________________________________________________________\n",
            "conv1d_13 (Conv1D)              (None, 200, 162)     183870      re_lu_9[0][0]                    \n",
            "__________________________________________________________________________________________________\n",
            "batch_normalization_11 (BatchNo (None, 200, 162)     648         conv1d_13[0][0]                  \n",
            "__________________________________________________________________________________________________\n",
            "re_lu_10 (ReLU)                 (None, 200, 162)     0           batch_normalization_11[0][0]     \n",
            "__________________________________________________________________________________________________\n",
            "conv1d_14 (Conv1D)              (None, 200, 162)     183870      re_lu_10[0][0]                   \n",
            "__________________________________________________________________________________________________\n",
            "batch_normalization_12 (BatchNo (None, 200, 162)     648         conv1d_14[0][0]                  \n",
            "__________________________________________________________________________________________________\n",
            "re_lu_11 (ReLU)                 (None, 200, 162)     0           batch_normalization_12[0][0]     \n",
            "__________________________________________________________________________________________________\n",
            "conv1d_15 (Conv1D)              (None, 200, 162)     26406       re_lu_11[0][0]                   \n",
            "__________________________________________________________________________________________________\n",
            "add_3 (Add)                     (None, 200, 162)     0           re_lu_11[0][0]                   \n",
            "                                                                 conv1d_15[0][0]                  \n",
            "__________________________________________________________________________________________________\n",
            "global_average_pooling1d (Globa (None, 162)          0           add_3[0][0]                      \n",
            "__________________________________________________________________________________________________\n",
            "dense (Dense)                   (None, 3)            489         global_average_pooling1d[0][0]   \n",
            "==================================================================================================\n",
            "Total params: 1,303,039\n",
            "Trainable params: 1,300,531\n",
            "Non-trainable params: 2,508\n",
            "__________________________________________________________________________________________________\n",
            " \n",
            "Model type:\n",
            "ResNet\n",
            " \n",
            "-------------------------------------------------------------------------------------------------------\n",
            "Model 1\n",
            " \n",
            "Hyperparameters:\n",
            "{'learning_rate': 0.00012038843345967842, 'regularization_rate': 0.000373373060822645, 'network_depth': 3, 'min_filters_number': 37, 'max_kernel_size': 27}\n",
            " \n",
            "Model description:\n",
            "Model: \"model_1\"\n",
            "__________________________________________________________________________________________________\n",
            "Layer (type)                    Output Shape         Param #     Connected to                     \n",
            "==================================================================================================\n",
            "input_2 (InputLayer)            [(None, 200, 6)]     0                                            \n",
            "__________________________________________________________________________________________________\n",
            "batch_normalization_13 (BatchNo (None, 200, 6)       24          input_2[0][0]                    \n",
            "__________________________________________________________________________________________________\n",
            "conv1d_16 (Conv1D)              (None, 200, 37)      6031        batch_normalization_13[0][0]     \n",
            "__________________________________________________________________________________________________\n",
            "batch_normalization_14 (BatchNo (None, 200, 37)      148         conv1d_16[0][0]                  \n",
            "__________________________________________________________________________________________________\n",
            "re_lu_12 (ReLU)                 (None, 200, 37)      0           batch_normalization_14[0][0]     \n",
            "__________________________________________________________________________________________________\n",
            "conv1d_17 (Conv1D)              (None, 200, 37)      37000       re_lu_12[0][0]                   \n",
            "__________________________________________________________________________________________________\n",
            "batch_normalization_15 (BatchNo (None, 200, 37)      148         conv1d_17[0][0]                  \n",
            "__________________________________________________________________________________________________\n",
            "re_lu_13 (ReLU)                 (None, 200, 37)      0           batch_normalization_15[0][0]     \n",
            "__________________________________________________________________________________________________\n",
            "conv1d_18 (Conv1D)              (None, 200, 37)      37000       re_lu_13[0][0]                   \n",
            "__________________________________________________________________________________________________\n",
            "batch_normalization_16 (BatchNo (None, 200, 37)      148         conv1d_18[0][0]                  \n",
            "__________________________________________________________________________________________________\n",
            "re_lu_14 (ReLU)                 (None, 200, 37)      0           batch_normalization_16[0][0]     \n",
            "__________________________________________________________________________________________________\n",
            "conv1d_19 (Conv1D)              (None, 200, 37)      1406        re_lu_14[0][0]                   \n",
            "__________________________________________________________________________________________________\n",
            "add_4 (Add)                     (None, 200, 37)      0           re_lu_14[0][0]                   \n",
            "                                                                 conv1d_19[0][0]                  \n",
            "__________________________________________________________________________________________________\n",
            "conv1d_20 (Conv1D)              (None, 200, 52)      36608       add_4[0][0]                      \n",
            "__________________________________________________________________________________________________\n",
            "batch_normalization_17 (BatchNo (None, 200, 52)      208         conv1d_20[0][0]                  \n",
            "__________________________________________________________________________________________________\n",
            "re_lu_15 (ReLU)                 (None, 200, 52)      0           batch_normalization_17[0][0]     \n",
            "__________________________________________________________________________________________________\n",
            "conv1d_21 (Conv1D)              (None, 200, 52)      51428       re_lu_15[0][0]                   \n",
            "__________________________________________________________________________________________________\n",
            "batch_normalization_18 (BatchNo (None, 200, 52)      208         conv1d_21[0][0]                  \n",
            "__________________________________________________________________________________________________\n",
            "re_lu_16 (ReLU)                 (None, 200, 52)      0           batch_normalization_18[0][0]     \n",
            "__________________________________________________________________________________________________\n",
            "conv1d_22 (Conv1D)              (None, 200, 52)      51428       re_lu_16[0][0]                   \n",
            "__________________________________________________________________________________________________\n",
            "batch_normalization_19 (BatchNo (None, 200, 52)      208         conv1d_22[0][0]                  \n",
            "__________________________________________________________________________________________________\n",
            "re_lu_17 (ReLU)                 (None, 200, 52)      0           batch_normalization_19[0][0]     \n",
            "__________________________________________________________________________________________________\n",
            "conv1d_23 (Conv1D)              (None, 200, 52)      2756        re_lu_17[0][0]                   \n",
            "__________________________________________________________________________________________________\n",
            "add_5 (Add)                     (None, 200, 52)      0           re_lu_17[0][0]                   \n",
            "                                                                 conv1d_23[0][0]                  \n",
            "__________________________________________________________________________________________________\n",
            "conv1d_24 (Conv1D)              (None, 200, 73)      49421       add_5[0][0]                      \n",
            "__________________________________________________________________________________________________\n",
            "batch_normalization_20 (BatchNo (None, 200, 73)      292         conv1d_24[0][0]                  \n",
            "__________________________________________________________________________________________________\n",
            "re_lu_18 (ReLU)                 (None, 200, 73)      0           batch_normalization_20[0][0]     \n",
            "__________________________________________________________________________________________________\n",
            "conv1d_25 (Conv1D)              (None, 200, 73)      69350       re_lu_18[0][0]                   \n",
            "__________________________________________________________________________________________________\n",
            "batch_normalization_21 (BatchNo (None, 200, 73)      292         conv1d_25[0][0]                  \n",
            "__________________________________________________________________________________________________\n",
            "re_lu_19 (ReLU)                 (None, 200, 73)      0           batch_normalization_21[0][0]     \n",
            "__________________________________________________________________________________________________\n",
            "conv1d_26 (Conv1D)              (None, 200, 73)      69350       re_lu_19[0][0]                   \n",
            "__________________________________________________________________________________________________\n",
            "batch_normalization_22 (BatchNo (None, 200, 73)      292         conv1d_26[0][0]                  \n",
            "__________________________________________________________________________________________________\n",
            "re_lu_20 (ReLU)                 (None, 200, 73)      0           batch_normalization_22[0][0]     \n",
            "__________________________________________________________________________________________________\n",
            "conv1d_27 (Conv1D)              (None, 200, 73)      5402        re_lu_20[0][0]                   \n",
            "__________________________________________________________________________________________________\n",
            "add_6 (Add)                     (None, 200, 73)      0           re_lu_20[0][0]                   \n",
            "                                                                 conv1d_27[0][0]                  \n",
            "__________________________________________________________________________________________________\n",
            "global_average_pooling1d_1 (Glo (None, 73)           0           add_6[0][0]                      \n",
            "__________________________________________________________________________________________________\n",
            "dense_1 (Dense)                 (None, 3)            222         global_average_pooling1d_1[0][0] \n",
            "==================================================================================================\n",
            "Total params: 419,370\n",
            "Trainable params: 418,386\n",
            "Non-trainable params: 984\n",
            "__________________________________________________________________________________________________\n",
            " \n",
            "Model type:\n",
            "ResNet\n",
            " \n",
            "-------------------------------------------------------------------------------------------------------\n",
            "Model 2\n",
            " \n",
            "Hyperparameters:\n",
            "{'learning_rate': 0.0003304420988397601, 'regularization_rate': 0.00048039148842037396, 'network_depth': 2, 'min_filters_number': 96, 'max_kernel_size': 15}\n",
            " \n",
            "Model description:\n",
            "Model: \"model_2\"\n",
            "__________________________________________________________________________________________________\n",
            "Layer (type)                    Output Shape         Param #     Connected to                     \n",
            "==================================================================================================\n",
            "input_3 (InputLayer)            [(None, 200, 6)]     0                                            \n",
            "__________________________________________________________________________________________________\n",
            "batch_normalization_23 (BatchNo (None, 200, 6)       24          input_3[0][0]                    \n",
            "__________________________________________________________________________________________________\n",
            "conv1d_28 (Conv1D)              (None, 200, 96)      8736        batch_normalization_23[0][0]     \n",
            "__________________________________________________________________________________________________\n",
            "batch_normalization_24 (BatchNo (None, 200, 96)      384         conv1d_28[0][0]                  \n",
            "__________________________________________________________________________________________________\n",
            "re_lu_21 (ReLU)                 (None, 200, 96)      0           batch_normalization_24[0][0]     \n",
            "__________________________________________________________________________________________________\n",
            "conv1d_29 (Conv1D)              (None, 200, 96)      138336      re_lu_21[0][0]                   \n",
            "__________________________________________________________________________________________________\n",
            "batch_normalization_25 (BatchNo (None, 200, 96)      384         conv1d_29[0][0]                  \n",
            "__________________________________________________________________________________________________\n",
            "re_lu_22 (ReLU)                 (None, 200, 96)      0           batch_normalization_25[0][0]     \n",
            "__________________________________________________________________________________________________\n",
            "conv1d_30 (Conv1D)              (None, 200, 96)      138336      re_lu_22[0][0]                   \n",
            "__________________________________________________________________________________________________\n",
            "batch_normalization_26 (BatchNo (None, 200, 96)      384         conv1d_30[0][0]                  \n",
            "__________________________________________________________________________________________________\n",
            "re_lu_23 (ReLU)                 (None, 200, 96)      0           batch_normalization_26[0][0]     \n",
            "__________________________________________________________________________________________________\n",
            "conv1d_31 (Conv1D)              (None, 200, 96)      9312        re_lu_23[0][0]                   \n",
            "__________________________________________________________________________________________________\n",
            "add_7 (Add)                     (None, 200, 96)      0           re_lu_23[0][0]                   \n",
            "                                                                 conv1d_31[0][0]                  \n",
            "__________________________________________________________________________________________________\n",
            "conv1d_32 (Conv1D)              (None, 200, 135)     129735      add_7[0][0]                      \n",
            "__________________________________________________________________________________________________\n",
            "batch_normalization_27 (BatchNo (None, 200, 135)     540         conv1d_32[0][0]                  \n",
            "__________________________________________________________________________________________________\n",
            "re_lu_24 (ReLU)                 (None, 200, 135)     0           batch_normalization_27[0][0]     \n",
            "__________________________________________________________________________________________________\n",
            "conv1d_33 (Conv1D)              (None, 200, 135)     182385      re_lu_24[0][0]                   \n",
            "__________________________________________________________________________________________________\n",
            "batch_normalization_28 (BatchNo (None, 200, 135)     540         conv1d_33[0][0]                  \n",
            "__________________________________________________________________________________________________\n",
            "re_lu_25 (ReLU)                 (None, 200, 135)     0           batch_normalization_28[0][0]     \n",
            "__________________________________________________________________________________________________\n",
            "conv1d_34 (Conv1D)              (None, 200, 135)     182385      re_lu_25[0][0]                   \n",
            "__________________________________________________________________________________________________\n",
            "batch_normalization_29 (BatchNo (None, 200, 135)     540         conv1d_34[0][0]                  \n",
            "__________________________________________________________________________________________________\n",
            "re_lu_26 (ReLU)                 (None, 200, 135)     0           batch_normalization_29[0][0]     \n",
            "__________________________________________________________________________________________________\n",
            "conv1d_35 (Conv1D)              (None, 200, 135)     18360       re_lu_26[0][0]                   \n",
            "__________________________________________________________________________________________________\n",
            "add_8 (Add)                     (None, 200, 135)     0           re_lu_26[0][0]                   \n",
            "                                                                 conv1d_35[0][0]                  \n",
            "__________________________________________________________________________________________________\n",
            "global_average_pooling1d_2 (Glo (None, 135)          0           add_8[0][0]                      \n",
            "__________________________________________________________________________________________________\n",
            "dense_2 (Dense)                 (None, 3)            408         global_average_pooling1d_2[0][0] \n",
            "==================================================================================================\n",
            "Total params: 810,789\n",
            "Trainable params: 809,391\n",
            "Non-trainable params: 1,398\n",
            "__________________________________________________________________________________________________\n",
            " \n",
            "Model type:\n",
            "ResNet\n",
            " \n",
            "-------------------------------------------------------------------------------------------------------\n",
            "Model 3\n",
            " \n",
            "Hyperparameters:\n",
            "{'learning_rate': 0.0004269822324287578, 'regularization_rate': 0.04367115417741621, 'network_depth': 5, 'min_filters_number': 47, 'max_kernel_size': 27}\n",
            " \n",
            "Model description:\n",
            "Model: \"model_3\"\n",
            "__________________________________________________________________________________________________\n",
            "Layer (type)                    Output Shape         Param #     Connected to                     \n",
            "==================================================================================================\n",
            "input_4 (InputLayer)            [(None, 200, 6)]     0                                            \n",
            "__________________________________________________________________________________________________\n",
            "batch_normalization_30 (BatchNo (None, 200, 6)       24          input_4[0][0]                    \n",
            "__________________________________________________________________________________________________\n",
            "conv1d_36 (Conv1D)              (None, 200, 47)      7661        batch_normalization_30[0][0]     \n",
            "__________________________________________________________________________________________________\n",
            "batch_normalization_31 (BatchNo (None, 200, 47)      188         conv1d_36[0][0]                  \n",
            "__________________________________________________________________________________________________\n",
            "re_lu_27 (ReLU)                 (None, 200, 47)      0           batch_normalization_31[0][0]     \n",
            "__________________________________________________________________________________________________\n",
            "conv1d_37 (Conv1D)              (None, 200, 47)      59690       re_lu_27[0][0]                   \n",
            "__________________________________________________________________________________________________\n",
            "batch_normalization_32 (BatchNo (None, 200, 47)      188         conv1d_37[0][0]                  \n",
            "__________________________________________________________________________________________________\n",
            "re_lu_28 (ReLU)                 (None, 200, 47)      0           batch_normalization_32[0][0]     \n",
            "__________________________________________________________________________________________________\n",
            "conv1d_38 (Conv1D)              (None, 200, 47)      59690       re_lu_28[0][0]                   \n",
            "__________________________________________________________________________________________________\n",
            "batch_normalization_33 (BatchNo (None, 200, 47)      188         conv1d_38[0][0]                  \n",
            "__________________________________________________________________________________________________\n",
            "re_lu_29 (ReLU)                 (None, 200, 47)      0           batch_normalization_33[0][0]     \n",
            "__________________________________________________________________________________________________\n",
            "conv1d_39 (Conv1D)              (None, 200, 47)      2256        re_lu_29[0][0]                   \n",
            "__________________________________________________________________________________________________\n",
            "add_9 (Add)                     (None, 200, 47)      0           re_lu_29[0][0]                   \n",
            "                                                                 conv1d_39[0][0]                  \n",
            "__________________________________________________________________________________________________\n",
            "conv1d_40 (Conv1D)              (None, 200, 66)      59004       add_9[0][0]                      \n",
            "__________________________________________________________________________________________________\n",
            "batch_normalization_34 (BatchNo (None, 200, 66)      264         conv1d_40[0][0]                  \n",
            "__________________________________________________________________________________________________\n",
            "re_lu_30 (ReLU)                 (None, 200, 66)      0           batch_normalization_34[0][0]     \n",
            "__________________________________________________________________________________________________\n",
            "conv1d_41 (Conv1D)              (None, 200, 66)      82830       re_lu_30[0][0]                   \n",
            "__________________________________________________________________________________________________\n",
            "batch_normalization_35 (BatchNo (None, 200, 66)      264         conv1d_41[0][0]                  \n",
            "__________________________________________________________________________________________________\n",
            "re_lu_31 (ReLU)                 (None, 200, 66)      0           batch_normalization_35[0][0]     \n",
            "__________________________________________________________________________________________________\n",
            "conv1d_42 (Conv1D)              (None, 200, 66)      82830       re_lu_31[0][0]                   \n",
            "__________________________________________________________________________________________________\n",
            "batch_normalization_36 (BatchNo (None, 200, 66)      264         conv1d_42[0][0]                  \n",
            "__________________________________________________________________________________________________\n",
            "re_lu_32 (ReLU)                 (None, 200, 66)      0           batch_normalization_36[0][0]     \n",
            "__________________________________________________________________________________________________\n",
            "conv1d_43 (Conv1D)              (None, 200, 66)      4422        re_lu_32[0][0]                   \n",
            "__________________________________________________________________________________________________\n",
            "add_10 (Add)                    (None, 200, 66)      0           re_lu_32[0][0]                   \n",
            "                                                                 conv1d_43[0][0]                  \n",
            "__________________________________________________________________________________________________\n",
            "conv1d_44 (Conv1D)              (None, 200, 93)      79887       add_10[0][0]                     \n",
            "__________________________________________________________________________________________________\n",
            "batch_normalization_37 (BatchNo (None, 200, 93)      372         conv1d_44[0][0]                  \n",
            "__________________________________________________________________________________________________\n",
            "re_lu_33 (ReLU)                 (None, 200, 93)      0           batch_normalization_37[0][0]     \n",
            "__________________________________________________________________________________________________\n",
            "conv1d_45 (Conv1D)              (None, 200, 93)      112530      re_lu_33[0][0]                   \n",
            "__________________________________________________________________________________________________\n",
            "batch_normalization_38 (BatchNo (None, 200, 93)      372         conv1d_45[0][0]                  \n",
            "__________________________________________________________________________________________________\n",
            "re_lu_34 (ReLU)                 (None, 200, 93)      0           batch_normalization_38[0][0]     \n",
            "__________________________________________________________________________________________________\n",
            "conv1d_46 (Conv1D)              (None, 200, 93)      112530      re_lu_34[0][0]                   \n",
            "__________________________________________________________________________________________________\n",
            "batch_normalization_39 (BatchNo (None, 200, 93)      372         conv1d_46[0][0]                  \n",
            "__________________________________________________________________________________________________\n",
            "re_lu_35 (ReLU)                 (None, 200, 93)      0           batch_normalization_39[0][0]     \n",
            "__________________________________________________________________________________________________\n",
            "conv1d_47 (Conv1D)              (None, 200, 93)      8742        re_lu_35[0][0]                   \n",
            "__________________________________________________________________________________________________\n",
            "add_11 (Add)                    (None, 200, 93)      0           re_lu_35[0][0]                   \n",
            "                                                                 conv1d_47[0][0]                  \n",
            "__________________________________________________________________________________________________\n",
            "conv1d_48 (Conv1D)              (None, 200, 131)     109778      add_11[0][0]                     \n",
            "__________________________________________________________________________________________________\n",
            "batch_normalization_40 (BatchNo (None, 200, 131)     524         conv1d_48[0][0]                  \n",
            "__________________________________________________________________________________________________\n",
            "re_lu_36 (ReLU)                 (None, 200, 131)     0           batch_normalization_40[0][0]     \n",
            "__________________________________________________________________________________________________\n",
            "conv1d_49 (Conv1D)              (None, 200, 131)     154580      re_lu_36[0][0]                   \n",
            "__________________________________________________________________________________________________\n",
            "batch_normalization_41 (BatchNo (None, 200, 131)     524         conv1d_49[0][0]                  \n",
            "__________________________________________________________________________________________________\n",
            "re_lu_37 (ReLU)                 (None, 200, 131)     0           batch_normalization_41[0][0]     \n",
            "__________________________________________________________________________________________________\n",
            "conv1d_50 (Conv1D)              (None, 200, 131)     154580      re_lu_37[0][0]                   \n",
            "__________________________________________________________________________________________________\n",
            "batch_normalization_42 (BatchNo (None, 200, 131)     524         conv1d_50[0][0]                  \n",
            "__________________________________________________________________________________________________\n",
            "re_lu_38 (ReLU)                 (None, 200, 131)     0           batch_normalization_42[0][0]     \n",
            "__________________________________________________________________________________________________\n",
            "conv1d_51 (Conv1D)              (None, 200, 131)     17292       re_lu_38[0][0]                   \n",
            "__________________________________________________________________________________________________\n",
            "add_12 (Add)                    (None, 200, 131)     0           re_lu_38[0][0]                   \n",
            "                                                                 conv1d_51[0][0]                  \n",
            "__________________________________________________________________________________________________\n",
            "conv1d_52 (Conv1D)              (None, 200, 185)     145595      add_12[0][0]                     \n",
            "__________________________________________________________________________________________________\n",
            "batch_normalization_43 (BatchNo (None, 200, 185)     740         conv1d_52[0][0]                  \n",
            "__________________________________________________________________________________________________\n",
            "re_lu_39 (ReLU)                 (None, 200, 185)     0           batch_normalization_43[0][0]     \n",
            "__________________________________________________________________________________________________\n",
            "conv1d_53 (Conv1D)              (None, 200, 185)     205535      re_lu_39[0][0]                   \n",
            "__________________________________________________________________________________________________\n",
            "batch_normalization_44 (BatchNo (None, 200, 185)     740         conv1d_53[0][0]                  \n",
            "__________________________________________________________________________________________________\n",
            "re_lu_40 (ReLU)                 (None, 200, 185)     0           batch_normalization_44[0][0]     \n",
            "__________________________________________________________________________________________________\n",
            "conv1d_54 (Conv1D)              (None, 200, 185)     205535      re_lu_40[0][0]                   \n",
            "__________________________________________________________________________________________________\n",
            "batch_normalization_45 (BatchNo (None, 200, 185)     740         conv1d_54[0][0]                  \n",
            "__________________________________________________________________________________________________\n",
            "re_lu_41 (ReLU)                 (None, 200, 185)     0           batch_normalization_45[0][0]     \n",
            "__________________________________________________________________________________________________\n",
            "conv1d_55 (Conv1D)              (None, 200, 185)     34410       re_lu_41[0][0]                   \n",
            "__________________________________________________________________________________________________\n",
            "add_13 (Add)                    (None, 200, 185)     0           re_lu_41[0][0]                   \n",
            "                                                                 conv1d_55[0][0]                  \n",
            "__________________________________________________________________________________________________\n",
            "global_average_pooling1d_3 (Glo (None, 185)          0           add_13[0][0]                     \n",
            "__________________________________________________________________________________________________\n",
            "dense_3 (Dense)                 (None, 3)            558         global_average_pooling1d_3[0][0] \n",
            "==================================================================================================\n",
            "Total params: 1,706,223\n",
            "Trainable params: 1,703,079\n",
            "Non-trainable params: 3,144\n",
            "__________________________________________________________________________________________________\n",
            " \n",
            "Model type:\n",
            "ResNet\n",
            " \n"
          ],
          "name": "stdout"
        }
      ]
    },
    {
      "cell_type": "code",
      "metadata": {
        "colab": {
          "base_uri": "https://localhost:8080/",
          "height": 34
        },
        "id": "kiaO9MxVLBBG",
        "outputId": "475914f1-2125-41d0-b155-731345073c28"
      },
      "source": [
        "pwd"
      ],
      "execution_count": null,
      "outputs": [
        {
          "output_type": "execute_result",
          "data": {
            "application/vnd.google.colaboratory.intrinsic+json": {
              "type": "string"
            },
            "text/plain": [
              "'/saurabh/My Drive/Datasets/har/wisdm-dataset'"
            ]
          },
          "metadata": {
            "tags": []
          },
          "execution_count": 23
        }
      ]
    },
    {
      "cell_type": "code",
      "metadata": {
        "id": "HqcXQDC0ycPS"
      },
      "source": [
        "directory_to_extract_to = os.path.join('.', 'resnetsmarphone')"
      ],
      "execution_count": null,
      "outputs": []
    },
    {
      "cell_type": "code",
      "metadata": {
        "id": "DMT_U__mycat"
      },
      "source": [
        "# Define directory where the results, e.g. json file, will be stored\n",
        "resultpath = os.path.join(directory_to_extract_to, 'models')\n",
        "if not os.path.exists(resultpath):\n",
        "    os.makedirs(resultpath)"
      ],
      "execution_count": null,
      "outputs": []
    },
    {
      "cell_type": "code",
      "metadata": {
        "id": "wjTVWkOdycd9",
        "colab": {
          "base_uri": "https://localhost:8080/"
        },
        "outputId": "3f5c17ad-f1bc-4f20-ceb3-707ec8affefa"
      },
      "source": [
        "print('X shape:', X_train.shape)\n",
        "print('y shape:', y_train.shape)"
      ],
      "execution_count": null,
      "outputs": [
        {
          "output_type": "stream",
          "text": [
            "X shape: (56469, 200, 6)\n",
            "y shape: (56469, 3)\n"
          ],
          "name": "stdout"
        }
      ]
    },
    {
      "cell_type": "code",
      "metadata": {
        "id": "JUU_F3vaycjG",
        "colab": {
          "base_uri": "https://localhost:8080/"
        },
        "outputId": "5a045e7e-638f-4723-b832-2f2c851d4a1e"
      },
      "source": [
        "from mcfly.find_architecture import train_models_on_samples\n",
        "\n",
        "outputfile = os.path.join(resultpath, 'modelcomparison.json')\n",
        "histories, val_accuracies, val_losses = train_models_on_samples(X_train, y_train,\n",
        "                                                                X_val, y_val,\n",
        "                                                                models, nr_epochs=25,\n",
        "                                                                subset_size= None,\n",
        "                                                                early_stopping_patience = 3,\n",
        "                                                                verbose=True,\n",
        "                                                                outputfile=outputfile,\n",
        "                                                                metric=metric,batch_size = 64)"
      ],
      "execution_count": null,
      "outputs": [
        {
          "output_type": "stream",
          "text": [
            "/usr/local/lib/python3.6/dist-packages/mcfly/find_architecture.py:134: UserWarning: Argument 'metric' is deprecated and will be ignored.\n",
            "  warnings.warn(\"Argument 'metric' is deprecated and will be ignored.\")\n"
          ],
          "name": "stderr"
        },
        {
          "output_type": "stream",
          "text": [
            "Training model 0 ResNet\n",
            "Epoch 1/25\n",
            "883/883 [==============================] - 60s 55ms/step - loss: 0.8627 - accuracy: 0.5790 - val_loss: 0.7792 - val_accuracy: 0.6165\n",
            "Epoch 2/25\n",
            "883/883 [==============================] - 50s 57ms/step - loss: 0.7568 - accuracy: 0.6261 - val_loss: 0.7172 - val_accuracy: 0.6462\n",
            "Epoch 3/25\n",
            "883/883 [==============================] - 51s 58ms/step - loss: 0.7237 - accuracy: 0.6421 - val_loss: 0.6942 - val_accuracy: 0.6481\n",
            "Epoch 4/25\n",
            "883/883 [==============================] - 51s 58ms/step - loss: 0.7051 - accuracy: 0.6568 - val_loss: 0.6994 - val_accuracy: 0.6502\n",
            "Epoch 5/25\n",
            "883/883 [==============================] - 52s 59ms/step - loss: 0.6836 - accuracy: 0.6694 - val_loss: 0.6544 - val_accuracy: 0.6920\n",
            "Epoch 6/25\n",
            "883/883 [==============================] - 52s 59ms/step - loss: 0.6699 - accuracy: 0.6811 - val_loss: 0.6463 - val_accuracy: 0.7008\n",
            "Epoch 7/25\n",
            "883/883 [==============================] - 52s 59ms/step - loss: 0.6562 - accuracy: 0.6863 - val_loss: 0.6309 - val_accuracy: 0.7090\n",
            "Epoch 8/25\n",
            "883/883 [==============================] - 52s 59ms/step - loss: 0.6409 - accuracy: 0.6984 - val_loss: 0.6307 - val_accuracy: 0.7066\n",
            "Epoch 9/25\n",
            "883/883 [==============================] - 53s 60ms/step - loss: 0.6289 - accuracy: 0.7026 - val_loss: 0.7153 - val_accuracy: 0.6827\n",
            "Epoch 10/25\n",
            "883/883 [==============================] - 53s 60ms/step - loss: 0.6187 - accuracy: 0.7088 - val_loss: 0.6131 - val_accuracy: 0.7160\n",
            "Epoch 11/25\n",
            "883/883 [==============================] - 53s 60ms/step - loss: 0.6068 - accuracy: 0.7157 - val_loss: 0.6146 - val_accuracy: 0.7180\n",
            "Epoch 12/25\n",
            "883/883 [==============================] - 52s 59ms/step - loss: 0.5970 - accuracy: 0.7209 - val_loss: 0.6079 - val_accuracy: 0.7198\n",
            "Epoch 13/25\n",
            "883/883 [==============================] - 53s 60ms/step - loss: 0.5845 - accuracy: 0.7279 - val_loss: 0.6196 - val_accuracy: 0.7277\n",
            "Epoch 14/25\n",
            "883/883 [==============================] - 53s 60ms/step - loss: 0.5748 - accuracy: 0.7330 - val_loss: 0.5913 - val_accuracy: 0.7388\n",
            "Epoch 15/25\n",
            "883/883 [==============================] - 52s 58ms/step - loss: 0.5661 - accuracy: 0.7385 - val_loss: 0.5730 - val_accuracy: 0.7418\n",
            "Epoch 16/25\n",
            "883/883 [==============================] - 52s 59ms/step - loss: 0.5576 - accuracy: 0.7423 - val_loss: 0.5565 - val_accuracy: 0.7406\n",
            "Epoch 17/25\n",
            "883/883 [==============================] - 52s 59ms/step - loss: 0.5470 - accuracy: 0.7465 - val_loss: 0.5644 - val_accuracy: 0.7462\n",
            "Epoch 18/25\n",
            "883/883 [==============================] - 52s 59ms/step - loss: 0.5411 - accuracy: 0.7518 - val_loss: 0.5455 - val_accuracy: 0.7552\n",
            "Epoch 19/25\n",
            "883/883 [==============================] - 52s 59ms/step - loss: 0.5336 - accuracy: 0.7538 - val_loss: 0.5718 - val_accuracy: 0.7471\n",
            "Epoch 20/25\n",
            "883/883 [==============================] - 52s 59ms/step - loss: 0.5236 - accuracy: 0.7578 - val_loss: 0.5455 - val_accuracy: 0.7514\n",
            "Epoch 21/25\n",
            "883/883 [==============================] - 52s 59ms/step - loss: 0.5221 - accuracy: 0.7597 - val_loss: 0.5127 - val_accuracy: 0.7728\n",
            "Epoch 22/25\n",
            "883/883 [==============================] - 52s 59ms/step - loss: 0.5115 - accuracy: 0.7657 - val_loss: 0.5282 - val_accuracy: 0.7674\n",
            "Epoch 23/25\n",
            "883/883 [==============================] - 53s 59ms/step - loss: 0.5070 - accuracy: 0.7675 - val_loss: 0.5316 - val_accuracy: 0.7763\n",
            "Epoch 24/25\n",
            "883/883 [==============================] - 52s 59ms/step - loss: 0.4983 - accuracy: 0.7725 - val_loss: 0.4999 - val_accuracy: 0.7746\n",
            "Epoch 25/25\n",
            "883/883 [==============================] - 53s 60ms/step - loss: 0.4898 - accuracy: 0.7755 - val_loss: 0.5208 - val_accuracy: 0.7831\n",
            "Training model 1 ResNet\n",
            "Epoch 1/25\n",
            "883/883 [==============================] - 27s 26ms/step - loss: 0.8245 - accuracy: 0.6043 - val_loss: 0.6943 - val_accuracy: 0.6770\n",
            "Epoch 2/25\n",
            "883/883 [==============================] - 21s 23ms/step - loss: 0.6816 - accuracy: 0.6777 - val_loss: 0.6485 - val_accuracy: 0.6998\n",
            "Epoch 3/25\n",
            "883/883 [==============================] - 20s 23ms/step - loss: 0.6291 - accuracy: 0.7053 - val_loss: 0.5974 - val_accuracy: 0.7243\n",
            "Epoch 4/25\n",
            "883/883 [==============================] - 20s 22ms/step - loss: 0.5938 - accuracy: 0.7253 - val_loss: 0.5728 - val_accuracy: 0.7401\n",
            "Epoch 5/25\n",
            "883/883 [==============================] - 21s 23ms/step - loss: 0.5658 - accuracy: 0.7387 - val_loss: 0.5428 - val_accuracy: 0.7602\n",
            "Epoch 6/25\n",
            "883/883 [==============================] - 21s 24ms/step - loss: 0.5428 - accuracy: 0.7494 - val_loss: 0.5453 - val_accuracy: 0.7606\n",
            "Epoch 7/25\n",
            "883/883 [==============================] - 21s 24ms/step - loss: 0.5248 - accuracy: 0.7600 - val_loss: 0.5134 - val_accuracy: 0.7719\n",
            "Epoch 8/25\n",
            "883/883 [==============================] - 21s 24ms/step - loss: 0.5051 - accuracy: 0.7703 - val_loss: 0.5031 - val_accuracy: 0.7789\n",
            "Epoch 9/25\n",
            "883/883 [==============================] - 21s 24ms/step - loss: 0.4903 - accuracy: 0.7777 - val_loss: 0.5398 - val_accuracy: 0.7703\n",
            "Epoch 10/25\n",
            "883/883 [==============================] - 21s 24ms/step - loss: 0.4756 - accuracy: 0.7842 - val_loss: 0.4734 - val_accuracy: 0.7906\n",
            "Epoch 11/25\n",
            "883/883 [==============================] - 21s 24ms/step - loss: 0.4600 - accuracy: 0.7933 - val_loss: 0.4908 - val_accuracy: 0.7848\n",
            "Epoch 12/25\n",
            "883/883 [==============================] - 21s 24ms/step - loss: 0.4483 - accuracy: 0.7995 - val_loss: 0.4604 - val_accuracy: 0.8032\n",
            "Epoch 13/25\n",
            "883/883 [==============================] - 21s 24ms/step - loss: 0.4338 - accuracy: 0.8087 - val_loss: 0.4867 - val_accuracy: 0.8082\n",
            "Epoch 14/25\n",
            "883/883 [==============================] - 20s 22ms/step - loss: 0.4228 - accuracy: 0.8144 - val_loss: 0.6055 - val_accuracy: 0.7987\n",
            "Epoch 15/25\n",
            "883/883 [==============================] - 21s 24ms/step - loss: 0.4161 - accuracy: 0.8185 - val_loss: 0.4748 - val_accuracy: 0.8082\n",
            "Epoch 00015: early stopping\n",
            "Training model 2 ResNet\n",
            "Epoch 1/25\n",
            "883/883 [==============================] - 34s 36ms/step - loss: 0.8167 - accuracy: 0.6054 - val_loss: 0.7404 - val_accuracy: 0.6324\n",
            "Epoch 2/25\n",
            "883/883 [==============================] - 32s 36ms/step - loss: 0.6999 - accuracy: 0.6659 - val_loss: 0.6684 - val_accuracy: 0.6774\n",
            "Epoch 3/25\n",
            "883/883 [==============================] - 31s 36ms/step - loss: 0.6573 - accuracy: 0.6877 - val_loss: 0.6775 - val_accuracy: 0.6866\n",
            "Epoch 4/25\n",
            "883/883 [==============================] - 31s 35ms/step - loss: 0.6269 - accuracy: 0.7052 - val_loss: 0.6513 - val_accuracy: 0.7083\n",
            "Epoch 5/25\n",
            "883/883 [==============================] - 32s 36ms/step - loss: 0.6003 - accuracy: 0.7199 - val_loss: 0.6005 - val_accuracy: 0.7276\n",
            "Epoch 6/25\n",
            "883/883 [==============================] - 32s 36ms/step - loss: 0.5832 - accuracy: 0.7270 - val_loss: 0.5888 - val_accuracy: 0.7317\n",
            "Epoch 7/25\n",
            "883/883 [==============================] - 32s 36ms/step - loss: 0.5616 - accuracy: 0.7404 - val_loss: 0.5602 - val_accuracy: 0.7379\n",
            "Epoch 8/25\n",
            "883/883 [==============================] - 32s 36ms/step - loss: 0.5458 - accuracy: 0.7501 - val_loss: 0.5434 - val_accuracy: 0.7469\n",
            "Epoch 9/25\n",
            "883/883 [==============================] - 32s 36ms/step - loss: 0.5327 - accuracy: 0.7560 - val_loss: 0.5349 - val_accuracy: 0.7575\n",
            "Epoch 10/25\n",
            "883/883 [==============================] - 31s 35ms/step - loss: 0.5186 - accuracy: 0.7627 - val_loss: 0.5345 - val_accuracy: 0.7634\n",
            "Epoch 11/25\n",
            "883/883 [==============================] - 31s 35ms/step - loss: 0.5017 - accuracy: 0.7698 - val_loss: 0.4908 - val_accuracy: 0.7799\n",
            "Epoch 12/25\n",
            "883/883 [==============================] - 31s 35ms/step - loss: 0.4932 - accuracy: 0.7767 - val_loss: 0.4918 - val_accuracy: 0.7807\n",
            "Epoch 13/25\n",
            "883/883 [==============================] - 31s 36ms/step - loss: 0.4794 - accuracy: 0.7814 - val_loss: 0.4770 - val_accuracy: 0.7864\n",
            "Epoch 14/25\n",
            "883/883 [==============================] - 31s 35ms/step - loss: 0.4652 - accuracy: 0.7895 - val_loss: 0.4799 - val_accuracy: 0.7885\n",
            "Epoch 15/25\n",
            "883/883 [==============================] - 31s 35ms/step - loss: 0.4566 - accuracy: 0.7914 - val_loss: 0.4597 - val_accuracy: 0.7952\n",
            "Epoch 16/25\n",
            "883/883 [==============================] - 32s 36ms/step - loss: 0.4454 - accuracy: 0.7967 - val_loss: 0.4633 - val_accuracy: 0.7988\n",
            "Epoch 17/25\n",
            "883/883 [==============================] - 32s 36ms/step - loss: 0.4450 - accuracy: 0.8002 - val_loss: 0.4488 - val_accuracy: 0.8035\n",
            "Epoch 18/25\n",
            "883/883 [==============================] - 32s 36ms/step - loss: 0.4269 - accuracy: 0.8056 - val_loss: 0.4390 - val_accuracy: 0.8032\n",
            "Epoch 19/25\n",
            "883/883 [==============================] - 32s 36ms/step - loss: 0.4161 - accuracy: 0.8124 - val_loss: 0.4674 - val_accuracy: 0.7973\n",
            "Epoch 20/25\n",
            "883/883 [==============================] - 32s 36ms/step - loss: 0.4061 - accuracy: 0.8172 - val_loss: 0.4667 - val_accuracy: 0.7992\n",
            "Epoch 21/25\n",
            "883/883 [==============================] - 31s 35ms/step - loss: 0.4044 - accuracy: 0.8166 - val_loss: 0.4546 - val_accuracy: 0.8123\n",
            "Epoch 00021: early stopping\n",
            "Training model 3 ResNet\n",
            "Epoch 1/25\n",
            "883/883 [==============================] - 75s 78ms/step - loss: 0.8686 - accuracy: 0.5835 - val_loss: 0.7494 - val_accuracy: 0.6255\n",
            "Epoch 2/25\n",
            "883/883 [==============================] - 66s 75ms/step - loss: 0.7555 - accuracy: 0.6303 - val_loss: 0.7442 - val_accuracy: 0.6397\n",
            "Epoch 3/25\n",
            "883/883 [==============================] - 66s 75ms/step - loss: 0.7176 - accuracy: 0.6533 - val_loss: 0.7245 - val_accuracy: 0.6526\n",
            "Epoch 4/25\n",
            "883/883 [==============================] - 66s 75ms/step - loss: 0.6967 - accuracy: 0.6626 - val_loss: 0.6697 - val_accuracy: 0.6728\n",
            "Epoch 5/25\n",
            "883/883 [==============================] - 66s 75ms/step - loss: 0.6740 - accuracy: 0.6754 - val_loss: 0.7630 - val_accuracy: 0.6539\n",
            "Epoch 6/25\n",
            "883/883 [==============================] - 66s 75ms/step - loss: 0.6639 - accuracy: 0.6880 - val_loss: 0.6476 - val_accuracy: 0.6937\n",
            "Epoch 7/25\n",
            "883/883 [==============================] - 66s 75ms/step - loss: 0.6417 - accuracy: 0.6935 - val_loss: 0.6369 - val_accuracy: 0.6964\n",
            "Epoch 8/25\n",
            "883/883 [==============================] - 66s 75ms/step - loss: 0.6301 - accuracy: 0.7044 - val_loss: 0.6410 - val_accuracy: 0.6999\n",
            "Epoch 9/25\n",
            "883/883 [==============================] - 66s 75ms/step - loss: 0.6127 - accuracy: 0.7120 - val_loss: 0.6133 - val_accuracy: 0.7131\n",
            "Epoch 10/25\n",
            "883/883 [==============================] - 66s 75ms/step - loss: 0.5971 - accuracy: 0.7224 - val_loss: 0.5958 - val_accuracy: 0.7313\n",
            "Epoch 11/25\n",
            "883/883 [==============================] - 66s 75ms/step - loss: 0.5867 - accuracy: 0.7279 - val_loss: 0.6025 - val_accuracy: 0.7270\n",
            "Epoch 12/25\n",
            "883/883 [==============================] - 66s 75ms/step - loss: 0.5774 - accuracy: 0.7329 - val_loss: 0.5998 - val_accuracy: 0.7229\n",
            "Epoch 13/25\n",
            "883/883 [==============================] - 66s 75ms/step - loss: 0.5718 - accuracy: 0.7345 - val_loss: 0.5599 - val_accuracy: 0.7471\n",
            "Epoch 14/25\n",
            "883/883 [==============================] - 66s 75ms/step - loss: 0.5576 - accuracy: 0.7430 - val_loss: 0.5799 - val_accuracy: 0.7343\n",
            "Epoch 15/25\n",
            "883/883 [==============================] - 66s 75ms/step - loss: 0.5505 - accuracy: 0.7452 - val_loss: 0.5573 - val_accuracy: 0.7481\n",
            "Epoch 16/25\n",
            "883/883 [==============================] - 66s 75ms/step - loss: 0.5389 - accuracy: 0.7504 - val_loss: 0.5889 - val_accuracy: 0.7404\n",
            "Epoch 17/25\n",
            "883/883 [==============================] - 66s 75ms/step - loss: 0.5297 - accuracy: 0.7558 - val_loss: 0.5460 - val_accuracy: 0.7548\n",
            "Epoch 18/25\n",
            "883/883 [==============================] - 66s 75ms/step - loss: 0.5229 - accuracy: 0.7601 - val_loss: 0.5578 - val_accuracy: 0.7505\n",
            "Epoch 19/25\n",
            "883/883 [==============================] - 66s 75ms/step - loss: 0.5139 - accuracy: 0.7642 - val_loss: 0.5698 - val_accuracy: 0.7517\n",
            "Epoch 20/25\n",
            "883/883 [==============================] - 66s 74ms/step - loss: 0.5035 - accuracy: 0.7701 - val_loss: 0.5453 - val_accuracy: 0.7691\n",
            "Epoch 21/25\n",
            "883/883 [==============================] - 65s 74ms/step - loss: 0.4977 - accuracy: 0.7722 - val_loss: 0.5262 - val_accuracy: 0.7702\n",
            "Epoch 22/25\n",
            "883/883 [==============================] - 65s 74ms/step - loss: 0.4872 - accuracy: 0.7761 - val_loss: 0.5145 - val_accuracy: 0.7738\n",
            "Epoch 23/25\n",
            "883/883 [==============================] - 66s 74ms/step - loss: 0.4781 - accuracy: 0.7831 - val_loss: 0.5261 - val_accuracy: 0.7862\n",
            "Epoch 24/25\n",
            "883/883 [==============================] - 65s 74ms/step - loss: 0.4695 - accuracy: 0.7870 - val_loss: 0.5114 - val_accuracy: 0.7854\n",
            "Epoch 25/25\n",
            "883/883 [==============================] - 65s 74ms/step - loss: 0.4655 - accuracy: 0.7904 - val_loss: 0.4995 - val_accuracy: 0.7886\n"
          ],
          "name": "stdout"
        }
      ]
    },
    {
      "cell_type": "code",
      "metadata": {
        "id": "zOrTSKy0ycqt"
      },
      "source": [
        "best_model_index = 2"
      ],
      "execution_count": null,
      "outputs": []
    },
    {
      "cell_type": "code",
      "metadata": {
        "id": "NrH1H5obycy8",
        "colab": {
          "base_uri": "https://localhost:8080/"
        },
        "outputId": "f20004a6-9035-48df-83c1-61bc44a0d385"
      },
      "source": [
        "best_model_index"
      ],
      "execution_count": null,
      "outputs": [
        {
          "output_type": "execute_result",
          "data": {
            "text/plain": [
              "2"
            ]
          },
          "metadata": {
            "tags": []
          },
          "execution_count": 29
        }
      ]
    },
    {
      "cell_type": "code",
      "metadata": {
        "id": "OjoVSaH0yc4G",
        "colab": {
          "base_uri": "https://localhost:8080/"
        },
        "outputId": "a613c778-d9fd-4152-f7dd-f91863363334"
      },
      "source": [
        "best_model, best_params, best_model_types = models[best_model_index]\r\n",
        "print(best_model_index, best_model_types, best_params)"
      ],
      "execution_count": null,
      "outputs": [
        {
          "output_type": "stream",
          "text": [
            "2 ResNet {'learning_rate': 0.0003304420988397601, 'regularization_rate': 0.00048039148842037396, 'network_depth': 2, 'min_filters_number': 96, 'max_kernel_size': 15}\n"
          ],
          "name": "stdout"
        }
      ]
    },
    {
      "cell_type": "code",
      "metadata": {
        "id": "iDF-h1jxyc9e",
        "colab": {
          "base_uri": "https://localhost:8080/"
        },
        "outputId": "acf57187-22be-4496-de74-374ffbb47eb7"
      },
      "source": [
        "best_params"
      ],
      "execution_count": null,
      "outputs": [
        {
          "output_type": "execute_result",
          "data": {
            "text/plain": [
              "{'learning_rate': 0.0003304420988397601,\n",
              " 'max_kernel_size': 15,\n",
              " 'min_filters_number': 96,\n",
              " 'network_depth': 2,\n",
              " 'regularization_rate': 0.00048039148842037396}"
            ]
          },
          "metadata": {
            "tags": []
          },
          "execution_count": 31
        }
      ]
    },
    {
      "cell_type": "code",
      "metadata": {
        "id": "aucEjYM_yc8G",
        "colab": {
          "base_uri": "https://localhost:8080/"
        },
        "outputId": "cb8d8e9f-3dcc-46b4-ae87-490fede24b6a"
      },
      "source": [
        "best_model.summary()"
      ],
      "execution_count": null,
      "outputs": [
        {
          "output_type": "stream",
          "text": [
            "Model: \"model_2\"\n",
            "__________________________________________________________________________________________________\n",
            "Layer (type)                    Output Shape         Param #     Connected to                     \n",
            "==================================================================================================\n",
            "input_3 (InputLayer)            [(None, 200, 6)]     0                                            \n",
            "__________________________________________________________________________________________________\n",
            "batch_normalization_23 (BatchNo (None, 200, 6)       24          input_3[0][0]                    \n",
            "__________________________________________________________________________________________________\n",
            "conv1d_28 (Conv1D)              (None, 200, 96)      8736        batch_normalization_23[0][0]     \n",
            "__________________________________________________________________________________________________\n",
            "batch_normalization_24 (BatchNo (None, 200, 96)      384         conv1d_28[0][0]                  \n",
            "__________________________________________________________________________________________________\n",
            "re_lu_21 (ReLU)                 (None, 200, 96)      0           batch_normalization_24[0][0]     \n",
            "__________________________________________________________________________________________________\n",
            "conv1d_29 (Conv1D)              (None, 200, 96)      138336      re_lu_21[0][0]                   \n",
            "__________________________________________________________________________________________________\n",
            "batch_normalization_25 (BatchNo (None, 200, 96)      384         conv1d_29[0][0]                  \n",
            "__________________________________________________________________________________________________\n",
            "re_lu_22 (ReLU)                 (None, 200, 96)      0           batch_normalization_25[0][0]     \n",
            "__________________________________________________________________________________________________\n",
            "conv1d_30 (Conv1D)              (None, 200, 96)      138336      re_lu_22[0][0]                   \n",
            "__________________________________________________________________________________________________\n",
            "batch_normalization_26 (BatchNo (None, 200, 96)      384         conv1d_30[0][0]                  \n",
            "__________________________________________________________________________________________________\n",
            "re_lu_23 (ReLU)                 (None, 200, 96)      0           batch_normalization_26[0][0]     \n",
            "__________________________________________________________________________________________________\n",
            "conv1d_31 (Conv1D)              (None, 200, 96)      9312        re_lu_23[0][0]                   \n",
            "__________________________________________________________________________________________________\n",
            "add_7 (Add)                     (None, 200, 96)      0           re_lu_23[0][0]                   \n",
            "                                                                 conv1d_31[0][0]                  \n",
            "__________________________________________________________________________________________________\n",
            "conv1d_32 (Conv1D)              (None, 200, 135)     129735      add_7[0][0]                      \n",
            "__________________________________________________________________________________________________\n",
            "batch_normalization_27 (BatchNo (None, 200, 135)     540         conv1d_32[0][0]                  \n",
            "__________________________________________________________________________________________________\n",
            "re_lu_24 (ReLU)                 (None, 200, 135)     0           batch_normalization_27[0][0]     \n",
            "__________________________________________________________________________________________________\n",
            "conv1d_33 (Conv1D)              (None, 200, 135)     182385      re_lu_24[0][0]                   \n",
            "__________________________________________________________________________________________________\n",
            "batch_normalization_28 (BatchNo (None, 200, 135)     540         conv1d_33[0][0]                  \n",
            "__________________________________________________________________________________________________\n",
            "re_lu_25 (ReLU)                 (None, 200, 135)     0           batch_normalization_28[0][0]     \n",
            "__________________________________________________________________________________________________\n",
            "conv1d_34 (Conv1D)              (None, 200, 135)     182385      re_lu_25[0][0]                   \n",
            "__________________________________________________________________________________________________\n",
            "batch_normalization_29 (BatchNo (None, 200, 135)     540         conv1d_34[0][0]                  \n",
            "__________________________________________________________________________________________________\n",
            "re_lu_26 (ReLU)                 (None, 200, 135)     0           batch_normalization_29[0][0]     \n",
            "__________________________________________________________________________________________________\n",
            "conv1d_35 (Conv1D)              (None, 200, 135)     18360       re_lu_26[0][0]                   \n",
            "__________________________________________________________________________________________________\n",
            "add_8 (Add)                     (None, 200, 135)     0           re_lu_26[0][0]                   \n",
            "                                                                 conv1d_35[0][0]                  \n",
            "__________________________________________________________________________________________________\n",
            "global_average_pooling1d_2 (Glo (None, 135)          0           add_8[0][0]                      \n",
            "__________________________________________________________________________________________________\n",
            "dense_2 (Dense)                 (None, 3)            408         global_average_pooling1d_2[0][0] \n",
            "==================================================================================================\n",
            "Total params: 810,789\n",
            "Trainable params: 809,391\n",
            "Non-trainable params: 1,398\n",
            "__________________________________________________________________________________________________\n"
          ],
          "name": "stdout"
        }
      ]
    },
    {
      "cell_type": "code",
      "metadata": {
        "id": "sY7TJLE3yc2A"
      },
      "source": [
        "from keras.utils.vis_utils import plot_model"
      ],
      "execution_count": null,
      "outputs": []
    },
    {
      "cell_type": "code",
      "metadata": {
        "id": "yIwgkwexycwV",
        "colab": {
          "base_uri": "https://localhost:8080/",
          "height": 1000
        },
        "outputId": "b2dd784d-f7ab-49b4-d3f6-dc8405445eac"
      },
      "source": [
        "plot_model(best_model, to_file='model_plot3.png', show_shapes=True,rankdir = 'TB',expand_nested = False,  show_layer_names=False, show_dtype =False)"
      ],
      "execution_count": null,
      "outputs": [
        {
          "output_type": "execute_result",
          "data": {
            "image/png": "[encoded data removed]",
            "text/plain": [
              "<IPython.core.display.Image object>"
            ]
          },
          "metadata": {
            "tags": []
          },
          "execution_count": 34
        }
      ]
    },
    {
      "cell_type": "code",
      "metadata": {
        "id": "jpmePsJQycmj"
      },
      "source": [
        "# Reverse activity encoding encodes index like 3 -> eating sandwich\r\n",
        "reverse_activity_encoding = {v: activity_map[k] for k, v in activity_encoding.items()}\r\n",
        "lstm_y_val_pred = best_model.predict(X_val)\r\n",
        "\r\n",
        "y_val_argmax = y_val.argmax(axis=1)\r\n",
        "y_val_pred_argmax = lstm_y_val_pred.argmax(axis=1)\r\n",
        "\r\n",
        "lstm_actual_val_activities = [reverse_activity_encoding[i] for i in y_val_argmax]\r\n",
        "lstm_predicted_val_activities = [reverse_activity_encoding[i] for i in y_val_pred_argmax]\r\n",
        "\r\n",
        "##### Below is Final Test Set results ######\r\n",
        "lstm_y_test_pred = best_model.predict(X_test)\r\n",
        "lstm_y_test_argmax = y_test.argmax(axis=1)\r\n",
        "\r\n",
        "lstm_y_test_pred_argmax = lstm_y_test_pred.argmax(axis=1)\r\n",
        "\r\n",
        "lstm_actual_test_activities = [reverse_activity_encoding[i] for i in lstm_y_test_argmax]\r\n",
        "lstm_predicted_test_activities = [reverse_activity_encoding[i] for i in lstm_y_test_pred_argmax]"
      ],
      "execution_count": null,
      "outputs": []
    },
    {
      "cell_type": "code",
      "metadata": {
        "id": "gpxeS-eEychF",
        "colab": {
          "base_uri": "https://localhost:8080/"
        },
        "outputId": "b3e7b3b1-a2e6-47ab-f41a-f6006b40df0c"
      },
      "source": [
        "from sklearn.metrics import classification_report \r\n",
        "print(\"             Smartphone Results with ResNet for Validation Set\\n\\n\" + classification_report(lstm_predicted_val_activities,lstm_actual_val_activities , digits = 4))\r\n",
        "print(\"             Smartphone Results with ResNet for Test Set\\n\\n\" + classification_report(lstm_predicted_test_activities,lstm_actual_test_activities , digits = 4))"
      ],
      "execution_count": null,
      "outputs": [
        {
          "output_type": "stream",
          "text": [
            "             Smartphone Results with ResNet for Validation Set\n",
            "\n",
            "                       precision    recall  f1-score   support\n",
            "\n",
            "  Ambulation Oriented     0.8622    0.8446    0.8533      6527\n",
            " Hand Oriented Eating     0.8167    0.7248    0.7680      5915\n",
            "Hand Oriented General     0.7646    0.8604    0.8097      6381\n",
            "\n",
            "             accuracy                         0.8123     18823\n",
            "            macro avg     0.8145    0.8099    0.8103     18823\n",
            "         weighted avg     0.8148    0.8123    0.8117     18823\n",
            "\n",
            "             Smartphone Results with ResNet for Test Set\n",
            "\n",
            "                       precision    recall  f1-score   support\n",
            "\n",
            "  Ambulation Oriented     0.8625    0.8406    0.8514      6405\n",
            " Hand Oriented Eating     0.8116    0.7142    0.7598      5928\n",
            "Hand Oriented General     0.7629    0.8656    0.8110      6490\n",
            "\n",
            "             accuracy                         0.8094     18823\n",
            "            macro avg     0.8123    0.8068    0.8074     18823\n",
            "         weighted avg     0.8121    0.8094    0.8086     18823\n",
            "\n"
          ],
          "name": "stdout"
        }
      ]
    },
    {
      "cell_type": "code",
      "metadata": {
        "id": "-lURnyRtycYS",
        "colab": {
          "base_uri": "https://localhost:8080/",
          "height": 404
        },
        "outputId": "ceb00889-87f2-44df-cff9-b293f9bd680e"
      },
      "source": [
        "import seaborn as sns\r\n",
        "from sklearn.metrics import confusion_matrix\r\n",
        "lstm_cm = confusion_matrix(lstm_y_test_argmax, lstm_y_test_pred_argmax)\r\n",
        "df_cm = pd.DataFrame(lstm_cm, index = [reverse_activity_encoding[i] for i in range(3)], columns = [reverse_activity_encoding[i] for i in range(3)])\r\n",
        "#plt.figure(figsize = (12,12))\r\n",
        "plt.title('Smartphone ResNet Confusion Matrix')\r\n",
        "sns.heatmap(df_cm, annot=True, fmt='g')"
      ],
      "execution_count": null,
      "outputs": [
        {
          "output_type": "execute_result",
          "data": {
            "text/plain": [
              "<matplotlib.axes._subplots.AxesSubplot at 0x7fc387a79710>"
            ]
          },
          "metadata": {
            "tags": []
          },
          "execution_count": 37
        },
        {
          "output_type": "display_data",
          "data": {
            "image/png": "[encoded data removed]",
            "text/plain": [
              "<Figure size 432x288 with 2 Axes>"
            ]
          },
          "metadata": {
            "tags": [],
            "needs_background": "light"
          }
        }
      ]
    },
    {
      "cell_type": "code",
      "metadata": {
        "id": "jqYryCbUGqwd"
      },
      "source": [
        ""
      ],
      "execution_count": null,
      "outputs": []
    }
  ]
}