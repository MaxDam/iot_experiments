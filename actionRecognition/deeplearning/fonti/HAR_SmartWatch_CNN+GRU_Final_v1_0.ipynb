{
  "nbformat": 4,
  "nbformat_minor": 0,
  "metadata": {
    "colab": {
      "name": "HAR SmartWatch CNN+GRU Final v1.0.ipynb",
      "provenance": []
    },
    "kernelspec": {
      "name": "python3",
      "display_name": "Python 3"
    },
    "widgets": {
      "application/vnd.jupyter.widget-state+json": {
        "44d5642fb0994dc3a9818484fee34abb": {
          "model_module": "@jupyter-widgets/controls",
          "model_name": "HBoxModel",
          "state": {
            "_view_name": "HBoxView",
            "_dom_classes": [],
            "_model_name": "HBoxModel",
            "_view_module": "@jupyter-widgets/controls",
            "_model_module_version": "1.5.0",
            "_view_count": null,
            "_view_module_version": "1.5.0",
            "box_style": "",
            "layout": "IPY_MODEL_ca47ef6404e04927afaf2d0dc93f5531",
            "_model_module": "@jupyter-widgets/controls",
            "children": [
              "IPY_MODEL_eaff2651fa1e414294ca8cbde3953b07",
              "IPY_MODEL_e62491139355409385d90bb4527914e1"
            ]
          }
        },
        "ca47ef6404e04927afaf2d0dc93f5531": {
          "model_module": "@jupyter-widgets/base",
          "model_name": "LayoutModel",
          "state": {
            "_view_name": "LayoutView",
            "grid_template_rows": null,
            "right": null,
            "justify_content": null,
            "_view_module": "@jupyter-widgets/base",
            "overflow": null,
            "_model_module_version": "1.2.0",
            "_view_count": null,
            "flex_flow": null,
            "width": null,
            "min_width": null,
            "border": null,
            "align_items": null,
            "bottom": null,
            "_model_module": "@jupyter-widgets/base",
            "top": null,
            "grid_column": null,
            "overflow_y": null,
            "overflow_x": null,
            "grid_auto_flow": null,
            "grid_area": null,
            "grid_template_columns": null,
            "flex": null,
            "_model_name": "LayoutModel",
            "justify_items": null,
            "grid_row": null,
            "max_height": null,
            "align_content": null,
            "visibility": null,
            "align_self": null,
            "height": null,
            "min_height": null,
            "padding": null,
            "grid_auto_rows": null,
            "grid_gap": null,
            "max_width": null,
            "order": null,
            "_view_module_version": "1.2.0",
            "grid_template_areas": null,
            "object_position": null,
            "object_fit": null,
            "grid_auto_columns": null,
            "margin": null,
            "display": null,
            "left": null
          }
        },
        "eaff2651fa1e414294ca8cbde3953b07": {
          "model_module": "@jupyter-widgets/controls",
          "model_name": "FloatProgressModel",
          "state": {
            "_view_name": "ProgressView",
            "style": "IPY_MODEL_2bd6f187e3a94cd2a6cdc343f6ed656f",
            "_dom_classes": [],
            "description": "100%",
            "_model_name": "FloatProgressModel",
            "bar_style": "success",
            "max": 74619,
            "_view_module": "@jupyter-widgets/controls",
            "_model_module_version": "1.5.0",
            "value": 74619,
            "_view_count": null,
            "_view_module_version": "1.5.0",
            "orientation": "horizontal",
            "min": 0,
            "description_tooltip": null,
            "_model_module": "@jupyter-widgets/controls",
            "layout": "IPY_MODEL_62c2575f6e774538b6f84b5214fc927b"
          }
        },
        "e62491139355409385d90bb4527914e1": {
          "model_module": "@jupyter-widgets/controls",
          "model_name": "HTMLModel",
          "state": {
            "_view_name": "HTMLView",
            "style": "IPY_MODEL_0a6e352b93f14c3b9c81372196b183a4",
            "_dom_classes": [],
            "description": "",
            "_model_name": "HTMLModel",
            "placeholder": "​",
            "_view_module": "@jupyter-widgets/controls",
            "_model_module_version": "1.5.0",
            "value": " 74619/74619 [02:16&lt;00:00, 545.66it/s]",
            "_view_count": null,
            "_view_module_version": "1.5.0",
            "description_tooltip": null,
            "_model_module": "@jupyter-widgets/controls",
            "layout": "IPY_MODEL_afb5c4d005e44b8e8541a7c5b12e93ae"
          }
        },
        "2bd6f187e3a94cd2a6cdc343f6ed656f": {
          "model_module": "@jupyter-widgets/controls",
          "model_name": "ProgressStyleModel",
          "state": {
            "_view_name": "StyleView",
            "_model_name": "ProgressStyleModel",
            "description_width": "initial",
            "_view_module": "@jupyter-widgets/base",
            "_model_module_version": "1.5.0",
            "_view_count": null,
            "_view_module_version": "1.2.0",
            "bar_color": null,
            "_model_module": "@jupyter-widgets/controls"
          }
        },
        "62c2575f6e774538b6f84b5214fc927b": {
          "model_module": "@jupyter-widgets/base",
          "model_name": "LayoutModel",
          "state": {
            "_view_name": "LayoutView",
            "grid_template_rows": null,
            "right": null,
            "justify_content": null,
            "_view_module": "@jupyter-widgets/base",
            "overflow": null,
            "_model_module_version": "1.2.0",
            "_view_count": null,
            "flex_flow": null,
            "width": null,
            "min_width": null,
            "border": null,
            "align_items": null,
            "bottom": null,
            "_model_module": "@jupyter-widgets/base",
            "top": null,
            "grid_column": null,
            "overflow_y": null,
            "overflow_x": null,
            "grid_auto_flow": null,
            "grid_area": null,
            "grid_template_columns": null,
            "flex": null,
            "_model_name": "LayoutModel",
            "justify_items": null,
            "grid_row": null,
            "max_height": null,
            "align_content": null,
            "visibility": null,
            "align_self": null,
            "height": null,
            "min_height": null,
            "padding": null,
            "grid_auto_rows": null,
            "grid_gap": null,
            "max_width": null,
            "order": null,
            "_view_module_version": "1.2.0",
            "grid_template_areas": null,
            "object_position": null,
            "object_fit": null,
            "grid_auto_columns": null,
            "margin": null,
            "display": null,
            "left": null
          }
        },
        "0a6e352b93f14c3b9c81372196b183a4": {
          "model_module": "@jupyter-widgets/controls",
          "model_name": "DescriptionStyleModel",
          "state": {
            "_view_name": "StyleView",
            "_model_name": "DescriptionStyleModel",
            "description_width": "",
            "_view_module": "@jupyter-widgets/base",
            "_model_module_version": "1.5.0",
            "_view_count": null,
            "_view_module_version": "1.2.0",
            "_model_module": "@jupyter-widgets/controls"
          }
        },
        "afb5c4d005e44b8e8541a7c5b12e93ae": {
          "model_module": "@jupyter-widgets/base",
          "model_name": "LayoutModel",
          "state": {
            "_view_name": "LayoutView",
            "grid_template_rows": null,
            "right": null,
            "justify_content": null,
            "_view_module": "@jupyter-widgets/base",
            "overflow": null,
            "_model_module_version": "1.2.0",
            "_view_count": null,
            "flex_flow": null,
            "width": null,
            "min_width": null,
            "border": null,
            "align_items": null,
            "bottom": null,
            "_model_module": "@jupyter-widgets/base",
            "top": null,
            "grid_column": null,
            "overflow_y": null,
            "overflow_x": null,
            "grid_auto_flow": null,
            "grid_area": null,
            "grid_template_columns": null,
            "flex": null,
            "_model_name": "LayoutModel",
            "justify_items": null,
            "grid_row": null,
            "max_height": null,
            "align_content": null,
            "visibility": null,
            "align_self": null,
            "height": null,
            "min_height": null,
            "padding": null,
            "grid_auto_rows": null,
            "grid_gap": null,
            "max_width": null,
            "order": null,
            "_view_module_version": "1.2.0",
            "grid_template_areas": null,
            "object_position": null,
            "object_fit": null,
            "grid_auto_columns": null,
            "margin": null,
            "display": null,
            "left": null
          }
        },
        "361dce7bcfcb4f509c00ad47a359eaae": {
          "model_module": "@jupyter-widgets/controls",
          "model_name": "HBoxModel",
          "state": {
            "_view_name": "HBoxView",
            "_dom_classes": [],
            "_model_name": "HBoxModel",
            "_view_module": "@jupyter-widgets/controls",
            "_model_module_version": "1.5.0",
            "_view_count": null,
            "_view_module_version": "1.5.0",
            "box_style": "",
            "layout": "IPY_MODEL_e5736343c4b74d7bac1cdfbb820b115a",
            "_model_module": "@jupyter-widgets/controls",
            "children": [
              "IPY_MODEL_e57ec8b6b02441ef97cc8649df1d430f",
              "IPY_MODEL_b7fd45efe1304e6d9ba7d432258abd24"
            ]
          }
        },
        "e5736343c4b74d7bac1cdfbb820b115a": {
          "model_module": "@jupyter-widgets/base",
          "model_name": "LayoutModel",
          "state": {
            "_view_name": "LayoutView",
            "grid_template_rows": null,
            "right": null,
            "justify_content": null,
            "_view_module": "@jupyter-widgets/base",
            "overflow": null,
            "_model_module_version": "1.2.0",
            "_view_count": null,
            "flex_flow": null,
            "width": null,
            "min_width": null,
            "border": null,
            "align_items": null,
            "bottom": null,
            "_model_module": "@jupyter-widgets/base",
            "top": null,
            "grid_column": null,
            "overflow_y": null,
            "overflow_x": null,
            "grid_auto_flow": null,
            "grid_area": null,
            "grid_template_columns": null,
            "flex": null,
            "_model_name": "LayoutModel",
            "justify_items": null,
            "grid_row": null,
            "max_height": null,
            "align_content": null,
            "visibility": null,
            "align_self": null,
            "height": null,
            "min_height": null,
            "padding": null,
            "grid_auto_rows": null,
            "grid_gap": null,
            "max_width": null,
            "order": null,
            "_view_module_version": "1.2.0",
            "grid_template_areas": null,
            "object_position": null,
            "object_fit": null,
            "grid_auto_columns": null,
            "margin": null,
            "display": null,
            "left": null
          }
        },
        "e57ec8b6b02441ef97cc8649df1d430f": {
          "model_module": "@jupyter-widgets/controls",
          "model_name": "FloatProgressModel",
          "state": {
            "_view_name": "ProgressView",
            "style": "IPY_MODEL_876b1ff8892541549d1b0dc75b41928c",
            "_dom_classes": [],
            "description": "100%",
            "_model_name": "FloatProgressModel",
            "bar_style": "success",
            "max": 73101,
            "_view_module": "@jupyter-widgets/controls",
            "_model_module_version": "1.5.0",
            "value": 73101,
            "_view_count": null,
            "_view_module_version": "1.5.0",
            "orientation": "horizontal",
            "min": 0,
            "description_tooltip": null,
            "_model_module": "@jupyter-widgets/controls",
            "layout": "IPY_MODEL_7adf92eeb5014ef593a3c547f9541236"
          }
        },
        "b7fd45efe1304e6d9ba7d432258abd24": {
          "model_module": "@jupyter-widgets/controls",
          "model_name": "HTMLModel",
          "state": {
            "_view_name": "HTMLView",
            "style": "IPY_MODEL_19ab5a64a40c42a29f7c25731c5bd7ff",
            "_dom_classes": [],
            "description": "",
            "_model_name": "HTMLModel",
            "placeholder": "​",
            "_view_module": "@jupyter-widgets/controls",
            "_model_module_version": "1.5.0",
            "value": " 73101/73101 [01:50&lt;00:00, 660.47it/s]",
            "_view_count": null,
            "_view_module_version": "1.5.0",
            "description_tooltip": null,
            "_model_module": "@jupyter-widgets/controls",
            "layout": "IPY_MODEL_842bc07ae92748358c46025be744459e"
          }
        },
        "876b1ff8892541549d1b0dc75b41928c": {
          "model_module": "@jupyter-widgets/controls",
          "model_name": "ProgressStyleModel",
          "state": {
            "_view_name": "StyleView",
            "_model_name": "ProgressStyleModel",
            "description_width": "initial",
            "_view_module": "@jupyter-widgets/base",
            "_model_module_version": "1.5.0",
            "_view_count": null,
            "_view_module_version": "1.2.0",
            "bar_color": null,
            "_model_module": "@jupyter-widgets/controls"
          }
        },
        "7adf92eeb5014ef593a3c547f9541236": {
          "model_module": "@jupyter-widgets/base",
          "model_name": "LayoutModel",
          "state": {
            "_view_name": "LayoutView",
            "grid_template_rows": null,
            "right": null,
            "justify_content": null,
            "_view_module": "@jupyter-widgets/base",
            "overflow": null,
            "_model_module_version": "1.2.0",
            "_view_count": null,
            "flex_flow": null,
            "width": null,
            "min_width": null,
            "border": null,
            "align_items": null,
            "bottom": null,
            "_model_module": "@jupyter-widgets/base",
            "top": null,
            "grid_column": null,
            "overflow_y": null,
            "overflow_x": null,
            "grid_auto_flow": null,
            "grid_area": null,
            "grid_template_columns": null,
            "flex": null,
            "_model_name": "LayoutModel",
            "justify_items": null,
            "grid_row": null,
            "max_height": null,
            "align_content": null,
            "visibility": null,
            "align_self": null,
            "height": null,
            "min_height": null,
            "padding": null,
            "grid_auto_rows": null,
            "grid_gap": null,
            "max_width": null,
            "order": null,
            "_view_module_version": "1.2.0",
            "grid_template_areas": null,
            "object_position": null,
            "object_fit": null,
            "grid_auto_columns": null,
            "margin": null,
            "display": null,
            "left": null
          }
        },
        "19ab5a64a40c42a29f7c25731c5bd7ff": {
          "model_module": "@jupyter-widgets/controls",
          "model_name": "DescriptionStyleModel",
          "state": {
            "_view_name": "StyleView",
            "_model_name": "DescriptionStyleModel",
            "description_width": "",
            "_view_module": "@jupyter-widgets/base",
            "_model_module_version": "1.5.0",
            "_view_count": null,
            "_view_module_version": "1.2.0",
            "_model_module": "@jupyter-widgets/controls"
          }
        },
        "842bc07ae92748358c46025be744459e": {
          "model_module": "@jupyter-widgets/base",
          "model_name": "LayoutModel",
          "state": {
            "_view_name": "LayoutView",
            "grid_template_rows": null,
            "right": null,
            "justify_content": null,
            "_view_module": "@jupyter-widgets/base",
            "overflow": null,
            "_model_module_version": "1.2.0",
            "_view_count": null,
            "flex_flow": null,
            "width": null,
            "min_width": null,
            "border": null,
            "align_items": null,
            "bottom": null,
            "_model_module": "@jupyter-widgets/base",
            "top": null,
            "grid_column": null,
            "overflow_y": null,
            "overflow_x": null,
            "grid_auto_flow": null,
            "grid_area": null,
            "grid_template_columns": null,
            "flex": null,
            "_model_name": "LayoutModel",
            "justify_items": null,
            "grid_row": null,
            "max_height": null,
            "align_content": null,
            "visibility": null,
            "align_self": null,
            "height": null,
            "min_height": null,
            "padding": null,
            "grid_auto_rows": null,
            "grid_gap": null,
            "max_width": null,
            "order": null,
            "_view_module_version": "1.2.0",
            "grid_template_areas": null,
            "object_position": null,
            "object_fit": null,
            "grid_auto_columns": null,
            "margin": null,
            "display": null,
            "left": null
          }
        }
      }
    },
    "accelerator": "GPU"
  },
  "cells": [
    {
      "cell_type": "code",
      "metadata": {
        "id": "og0GRM4buWlk",
        "colab": {
          "base_uri": "https://localhost:8080/"
        },
        "outputId": "89831e74-f4f1-40f1-9a32-5f169c1886c3"
      },
      "source": [
        "from google.colab import drive \r\n",
        "drive.mount('/saurabh' , force_remount = True)"
      ],
      "execution_count": null,
      "outputs": [
        {
          "output_type": "stream",
          "text": [
            "Mounted at /saurabh\n"
          ],
          "name": "stdout"
        }
      ]
    },
    {
      "cell_type": "markdown",
      "metadata": {
        "id": "wP_X3DgApfeg"
      },
      "source": [
        "# **CNN+GRU Hybrid Model for Smartwatch Dataset**"
      ]
    },
    {
      "cell_type": "markdown",
      "metadata": {
        "id": "jS6-VcbSp3Eg"
      },
      "source": [
        "## **Installing Optuna and OptKeras packages which will be used for tuning hyperparameters**"
      ]
    },
    {
      "cell_type": "code",
      "metadata": {
        "colab": {
          "base_uri": "https://localhost:8080/",
          "height": 1000
        },
        "id": "E10W-oBPodpZ",
        "outputId": "daa28072-41c7-4db6-90f4-06571d142c35"
      },
      "source": [
        "!pip3 install optuna==0.14.0\r\n",
        "!pip3 install optkeras==0.0.7"
      ],
      "execution_count": null,
      "outputs": [
        {
          "output_type": "stream",
          "text": [
            "Collecting optuna==0.14.0\n",
            "\u001b[?25l  Downloading https://files.pythonhosted.org/packages/0c/dc/c10b179b9bbee133241049ee360cc3135b725e18380f1b7d5aced02f961e/optuna-0.14.0.tar.gz (91kB)\n",
            "\u001b[K     |████████████████████████████████| 92kB 6.0MB/s \n",
            "\u001b[?25hRequirement already satisfied: sqlalchemy>=1.1.0 in /usr/local/lib/python3.6/dist-packages (from optuna==0.14.0) (1.3.20)\n",
            "Requirement already satisfied: numpy in /usr/local/lib/python3.6/dist-packages (from optuna==0.14.0) (1.19.4)\n",
            "Requirement already satisfied: scipy in /usr/local/lib/python3.6/dist-packages (from optuna==0.14.0) (1.4.1)\n",
            "Requirement already satisfied: six in /usr/local/lib/python3.6/dist-packages (from optuna==0.14.0) (1.15.0)\n",
            "Collecting cliff\n",
            "\u001b[?25l  Downloading https://files.pythonhosted.org/packages/8a/61/5b64d73b01c1218f55c894b5ec0fb89b32c6960b7f7b3ad9f5ac0c373b9d/cliff-3.5.0-py3-none-any.whl (81kB)\n",
            "\u001b[K     |████████████████████████████████| 81kB 7.1MB/s \n",
            "\u001b[?25hCollecting colorlog\n",
            "  Downloading https://files.pythonhosted.org/packages/4e/c8/c16d30bbed11a1722060014c246d124582d1f781b26f5859d8dacc3e08e1/colorlog-4.6.2-py2.py3-none-any.whl\n",
            "Requirement already satisfied: pandas in /usr/local/lib/python3.6/dist-packages (from optuna==0.14.0) (1.1.5)\n",
            "Collecting alembic\n",
            "\u001b[?25l  Downloading https://files.pythonhosted.org/packages/12/aa/c261dfd7f4ba6ce4701846a2689a46e2a172e012171de4378fc2926e3bf0/alembic-1.4.3-py2.py3-none-any.whl (159kB)\n",
            "\u001b[K     |████████████████████████████████| 163kB 14.3MB/s \n",
            "\u001b[?25hCollecting typing\n",
            "\u001b[?25l  Downloading https://files.pythonhosted.org/packages/05/d9/6eebe19d46bd05360c9a9aae822e67a80f9242aabbfc58b641b957546607/typing-3.7.4.3.tar.gz (78kB)\n",
            "\u001b[K     |████████████████████████████████| 81kB 9.1MB/s \n",
            "\u001b[?25hCollecting stevedore>=2.0.1\n",
            "\u001b[?25l  Downloading https://files.pythonhosted.org/packages/d4/49/b602307aeac3df3384ff1fcd05da9c0376c622a6c48bb5325f28ab165b57/stevedore-3.3.0-py3-none-any.whl (49kB)\n",
            "\u001b[K     |████████████████████████████████| 51kB 7.3MB/s \n",
            "\u001b[?25hCollecting cmd2!=0.8.3,>=0.8.0\n",
            "\u001b[?25l  Downloading https://files.pythonhosted.org/packages/27/54/af6e2703f064485d717cb311d3f9440cd302a823ba6d80a020b59eae166d/cmd2-1.4.0-py3-none-any.whl (133kB)\n",
            "\u001b[K     |████████████████████████████████| 133kB 12.7MB/s \n",
            "\u001b[?25hCollecting pbr!=2.1.0,>=2.0.0\n",
            "\u001b[?25l  Downloading https://files.pythonhosted.org/packages/fb/48/69046506f6ac61c1eaa9a0d42d22d54673b69e176d30ca98e3f61513e980/pbr-5.5.1-py2.py3-none-any.whl (106kB)\n",
            "\u001b[K     |████████████████████████████████| 112kB 16.5MB/s \n",
            "\u001b[?25hCollecting PrettyTable<0.8,>=0.7.2\n",
            "  Downloading https://files.pythonhosted.org/packages/ef/30/4b0746848746ed5941f052479e7c23d2b56d174b82f4fd34a25e389831f5/prettytable-0.7.2.tar.bz2\n",
            "Requirement already satisfied: PyYAML>=3.12 in /usr/local/lib/python3.6/dist-packages (from cliff->optuna==0.14.0) (3.13)\n",
            "Requirement already satisfied: pyparsing>=2.1.0 in /usr/local/lib/python3.6/dist-packages (from cliff->optuna==0.14.0) (2.4.7)\n",
            "Requirement already satisfied: pytz>=2017.2 in /usr/local/lib/python3.6/dist-packages (from pandas->optuna==0.14.0) (2018.9)\n",
            "Requirement already satisfied: python-dateutil>=2.7.3 in /usr/local/lib/python3.6/dist-packages (from pandas->optuna==0.14.0) (2.8.1)\n",
            "Collecting python-editor>=0.3\n",
            "  Downloading https://files.pythonhosted.org/packages/c6/d3/201fc3abe391bbae6606e6f1d598c15d367033332bd54352b12f35513717/python_editor-1.0.4-py3-none-any.whl\n",
            "Collecting Mako\n",
            "\u001b[?25l  Downloading https://files.pythonhosted.org/packages/a6/37/0e706200d22172eb8fa17d68a7ae22dec7631a0a92266634fb518a88a5b2/Mako-1.1.3-py2.py3-none-any.whl (75kB)\n",
            "\u001b[K     |████████████████████████████████| 81kB 6.3MB/s \n",
            "\u001b[?25hRequirement already satisfied: importlib-metadata>=1.7.0; python_version < \"3.8\" in /usr/local/lib/python3.6/dist-packages (from stevedore>=2.0.1->cliff->optuna==0.14.0) (3.3.0)\n",
            "Requirement already satisfied: attrs>=16.3.0 in /usr/local/lib/python3.6/dist-packages (from cmd2!=0.8.3,>=0.8.0->cliff->optuna==0.14.0) (20.3.0)\n",
            "Requirement already satisfied: wcwidth>=0.1.7 in /usr/local/lib/python3.6/dist-packages (from cmd2!=0.8.3,>=0.8.0->cliff->optuna==0.14.0) (0.2.5)\n",
            "Collecting colorama>=0.3.7\n",
            "  Downloading https://files.pythonhosted.org/packages/44/98/5b86278fbbf250d239ae0ecb724f8572af1c91f4a11edf4d36a206189440/colorama-0.4.4-py2.py3-none-any.whl\n",
            "Collecting pyperclip>=1.6\n",
            "  Downloading https://files.pythonhosted.org/packages/6f/4c/0b1d507ad7e8bc31d690d04b4f475e74c2002d060f7994ce8c09612df707/pyperclip-1.8.1.tar.gz\n",
            "Requirement already satisfied: MarkupSafe>=0.9.2 in /usr/local/lib/python3.6/dist-packages (from Mako->alembic->optuna==0.14.0) (1.1.1)\n",
            "Requirement already satisfied: zipp>=0.5 in /usr/local/lib/python3.6/dist-packages (from importlib-metadata>=1.7.0; python_version < \"3.8\"->stevedore>=2.0.1->cliff->optuna==0.14.0) (3.4.0)\n",
            "Requirement already satisfied: typing-extensions>=3.6.4; python_version < \"3.8\" in /usr/local/lib/python3.6/dist-packages (from importlib-metadata>=1.7.0; python_version < \"3.8\"->stevedore>=2.0.1->cliff->optuna==0.14.0) (3.7.4.3)\n",
            "Building wheels for collected packages: optuna, typing, PrettyTable, pyperclip\n",
            "  Building wheel for optuna (setup.py) ... \u001b[?25l\u001b[?25hdone\n",
            "  Created wheel for optuna: filename=optuna-0.14.0-cp36-none-any.whl size=125712 sha256=f1983924d98348b763331733943ab6bd03eca49d2f865444e9578d6b949abaab\n",
            "  Stored in directory: /root/.cache/pip/wheels/4f/5f/2b/3c699d0425d8f34f8a81dfebe30f4d2b9f19377f41c57dbae3\n",
            "  Building wheel for typing (setup.py) ... \u001b[?25l\u001b[?25hdone\n",
            "  Created wheel for typing: filename=typing-3.7.4.3-cp36-none-any.whl size=26310 sha256=9982d8bfa9f80a8face97a4e101123bc437925c5b31bbdd74fbb6e803dbce70a\n",
            "  Stored in directory: /root/.cache/pip/wheels/2d/04/41/8e1836e79581989c22eebac3f4e70aaac9af07b0908da173be\n",
            "  Building wheel for PrettyTable (setup.py) ... \u001b[?25l\u001b[?25hdone\n",
            "  Created wheel for PrettyTable: filename=prettytable-0.7.2-cp36-none-any.whl size=13702 sha256=f67187e553a4168c1baf950f649343cdbc1e7072c65a70cdbe5e3d8b90b06faa\n",
            "  Stored in directory: /root/.cache/pip/wheels/80/34/1c/3967380d9676d162cb59513bd9dc862d0584e045a162095606\n",
            "  Building wheel for pyperclip (setup.py) ... \u001b[?25l\u001b[?25hdone\n",
            "  Created wheel for pyperclip: filename=pyperclip-1.8.1-cp36-none-any.whl size=11120 sha256=bcd128d8fd4f5928652bda01770e8dcded1c8544481210f7365a06924ec768f5\n",
            "  Stored in directory: /root/.cache/pip/wheels/44/10/3a/c830e9bb3db2c93274ea1f213a41fabde0d8cf3794251fad0c\n",
            "Successfully built optuna typing PrettyTable pyperclip\n",
            "Installing collected packages: pbr, stevedore, colorama, pyperclip, cmd2, PrettyTable, cliff, colorlog, python-editor, Mako, alembic, typing, optuna\n",
            "  Found existing installation: prettytable 2.0.0\n",
            "    Uninstalling prettytable-2.0.0:\n",
            "      Successfully uninstalled prettytable-2.0.0\n",
            "Successfully installed Mako-1.1.3 PrettyTable-0.7.2 alembic-1.4.3 cliff-3.5.0 cmd2-1.4.0 colorama-0.4.4 colorlog-4.6.2 optuna-0.14.0 pbr-5.5.1 pyperclip-1.8.1 python-editor-1.0.4 stevedore-3.3.0 typing-3.7.4.3\n"
          ],
          "name": "stdout"
        },
        {
          "output_type": "display_data",
          "data": {
            "application/vnd.colab-display-data+json": {
              "pip_warning": {
                "packages": [
                  "typing"
                ]
              }
            }
          },
          "metadata": {
            "tags": []
          }
        },
        {
          "output_type": "stream",
          "text": [
            "Collecting optkeras==0.0.7\n",
            "  Downloading https://files.pythonhosted.org/packages/c2/e3/51dca48c141c8c461a01c0d1fabe33ded992abfe9ec3c0a899e64a7834ab/optkeras-0.0.7-py3-none-any.whl\n",
            "Requirement already satisfied: numpy in /usr/local/lib/python3.6/dist-packages (from optkeras==0.0.7) (1.19.4)\n",
            "Requirement already satisfied: optuna>=0.9.0 in /usr/local/lib/python3.6/dist-packages (from optkeras==0.0.7) (0.14.0)\n",
            "Requirement already satisfied: keras in /usr/local/lib/python3.6/dist-packages (from optkeras==0.0.7) (2.4.3)\n",
            "Requirement already satisfied: pandas in /usr/local/lib/python3.6/dist-packages (from optuna>=0.9.0->optkeras==0.0.7) (1.1.5)\n",
            "Requirement already satisfied: typing in /usr/local/lib/python3.6/dist-packages (from optuna>=0.9.0->optkeras==0.0.7) (3.7.4.3)\n",
            "Requirement already satisfied: colorlog in /usr/local/lib/python3.6/dist-packages (from optuna>=0.9.0->optkeras==0.0.7) (4.6.2)\n",
            "Requirement already satisfied: cliff in /usr/local/lib/python3.6/dist-packages (from optuna>=0.9.0->optkeras==0.0.7) (3.5.0)\n",
            "Requirement already satisfied: alembic in /usr/local/lib/python3.6/dist-packages (from optuna>=0.9.0->optkeras==0.0.7) (1.4.3)\n",
            "Requirement already satisfied: scipy in /usr/local/lib/python3.6/dist-packages (from optuna>=0.9.0->optkeras==0.0.7) (1.4.1)\n",
            "Requirement already satisfied: sqlalchemy>=1.1.0 in /usr/local/lib/python3.6/dist-packages (from optuna>=0.9.0->optkeras==0.0.7) (1.3.20)\n",
            "Requirement already satisfied: six in /usr/local/lib/python3.6/dist-packages (from optuna>=0.9.0->optkeras==0.0.7) (1.15.0)\n",
            "Requirement already satisfied: h5py in /usr/local/lib/python3.6/dist-packages (from keras->optkeras==0.0.7) (2.10.0)\n",
            "Requirement already satisfied: pyyaml in /usr/local/lib/python3.6/dist-packages (from keras->optkeras==0.0.7) (3.13)\n",
            "Requirement already satisfied: python-dateutil>=2.7.3 in /usr/local/lib/python3.6/dist-packages (from pandas->optuna>=0.9.0->optkeras==0.0.7) (2.8.1)\n",
            "Requirement already satisfied: pytz>=2017.2 in /usr/local/lib/python3.6/dist-packages (from pandas->optuna>=0.9.0->optkeras==0.0.7) (2018.9)\n",
            "Requirement already satisfied: PrettyTable<0.8,>=0.7.2 in /usr/local/lib/python3.6/dist-packages (from cliff->optuna>=0.9.0->optkeras==0.0.7) (0.7.2)\n",
            "Requirement already satisfied: stevedore>=2.0.1 in /usr/local/lib/python3.6/dist-packages (from cliff->optuna>=0.9.0->optkeras==0.0.7) (3.3.0)\n",
            "Requirement already satisfied: cmd2!=0.8.3,>=0.8.0 in /usr/local/lib/python3.6/dist-packages (from cliff->optuna>=0.9.0->optkeras==0.0.7) (1.4.0)\n",
            "Requirement already satisfied: pyparsing>=2.1.0 in /usr/local/lib/python3.6/dist-packages (from cliff->optuna>=0.9.0->optkeras==0.0.7) (2.4.7)\n",
            "Requirement already satisfied: pbr!=2.1.0,>=2.0.0 in /usr/local/lib/python3.6/dist-packages (from cliff->optuna>=0.9.0->optkeras==0.0.7) (5.5.1)\n",
            "Requirement already satisfied: python-editor>=0.3 in /usr/local/lib/python3.6/dist-packages (from alembic->optuna>=0.9.0->optkeras==0.0.7) (1.0.4)\n",
            "Requirement already satisfied: Mako in /usr/local/lib/python3.6/dist-packages (from alembic->optuna>=0.9.0->optkeras==0.0.7) (1.1.3)\n",
            "Requirement already satisfied: importlib-metadata>=1.7.0; python_version < \"3.8\" in /usr/local/lib/python3.6/dist-packages (from stevedore>=2.0.1->cliff->optuna>=0.9.0->optkeras==0.0.7) (3.3.0)\n",
            "Requirement already satisfied: wcwidth>=0.1.7 in /usr/local/lib/python3.6/dist-packages (from cmd2!=0.8.3,>=0.8.0->cliff->optuna>=0.9.0->optkeras==0.0.7) (0.2.5)\n",
            "Requirement already satisfied: attrs>=16.3.0 in /usr/local/lib/python3.6/dist-packages (from cmd2!=0.8.3,>=0.8.0->cliff->optuna>=0.9.0->optkeras==0.0.7) (20.3.0)\n",
            "Requirement already satisfied: colorama>=0.3.7 in /usr/local/lib/python3.6/dist-packages (from cmd2!=0.8.3,>=0.8.0->cliff->optuna>=0.9.0->optkeras==0.0.7) (0.4.4)\n",
            "Requirement already satisfied: pyperclip>=1.6 in /usr/local/lib/python3.6/dist-packages (from cmd2!=0.8.3,>=0.8.0->cliff->optuna>=0.9.0->optkeras==0.0.7) (1.8.1)\n",
            "Requirement already satisfied: MarkupSafe>=0.9.2 in /usr/local/lib/python3.6/dist-packages (from Mako->alembic->optuna>=0.9.0->optkeras==0.0.7) (1.1.1)\n",
            "Requirement already satisfied: typing-extensions>=3.6.4; python_version < \"3.8\" in /usr/local/lib/python3.6/dist-packages (from importlib-metadata>=1.7.0; python_version < \"3.8\"->stevedore>=2.0.1->cliff->optuna>=0.9.0->optkeras==0.0.7) (3.7.4.3)\n",
            "Requirement already satisfied: zipp>=0.5 in /usr/local/lib/python3.6/dist-packages (from importlib-metadata>=1.7.0; python_version < \"3.8\"->stevedore>=2.0.1->cliff->optuna>=0.9.0->optkeras==0.0.7) (3.4.0)\n",
            "Installing collected packages: optkeras\n",
            "Successfully installed optkeras-0.0.7\n"
          ],
          "name": "stdout"
        }
      ]
    },
    {
      "cell_type": "markdown",
      "metadata": {
        "id": "Y3dnV15XqEFw"
      },
      "source": [
        "## **Importing the required libraries**"
      ]
    },
    {
      "cell_type": "code",
      "metadata": {
        "id": "77gZkQASu06j",
        "colab": {
          "base_uri": "https://localhost:8080/"
        },
        "outputId": "d381e767-168d-47ff-d67c-0366629ad766"
      },
      "source": [
        "import os\r\n",
        "import statistics\r\n",
        "import csv\r\n",
        "import itertools\r\n",
        "import tensorflow as tf\r\n",
        "import keras\r\n",
        "\r\n",
        "import pandas as pd\r\n",
        "import numpy as np\r\n",
        "import datetime as dt\r\n",
        "import matplotlib.pyplot as plt\r\n",
        "import seaborn as sn\r\n",
        "\r\n",
        "from tqdm import tqdm_notebook as tqdm\r\n",
        "\r\n",
        "from sklearn.model_selection import train_test_split\r\n",
        "from sklearn.metrics import classification_report, confusion_matrix\r\n",
        "from sklearn.preprocessing import StandardScaler\r\n",
        "from keras.models import Sequential\r\n",
        "from keras.layers import *\r\n",
        "from keras.utils import to_categorical\r\n",
        "from keras.optimizers import Adam\r\n",
        "from keras.utils.vis_utils import plot_model\r\n",
        "import optuna \r\n",
        "print('Optuna', optuna.__version__)\r\n",
        "\r\n",
        "from optkeras.optkeras import OptKeras\r\n",
        "import optkeras\r\n",
        "print('OptKeras', optkeras.__version__)\r\n",
        "from numpy import mean\r\n",
        "from numpy import std\r\n",
        "\r\n",
        "# (Optional) Disable messages from Optuna below WARN level.\r\n",
        "optuna.logging.set_verbosity(optuna.logging.WARN)"
      ],
      "execution_count": null,
      "outputs": [
        {
          "output_type": "stream",
          "text": [
            "Optuna 0.14.0\n",
            "OptKeras 0.0.7\n"
          ],
          "name": "stdout"
        }
      ]
    },
    {
      "cell_type": "code",
      "metadata": {
        "colab": {
          "base_uri": "https://localhost:8080/"
        },
        "id": "Jueep5u0vDc4",
        "outputId": "259002e7-b6a3-48f4-d2d7-7f6b97d7ddf8"
      },
      "source": [
        "cd /saurabh/My Drive/Datasets/har/wisdm-dataset/"
      ],
      "execution_count": null,
      "outputs": [
        {
          "output_type": "stream",
          "text": [
            "/saurabh/My Drive/Datasets/har/wisdm-dataset\n"
          ],
          "name": "stdout"
        }
      ]
    },
    {
      "cell_type": "code",
      "metadata": {
        "colab": {
          "base_uri": "https://localhost:8080/"
        },
        "id": "e9Il_KJ7vESR",
        "outputId": "ba630d4f-c685-4c97-8c45-3f28edadde00"
      },
      "source": [
        "ls"
      ],
      "execution_count": null,
      "outputs": [
        {
          "output_type": "stream",
          "text": [
            "activity_key.txt             HARWatchGRU_Optuna.csv\n",
            "\u001b[0m\u001b[01;34marff_files\u001b[0m/                  \u001b[01;34minception\u001b[0m/\n",
            "\u001b[01;34marffmagic-master\u001b[0m/            model1_plot.png\n",
            "change_raw_act.pl            model_plot2.png\n",
            "\u001b[01;34mdata\u001b[0m/                        model_plot3.png\n",
            "\u001b[01;34mdeepconvlstm\u001b[0m/                model_plot4.png\n",
            "HAR_Simple_Keras.csv         model_plot_cnnlstm.png\n",
            "HAR_Simple_model_000003.h5   model_plot.png\n",
            "HAR_Simple_Optuna.csv        multichannel.png\n",
            "HARTrain1_Keras.csv          phone.df\n",
            "HARTrain1_model_000013.h5    \u001b[01;34mraw\u001b[0m/\n",
            "HARTrain1_Optuna.csv         README.txt\n",
            "HARTrain_Keras.csv           \u001b[01;34mresnet\u001b[0m/\n",
            "HARTrain_Optuna.csv          watch.df\n",
            "HARWatchGRU_Keras.csv        WISDM-dataset-description.pdf\n",
            "HARWatchGRU_model_000000.h5\n"
          ],
          "name": "stdout"
        }
      ]
    },
    {
      "cell_type": "markdown",
      "metadata": {
        "id": "2qWFDry-q6ls"
      },
      "source": [
        "## **Loading the watch dataset which was saved in the preprocessing stage**"
      ]
    },
    {
      "cell_type": "code",
      "metadata": {
        "id": "6qEHmaUIqnHO"
      },
      "source": [
        "watch = pd.read_pickle('watch.df')"
      ],
      "execution_count": null,
      "outputs": []
    },
    {
      "cell_type": "code",
      "metadata": {
        "colab": {
          "base_uri": "https://localhost:8080/"
        },
        "id": "mxxezkU6qnTU",
        "outputId": "2b9053e5-7d26-459e-cae4-112f9d11ee0d"
      },
      "source": [
        "watch.shape"
      ],
      "execution_count": null,
      "outputs": [
        {
          "output_type": "execute_result",
          "data": {
            "text/plain": [
              "(3731135, 9)"
            ]
          },
          "metadata": {
            "tags": []
          },
          "execution_count": 7
        }
      ]
    },
    {
      "cell_type": "markdown",
      "metadata": {
        "id": "OUBwi4DUrbIp"
      },
      "source": [
        "## **Mapping the 18 activities into 3 Groups**"
      ]
    },
    {
      "cell_type": "code",
      "metadata": {
        "id": "54Ysm3t-YzcS"
      },
      "source": [
        "def activity_mapper(activity):\r\n",
        "    if(activity in ['A', 'B', 'C', 'D', 'E', 'M']):\r\n",
        "        return 0\r\n",
        "    elif(activity in ['P', 'O', 'F', 'Q', 'R','G', 'S']):\r\n",
        "        return 1\r\n",
        "    else:\r\n",
        "        return 2\r\n",
        "watch['activity'] = watch['activity'].apply(activity_mapper)"
      ],
      "execution_count": null,
      "outputs": []
    },
    {
      "cell_type": "code",
      "metadata": {
        "colab": {
          "base_uri": "https://localhost:8080/"
        },
        "id": "0XUvO9dqrscL",
        "outputId": "32b38f23-f267-4fac-ce2b-1d34d7c5e813"
      },
      "source": [
        "watch.activity.value_counts()"
      ],
      "execution_count": null,
      "outputs": [
        {
          "output_type": "execute_result",
          "data": {
            "text/plain": [
              "1    1462798\n",
              "0    1235394\n",
              "2    1032943\n",
              "Name: activity, dtype: int64"
            ]
          },
          "metadata": {
            "tags": []
          },
          "execution_count": 9
        }
      ]
    },
    {
      "cell_type": "code",
      "metadata": {
        "id": "BTLC7LMDYzfb"
      },
      "source": [
        "activity_map = {\r\n",
        "    0: 'Ambulation Oriented',\r\n",
        "    1: 'Hand Oriented General',\r\n",
        "    2: 'Hand Oriented Eating'\r\n",
        "}"
      ],
      "execution_count": null,
      "outputs": []
    },
    {
      "cell_type": "code",
      "metadata": {
        "id": "QfQ6iyqCYzlb"
      },
      "source": [
        "activities = sorted(activity_map.keys())\r\n",
        "activity_encoding = {v: k for k, v in enumerate(activities)}\r\n"
      ],
      "execution_count": null,
      "outputs": []
    },
    {
      "cell_type": "markdown",
      "metadata": {
        "id": "LBxh__n6r2aX"
      },
      "source": [
        "## **Data Transformation using a sliding windows of 10 seconds = 200 (10 * 20) data points and stride of 50**"
      ]
    },
    {
      "cell_type": "code",
      "metadata": {
        "colab": {
          "base_uri": "https://localhost:8080/",
          "height": 153,
          "referenced_widgets": [
            "44d5642fb0994dc3a9818484fee34abb",
            "ca47ef6404e04927afaf2d0dc93f5531",
            "eaff2651fa1e414294ca8cbde3953b07",
            "e62491139355409385d90bb4527914e1",
            "2bd6f187e3a94cd2a6cdc343f6ed656f",
            "62c2575f6e774538b6f84b5214fc927b",
            "0a6e352b93f14c3b9c81372196b183a4",
            "afb5c4d005e44b8e8541a7c5b12e93ae"
          ]
        },
        "id": "5nPVDjL0q1Hg",
        "outputId": "d632ba78-9b5b-4eed-be72-0d2ed0d313dc"
      },
      "source": [
        "window_size = 200\r\n",
        "stride = 50\r\n",
        "frames = []\r\n",
        "for i in tqdm(range(0, len(watch)-window_size, stride)):\r\n",
        "    window = watch.iloc[i:i+window_size]\r\n",
        "    if window['activity'].nunique() == 1:\r\n",
        "      frames.append(window)"
      ],
      "execution_count": null,
      "outputs": [
        {
          "output_type": "stream",
          "text": [
            "/usr/local/lib/python3.6/dist-packages/ipykernel_launcher.py:4: TqdmDeprecationWarning:\n",
            "\n",
            "This function will be removed in tqdm==5.0.0\n",
            "Please use `tqdm.notebook.tqdm` instead of `tqdm.tqdm_notebook`\n",
            "\n"
          ],
          "name": "stderr"
        },
        {
          "output_type": "display_data",
          "data": {
            "application/vnd.jupyter.widget-view+json": {
              "model_id": "44d5642fb0994dc3a9818484fee34abb",
              "version_minor": 0,
              "version_major": 2
            },
            "text/plain": [
              "HBox(children=(FloatProgress(value=0.0, max=74619.0), HTML(value='')))"
            ]
          },
          "metadata": {
            "tags": []
          }
        },
        {
          "output_type": "stream",
          "text": [
            "\n"
          ],
          "name": "stdout"
        }
      ]
    },
    {
      "cell_type": "code",
      "metadata": {
        "colab": {
          "base_uri": "https://localhost:8080/",
          "height": 153,
          "referenced_widgets": [
            "361dce7bcfcb4f509c00ad47a359eaae",
            "e5736343c4b74d7bac1cdfbb820b115a",
            "e57ec8b6b02441ef97cc8649df1d430f",
            "b7fd45efe1304e6d9ba7d432258abd24",
            "876b1ff8892541549d1b0dc75b41928c",
            "7adf92eeb5014ef593a3c547f9541236",
            "19ab5a64a40c42a29f7c25731c5bd7ff",
            "842bc07ae92748358c46025be744459e"
          ]
        },
        "id": "YZTZKFmj36iF",
        "outputId": "47643475-eac3-4376-9f2f-5762c1cb091b"
      },
      "source": [
        "#activities = sorted(act_map.keys())\r\n",
        "#activity_encoding = {v: k for k, v in enumerate(activities)}\r\n",
        "\r\n",
        "X_list = []\r\n",
        "y_list = []\r\n",
        "\r\n",
        "#for each frame replace label with activity\r\n",
        "for frame in tqdm(frames):\r\n",
        "    X_list.append(frame[['watch_accel_x', 'watch_accel_y', 'watch_accel_z', 'watch_gyro_x', 'watch_gyro_y', 'watch_gyro_z']].values)\r\n",
        "    y_list.append(activity_encoding[frame.iloc[0]['activity']])\r\n",
        "    #y_list.append(frame.iloc[0][['activity']].values)"
      ],
      "execution_count": null,
      "outputs": [
        {
          "output_type": "stream",
          "text": [
            "/usr/local/lib/python3.6/dist-packages/ipykernel_launcher.py:8: TqdmDeprecationWarning:\n",
            "\n",
            "This function will be removed in tqdm==5.0.0\n",
            "Please use `tqdm.notebook.tqdm` instead of `tqdm.tqdm_notebook`\n",
            "\n"
          ],
          "name": "stderr"
        },
        {
          "output_type": "display_data",
          "data": {
            "application/vnd.jupyter.widget-view+json": {
              "model_id": "361dce7bcfcb4f509c00ad47a359eaae",
              "version_minor": 0,
              "version_major": 2
            },
            "text/plain": [
              "HBox(children=(FloatProgress(value=0.0, max=73101.0), HTML(value='')))"
            ]
          },
          "metadata": {
            "tags": []
          }
        },
        {
          "output_type": "stream",
          "text": [
            "\n"
          ],
          "name": "stdout"
        }
      ]
    },
    {
      "cell_type": "code",
      "metadata": {
        "id": "YyRvRBnpcInM"
      },
      "source": [
        "X = np.array(X_list)\r\n",
        "y = np.array(to_categorical(y_list))"
      ],
      "execution_count": null,
      "outputs": []
    },
    {
      "cell_type": "code",
      "metadata": {
        "colab": {
          "base_uri": "https://localhost:8080/"
        },
        "id": "67KAS8FVu8IN",
        "outputId": "ef8ff4f1-a1a2-4730-ae7d-27b5fc8744b9"
      },
      "source": [
        "print(X.shape)\r\n",
        "print(y.shape)"
      ],
      "execution_count": null,
      "outputs": [
        {
          "output_type": "stream",
          "text": [
            "(73101, 200, 6)\n",
            "(73101, 3)\n"
          ],
          "name": "stdout"
        }
      ]
    },
    {
      "cell_type": "code",
      "metadata": {
        "colab": {
          "base_uri": "https://localhost:8080/"
        },
        "id": "KOx51zyUcKd1",
        "outputId": "b804ba95-ef68-49e0-caef-e035b909d34d"
      },
      "source": [
        "print(X.shape[1:])"
      ],
      "execution_count": null,
      "outputs": [
        {
          "output_type": "stream",
          "text": [
            "(200, 6)\n"
          ],
          "name": "stdout"
        }
      ]
    },
    {
      "cell_type": "markdown",
      "metadata": {
        "id": "GimQ56yVs7dh"
      },
      "source": [
        "## **Data Splitting  60:20:20**"
      ]
    },
    {
      "cell_type": "code",
      "metadata": {
        "colab": {
          "base_uri": "https://localhost:8080/"
        },
        "id": "sYt4Q6e0cMzd",
        "outputId": "6411b767-d510-4ba2-a1a9-961955ea9b17"
      },
      "source": [
        "#data split: as informed by slides split for 30,000 examples \r\n",
        "#our example is a window and coming from a big expansive amount of data\r\n",
        "#5 second split based on papers using 5 sec split. We can play with this \r\n",
        "\r\n",
        "X_train, X_valtest, y_train, y_valtest = train_test_split(X, y, test_size=0.4, random_state=42)\r\n",
        "X_val, X_test, y_val, y_test = train_test_split(X_valtest, y_valtest, test_size=0.5, random_state=42)\r\n",
        "\r\n",
        "#train\r\n",
        "print(\"X_train: \",X_train.shape)\r\n",
        "\r\n",
        "#dev\r\n",
        "print(\"X_val: \",X_val.shape)\r\n",
        "\r\n",
        "#test\r\n",
        "print(\"X_test: \",X_test.shape)\r\n",
        "\r\n",
        "print(\"Y_train: \",y_train.shape)\r\n",
        "print(\"Y_val: \",y_val.shape)\r\n",
        "print(\"Y_test: \",y_test.shape)"
      ],
      "execution_count": null,
      "outputs": [
        {
          "output_type": "stream",
          "text": [
            "X_train:  (43860, 200, 6)\n",
            "X_val:  (14620, 200, 6)\n",
            "X_test:  (14621, 200, 6)\n",
            "Y_train:  (43860, 3)\n",
            "Y_val:  (14620, 3)\n",
            "Y_test:  (14621, 3)\n"
          ],
          "name": "stdout"
        }
      ]
    },
    {
      "cell_type": "code",
      "metadata": {
        "id": "-92HgovyKG6F"
      },
      "source": [
        "# reshape data into time steps of sub-sequences\r\n",
        "n_steps, n_length,n_features = 4,50,6\r\n",
        "trainX = X_train.reshape((X_train.shape[0], n_steps, n_length, n_features))\r\n",
        "valX = X_val.reshape((X_val.shape[0], n_steps, n_length, n_features))\r\n",
        "testX = X_test.reshape((X_test.shape[0], n_steps, n_length, n_features))"
      ],
      "execution_count": null,
      "outputs": []
    },
    {
      "cell_type": "markdown",
      "metadata": {
        "id": "V8NZalLEIHEg"
      },
      "source": [
        "## **Hyperparameter Optimization Using OptKeras which is based on Optuna - Bayesian Optimization**"
      ]
    },
    {
      "cell_type": "code",
      "metadata": {
        "colab": {
          "base_uri": "https://localhost:8080/"
        },
        "id": "GWRjdPsSIDZE",
        "outputId": "aa51ab97-81d9-4413-ac51-fffb0c39173e"
      },
      "source": [
        "study_name = 'HAR' + 'WatchGRU'\r\n",
        "\r\n",
        "\"\"\" Step 1. Instantiate OptKeras class\r\n",
        "You can specify arguments for Optuna's create_study method and other arguments \r\n",
        "for OptKeras such as enable_pruning. \r\n",
        "\"\"\"\r\n",
        "\r\n",
        "ok = OptKeras(study_name=study_name,\r\n",
        "              monitor='val_acc',\r\n",
        "              direction='maximize')\r\n",
        "\r\n",
        "\r\n",
        "\"\"\" Step 2. Define objective function for Optuna \"\"\"\r\n",
        "\r\n",
        "def objective(trial):\r\n",
        "    \r\n",
        "    \"\"\" Step 2.1. Define parameters to try using methods of optuna.trial such as \r\n",
        "    suggest_categorical. In this simple demo, try 2*2*2*2 = 16 parameter sets: \r\n",
        "    2 values specified in list for each of 4 parameters \r\n",
        "    (filters, kernel_size, strides, and activation for convolution).\r\n",
        "    \"\"\"    \r\n",
        "    model = Sequential()\r\n",
        "    model.add(TimeDistributed(Conv1D(filters=trial.suggest_categorical('filters1', [32,64,96,128]), kernel_size=3, activation='relu'), input_shape=(None,n_length,n_features)))\r\n",
        "    model.add(TimeDistributed(MaxPooling1D(pool_size=2)))\r\n",
        "    model.add(TimeDistributed(Conv1D(filters=trial.suggest_categorical('filters2', [32,64,96,128]), kernel_size=3, activation='relu')))\r\n",
        "    model.add(TimeDistributed(MaxPooling1D(pool_size=2)))\r\n",
        "    model.add(TimeDistributed(Dropout(rate = trial.suggest_categorical('drop1', [0.05,0.06,0.07,0.08]))))\r\n",
        "    model.add(TimeDistributed(Flatten()))\r\n",
        "    model.add(GRU(64 , return_sequences = True))\r\n",
        "    model.add(GRU(64))\r\n",
        "    model.add(Dropout(rate = trial.suggest_categorical('drop2', [0.1,0.2,0.3,0.4])))\r\n",
        "    model.add(Dense(y_train.shape[1], activation = 'softmax'))\r\n",
        "    \r\n",
        "    \"\"\" Step 2.2. Specify callbacks(trial) and keras_verbose in fit \r\n",
        "    (or fit_generator) method of Keras model\r\n",
        "    \"\"\"\r\n",
        "    model.compile(Adam(),loss=tf.keras.losses.categorical_crossentropy,metrics=['acc'])\r\n",
        "    model.fit(trainX,y_train, \r\n",
        "              validation_data=(valX, y_val), shuffle=True,\r\n",
        "              batch_size=64, epochs=10,\r\n",
        "              callbacks=ok.callbacks(trial),\r\n",
        "              verbose=ok.keras_verbose )\r\n",
        "    \r\n",
        "    \r\n",
        "    \"\"\" Step 2.3. Return trial_best_value (or latest_value) \"\"\"\r\n",
        "    return ok.trial_best_value\r\n",
        "\r\n",
        "\"\"\" Step 3. Run optimize. \r\n",
        "Set n_trials and/or timeout (in sec) for optimization by Optuna\r\n",
        "\"\"\"\r\n",
        "ok.optimize(objective, timeout = 900) "
      ],
      "execution_count": null,
      "outputs": [
        {
          "output_type": "stream",
          "text": [
            "[2020-12-27 11:36:52.055166] [OptKeras] Ready for optimization. (message printed as verbose is set to 1+)\n",
            "[2020-12-27 11:36:59.052952]  (None) \n",
            "WARNING:tensorflow:`period` argument is deprecated. Please use `save_freq` to specify the frequency in number of batches seen.\n",
            "[2020-12-27 11:37:52.620559] Trial#: 0, value: 9.627223e-01| Best trial#: 0, value: 9.627223e-01, params: {'filters1': 32, 'filters2': 128, 'drop1': 0.08, 'drop2': 0.1}\n",
            "WARNING:tensorflow:`period` argument is deprecated. Please use `save_freq` to specify the frequency in number of batches seen.\n",
            "[2020-12-27 11:38:39.081728] Trial#: 1, value: 9.610123e-01| Best trial#: 0, value: 9.627223e-01, params: {'filters1': 32, 'filters2': 128, 'drop1': 0.08, 'drop2': 0.1}\n",
            "WARNING:tensorflow:`period` argument is deprecated. Please use `save_freq` to specify the frequency in number of batches seen.\n",
            "[2020-12-27 11:39:25.411317] Trial#: 2, value: 9.599863e-01| Best trial#: 0, value: 9.627223e-01, params: {'filters1': 32, 'filters2': 128, 'drop1': 0.08, 'drop2': 0.1}\n",
            "WARNING:tensorflow:`period` argument is deprecated. Please use `save_freq` to specify the frequency in number of batches seen.\n",
            "[2020-12-27 11:40:12.292959] Trial#: 3, value: 9.547880e-01| Best trial#: 0, value: 9.627223e-01, params: {'filters1': 32, 'filters2': 128, 'drop1': 0.08, 'drop2': 0.1}\n",
            "WARNING:tensorflow:`period` argument is deprecated. Please use `save_freq` to specify the frequency in number of batches seen.\n",
            "[2020-12-27 11:40:58.340908] Trial#: 4, value: 9.383721e-01| Best trial#: 0, value: 9.627223e-01, params: {'filters1': 32, 'filters2': 128, 'drop1': 0.08, 'drop2': 0.1}\n",
            "WARNING:tensorflow:`period` argument is deprecated. Please use `save_freq` to specify the frequency in number of batches seen.\n",
            "[2020-12-27 11:41:46.112022] Trial#: 5, value: 9.596443e-01| Best trial#: 0, value: 9.627223e-01, params: {'filters1': 32, 'filters2': 128, 'drop1': 0.08, 'drop2': 0.1}\n",
            "WARNING:tensorflow:`period` argument is deprecated. Please use `save_freq` to specify the frequency in number of batches seen.\n",
            "[2020-12-27 11:42:33.683054] Trial#: 6, value: 9.586867e-01| Best trial#: 0, value: 9.627223e-01, params: {'filters1': 32, 'filters2': 128, 'drop1': 0.08, 'drop2': 0.1}\n",
            "WARNING:tensorflow:`period` argument is deprecated. Please use `save_freq` to specify the frequency in number of batches seen.\n",
            "[2020-12-27 11:43:20.130249] Trial#: 7, value: 9.593707e-01| Best trial#: 0, value: 9.627223e-01, params: {'filters1': 32, 'filters2': 128, 'drop1': 0.08, 'drop2': 0.1}\n",
            "WARNING:tensorflow:`period` argument is deprecated. Please use `save_freq` to specify the frequency in number of batches seen.\n",
            "[2020-12-27 11:44:06.750641] Trial#: 8, value: 9.580711e-01| Best trial#: 0, value: 9.627223e-01, params: {'filters1': 32, 'filters2': 128, 'drop1': 0.08, 'drop2': 0.1}\n",
            "WARNING:tensorflow:`period` argument is deprecated. Please use `save_freq` to specify the frequency in number of batches seen.\n",
            "[2020-12-27 11:44:54.545928] Trial#: 9, value: 9.580027e-01| Best trial#: 0, value: 9.627223e-01, params: {'filters1': 32, 'filters2': 128, 'drop1': 0.08, 'drop2': 0.1}\n",
            "WARNING:tensorflow:`period` argument is deprecated. Please use `save_freq` to specify the frequency in number of batches seen.\n",
            "[2020-12-27 11:45:41.880625] Trial#: 10, value: 9.577975e-01| Best trial#: 0, value: 9.627223e-01, params: {'filters1': 32, 'filters2': 128, 'drop1': 0.08, 'drop2': 0.1}\n",
            "WARNING:tensorflow:`period` argument is deprecated. Please use `save_freq` to specify the frequency in number of batches seen.\n",
            "[2020-12-27 11:46:28.283615] Trial#: 11, value: 9.560875e-01| Best trial#: 0, value: 9.627223e-01, params: {'filters1': 32, 'filters2': 128, 'drop1': 0.08, 'drop2': 0.1}\n",
            "WARNING:tensorflow:`period` argument is deprecated. Please use `save_freq` to specify the frequency in number of batches seen.\n",
            "[2020-12-27 11:47:14.750627] Trial#: 12, value: 9.612859e-01| Best trial#: 0, value: 9.627223e-01, params: {'filters1': 32, 'filters2': 128, 'drop1': 0.08, 'drop2': 0.1}\n",
            "WARNING:tensorflow:`period` argument is deprecated. Please use `save_freq` to specify the frequency in number of batches seen.\n",
            "[2020-12-27 11:48:00.686395] Trial#: 13, value: 9.530780e-01| Best trial#: 0, value: 9.627223e-01, params: {'filters1': 32, 'filters2': 128, 'drop1': 0.08, 'drop2': 0.1}\n",
            "WARNING:tensorflow:`period` argument is deprecated. Please use `save_freq` to specify the frequency in number of batches seen.\n",
            "[2020-12-27 11:48:46.647180] Trial#: 14, value: 9.575924e-01| Best trial#: 0, value: 9.627223e-01, params: {'filters1': 32, 'filters2': 128, 'drop1': 0.08, 'drop2': 0.1}\n",
            "WARNING:tensorflow:`period` argument is deprecated. Please use `save_freq` to specify the frequency in number of batches seen.\n",
            "[2020-12-27 11:49:33.088439] Trial#: 15, value: 9.593707e-01| Best trial#: 0, value: 9.627223e-01, params: {'filters1': 32, 'filters2': 128, 'drop1': 0.08, 'drop2': 0.1}\n",
            "WARNING:tensorflow:`period` argument is deprecated. Please use `save_freq` to specify the frequency in number of batches seen.\n",
            "[2020-12-27 11:50:20.425742] Trial#: 16, value: 9.560875e-01| Best trial#: 0, value: 9.627223e-01, params: {'filters1': 32, 'filters2': 128, 'drop1': 0.08, 'drop2': 0.1}\n",
            "WARNING:tensorflow:`period` argument is deprecated. Please use `save_freq` to specify the frequency in number of batches seen.\n",
            "[2020-12-27 11:51:06.891689] Trial#: 17, value: 9.605335e-01| Best trial#: 0, value: 9.627223e-01, params: {'filters1': 32, 'filters2': 128, 'drop1': 0.08, 'drop2': 0.1}\n",
            "WARNING:tensorflow:`period` argument is deprecated. Please use `save_freq` to specify the frequency in number of batches seen.\n",
            "[2020-12-27 11:51:52.807919] Trial#: 18, value: 9.536251e-01| Best trial#: 0, value: 9.627223e-01, params: {'filters1': 32, 'filters2': 128, 'drop1': 0.08, 'drop2': 0.1}\n"
          ],
          "name": "stdout"
        }
      ]
    },
    {
      "cell_type": "code",
      "metadata": {
        "colab": {
          "base_uri": "https://localhost:8080/"
        },
        "id": "M83W3AE-MkQB",
        "outputId": "c51a5a6d-8f2d-4033-beea-93a010420fa0"
      },
      "source": [
        "print('Best trial number: ', ok.best_trial.number)\r\n",
        "print('Best value:', ok.best_trial.value)\r\n",
        "print('Best parameters: \\n', ok.best_trial.params)"
      ],
      "execution_count": null,
      "outputs": [
        {
          "output_type": "stream",
          "text": [
            "Best trial number:  0\n",
            "Best value: 0.9627223014831543\n",
            "Best parameters: \n",
            " {'filters1': 32, 'filters2': 128, 'drop1': 0.08, 'drop2': 0.1}\n"
          ],
          "name": "stdout"
        }
      ]
    },
    {
      "cell_type": "code",
      "metadata": {
        "colab": {
          "base_uri": "https://localhost:8080/",
          "height": 778
        },
        "id": "NwIplJEKMonX",
        "outputId": "67227d75-08bf-494d-a548-1bda7c54f732"
      },
      "source": [
        "print(\"Best parameters (retrieved directly from Optuna)\", ok.study.best_trial.params)\r\n",
        "\r\n",
        "\"\"\" Check the Optuna CSV log file \"\"\"\r\n",
        "pd.options.display.max_rows = 8 # limit rows to display\r\n",
        "print('Data Frame read from', ok.optuna_log_file_path, '\\n')\r\n",
        "display(pd.read_csv(ok.optuna_log_file_path))\r\n",
        "\r\n",
        "\"\"\" Check the Keras CSV log file \"\"\"\r\n",
        "pd.options.display.max_rows = 8 # limit rows to display\r\n",
        "print('Data Frame read from', ok.keras_log_file_path, '\\n')\r\n",
        "display(pd.read_csv(ok.keras_log_file_path))"
      ],
      "execution_count": null,
      "outputs": [
        {
          "output_type": "stream",
          "text": [
            "Best parameters (retrieved directly from Optuna) {'filters1': 32, 'filters2': 128, 'drop1': 0.08, 'drop2': 0.1}\n",
            "Data Frame read from HARWatchGRU_Optuna.csv \n",
            "\n"
          ],
          "name": "stdout"
        },
        {
          "output_type": "display_data",
          "data": {
            "text/html": [
              "<div>\n",
              "<style scoped>\n",
              "    .dataframe tbody tr th:only-of-type {\n",
              "        vertical-align: middle;\n",
              "    }\n",
              "\n",
              "    .dataframe tbody tr th {\n",
              "        vertical-align: top;\n",
              "    }\n",
              "\n",
              "    .dataframe thead th {\n",
              "        text-align: right;\n",
              "    }\n",
              "</style>\n",
              "<table border=\"1\" class=\"dataframe\">\n",
              "  <thead>\n",
              "    <tr style=\"text-align: right;\">\n",
              "      <th></th>\n",
              "      <th>number</th>\n",
              "      <th>state</th>\n",
              "      <th>value</th>\n",
              "      <th>datetime_start</th>\n",
              "      <th>datetime_complete</th>\n",
              "      <th>drop1</th>\n",
              "      <th>drop2</th>\n",
              "      <th>filters1</th>\n",
              "      <th>filters2</th>\n",
              "      <th>_Datetime_epoch_begin</th>\n",
              "      <th>_Datetime_epoch_end</th>\n",
              "      <th>_Trial_num</th>\n",
              "      <th>acc</th>\n",
              "      <th>loss</th>\n",
              "      <th>val_acc</th>\n",
              "      <th>val_loss</th>\n",
              "      <th>system_attrs__number</th>\n",
              "    </tr>\n",
              "  </thead>\n",
              "  <tbody>\n",
              "    <tr>\n",
              "      <th>0</th>\n",
              "      <td>0</td>\n",
              "      <td>TrialState.COMPLETE</td>\n",
              "      <td>0.962722</td>\n",
              "      <td>2020-12-27 11:36:52.055702</td>\n",
              "      <td>2020-12-27 11:37:52.124903</td>\n",
              "      <td>0.08</td>\n",
              "      <td>0.1</td>\n",
              "      <td>32</td>\n",
              "      <td>128</td>\n",
              "      <td>2020-12-27 11:37:47.359818</td>\n",
              "      <td>2020-12-27 11:37:51.434183</td>\n",
              "      <td>0</td>\n",
              "      <td>0.971295</td>\n",
              "      <td>0.077760</td>\n",
              "      <td>0.962722</td>\n",
              "      <td>0.111052</td>\n",
              "      <td>0</td>\n",
              "    </tr>\n",
              "    <tr>\n",
              "      <th>1</th>\n",
              "      <td>1</td>\n",
              "      <td>TrialState.COMPLETE</td>\n",
              "      <td>0.961012</td>\n",
              "      <td>2020-12-27 11:37:52.125260</td>\n",
              "      <td>2020-12-27 11:38:38.588577</td>\n",
              "      <td>0.06</td>\n",
              "      <td>0.1</td>\n",
              "      <td>96</td>\n",
              "      <td>128</td>\n",
              "      <td>2020-12-27 11:38:33.531525</td>\n",
              "      <td>2020-12-27 11:38:37.569378</td>\n",
              "      <td>1</td>\n",
              "      <td>0.969562</td>\n",
              "      <td>0.082648</td>\n",
              "      <td>0.961012</td>\n",
              "      <td>0.120365</td>\n",
              "      <td>1</td>\n",
              "    </tr>\n",
              "    <tr>\n",
              "      <th>2</th>\n",
              "      <td>2</td>\n",
              "      <td>TrialState.COMPLETE</td>\n",
              "      <td>0.959986</td>\n",
              "      <td>2020-12-27 11:38:38.589122</td>\n",
              "      <td>2020-12-27 11:39:24.916441</td>\n",
              "      <td>0.08</td>\n",
              "      <td>0.1</td>\n",
              "      <td>96</td>\n",
              "      <td>128</td>\n",
              "      <td>2020-12-27 11:39:20.026443</td>\n",
              "      <td>2020-12-27 11:39:24.157724</td>\n",
              "      <td>2</td>\n",
              "      <td>0.964090</td>\n",
              "      <td>0.096651</td>\n",
              "      <td>0.959986</td>\n",
              "      <td>0.113632</td>\n",
              "      <td>2</td>\n",
              "    </tr>\n",
              "    <tr>\n",
              "      <th>3</th>\n",
              "      <td>3</td>\n",
              "      <td>TrialState.COMPLETE</td>\n",
              "      <td>0.954788</td>\n",
              "      <td>2020-12-27 11:39:24.917139</td>\n",
              "      <td>2020-12-27 11:40:11.794681</td>\n",
              "      <td>0.05</td>\n",
              "      <td>0.3</td>\n",
              "      <td>32</td>\n",
              "      <td>32</td>\n",
              "      <td>2020-12-27 11:40:06.944885</td>\n",
              "      <td>2020-12-27 11:40:10.994452</td>\n",
              "      <td>3</td>\n",
              "      <td>0.957456</td>\n",
              "      <td>0.115089</td>\n",
              "      <td>0.954788</td>\n",
              "      <td>0.125289</td>\n",
              "      <td>3</td>\n",
              "    </tr>\n",
              "    <tr>\n",
              "      <th>...</th>\n",
              "      <td>...</td>\n",
              "      <td>...</td>\n",
              "      <td>...</td>\n",
              "      <td>...</td>\n",
              "      <td>...</td>\n",
              "      <td>...</td>\n",
              "      <td>...</td>\n",
              "      <td>...</td>\n",
              "      <td>...</td>\n",
              "      <td>...</td>\n",
              "      <td>...</td>\n",
              "      <td>...</td>\n",
              "      <td>...</td>\n",
              "      <td>...</td>\n",
              "      <td>...</td>\n",
              "      <td>...</td>\n",
              "      <td>...</td>\n",
              "    </tr>\n",
              "    <tr>\n",
              "      <th>15</th>\n",
              "      <td>15</td>\n",
              "      <td>TrialState.COMPLETE</td>\n",
              "      <td>0.959371</td>\n",
              "      <td>2020-12-27 11:48:46.144839</td>\n",
              "      <td>2020-12-27 11:49:32.581376</td>\n",
              "      <td>0.08</td>\n",
              "      <td>0.4</td>\n",
              "      <td>64</td>\n",
              "      <td>96</td>\n",
              "      <td>2020-12-27 11:49:27.428753</td>\n",
              "      <td>2020-12-27 11:49:31.502839</td>\n",
              "      <td>15</td>\n",
              "      <td>0.966667</td>\n",
              "      <td>0.092870</td>\n",
              "      <td>0.959371</td>\n",
              "      <td>0.117892</td>\n",
              "      <td>15</td>\n",
              "    </tr>\n",
              "    <tr>\n",
              "      <th>16</th>\n",
              "      <td>16</td>\n",
              "      <td>TrialState.COMPLETE</td>\n",
              "      <td>0.956088</td>\n",
              "      <td>2020-12-27 11:49:32.584342</td>\n",
              "      <td>2020-12-27 11:50:19.918890</td>\n",
              "      <td>0.06</td>\n",
              "      <td>0.4</td>\n",
              "      <td>32</td>\n",
              "      <td>96</td>\n",
              "      <td>2020-12-27 11:50:15.068511</td>\n",
              "      <td>2020-12-27 11:50:19.153509</td>\n",
              "      <td>16</td>\n",
              "      <td>0.966051</td>\n",
              "      <td>0.095506</td>\n",
              "      <td>0.956088</td>\n",
              "      <td>0.117061</td>\n",
              "      <td>16</td>\n",
              "    </tr>\n",
              "    <tr>\n",
              "      <th>17</th>\n",
              "      <td>17</td>\n",
              "      <td>TrialState.COMPLETE</td>\n",
              "      <td>0.960533</td>\n",
              "      <td>2020-12-27 11:50:19.921904</td>\n",
              "      <td>2020-12-27 11:51:06.378577</td>\n",
              "      <td>0.07</td>\n",
              "      <td>0.3</td>\n",
              "      <td>32</td>\n",
              "      <td>64</td>\n",
              "      <td>2020-12-27 11:51:01.245444</td>\n",
              "      <td>2020-12-27 11:51:05.328718</td>\n",
              "      <td>17</td>\n",
              "      <td>0.965869</td>\n",
              "      <td>0.092252</td>\n",
              "      <td>0.960533</td>\n",
              "      <td>0.116940</td>\n",
              "      <td>17</td>\n",
              "    </tr>\n",
              "    <tr>\n",
              "      <th>18</th>\n",
              "      <td>18</td>\n",
              "      <td>TrialState.COMPLETE</td>\n",
              "      <td>0.953625</td>\n",
              "      <td>2020-12-27 11:51:06.381765</td>\n",
              "      <td>2020-12-27 11:51:52.784232</td>\n",
              "      <td>0.06</td>\n",
              "      <td>0.4</td>\n",
              "      <td>64</td>\n",
              "      <td>32</td>\n",
              "      <td>2020-12-27 11:51:47.904950</td>\n",
              "      <td>2020-12-27 11:51:51.975706</td>\n",
              "      <td>18</td>\n",
              "      <td>0.958641</td>\n",
              "      <td>0.115582</td>\n",
              "      <td>0.953625</td>\n",
              "      <td>0.133756</td>\n",
              "      <td>18</td>\n",
              "    </tr>\n",
              "  </tbody>\n",
              "</table>\n",
              "<p>19 rows × 17 columns</p>\n",
              "</div>"
            ],
            "text/plain": [
              "    number                state  ...  val_loss system_attrs__number\n",
              "0        0  TrialState.COMPLETE  ...  0.111052                    0\n",
              "1        1  TrialState.COMPLETE  ...  0.120365                    1\n",
              "2        2  TrialState.COMPLETE  ...  0.113632                    2\n",
              "3        3  TrialState.COMPLETE  ...  0.125289                    3\n",
              "..     ...                  ...  ...       ...                  ...\n",
              "15      15  TrialState.COMPLETE  ...  0.117892                   15\n",
              "16      16  TrialState.COMPLETE  ...  0.117061                   16\n",
              "17      17  TrialState.COMPLETE  ...  0.116940                   17\n",
              "18      18  TrialState.COMPLETE  ...  0.133756                   18\n",
              "\n",
              "[19 rows x 17 columns]"
            ]
          },
          "metadata": {
            "tags": []
          }
        },
        {
          "output_type": "stream",
          "text": [
            "Data Frame read from HARWatchGRU_Keras.csv \n",
            "\n"
          ],
          "name": "stdout"
        },
        {
          "output_type": "display_data",
          "data": {
            "text/html": [
              "<div>\n",
              "<style scoped>\n",
              "    .dataframe tbody tr th:only-of-type {\n",
              "        vertical-align: middle;\n",
              "    }\n",
              "\n",
              "    .dataframe tbody tr th {\n",
              "        vertical-align: top;\n",
              "    }\n",
              "\n",
              "    .dataframe thead th {\n",
              "        text-align: right;\n",
              "    }\n",
              "</style>\n",
              "<table border=\"1\" class=\"dataframe\">\n",
              "  <thead>\n",
              "    <tr style=\"text-align: right;\">\n",
              "      <th></th>\n",
              "      <th>epoch</th>\n",
              "      <th>_Datetime_epoch_begin</th>\n",
              "      <th>_Datetime_epoch_end</th>\n",
              "      <th>_Trial_num</th>\n",
              "      <th>acc</th>\n",
              "      <th>loss</th>\n",
              "      <th>val_acc</th>\n",
              "      <th>val_loss</th>\n",
              "    </tr>\n",
              "  </thead>\n",
              "  <tbody>\n",
              "    <tr>\n",
              "      <th>0</th>\n",
              "      <td>0</td>\n",
              "      <td>2020-12-27 11:36:59.255246</td>\n",
              "      <td>2020-12-27 11:37:13.894859</td>\n",
              "      <td>0</td>\n",
              "      <td>0.838076</td>\n",
              "      <td>0.407539</td>\n",
              "      <td>0.893160</td>\n",
              "      <td>0.282878</td>\n",
              "    </tr>\n",
              "    <tr>\n",
              "      <th>1</th>\n",
              "      <td>1</td>\n",
              "      <td>2020-12-27 11:37:13.962023</td>\n",
              "      <td>2020-12-27 11:37:18.050856</td>\n",
              "      <td>0</td>\n",
              "      <td>0.910739</td>\n",
              "      <td>0.237472</td>\n",
              "      <td>0.913680</td>\n",
              "      <td>0.238214</td>\n",
              "    </tr>\n",
              "    <tr>\n",
              "      <th>2</th>\n",
              "      <td>2</td>\n",
              "      <td>2020-12-27 11:37:18.113190</td>\n",
              "      <td>2020-12-27 11:37:22.199540</td>\n",
              "      <td>0</td>\n",
              "      <td>0.931487</td>\n",
              "      <td>0.186584</td>\n",
              "      <td>0.926607</td>\n",
              "      <td>0.198354</td>\n",
              "    </tr>\n",
              "    <tr>\n",
              "      <th>3</th>\n",
              "      <td>3</td>\n",
              "      <td>2020-12-27 11:37:22.261089</td>\n",
              "      <td>2020-12-27 11:37:26.346224</td>\n",
              "      <td>0</td>\n",
              "      <td>0.941108</td>\n",
              "      <td>0.158703</td>\n",
              "      <td>0.937688</td>\n",
              "      <td>0.168881</td>\n",
              "    </tr>\n",
              "    <tr>\n",
              "      <th>...</th>\n",
              "      <td>...</td>\n",
              "      <td>...</td>\n",
              "      <td>...</td>\n",
              "      <td>...</td>\n",
              "      <td>...</td>\n",
              "      <td>...</td>\n",
              "      <td>...</td>\n",
              "      <td>...</td>\n",
              "    </tr>\n",
              "    <tr>\n",
              "      <th>186</th>\n",
              "      <td>6</td>\n",
              "      <td>2020-12-27 11:51:35.133197</td>\n",
              "      <td>2020-12-27 11:51:39.204337</td>\n",
              "      <td>18</td>\n",
              "      <td>0.947355</td>\n",
              "      <td>0.143427</td>\n",
              "      <td>0.949590</td>\n",
              "      <td>0.145633</td>\n",
              "    </tr>\n",
              "    <tr>\n",
              "      <th>187</th>\n",
              "      <td>7</td>\n",
              "      <td>2020-12-27 11:51:39.439172</td>\n",
              "      <td>2020-12-27 11:51:43.513289</td>\n",
              "      <td>18</td>\n",
              "      <td>0.950912</td>\n",
              "      <td>0.136806</td>\n",
              "      <td>0.948358</td>\n",
              "      <td>0.149281</td>\n",
              "    </tr>\n",
              "    <tr>\n",
              "      <th>188</th>\n",
              "      <td>8</td>\n",
              "      <td>2020-12-27 11:51:43.515514</td>\n",
              "      <td>2020-12-27 11:51:47.631401</td>\n",
              "      <td>18</td>\n",
              "      <td>0.954514</td>\n",
              "      <td>0.124814</td>\n",
              "      <td>0.949795</td>\n",
              "      <td>0.136337</td>\n",
              "    </tr>\n",
              "    <tr>\n",
              "      <th>189</th>\n",
              "      <td>9</td>\n",
              "      <td>2020-12-27 11:51:47.904950</td>\n",
              "      <td>2020-12-27 11:51:51.975706</td>\n",
              "      <td>18</td>\n",
              "      <td>0.958641</td>\n",
              "      <td>0.115582</td>\n",
              "      <td>0.953625</td>\n",
              "      <td>0.133756</td>\n",
              "    </tr>\n",
              "  </tbody>\n",
              "</table>\n",
              "<p>190 rows × 8 columns</p>\n",
              "</div>"
            ],
            "text/plain": [
              "     epoch       _Datetime_epoch_begin  ...   val_acc  val_loss\n",
              "0        0  2020-12-27 11:36:59.255246  ...  0.893160  0.282878\n",
              "1        1  2020-12-27 11:37:13.962023  ...  0.913680  0.238214\n",
              "2        2  2020-12-27 11:37:18.113190  ...  0.926607  0.198354\n",
              "3        3  2020-12-27 11:37:22.261089  ...  0.937688  0.168881\n",
              "..     ...                         ...  ...       ...       ...\n",
              "186      6  2020-12-27 11:51:35.133197  ...  0.949590  0.145633\n",
              "187      7  2020-12-27 11:51:39.439172  ...  0.948358  0.149281\n",
              "188      8  2020-12-27 11:51:43.515514  ...  0.949795  0.136337\n",
              "189      9  2020-12-27 11:51:47.904950  ...  0.953625  0.133756\n",
              "\n",
              "[190 rows x 8 columns]"
            ]
          },
          "metadata": {
            "tags": []
          }
        }
      ]
    },
    {
      "cell_type": "markdown",
      "metadata": {
        "id": "tH7kz-nothuI"
      },
      "source": [
        "## **CNN 1D + GRU - Conv1D-MaxPool-Conv1D-MaxPool-DropOut-Flatten-LSTM-DropOut-Dense-SoftMax with best parameters**"
      ]
    },
    {
      "cell_type": "code",
      "metadata": {
        "id": "TlfqLN-VJxCc"
      },
      "source": [
        "# define model\r\n",
        "model = Sequential()\r\n",
        "model.add(TimeDistributed(Conv1D(filters=32, kernel_size=3, activation='relu'), input_shape=(None,n_length,n_features)))\r\n",
        "model.add(TimeDistributed(MaxPooling1D(pool_size=2)))\r\n",
        "model.add(TimeDistributed(Conv1D(filters=128, kernel_size=3, activation='relu')))\r\n",
        "model.add(TimeDistributed(MaxPooling1D(pool_size=2)))\r\n",
        "model.add(TimeDistributed(Dropout(0.08)))\r\n",
        "model.add(TimeDistributed(Flatten()))\r\n",
        "model.add(GRU(64 , return_sequences= True ))\r\n",
        "model.add(GRU(64))\r\n",
        "model.add(Dropout(0.1))\r\n",
        "model.add(Dense(y_train.shape[1], activation = 'softmax'))\r\n"
      ],
      "execution_count": null,
      "outputs": []
    },
    {
      "cell_type": "code",
      "metadata": {
        "colab": {
          "base_uri": "https://localhost:8080/"
        },
        "id": "30NZm3YWECVh",
        "outputId": "53677177-45dd-4a93-ddac-9f69459b5084"
      },
      "source": [
        "model.summary()"
      ],
      "execution_count": null,
      "outputs": [
        {
          "output_type": "stream",
          "text": [
            "Model: \"sequential\"\n",
            "_________________________________________________________________\n",
            "Layer (type)                 Output Shape              Param #   \n",
            "=================================================================\n",
            "time_distributed (TimeDistri (None, None, 48, 32)      608       \n",
            "_________________________________________________________________\n",
            "time_distributed_1 (TimeDist (None, None, 24, 32)      0         \n",
            "_________________________________________________________________\n",
            "time_distributed_2 (TimeDist (None, None, 22, 128)     12416     \n",
            "_________________________________________________________________\n",
            "time_distributed_3 (TimeDist (None, None, 11, 128)     0         \n",
            "_________________________________________________________________\n",
            "time_distributed_4 (TimeDist (None, None, 11, 128)     0         \n",
            "_________________________________________________________________\n",
            "time_distributed_5 (TimeDist (None, None, 1408)        0         \n",
            "_________________________________________________________________\n",
            "gru (GRU)                    (None, None, 64)          283008    \n",
            "_________________________________________________________________\n",
            "gru_1 (GRU)                  (None, 64)                24960     \n",
            "_________________________________________________________________\n",
            "dropout_1 (Dropout)          (None, 64)                0         \n",
            "_________________________________________________________________\n",
            "dense (Dense)                (None, 3)                 195       \n",
            "=================================================================\n",
            "Total params: 321,187\n",
            "Trainable params: 321,187\n",
            "Non-trainable params: 0\n",
            "_________________________________________________________________\n"
          ],
          "name": "stdout"
        }
      ]
    },
    {
      "cell_type": "code",
      "metadata": {
        "colab": {
          "base_uri": "https://localhost:8080/",
          "height": 1000
        },
        "id": "YAT5I3pjhM4C",
        "outputId": "7e571002-378a-4c20-8b6f-a20e7ee54f40"
      },
      "source": [
        "plot_model(model, to_file='model_plot2.png', show_shapes=True,rankdir = 'TB',expand_nested = False,  show_layer_names=False, show_dtype =False)"
      ],
      "execution_count": null,
      "outputs": [
        {
          "output_type": "execute_result",
          "data": {
            "image/png": "[encoded data removed]",
            "text/plain": [
              "<IPython.core.display.Image object>"
            ]
          },
          "metadata": {
            "tags": []
          },
          "execution_count": 21
        }
      ]
    },
    {
      "cell_type": "code",
      "metadata": {
        "id": "uM-pQpYSdV07"
      },
      "source": [
        "model.compile(Adam(),\r\n",
        "              loss=tf.keras.losses.categorical_crossentropy,\r\n",
        "              metrics=['acc'])"
      ],
      "execution_count": null,
      "outputs": []
    },
    {
      "cell_type": "code",
      "metadata": {
        "colab": {
          "base_uri": "https://localhost:8080/"
        },
        "id": "ApSDOlQ1deIT",
        "outputId": "070d5250-cf7a-4acc-f104-05f6456e5b6f"
      },
      "source": [
        "history = model.fit(trainX,y_train, epochs=25, validation_data=(valX, y_val), verbose=1 , batch_size  = 64 )"
      ],
      "execution_count": null,
      "outputs": [
        {
          "output_type": "stream",
          "text": [
            "Epoch 1/25\n",
            "686/686 [==============================] - 15s 9ms/step - loss: 0.5661 - acc: 0.7559 - val_loss: 0.2921 - val_acc: 0.8899\n",
            "Epoch 2/25\n",
            "686/686 [==============================] - 5s 7ms/step - loss: 0.2708 - acc: 0.8966 - val_loss: 0.1947 - val_acc: 0.9310\n",
            "Epoch 3/25\n",
            "686/686 [==============================] - 5s 7ms/step - loss: 0.2011 - acc: 0.9244 - val_loss: 0.1786 - val_acc: 0.9364\n",
            "Epoch 4/25\n",
            "686/686 [==============================] - 5s 7ms/step - loss: 0.1542 - acc: 0.9452 - val_loss: 0.2028 - val_acc: 0.9261\n",
            "Epoch 5/25\n",
            "686/686 [==============================] - 5s 7ms/step - loss: 0.1390 - acc: 0.9484 - val_loss: 0.1502 - val_acc: 0.9441\n",
            "Epoch 6/25\n",
            "686/686 [==============================] - 5s 7ms/step - loss: 0.1177 - acc: 0.9564 - val_loss: 0.1434 - val_acc: 0.9451\n",
            "Epoch 7/25\n",
            "686/686 [==============================] - 5s 7ms/step - loss: 0.1094 - acc: 0.9592 - val_loss: 0.1513 - val_acc: 0.9447\n",
            "Epoch 8/25\n",
            "686/686 [==============================] - 5s 7ms/step - loss: 0.0952 - acc: 0.9646 - val_loss: 0.1235 - val_acc: 0.9566\n",
            "Epoch 9/25\n",
            "686/686 [==============================] - 5s 7ms/step - loss: 0.0836 - acc: 0.9693 - val_loss: 0.1073 - val_acc: 0.9623\n",
            "Epoch 10/25\n",
            "686/686 [==============================] - 5s 7ms/step - loss: 0.0800 - acc: 0.9701 - val_loss: 0.1340 - val_acc: 0.9531\n",
            "Epoch 11/25\n",
            "686/686 [==============================] - 5s 7ms/step - loss: 0.0730 - acc: 0.9734 - val_loss: 0.1606 - val_acc: 0.9471\n",
            "Epoch 12/25\n",
            "686/686 [==============================] - 5s 7ms/step - loss: 0.0714 - acc: 0.9746 - val_loss: 0.1030 - val_acc: 0.9657\n",
            "Epoch 13/25\n",
            "686/686 [==============================] - 5s 7ms/step - loss: 0.0606 - acc: 0.9780 - val_loss: 0.1030 - val_acc: 0.9660\n",
            "Epoch 14/25\n",
            "686/686 [==============================] - 5s 7ms/step - loss: 0.0599 - acc: 0.9783 - val_loss: 0.1034 - val_acc: 0.9655\n",
            "Epoch 15/25\n",
            "686/686 [==============================] - 5s 7ms/step - loss: 0.0549 - acc: 0.9800 - val_loss: 0.1041 - val_acc: 0.9649\n",
            "Epoch 16/25\n",
            "686/686 [==============================] - 5s 7ms/step - loss: 0.0546 - acc: 0.9811 - val_loss: 0.0927 - val_acc: 0.9691\n",
            "Epoch 17/25\n",
            "686/686 [==============================] - 5s 7ms/step - loss: 0.0570 - acc: 0.9792 - val_loss: 0.1091 - val_acc: 0.9625\n",
            "Epoch 18/25\n",
            "686/686 [==============================] - 5s 7ms/step - loss: 0.0563 - acc: 0.9797 - val_loss: 0.0971 - val_acc: 0.9695\n",
            "Epoch 19/25\n",
            "686/686 [==============================] - 5s 7ms/step - loss: 0.0481 - acc: 0.9826 - val_loss: 0.0919 - val_acc: 0.9710\n",
            "Epoch 20/25\n",
            "686/686 [==============================] - 5s 7ms/step - loss: 0.0506 - acc: 0.9820 - val_loss: 0.1000 - val_acc: 0.9631\n",
            "Epoch 21/25\n",
            "686/686 [==============================] - 5s 7ms/step - loss: 0.0456 - acc: 0.9833 - val_loss: 0.0965 - val_acc: 0.9678\n",
            "Epoch 22/25\n",
            "686/686 [==============================] - 5s 7ms/step - loss: 0.0505 - acc: 0.9818 - val_loss: 0.0975 - val_acc: 0.9687\n",
            "Epoch 23/25\n",
            "686/686 [==============================] - 5s 7ms/step - loss: 0.0401 - acc: 0.9842 - val_loss: 0.0954 - val_acc: 0.9696\n",
            "Epoch 24/25\n",
            "686/686 [==============================] - 5s 7ms/step - loss: 0.0451 - acc: 0.9832 - val_loss: 0.0955 - val_acc: 0.9713\n",
            "Epoch 25/25\n",
            "686/686 [==============================] - 5s 7ms/step - loss: 0.0405 - acc: 0.9854 - val_loss: 0.0988 - val_acc: 0.9700\n"
          ],
          "name": "stdout"
        }
      ]
    },
    {
      "cell_type": "markdown",
      "metadata": {
        "id": "Oky2uo7uxqvO"
      },
      "source": [
        "## **Evaluation - Metrics**"
      ]
    },
    {
      "cell_type": "code",
      "metadata": {
        "id": "y_cNHp3LxuRT"
      },
      "source": [
        "# Reverse activity encoding encodes index like 3 -> eating sandwich\r\n",
        "reverse_activity_encoding = {v: activity_map[k] for k, v in activity_encoding.items()}\r\n",
        "lstm_y_val_pred = model.predict(valX)\r\n",
        "\r\n",
        "y_val_argmax = y_val.argmax(axis=1)\r\n",
        "y_val_pred_argmax = lstm_y_val_pred.argmax(axis=1)\r\n",
        "\r\n",
        "lstm_actual_val_activities = [reverse_activity_encoding[i] for i in y_val_argmax]\r\n",
        "lstm_predicted_val_activities = [reverse_activity_encoding[i] for i in y_val_pred_argmax]\r\n",
        "\r\n",
        "##### Below is Final Test Set results ######\r\n",
        "lstm_y_test_pred = model.predict(testX)\r\n",
        "lstm_y_test_argmax = y_test.argmax(axis=1)\r\n",
        "\r\n",
        "lstm_y_test_pred_argmax = lstm_y_test_pred.argmax(axis=1)\r\n",
        "\r\n",
        "lstm_actual_test_activities = [reverse_activity_encoding[i] for i in lstm_y_test_argmax]\r\n",
        "lstm_predicted_test_activities = [reverse_activity_encoding[i] for i in lstm_y_test_pred_argmax]"
      ],
      "execution_count": null,
      "outputs": []
    },
    {
      "cell_type": "code",
      "metadata": {
        "colab": {
          "base_uri": "https://localhost:8080/"
        },
        "id": "Fkll4BIux58I",
        "outputId": "6ac9fb4c-6798-4e12-8f53-27c39e41e415"
      },
      "source": [
        "from sklearn.metrics import classification_report \r\n",
        "print(\"             SmartWatch Results with CNN-GRU for Validation Set\\n\\n\" + classification_report(lstm_predicted_val_activities,lstm_actual_val_activities , digits = 4))\r\n",
        "print(\"             SmartWatch Results with CNN-GRU for Test Set\\n\\n\" + classification_report(lstm_predicted_test_activities,lstm_actual_test_activities , digits= 4))"
      ],
      "execution_count": null,
      "outputs": [
        {
          "output_type": "stream",
          "text": [
            "             SmartWatch Results with CNN-GRU for Validation Set\n",
            "\n",
            "                       precision    recall  f1-score   support\n",
            "\n",
            "  Ambulation Oriented     0.9704    0.9714    0.9709      4689\n",
            " Hand Oriented Eating     0.9555    0.9714    0.9634      4025\n",
            "Hand Oriented General     0.9798    0.9678    0.9738      5906\n",
            "\n",
            "             accuracy                         0.9700     14620\n",
            "            macro avg     0.9686    0.9702    0.9694     14620\n",
            "         weighted avg     0.9701    0.9700    0.9700     14620\n",
            "\n",
            "             SmartWatch Results with CNN-GRU for Test Set\n",
            "\n",
            "                       precision    recall  f1-score   support\n",
            "\n",
            "  Ambulation Oriented     0.9670    0.9648    0.9659      4858\n",
            " Hand Oriented Eating     0.9455    0.9717    0.9584      3927\n",
            "Hand Oriented General     0.9780    0.9616    0.9698      5836\n",
            "\n",
            "             accuracy                         0.9654     14621\n",
            "            macro avg     0.9635    0.9661    0.9647     14621\n",
            "         weighted avg     0.9656    0.9654    0.9654     14621\n",
            "\n"
          ],
          "name": "stdout"
        }
      ]
    },
    {
      "cell_type": "code",
      "metadata": {
        "colab": {
          "base_uri": "https://localhost:8080/",
          "height": 404
        },
        "id": "u2sj4cNLx-KW",
        "outputId": "8f329263-2cf2-40d6-f439-64722e576ac3"
      },
      "source": [
        "import seaborn as sns\r\n",
        "from sklearn.metrics import confusion_matrix\r\n",
        "lstm_cm = confusion_matrix(lstm_y_test_argmax, lstm_y_test_pred_argmax)\r\n",
        "df_cm = pd.DataFrame(lstm_cm, index = [reverse_activity_encoding[i] for i in range(3)], columns = [reverse_activity_encoding[i] for i in range(3)])\r\n",
        "#plt.figure(figsize = (12,12))\r\n",
        "plt.title('Smartwatch CNN-GRU Confusion Matrix')\r\n",
        "sns.heatmap(df_cm, annot=True, fmt='g')"
      ],
      "execution_count": null,
      "outputs": [
        {
          "output_type": "execute_result",
          "data": {
            "text/plain": [
              "<matplotlib.axes._subplots.AxesSubplot at 0x7f52482398d0>"
            ]
          },
          "metadata": {
            "tags": []
          },
          "execution_count": 26
        },
        {
          "output_type": "display_data",
          "data": {
            "image/png": "[encoded data removed]",
            "text/plain": [
              "<Figure size 432x288 with 2 Axes>"
            ]
          },
          "metadata": {
            "tags": [],
            "needs_background": "light"
          }
        }
      ]
    },
    {
      "cell_type": "code",
      "metadata": {
        "colab": {
          "base_uri": "https://localhost:8080/",
          "height": 312
        },
        "id": "ff_8LeqbyKEK",
        "outputId": "b7aaf1e0-9b0e-4767-fb96-5ea7db944406"
      },
      "source": [
        "metrics_history = pd.DataFrame(history.history)\r\n",
        "\r\n",
        "metrics_history[['loss', 'val_loss' , 'acc' , 'val_acc']].plot(title = 'Model Accuracy & Loss CNN-GRU' , xlabel = 'epoch' , ylabel = 'Accuracy & Loss') #loss = train loss, val_loss = validation Loss\r\n"
      ],
      "execution_count": null,
      "outputs": [
        {
          "output_type": "execute_result",
          "data": {
            "text/plain": [
              "<matplotlib.axes._subplots.AxesSubplot at 0x7f5248480550>"
            ]
          },
          "metadata": {
            "tags": []
          },
          "execution_count": 27
        },
        {
          "output_type": "display_data",
          "data": {
            "image/png": "[encoded data removed]",
            "text/plain": [
              "<Figure size 432x288 with 1 Axes>"
            ]
          },
          "metadata": {
            "tags": [],
            "needs_background": "light"
          }
        }
      ]
    },
    {
      "cell_type": "code",
      "metadata": {
        "id": "WrFGbJTWb6wL"
      },
      "source": [
        "def evaluate_model(trainX, y_train, testX, y_test):\r\n",
        "\t# define model\r\n",
        "# reshape data into time steps of sub-sequences\r\n",
        "  n_steps, n_length,n_features = 4,50,6\r\n",
        "  trainX = X_train.reshape((X_train.shape[0], n_steps, n_length, n_features))\r\n",
        "  valX = X_val.reshape((X_val.shape[0], n_steps, n_length, n_features))\r\n",
        "  testX = X_test.reshape((X_test.shape[0], n_steps, n_length, n_features))\r\n",
        "# define model\r\n",
        "# define model\r\n",
        "  model = Sequential()\r\n",
        "  model.add(TimeDistributed(Conv1D(filters=32, kernel_size=3, activation='relu'), input_shape=(None,n_length,n_features)))\r\n",
        "  model.add(TimeDistributed(MaxPooling1D(pool_size=2)))\r\n",
        "  model.add(TimeDistributed(Conv1D(filters=128, kernel_size=3, activation='relu')))\r\n",
        "  model.add(TimeDistributed(MaxPooling1D(pool_size=2)))\r\n",
        "  model.add(TimeDistributed(Dropout(0.08)))\r\n",
        "  model.add(TimeDistributed(Flatten()))\r\n",
        "  model.add(GRU(64 , return_sequences= True ))\r\n",
        "  model.add(GRU(64))\r\n",
        "  model.add(Dropout(0.1))\r\n",
        "  model.add(Dense(y_train.shape[1], activation = 'softmax'))\r\n",
        "  model.compile(Adam(),\r\n",
        "              loss=tf.keras.losses.categorical_crossentropy,\r\n",
        "              metrics=['acc'])\r\n",
        "# fit network\r\n",
        "  model.fit(trainX, y_train, epochs=25, batch_size=64, validation_data=(valX, y_val),verbose=0)\r\n",
        "# evaluate model\r\n",
        "  _, accuracy = model.evaluate(testX, y_test, batch_size=64, verbose=0)\r\n",
        "  return accuracy\r\n",
        " \r\n",
        "# summarize scores\r\n",
        "def summarize_results(scores):\r\n",
        "\tprint(scores)\r\n",
        "\tm, s = mean(scores), std(scores)\r\n",
        "\tprint('Accuracy: %.3f%% (+/-%.3f)' % (m, s))\r\n",
        " \r\n",
        "# run an experiment\r\n",
        "def run_experiment(repeats=10):\r\n",
        "\t# load data\r\n",
        "\t#trainX, trainy, testX, testy = load_dataset()\r\n",
        "\t# repeat experiment\r\n",
        "\tscores = list()\r\n",
        "\tfor r in range(repeats):\r\n",
        "\t\tscore = evaluate_model(trainX, y_train, testX, y_test)\r\n",
        "\t\tscore = score * 100.0\r\n",
        "\t\tprint('>#%d: %.3f' % (r+1, score))\r\n",
        "\t\tscores.append(score)\r\n",
        "\t# summarize results\r\n",
        "\tsummarize_results(scores)"
      ],
      "execution_count": null,
      "outputs": []
    },
    {
      "cell_type": "code",
      "metadata": {
        "colab": {
          "base_uri": "https://localhost:8080/"
        },
        "id": "SyVvnFMAk1Gc",
        "outputId": "01e9460d-c1ae-42bb-c727-f5525ce7357f"
      },
      "source": [
        "run_experiment()"
      ],
      "execution_count": null,
      "outputs": [
        {
          "output_type": "stream",
          "text": [
            ">#1: 97.339\n",
            ">#2: 96.703\n",
            ">#3: 96.485\n",
            ">#4: 96.088\n",
            ">#5: 96.683\n",
            ">#6: 96.464\n",
            ">#7: 96.881\n",
            ">#8: 97.298\n",
            ">#9: 96.779\n",
            ">#10: 97.114\n",
            "[97.33944535255432, 96.70337438583374, 96.4845061302185, 96.08781933784485, 96.68285250663757, 96.46399021148682, 96.88119888305664, 97.29840755462646, 96.77860736846924, 97.11374044418335]\n",
            "Accuracy: 96.783% (+/-0.372)\n"
          ],
          "name": "stdout"
        }
      ]
    },
    {
      "cell_type": "code",
      "metadata": {
        "id": "wNDrGoH3lC6v"
      },
      "source": [
        ""
      ],
      "execution_count": null,
      "outputs": []
    }
  ]
}